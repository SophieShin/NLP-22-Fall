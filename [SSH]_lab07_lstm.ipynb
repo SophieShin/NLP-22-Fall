{
  "nbformat": 4,
  "nbformat_minor": 0,
  "metadata": {
    "colab": {
      "provenance": [],
      "collapsed_sections": [],
      "include_colab_link": true
    },
    "kernelspec": {
      "name": "python3",
      "display_name": "Python 3"
    },
    "language_info": {
      "name": "python"
    },
    "accelerator": "GPU"
  },
  "cells": [
    {
      "cell_type": "markdown",
      "metadata": {
        "id": "view-in-github",
        "colab_type": "text"
      },
      "source": [
        "<a href=\"https://colab.research.google.com/github/SophieShin/NLP_22_Fall/blob/main/%5BSSH%5D_lab07_lstm.ipynb\" target=\"_parent\"><img src=\"https://colab.research.google.com/assets/colab-badge.svg\" alt=\"Open In Colab\"/></a>"
      ]
    },
    {
      "cell_type": "markdown",
      "source": [
        "# Lab 7 - AG_NEWS Classification using LSTM\n",
        "Connect to GPU for this lab (otherwise it will take 10+ mins for training)\n"
      ],
      "metadata": {
        "id": "C957O6gR-hNl"
      }
    },
    {
      "cell_type": "code",
      "source": [
        "# Install torchdata and restart runtime\n",
        "!pip install torchdata"
      ],
      "metadata": {
        "id": "rvojvwMtwW4E",
        "colab": {
          "base_uri": "https://localhost:8080/"
        },
        "outputId": "61d11cbe-a99b-4250-9c24-0551f1eab2da"
      },
      "execution_count": 1,
      "outputs": [
        {
          "output_type": "stream",
          "name": "stdout",
          "text": [
            "Looking in indexes: https://pypi.org/simple, https://us-python.pkg.dev/colab-wheels/public/simple/\n",
            "Collecting torchdata\n",
            "  Downloading torchdata-0.4.1-cp37-cp37m-manylinux_2_17_x86_64.manylinux2014_x86_64.whl (4.4 MB)\n",
            "\u001b[K     |████████████████████████████████| 4.4 MB 7.3 MB/s \n",
            "\u001b[?25hRequirement already satisfied: requests in /usr/local/lib/python3.7/dist-packages (from torchdata) (2.23.0)\n",
            "Collecting urllib3>=1.25\n",
            "  Downloading urllib3-1.26.12-py2.py3-none-any.whl (140 kB)\n",
            "\u001b[K     |████████████████████████████████| 140 kB 70.8 MB/s \n",
            "\u001b[?25hCollecting portalocker>=2.0.0\n",
            "  Downloading portalocker-2.5.1-py2.py3-none-any.whl (15 kB)\n",
            "Requirement already satisfied: torch==1.12.1 in /usr/local/lib/python3.7/dist-packages (from torchdata) (1.12.1+cu113)\n",
            "Requirement already satisfied: typing-extensions in /usr/local/lib/python3.7/dist-packages (from torch==1.12.1->torchdata) (4.1.1)\n",
            "Requirement already satisfied: idna<3,>=2.5 in /usr/local/lib/python3.7/dist-packages (from requests->torchdata) (2.10)\n",
            "Requirement already satisfied: chardet<4,>=3.0.2 in /usr/local/lib/python3.7/dist-packages (from requests->torchdata) (3.0.4)\n",
            "Collecting urllib3>=1.25\n",
            "  Downloading urllib3-1.25.11-py2.py3-none-any.whl (127 kB)\n",
            "\u001b[K     |████████████████████████████████| 127 kB 68.1 MB/s \n",
            "\u001b[?25hRequirement already satisfied: certifi>=2017.4.17 in /usr/local/lib/python3.7/dist-packages (from requests->torchdata) (2022.6.15)\n",
            "Installing collected packages: urllib3, portalocker, torchdata\n",
            "  Attempting uninstall: urllib3\n",
            "    Found existing installation: urllib3 1.24.3\n",
            "    Uninstalling urllib3-1.24.3:\n",
            "      Successfully uninstalled urllib3-1.24.3\n",
            "Successfully installed portalocker-2.5.1 torchdata-0.4.1 urllib3-1.25.11\n"
          ]
        }
      ]
    },
    {
      "cell_type": "markdown",
      "source": [
        "### Load Train and Test Sets"
      ],
      "metadata": {
        "id": "Ltit_M6dFmAq"
      }
    },
    {
      "cell_type": "code",
      "source": [
        "import torch\n",
        "import torchtext\n",
        "\n",
        "from torch.utils.data import DataLoader\n",
        "\n",
        "train_dataset, test_dataset  = torchtext.datasets.AG_NEWS()"
      ],
      "metadata": {
        "id": "UYlAOZhmvHku"
      },
      "execution_count": 2,
      "outputs": []
    },
    {
      "cell_type": "markdown",
      "source": [
        "### Tokenise and Build Vocab"
      ],
      "metadata": {
        "id": "7jvzL6y3FsCy"
      }
    },
    {
      "cell_type": "code",
      "source": [
        "from torchtext.data import get_tokenizer\n",
        "from torchtext.vocab import build_vocab_from_iterator\n",
        "\n",
        "# Q1. Use torchtext's \"basic english\" tokeniser\n",
        "tokenizer = get_tokenizer(\"basic_english\")\n",
        "\n",
        "# Q2. Build vocab using build_vocab_from_iterator with out of vocab words given '<UNK>'\n",
        "train_iter = iter(train_dataset)\n",
        "\n",
        "def yield_tokens(data_iter):\n",
        "    for _, text in data_iter:\n",
        "        yield tokenizer(text)\n",
        "\n",
        "vocab = build_vocab_from_iterator(yield_tokens(train_iter), specials=[\"<unk>\"])\n",
        "vocab.set_default_index(vocab[\"<unk>\"])\n"
      ],
      "metadata": {
        "id": "dtU2fuBFvtAJ"
      },
      "execution_count": 12,
      "outputs": []
    },
    {
      "cell_type": "markdown",
      "source": [
        "### Convert sample text to a list of tokens and then a list of indexes"
      ],
      "metadata": {
        "id": "K7W2ep0H8dSd"
      }
    },
    {
      "cell_type": "code",
      "source": [
        "tokens = tokenizer(\"Hello how are you?, Welcome to Deep Learning 2 at SKKU!\")\n",
        "indexes = vocab(tokens)\n",
        "\n",
        "print(tokens)\n",
        "print(indexes)"
      ],
      "metadata": {
        "id": "JdUAYr4nwoGh",
        "colab": {
          "base_uri": "https://localhost:8080/"
        },
        "outputId": "cba834af-fb11-4f5e-96d4-639d85227754"
      },
      "execution_count": 13,
      "outputs": [
        {
          "output_type": "stream",
          "name": "stdout",
          "text": [
            "['hello', 'how', 'are', 'you', '?', ',', 'welcome', 'to', 'deep', 'learning', '2', 'at', 'skku', '!']\n",
            "[12544, 357, 42, 165, 80, 3, 3314, 4, 2161, 4699, 120, 20, 0, 764]\n"
          ]
        }
      ]
    },
    {
      "cell_type": "markdown",
      "source": [
        "### Data Loaders and Collate Functions"
      ],
      "metadata": {
        "id": "AINRZTzSGQ0n"
      }
    },
    {
      "cell_type": "code",
      "source": [
        "from torch.utils.data import DataLoader\n",
        "from torchtext.data.functional import to_map_style_dataset\n",
        "\n",
        "train_dataset, test_dataset  = torchtext.datasets.AG_NEWS()\n",
        "train_dataset, test_dataset  = to_map_style_dataset(train_dataset), to_map_style_dataset(test_dataset)\n",
        "\n",
        "target_classes = [\"World\", \"Sports\", \"Business\", \"Sci/Tech\"]\n",
        "\n",
        "max_words = 25\n",
        "\n",
        "def collate_batch(batch):\n",
        "    Y, X = list(zip(*batch))\n",
        "    X = [vocab(tokenizer(text)) for text in X] # Tokenize and map tokens to indexes\n",
        "    X = [tokens+([0]* (max_words-len(tokens))) if len(tokens)<max_words else tokens[:max_words] for tokens in X] \n",
        "    return torch.tensor(X, dtype=torch.int32), torch.tensor(Y) - 1 # Subtract 1 from labels to bring in range [0,1,2,3] from [1,2,3,4]\n",
        "\n",
        "train_loader = DataLoader(train_dataset, batch_size=1024, collate_fn=collate_batch, shuffle=True)\n",
        "test_loader  = DataLoader(test_dataset , batch_size=1024, collate_fn=collate_batch)\n"
      ],
      "metadata": {
        "id": "_gmYMY5FxMfr"
      },
      "execution_count": 30,
      "outputs": []
    },
    {
      "cell_type": "markdown",
      "source": [
        "### Device Configuration"
      ],
      "metadata": {
        "id": "f4DAqwbTGWL7"
      }
    },
    {
      "cell_type": "code",
      "source": [
        "device = torch.device('cuda' if torch.cuda.is_available() else 'cpu')\n",
        "device"
      ],
      "metadata": {
        "id": "cprnBm5p-m56",
        "colab": {
          "base_uri": "https://localhost:8080/"
        },
        "outputId": "f3228636-a2f8-4209-cafb-88af3813a632"
      },
      "execution_count": 15,
      "outputs": [
        {
          "output_type": "execute_result",
          "data": {
            "text/plain": [
              "device(type='cuda')"
            ]
          },
          "metadata": {},
          "execution_count": 15
        }
      ]
    },
    {
      "cell_type": "markdown",
      "source": [
        "### NN class"
      ],
      "metadata": {
        "id": "PWOerDajGlIu"
      }
    },
    {
      "cell_type": "code",
      "source": [
        "from torch import nn\n",
        "from torch.nn import functional as F\n",
        "\n",
        "embed_len = 50\n",
        "hidden_dim = 75\n",
        "n_layers=1\n",
        "\n",
        "class LSTMClass(nn.Module):\n",
        "    def __init__(self):\n",
        "        super().__init__()\n",
        "        self.embedding_layer = nn.Embedding(num_embeddings=len(vocab), embedding_dim=embed_len)\n",
        "        self.lstm = nn.LSTM(input_size=embed_len, hidden_size=hidden_dim, num_layers=n_layers, batch_first=True)\n",
        "        self.linear = nn.Linear(hidden_dim, len(target_classes))\n",
        "\n",
        "    def forward(self, X_batch):\n",
        "        embeddings = self.embedding_layer(X_batch)\n",
        "        hidden = torch.randn(n_layers, len(X_batch), hidden_dim).to(device)\n",
        "        cell = torch.randn(n_layers, len(X_batch), hidden_dim).to(device)\n",
        "        output, (hidden, cell) = self.lstm(embeddings, (hidden, cell))\n",
        "        return self.linear(output[:,-1]) # just want the last time step hidden state"
      ],
      "metadata": {
        "id": "g1LRAT-OxT7V"
      },
      "execution_count": 16,
      "outputs": []
    },
    {
      "cell_type": "markdown",
      "source": [
        "### Create the NN class instance"
      ],
      "metadata": {
        "id": "8WhI_pfLGsNj"
      }
    },
    {
      "cell_type": "code",
      "source": [
        "model = LSTMClass()\n",
        "model"
      ],
      "metadata": {
        "id": "kWQ200-mxZgL",
        "colab": {
          "base_uri": "https://localhost:8080/"
        },
        "outputId": "b09460b8-0e49-49ff-bbbb-074146ba623e"
      },
      "execution_count": 17,
      "outputs": [
        {
          "output_type": "execute_result",
          "data": {
            "text/plain": [
              "LSTMClass(\n",
              "  (embedding_layer): Embedding(95811, 50)\n",
              "  (lstm): LSTM(50, 75, batch_first=True)\n",
              "  (linear): Linear(in_features=75, out_features=4, bias=True)\n",
              ")"
            ]
          },
          "metadata": {},
          "execution_count": 17
        }
      ]
    },
    {
      "cell_type": "markdown",
      "source": [
        "### Inspect the model's layers"
      ],
      "metadata": {
        "id": "mTbXrRdgGwKN"
      }
    },
    {
      "cell_type": "code",
      "source": [
        "for layer in model.children():\n",
        "    print(\"Layer : {}\".format(layer))\n",
        "    print(\"Parameters : \")\n",
        "    for param in layer.parameters():\n",
        "        print(param.shape)\n",
        "    print()"
      ],
      "metadata": {
        "id": "kbyJuFaLxeLG",
        "colab": {
          "base_uri": "https://localhost:8080/"
        },
        "outputId": "205a5144-faf9-4db6-b4ce-8d744e6cfb36"
      },
      "execution_count": 18,
      "outputs": [
        {
          "output_type": "stream",
          "name": "stdout",
          "text": [
            "Layer : Embedding(95811, 50)\n",
            "Parameters : \n",
            "torch.Size([95811, 50])\n",
            "\n",
            "Layer : LSTM(50, 75, batch_first=True)\n",
            "Parameters : \n",
            "torch.Size([300, 50])\n",
            "torch.Size([300, 75])\n",
            "torch.Size([300])\n",
            "torch.Size([300])\n",
            "\n",
            "Layer : Linear(in_features=75, out_features=4, bias=True)\n",
            "Parameters : \n",
            "torch.Size([4, 75])\n",
            "torch.Size([4])\n",
            "\n"
          ]
        }
      ]
    },
    {
      "cell_type": "markdown",
      "source": [
        "### Utilities for Training"
      ],
      "metadata": {
        "id": "scHlKJgWG5Vv"
      }
    },
    {
      "cell_type": "code",
      "source": [
        "from tqdm import tqdm # progress bar\n",
        "from sklearn.metrics import accuracy_score\n",
        "import gc\n",
        "\n",
        "def calculate_loss_acc(model, loss_fn, val_loader):\n",
        "    with torch.no_grad():\n",
        "        Y_real, Y_preds, losses = [],[],[]\n",
        "        for X, Y in val_loader:\n",
        "            X = X.to(device)\n",
        "            Y = Y.to(device)\n",
        "            preds = model(X)\n",
        "            loss = loss_fn(preds, Y)\n",
        "            losses.append(loss.item())\n",
        "\n",
        "            Y_real.append(Y)\n",
        "            Y_preds.append(preds.argmax(dim=-1))\n",
        "\n",
        "        Y_real = torch.cat(Y_real)\n",
        "        Y_preds = torch.cat(Y_preds)\n",
        "\n",
        "        print(f\"Valid Loss : {torch.tensor(losses).mean():.3f}\")\n",
        "        print(f\"Valid Acc  : {accuracy_score(Y_real.cpu().detach().numpy(), Y_preds.cpu().detach().numpy()):.3f}\")\n",
        "\n",
        "\n",
        "def train(model, loss_fn, optimizer, train_loader, val_loader, epochs=10):\n",
        "    for i in range(1, epochs+1):\n",
        "        losses = []\n",
        "        for X, Y in tqdm(train_loader):\n",
        "            X = X.to(device)\n",
        "            Y = Y.to(device)\n",
        "            Y_preds = model(X).to(device)\n",
        "\n",
        "            loss = loss_fn(Y_preds, Y)\n",
        "            losses.append(loss.item())\n",
        "            loss= loss.to(device)\n",
        "\n",
        "            optimizer.zero_grad()\n",
        "            loss.backward()\n",
        "            optimizer.step()\n",
        "\n",
        "        print(f\"Epoch\\t   : {i}\")\n",
        "        print(f\"Train Loss : {torch.tensor(losses).mean():.3f}\")\n",
        "        calculate_loss_acc(model, loss_fn, val_loader)"
      ],
      "metadata": {
        "id": "o42vE8vKx8cb"
      },
      "execution_count": 42,
      "outputs": []
    },
    {
      "cell_type": "markdown",
      "source": [
        "### Training\n",
        "- Takes < 1.5 mins on GPU\n",
        "- Takes 11.5 mins on CPU"
      ],
      "metadata": {
        "id": "sG2GS3Pu2Fup"
      }
    },
    {
      "cell_type": "code",
      "source": [
        "from torch.optim import Adam\n",
        "\n",
        "epochs = 15\n",
        "learning_rate = 1e-3\n",
        "\n",
        "# Q3. Put model on device before intialising the optimiser\n",
        "model= model.to(device)\n",
        "\n",
        "loss_fn = nn.CrossEntropyLoss()\n",
        "optimizer = Adam(model.parameters(), lr=learning_rate)\n",
        "\n",
        "train(model, loss_fn, optimizer, train_loader, test_loader, epochs)"
      ],
      "metadata": {
        "id": "XHmqds2UyQ2W",
        "colab": {
          "base_uri": "https://localhost:8080/"
        },
        "outputId": "bdeb0e13-691e-41f8-e7e2-2e74fae10b0d"
      },
      "execution_count": 52,
      "outputs": [
        {
          "output_type": "stream",
          "name": "stderr",
          "text": [
            "100%|██████████| 118/118 [00:04<00:00, 24.14it/s]\n"
          ]
        },
        {
          "output_type": "stream",
          "name": "stdout",
          "text": [
            "Epoch\t   : 1\n",
            "Train Loss : 0.006\n",
            "Valid Loss : 0.946\n",
            "Valid Acc  : 0.875\n"
          ]
        },
        {
          "output_type": "stream",
          "name": "stderr",
          "text": [
            "100%|██████████| 118/118 [00:04<00:00, 23.70it/s]\n"
          ]
        },
        {
          "output_type": "stream",
          "name": "stdout",
          "text": [
            "Epoch\t   : 2\n",
            "Train Loss : 0.005\n",
            "Valid Loss : 0.916\n",
            "Valid Acc  : 0.876\n"
          ]
        },
        {
          "output_type": "stream",
          "name": "stderr",
          "text": [
            "100%|██████████| 118/118 [00:04<00:00, 24.35it/s]\n"
          ]
        },
        {
          "output_type": "stream",
          "name": "stdout",
          "text": [
            "Epoch\t   : 3\n",
            "Train Loss : 0.004\n",
            "Valid Loss : 0.937\n",
            "Valid Acc  : 0.878\n"
          ]
        },
        {
          "output_type": "stream",
          "name": "stderr",
          "text": [
            "100%|██████████| 118/118 [00:05<00:00, 23.45it/s]\n"
          ]
        },
        {
          "output_type": "stream",
          "name": "stdout",
          "text": [
            "Epoch\t   : 4\n",
            "Train Loss : 0.003\n",
            "Valid Loss : 0.916\n",
            "Valid Acc  : 0.875\n"
          ]
        },
        {
          "output_type": "stream",
          "name": "stderr",
          "text": [
            "100%|██████████| 118/118 [00:05<00:00, 23.17it/s]\n"
          ]
        },
        {
          "output_type": "stream",
          "name": "stdout",
          "text": [
            "Epoch\t   : 5\n",
            "Train Loss : 0.005\n",
            "Valid Loss : 1.013\n",
            "Valid Acc  : 0.871\n"
          ]
        },
        {
          "output_type": "stream",
          "name": "stderr",
          "text": [
            "100%|██████████| 118/118 [00:05<00:00, 23.25it/s]\n"
          ]
        },
        {
          "output_type": "stream",
          "name": "stdout",
          "text": [
            "Epoch\t   : 6\n",
            "Train Loss : 0.005\n",
            "Valid Loss : 0.919\n",
            "Valid Acc  : 0.877\n"
          ]
        },
        {
          "output_type": "stream",
          "name": "stderr",
          "text": [
            "100%|██████████| 118/118 [00:04<00:00, 23.61it/s]\n"
          ]
        },
        {
          "output_type": "stream",
          "name": "stdout",
          "text": [
            "Epoch\t   : 7\n",
            "Train Loss : 0.004\n",
            "Valid Loss : 0.958\n",
            "Valid Acc  : 0.879\n"
          ]
        },
        {
          "output_type": "stream",
          "name": "stderr",
          "text": [
            "100%|██████████| 118/118 [00:05<00:00, 23.17it/s]\n"
          ]
        },
        {
          "output_type": "stream",
          "name": "stdout",
          "text": [
            "Epoch\t   : 8\n",
            "Train Loss : 0.005\n",
            "Valid Loss : 0.943\n",
            "Valid Acc  : 0.879\n"
          ]
        },
        {
          "output_type": "stream",
          "name": "stderr",
          "text": [
            "100%|██████████| 118/118 [00:05<00:00, 23.31it/s]\n"
          ]
        },
        {
          "output_type": "stream",
          "name": "stdout",
          "text": [
            "Epoch\t   : 9\n",
            "Train Loss : 0.004\n",
            "Valid Loss : 0.944\n",
            "Valid Acc  : 0.875\n"
          ]
        },
        {
          "output_type": "stream",
          "name": "stderr",
          "text": [
            "100%|██████████| 118/118 [00:05<00:00, 23.43it/s]\n"
          ]
        },
        {
          "output_type": "stream",
          "name": "stdout",
          "text": [
            "Epoch\t   : 10\n",
            "Train Loss : 0.003\n",
            "Valid Loss : 0.955\n",
            "Valid Acc  : 0.876\n"
          ]
        },
        {
          "output_type": "stream",
          "name": "stderr",
          "text": [
            "100%|██████████| 118/118 [00:05<00:00, 23.20it/s]\n"
          ]
        },
        {
          "output_type": "stream",
          "name": "stdout",
          "text": [
            "Epoch\t   : 11\n",
            "Train Loss : 0.004\n",
            "Valid Loss : 0.934\n",
            "Valid Acc  : 0.873\n"
          ]
        },
        {
          "output_type": "stream",
          "name": "stderr",
          "text": [
            "100%|██████████| 118/118 [00:05<00:00, 23.50it/s]\n"
          ]
        },
        {
          "output_type": "stream",
          "name": "stdout",
          "text": [
            "Epoch\t   : 12\n",
            "Train Loss : 0.005\n",
            "Valid Loss : 0.907\n",
            "Valid Acc  : 0.877\n"
          ]
        },
        {
          "output_type": "stream",
          "name": "stderr",
          "text": [
            "100%|██████████| 118/118 [00:05<00:00, 23.29it/s]\n"
          ]
        },
        {
          "output_type": "stream",
          "name": "stdout",
          "text": [
            "Epoch\t   : 13\n",
            "Train Loss : 0.003\n",
            "Valid Loss : 0.972\n",
            "Valid Acc  : 0.879\n"
          ]
        },
        {
          "output_type": "stream",
          "name": "stderr",
          "text": [
            "100%|██████████| 118/118 [00:05<00:00, 23.40it/s]\n"
          ]
        },
        {
          "output_type": "stream",
          "name": "stdout",
          "text": [
            "Epoch\t   : 14\n",
            "Train Loss : 0.003\n",
            "Valid Loss : 0.999\n",
            "Valid Acc  : 0.877\n"
          ]
        },
        {
          "output_type": "stream",
          "name": "stderr",
          "text": [
            "100%|██████████| 118/118 [00:05<00:00, 23.16it/s]\n"
          ]
        },
        {
          "output_type": "stream",
          "name": "stdout",
          "text": [
            "Epoch\t   : 15\n",
            "Train Loss : 0.003\n",
            "Valid Loss : 0.977\n",
            "Valid Acc  : 0.879\n"
          ]
        }
      ]
    },
    {
      "cell_type": "code",
      "source": [
        "def MakePredictions(model, loader):\n",
        "    Y_real, Y_preds = [], []\n",
        "    for X, Y in loader:\n",
        "        # Q4. Make sure that data are on the GPU\n",
        "        X = X.to(device)\n",
        "        Y = Y.to(device)\n",
        "        preds = model(X)\n",
        "        Y_preds.append(preds)\n",
        "        Y_real.append(Y)\n",
        "    gc.collect()\n",
        "    Y_preds, Y_real = torch.cat(Y_preds), torch.cat(Y_real)\n",
        "\n",
        "    return Y_real.cpu().detach().numpy(), F.softmax(Y_preds, dim=-1).argmax(dim=-1).cpu().detach().numpy()\n",
        "\n",
        "Y_actual, Y_preds = MakePredictions(model, test_loader)"
      ],
      "metadata": {
        "id": "B27qg08J32Yc"
      },
      "execution_count": 53,
      "outputs": []
    },
    {
      "cell_type": "code",
      "source": [
        "from sklearn.metrics import accuracy_score, classification_report, confusion_matrix\n",
        "\n",
        "print(f\"Test Accuracy : {accuracy_score(Y_actual, Y_preds)}\")\n",
        "print(\"\\nClassification Report : \")\n",
        "print(classification_report(Y_actual, Y_preds, target_names=target_classes))\n",
        "print(\"\\nConfusion Matrix : \")\n",
        "print(confusion_matrix(Y_actual, Y_preds))"
      ],
      "metadata": {
        "id": "0C8k0TtY39Di",
        "colab": {
          "base_uri": "https://localhost:8080/"
        },
        "outputId": "59b5b736-0f01-4516-e076-cfaa9a7bb07a"
      },
      "execution_count": 54,
      "outputs": [
        {
          "output_type": "stream",
          "name": "stdout",
          "text": [
            "Test Accuracy : 0.8802631578947369\n",
            "\n",
            "Classification Report : \n",
            "              precision    recall  f1-score   support\n",
            "\n",
            "       World       0.89      0.89      0.89      1900\n",
            "      Sports       0.95      0.93      0.94      1900\n",
            "    Business       0.84      0.84      0.84      1900\n",
            "    Sci/Tech       0.84      0.86      0.85      1900\n",
            "\n",
            "    accuracy                           0.88      7600\n",
            "   macro avg       0.88      0.88      0.88      7600\n",
            "weighted avg       0.88      0.88      0.88      7600\n",
            "\n",
            "\n",
            "Confusion Matrix : \n",
            "[[1696   48   87   69]\n",
            " [  54 1770   40   36]\n",
            " [  90   25 1587  198]\n",
            " [  75   22  166 1637]]\n"
          ]
        }
      ]
    },
    {
      "cell_type": "markdown",
      "source": [
        "### Visualise the Confusion Matrix (Model Performance)"
      ],
      "metadata": {
        "id": "MRbGkQOu4FG2"
      }
    },
    {
      "cell_type": "code",
      "source": [
        "!pip install scikit-plot"
      ],
      "metadata": {
        "id": "RHSCnHuq4NSa",
        "colab": {
          "base_uri": "https://localhost:8080/"
        },
        "outputId": "6e1cbb78-5819-48b6-d2d6-9cf8837e4c4c"
      },
      "execution_count": 55,
      "outputs": [
        {
          "output_type": "stream",
          "name": "stdout",
          "text": [
            "Looking in indexes: https://pypi.org/simple, https://us-python.pkg.dev/colab-wheels/public/simple/\n",
            "Requirement already satisfied: scikit-plot in /usr/local/lib/python3.7/dist-packages (0.3.7)\n",
            "Requirement already satisfied: matplotlib>=1.4.0 in /usr/local/lib/python3.7/dist-packages (from scikit-plot) (3.2.2)\n",
            "Requirement already satisfied: scikit-learn>=0.18 in /usr/local/lib/python3.7/dist-packages (from scikit-plot) (1.0.2)\n",
            "Requirement already satisfied: joblib>=0.10 in /usr/local/lib/python3.7/dist-packages (from scikit-plot) (1.1.0)\n",
            "Requirement already satisfied: scipy>=0.9 in /usr/local/lib/python3.7/dist-packages (from scikit-plot) (1.7.3)\n",
            "Requirement already satisfied: kiwisolver>=1.0.1 in /usr/local/lib/python3.7/dist-packages (from matplotlib>=1.4.0->scikit-plot) (1.4.4)\n",
            "Requirement already satisfied: numpy>=1.11 in /usr/local/lib/python3.7/dist-packages (from matplotlib>=1.4.0->scikit-plot) (1.21.6)\n",
            "Requirement already satisfied: pyparsing!=2.0.4,!=2.1.2,!=2.1.6,>=2.0.1 in /usr/local/lib/python3.7/dist-packages (from matplotlib>=1.4.0->scikit-plot) (3.0.9)\n",
            "Requirement already satisfied: python-dateutil>=2.1 in /usr/local/lib/python3.7/dist-packages (from matplotlib>=1.4.0->scikit-plot) (2.8.2)\n",
            "Requirement already satisfied: cycler>=0.10 in /usr/local/lib/python3.7/dist-packages (from matplotlib>=1.4.0->scikit-plot) (0.11.0)\n",
            "Requirement already satisfied: typing-extensions in /usr/local/lib/python3.7/dist-packages (from kiwisolver>=1.0.1->matplotlib>=1.4.0->scikit-plot) (4.1.1)\n",
            "Requirement already satisfied: six>=1.5 in /usr/local/lib/python3.7/dist-packages (from python-dateutil>=2.1->matplotlib>=1.4.0->scikit-plot) (1.15.0)\n",
            "Requirement already satisfied: threadpoolctl>=2.0.0 in /usr/local/lib/python3.7/dist-packages (from scikit-learn>=0.18->scikit-plot) (3.1.0)\n"
          ]
        }
      ]
    },
    {
      "cell_type": "code",
      "source": [
        "from sklearn.metrics import confusion_matrix\n",
        "import scikitplot as skplt\n",
        "import matplotlib.pyplot as plt\n",
        "import numpy as np\n",
        "\n",
        "skplt.metrics.plot_confusion_matrix([target_classes[i] for i in Y_actual], [target_classes[i] for i in Y_preds],\n",
        "                                    normalize=True,\n",
        "                                    title=\"Confusion Matrix\",\n",
        "                                    cmap=\"Blues\",\n",
        "                                    hide_zeros=True,\n",
        "                                    figsize=(5,5)\n",
        "                                    );\n",
        "plt.xticks(rotation=90);"
      ],
      "metadata": {
        "id": "C7zhLJ9i4XSC",
        "colab": {
          "base_uri": "https://localhost:8080/",
          "height": 344
        },
        "outputId": "8b33c38e-f893-43f5-fb3f-18cf79d1757b"
      },
      "execution_count": 56,
      "outputs": [
        {
          "output_type": "display_data",
          "data": {
            "text/plain": [
              "<Figure size 360x360 with 2 Axes>"
            ],
            "image/png": "[encoded data removed]"
          },
          "metadata": {
            "needs_background": "light"
          }
        }
      ]
    },
    {
      "cell_type": "code",
      "source": [
        "# Q5. Try changing some hyper parameters to improve the model\n",
        "# e.g. increasing max_words, increasing num_layers, etc. (one change at a time)\n"
      ],
      "metadata": {
        "id": "OVIoWuv949zG"
      },
      "execution_count": null,
      "outputs": []
    }
  ]
}