{
  "nbformat": 4,
  "nbformat_minor": 0,
  "metadata": {
    "colab": {
      "provenance": [],
      "collapsed_sections": [],
      "include_colab_link": true
    },
    "kernelspec": {
      "name": "python3",
      "display_name": "Python 3"
    },
    "language_info": {
      "name": "python"
    },
    "accelerator": "GPU",
    "gpuClass": "standard"
  },
  "cells": [
    {
      "cell_type": "markdown",
      "metadata": {
        "id": "view-in-github",
        "colab_type": "text"
      },
      "source": [
        "<a href=\"https://colab.research.google.com/github/SophieShin/NLP_22_Fall/blob/main/%5BSSH%5Dlab10_bleu_transformers.ipynb\" target=\"_parent\"><img src=\"https://colab.research.google.com/assets/colab-badge.svg\" alt=\"Open In Colab\"/></a>"
      ]
    },
    {
      "cell_type": "markdown",
      "metadata": {
        "id": "tn15nydPdM4P"
      },
      "source": [
        "# Lab 10 – BLEU for NMT & Transformers\n",
        "- Connext to GPU\n",
        "- First, we will look at BLEU score machine translation using NLTK\n",
        "- Then the vanilla transformer model for language modelling\n",
        "\n",
        "Reference: [Machine Learning Mastery](https://machinelearningmastery.com/calculate-bleu-score-for-text-python/)"
      ]
    },
    {
      "cell_type": "code",
      "source": [
        "from nltk.translate.bleu_score import sentence_bleu\n"
      ],
      "metadata": {
        "id": "drs05vRJDz7I"
      },
      "execution_count": 1,
      "outputs": []
    },
    {
      "cell_type": "code",
      "source": [
        "reference = ['the cat is on the mat'.split(), 'there is a cat on the mat'.split()]\n",
        "candidate = 'the cat the cat on the mat'.split()\n",
        "score = sentence_bleu(reference, candidate)\n",
        "print(score)"
      ],
      "metadata": {
        "id": "FNhzj9Y1Zfek",
        "colab": {
          "base_uri": "https://localhost:8080/"
        },
        "outputId": "ec80480e-3ee6-4416-dba0-683fe0597f90"
      },
      "execution_count": 2,
      "outputs": [
        {
          "output_type": "stream",
          "name": "stdout",
          "text": [
            "0.4671379777282001\n"
          ]
        }
      ]
    },
    {
      "cell_type": "markdown",
      "source": [
        "We can calculate individual n-grams by specifying them in `weights` argument"
      ],
      "metadata": {
        "id": "6rcRyExHacVD"
      }
    },
    {
      "cell_type": "code",
      "source": [
        "reference = ['the cat is on the mat'.split(), 'there is a cat on the mat'.split()]\n",
        "candidate = 'the cat the cat on the mat'.split()\n",
        "score1 = sentence_bleu(reference, candidate, weights=(1,0,0,0))\n",
        "print(f\"Unigram score: {score1}\")\n",
        "score2 = sentence_bleu(reference, candidate, weights=(0,1,0,0))\n",
        "print(f\"Bigram score: {score2}\")\n",
        "score3 = sentence_bleu(reference, candidate, weights=(0,0,1,0))\n",
        "print(f\"Trigram score: {score3}\")\n",
        "score4 = sentence_bleu(reference, candidate, weights=(0,0,0,1))\n",
        "print(f\"4-gram score: {score4}\")\n",
        "\n",
        "# Q1. Compute the BLEU formula that we learned to verify that we can get the same bleu score as the previous code cell.\n",
        "# For brevity penalty calculation: \n",
        "# There are multiple references, reference_length will the closest reference length to the output_length (get this manually)\n",
        "# CODE"
      ],
      "metadata": {
        "id": "hIICWNsUaiDB",
        "colab": {
          "base_uri": "https://localhost:8080/"
        },
        "outputId": "36f1baab-91db-4d16-af44-ffb34bcc6e18"
      },
      "execution_count": null,
      "outputs": [
        {
          "output_type": "stream",
          "name": "stdout",
          "text": [
            "Unigram score: 0.7142857142857143\n",
            "Bigram score: 0.6666666666666666\n",
            "Trigram score: 0.4\n",
            "4-gram score: 0.25\n"
          ]
        }
      ]
    },
    {
      "cell_type": "markdown",
      "source": [
        "### Worked Examples\n",
        "\n",
        "1. Perfect translation"
      ],
      "metadata": {
        "id": "E5wmdi6Vmb9P"
      }
    },
    {
      "cell_type": "code",
      "source": [
        "reference = [['the', 'quick', 'brown', 'fox', 'jumped', 'over', 'the', 'lazy', 'dog']]\n",
        "candidate = ['the', 'quick', 'brown', 'fox', 'jumped', 'over', 'the', 'lazy', 'dog']\n",
        "score = sentence_bleu(reference, candidate)\n",
        "print(score)"
      ],
      "metadata": {
        "id": "IFCp3gRKHR-A",
        "colab": {
          "base_uri": "https://localhost:8080/"
        },
        "outputId": "6085f5a4-9595-46c3-e248-a173874e1b25"
      },
      "execution_count": null,
      "outputs": [
        {
          "output_type": "stream",
          "name": "stdout",
          "text": [
            "1.0\n"
          ]
        }
      ]
    },
    {
      "cell_type": "markdown",
      "source": [
        "2. Change one word (quick --> fast)"
      ],
      "metadata": {
        "id": "ABtLPbXCmzfb"
      }
    },
    {
      "cell_type": "code",
      "source": [
        "reference = [['the', 'quick', 'brown', 'fox', 'jumped', 'over', 'the', 'lazy', 'dog']]\n",
        "candidate = ['the', 'fast', 'brown', 'fox', 'jumped', 'over', 'the', 'lazy', 'dog']\n",
        "score = sentence_bleu(reference, candidate)\n",
        "print(score)"
      ],
      "metadata": {
        "id": "f5XPFX9KFEZb",
        "colab": {
          "base_uri": "https://localhost:8080/"
        },
        "outputId": "0c1970d9-99c6-4fd7-cd97-0bfd89ee5a7d"
      },
      "execution_count": null,
      "outputs": [
        {
          "output_type": "stream",
          "name": "stdout",
          "text": [
            "0.7506238537503395\n"
          ]
        }
      ]
    },
    {
      "cell_type": "markdown",
      "source": [
        "3. Change two words (quick-->fast, lazy-->sleepy).\n",
        "\n",
        "  - We can see a linear drop in score"
      ],
      "metadata": {
        "id": "sofId1X4m36h"
      }
    },
    {
      "cell_type": "code",
      "source": [
        "reference = [['the', 'quick', 'brown', 'fox', 'jumped', 'over', 'the', 'lazy', 'dog']]\n",
        "candidate = ['the', 'fast', 'brown', 'fox', 'jumped', 'over', 'the', 'sleepy', 'dog']\n",
        "score = sentence_bleu(reference, candidate)\n",
        "print(score)"
      ],
      "metadata": {
        "id": "jW11VJz1GZzi",
        "colab": {
          "base_uri": "https://localhost:8080/"
        },
        "outputId": "73d72e59-e35e-45f1-a759-5c6be367ba6a"
      },
      "execution_count": null,
      "outputs": [
        {
          "output_type": "stream",
          "name": "stdout",
          "text": [
            "0.4854917717073234\n"
          ]
        }
      ]
    },
    {
      "cell_type": "markdown",
      "source": [
        "4. What if all the words are different?"
      ],
      "metadata": {
        "id": "8yw5aFhpnZhg"
      }
    },
    {
      "cell_type": "code",
      "source": [
        "reference = [['the', 'quick', 'brown', 'fox', 'jumped', 'over', 'the', 'lazy', 'dog']]\n",
        "candidate = ['a', 'b', 'c', 'd', 'e', 'f', 'g', 'h', 'i']\n",
        "score = sentence_bleu(reference, candidate)\n",
        "print(score)"
      ],
      "metadata": {
        "id": "rLR2xf6rnWA-",
        "colab": {
          "base_uri": "https://localhost:8080/"
        },
        "outputId": "b02d7cfb-b6fc-4614-f161-f0aa1e1f0e37"
      },
      "execution_count": null,
      "outputs": [
        {
          "output_type": "stream",
          "name": "stdout",
          "text": [
            "0\n"
          ]
        }
      ]
    },
    {
      "cell_type": "markdown",
      "source": [
        "5. What if output is matching reference but shorter in length?"
      ],
      "metadata": {
        "id": "COlhbVhqnimR"
      }
    },
    {
      "cell_type": "code",
      "source": [
        "reference = [['the', 'quick', 'brown', 'fox', 'jumped', 'over', 'the', 'lazy', 'dog']]\n",
        "candidate = ['the', 'quick', 'brown', 'fox', 'jumped', 'over', 'the']\n",
        "score = sentence_bleu(reference, candidate)\n",
        "print(score)"
      ],
      "metadata": {
        "id": "YwQ7EcX3EATq",
        "colab": {
          "base_uri": "https://localhost:8080/"
        },
        "outputId": "2176cc3d-ce21-4129-df3b-b4f4a6509763"
      },
      "execution_count": null,
      "outputs": [
        {
          "output_type": "stream",
          "name": "stdout",
          "text": [
            "0.7514772930752859\n"
          ]
        }
      ]
    },
    {
      "cell_type": "markdown",
      "source": [
        "6. What if output is matching reference but longer in length?"
      ],
      "metadata": {
        "id": "Gk8ko7Cknt0A"
      }
    },
    {
      "cell_type": "code",
      "source": [
        "reference = [['the', 'quick', 'brown', 'fox', 'jumped', 'over', 'the', 'lazy', 'dog']]\n",
        "candidate = ['the', 'quick', 'brown', 'fox', 'jumped', 'over', 'the', 'lazy', 'dog', 'from', 'space']\n",
        "score = sentence_bleu(reference, candidate)\n",
        "print(score)"
      ],
      "metadata": {
        "id": "YDEqky6jEl-K",
        "colab": {
          "base_uri": "https://localhost:8080/"
        },
        "outputId": "0d9ce2ab-6264-468e-930a-782043b7d8bc"
      },
      "execution_count": null,
      "outputs": [
        {
          "output_type": "stream",
          "name": "stdout",
          "text": [
            "0.7860753021519787\n"
          ]
        }
      ]
    },
    {
      "cell_type": "code",
      "source": [
        "# Q2. Why is the score for the longer matching output higher than the score for the shorter matching output?\n"
      ],
      "metadata": {
        "id": "Ml7Z1HKon0h_"
      },
      "execution_count": null,
      "outputs": []
    },
    {
      "cell_type": "markdown",
      "source": [
        "7. Very short translation"
      ],
      "metadata": {
        "id": "U3sBeaagodWj"
      }
    },
    {
      "cell_type": "code",
      "source": [
        "reference = [['the', 'quick', 'brown', 'fox', 'jumped', 'over', 'the', 'lazy', 'dog']]\n",
        "candidate = ['the', 'quick']\n",
        "score = sentence_bleu(reference, candidate)\n",
        "print(score)"
      ],
      "metadata": {
        "id": "P8M_op9HG7jL",
        "colab": {
          "base_uri": "https://localhost:8080/"
        },
        "outputId": "1e4981e9-2742-4059-9bd7-836e4f573fcb"
      },
      "execution_count": null,
      "outputs": [
        {
          "output_type": "stream",
          "name": "stdout",
          "text": [
            "4.5044474950870215e-156\n"
          ]
        },
        {
          "output_type": "stream",
          "name": "stderr",
          "text": [
            "/usr/local/lib/python3.7/dist-packages/nltk/translate/bleu_score.py:552: UserWarning: \n",
            "The hypothesis contains 0 counts of 3-gram overlaps.\n",
            "Therefore the BLEU score evaluates to 0, independently of\n",
            "how many N-gram overlaps of lower order it contains.\n",
            "Consider using lower n-gram order or use SmoothingFunction()\n",
            "  warnings.warn(_msg)\n",
            "/usr/local/lib/python3.7/dist-packages/nltk/translate/bleu_score.py:552: UserWarning: \n",
            "The hypothesis contains 0 counts of 4-gram overlaps.\n",
            "Therefore the BLEU score evaluates to 0, independently of\n",
            "how many N-gram overlaps of lower order it contains.\n",
            "Consider using lower n-gram order or use SmoothingFunction()\n",
            "  warnings.warn(_msg)\n"
          ]
        }
      ]
    },
    {
      "cell_type": "markdown",
      "source": [
        "8. Good translations but not in reference"
      ],
      "metadata": {
        "id": "3dN0zrLxSLlf"
      }
    },
    {
      "cell_type": "code",
      "source": [
        "reference = [['i', 'am', 'currently', 'not', 'in', 'the', 'office'], ['i', 'am', 'currently', 'out', 'of', 'the', 'office']]\n",
        "candidate = ['i', 'am', 'currently', 'out']\n",
        "score = sentence_bleu(reference, candidate)\n",
        "print(score)"
      ],
      "metadata": {
        "id": "caczCblJPcKK",
        "colab": {
          "base_uri": "https://localhost:8080/"
        },
        "outputId": "94a55253-a42e-4ac2-de48-b9ef4aa62c5e"
      },
      "execution_count": null,
      "outputs": [
        {
          "output_type": "stream",
          "name": "stdout",
          "text": [
            "0.4723665527410147\n"
          ]
        }
      ]
    },
    {
      "cell_type": "code",
      "source": [
        "reference = [['the', 'quick', 'brown', 'fox', 'jumped', 'over', 'the', 'lazy', 'dog']]\n",
        "candidate = ['the', 'fox', 'jumped', 'over', 'the', 'dog']\n",
        "score = sentence_bleu(reference, candidate)\n",
        "print(score)"
      ],
      "metadata": {
        "id": "Jz8MlwOlGsik",
        "colab": {
          "base_uri": "https://localhost:8080/"
        },
        "outputId": "627d364d-2a12-4c66-b9f0-02a2f889d6fc"
      },
      "execution_count": null,
      "outputs": [
        {
          "output_type": "stream",
          "name": "stdout",
          "text": [
            "0.34107725495137897\n"
          ]
        }
      ]
    },
    {
      "cell_type": "code",
      "source": [
        "# Q3. What do the scores of the last two examples tell you about the limitation of BLEU?\n"
      ],
      "metadata": {
        "id": "sauyP4C0SQYn"
      },
      "execution_count": null,
      "outputs": []
    },
    {
      "cell_type": "markdown",
      "metadata": {
        "id": "M-1C5LXMRm-g"
      },
      "source": [
        "# Language Modeling with nn.Transformer and TorchText\n",
        "\n",
        "This is a tutorial on training a sequence-to-sequence model that uses the\n",
        "[nn.Transformer](https://pytorch.org/docs/stable/generated/torch.nn.Transformer.html) module.\n",
        "\n",
        "The PyTorch 1.2 release includes a standard transformer module based on the\n",
        "paper [Attention is All You Need](https://arxiv.org/pdf/1706.03762.pdf)_.\n",
        "Compared to Recurrent Neural Networks (RNNs), the transformer model has proven\n",
        "to be superior in quality for many sequence-to-sequence tasks while being more\n",
        "parallelizable. The ``nn.Transformer`` module relies entirely on an attention\n",
        "mechanism (implemented as\n",
        "[nn.MultiheadAttention](https://pytorch.org/docs/stable/generated/torch.nn.MultiheadAttention.html)_)\n",
        "to draw global dependencies between input and output. The ``nn.Transformer``\n",
        "module is highly modularised such that a single component (e.g.,\n",
        "[nn.TransformerEncoder](https://pytorch.org/docs/stable/generated/torch.nn.TransformerEncoder.html))\n",
        "can be easily adapted/composed.\n",
        "\n",
        "Reference: [Pytorch Tutorial](https://pytorch.org/tutorials/beginner/transformer_tutorial.html)\n"
      ]
    },
    {
      "cell_type": "code",
      "source": [
        "# Check torchtext version and install 0.10.0 if it is not\n",
        "!pip3 show torchtext"
      ],
      "metadata": {
        "id": "dXvAu-IHgYzJ",
        "colab": {
          "base_uri": "https://localhost:8080/"
        },
        "outputId": "a8e986a7-0c71-4200-9432-908b58825f9e"
      },
      "execution_count": null,
      "outputs": [
        {
          "output_type": "stream",
          "name": "stdout",
          "text": [
            "Name: torchtext\n",
            "Version: 0.13.1\n",
            "Summary: Text utilities and datasets for PyTorch\n",
            "Home-page: https://github.com/pytorch/text\n",
            "Author: PyTorch core devs and James Bradbury\n",
            "Author-email: jekbradbury@gmail.com\n",
            "License: BSD\n",
            "Location: /usr/local/lib/python3.7/dist-packages\n",
            "Requires: tqdm, torch, requests, numpy\n",
            "Required-by: \n"
          ]
        }
      ]
    },
    {
      "cell_type": "code",
      "source": [
        "!pip3 install torchtext==0.10.0"
      ],
      "metadata": {
        "id": "GxTWYZ-Jge1s",
        "colab": {
          "base_uri": "https://localhost:8080/"
        },
        "outputId": "02ce8675-5e23-4494-a1ea-681c16a07e3c"
      },
      "execution_count": null,
      "outputs": [
        {
          "output_type": "stream",
          "name": "stdout",
          "text": [
            "Looking in indexes: https://pypi.org/simple, https://us-python.pkg.dev/colab-wheels/public/simple/\n",
            "Collecting torchtext==0.10.0\n",
            "  Downloading torchtext-0.10.0-cp37-cp37m-manylinux1_x86_64.whl (7.6 MB)\n",
            "\u001b[K     |████████████████████████████████| 7.6 MB 27.3 MB/s \n",
            "\u001b[?25hRequirement already satisfied: numpy in /usr/local/lib/python3.7/dist-packages (from torchtext==0.10.0) (1.21.6)\n",
            "Collecting torch==1.9.0\n",
            "  Downloading torch-1.9.0-cp37-cp37m-manylinux1_x86_64.whl (831.4 MB)\n",
            "\u001b[K     |████████████████████████████████| 831.4 MB 2.7 kB/s \n",
            "\u001b[?25hRequirement already satisfied: tqdm in /usr/local/lib/python3.7/dist-packages (from torchtext==0.10.0) (4.64.1)\n",
            "Requirement already satisfied: requests in /usr/local/lib/python3.7/dist-packages (from torchtext==0.10.0) (2.23.0)\n",
            "Requirement already satisfied: typing-extensions in /usr/local/lib/python3.7/dist-packages (from torch==1.9.0->torchtext==0.10.0) (4.1.1)\n",
            "Requirement already satisfied: chardet<4,>=3.0.2 in /usr/local/lib/python3.7/dist-packages (from requests->torchtext==0.10.0) (3.0.4)\n",
            "Requirement already satisfied: certifi>=2017.4.17 in /usr/local/lib/python3.7/dist-packages (from requests->torchtext==0.10.0) (2022.9.24)\n",
            "Requirement already satisfied: urllib3!=1.25.0,!=1.25.1,<1.26,>=1.21.1 in /usr/local/lib/python3.7/dist-packages (from requests->torchtext==0.10.0) (1.24.3)\n",
            "Requirement already satisfied: idna<3,>=2.5 in /usr/local/lib/python3.7/dist-packages (from requests->torchtext==0.10.0) (2.10)\n",
            "Installing collected packages: torch, torchtext\n",
            "  Attempting uninstall: torch\n",
            "    Found existing installation: torch 1.12.1+cu113\n",
            "    Uninstalling torch-1.12.1+cu113:\n",
            "      Successfully uninstalled torch-1.12.1+cu113\n",
            "  Attempting uninstall: torchtext\n",
            "    Found existing installation: torchtext 0.13.1\n",
            "    Uninstalling torchtext-0.13.1:\n",
            "      Successfully uninstalled torchtext-0.13.1\n",
            "\u001b[31mERROR: pip's dependency resolver does not currently take into account all the packages that are installed. This behaviour is the source of the following dependency conflicts.\n",
            "torchvision 0.13.1+cu113 requires torch==1.12.1, but you have torch 1.9.0 which is incompatible.\n",
            "torchaudio 0.12.1+cu113 requires torch==1.12.1, but you have torch 1.9.0 which is incompatible.\u001b[0m\n",
            "Successfully installed torch-1.9.0 torchtext-0.10.0\n"
          ]
        }
      ]
    },
    {
      "cell_type": "code",
      "metadata": {
        "id": "Vh-eQsZ1dHuw",
        "colab": {
          "base_uri": "https://localhost:8080/"
        },
        "outputId": "3608e9ae-7523-4529-f2da-9c98cfdf87e5"
      },
      "source": [
        "# Ensure that transformers are installed\n",
        "!pip install transformers"
      ],
      "execution_count": null,
      "outputs": [
        {
          "output_type": "stream",
          "name": "stdout",
          "text": [
            "Looking in indexes: https://pypi.org/simple, https://us-python.pkg.dev/colab-wheels/public/simple/\n",
            "Collecting transformers\n",
            "  Downloading transformers-4.24.0-py3-none-any.whl (5.5 MB)\n",
            "\u001b[K     |████████████████████████████████| 5.5 MB 16.6 MB/s \n",
            "\u001b[?25hRequirement already satisfied: pyyaml>=5.1 in /usr/local/lib/python3.7/dist-packages (from transformers) (6.0)\n",
            "Requirement already satisfied: packaging>=20.0 in /usr/local/lib/python3.7/dist-packages (from transformers) (21.3)\n",
            "Collecting huggingface-hub<1.0,>=0.10.0\n",
            "  Downloading huggingface_hub-0.10.1-py3-none-any.whl (163 kB)\n",
            "\u001b[K     |████████████████████████████████| 163 kB 59.0 MB/s \n",
            "\u001b[?25hRequirement already satisfied: numpy>=1.17 in /usr/local/lib/python3.7/dist-packages (from transformers) (1.21.6)\n",
            "Requirement already satisfied: filelock in /usr/local/lib/python3.7/dist-packages (from transformers) (3.8.0)\n",
            "Requirement already satisfied: regex!=2019.12.17 in /usr/local/lib/python3.7/dist-packages (from transformers) (2022.6.2)\n",
            "Collecting tokenizers!=0.11.3,<0.14,>=0.11.1\n",
            "  Downloading tokenizers-0.13.1-cp37-cp37m-manylinux_2_17_x86_64.manylinux2014_x86_64.whl (7.6 MB)\n",
            "\u001b[K     |████████████████████████████████| 7.6 MB 67.6 MB/s \n",
            "\u001b[?25hRequirement already satisfied: requests in /usr/local/lib/python3.7/dist-packages (from transformers) (2.23.0)\n",
            "Requirement already satisfied: importlib-metadata in /usr/local/lib/python3.7/dist-packages (from transformers) (4.13.0)\n",
            "Requirement already satisfied: tqdm>=4.27 in /usr/local/lib/python3.7/dist-packages (from transformers) (4.64.1)\n",
            "Requirement already satisfied: typing-extensions>=3.7.4.3 in /usr/local/lib/python3.7/dist-packages (from huggingface-hub<1.0,>=0.10.0->transformers) (4.1.1)\n",
            "Requirement already satisfied: pyparsing!=3.0.5,>=2.0.2 in /usr/local/lib/python3.7/dist-packages (from packaging>=20.0->transformers) (3.0.9)\n",
            "Requirement already satisfied: zipp>=0.5 in /usr/local/lib/python3.7/dist-packages (from importlib-metadata->transformers) (3.10.0)\n",
            "Requirement already satisfied: chardet<4,>=3.0.2 in /usr/local/lib/python3.7/dist-packages (from requests->transformers) (3.0.4)\n",
            "Requirement already satisfied: urllib3!=1.25.0,!=1.25.1,<1.26,>=1.21.1 in /usr/local/lib/python3.7/dist-packages (from requests->transformers) (1.24.3)\n",
            "Requirement already satisfied: idna<3,>=2.5 in /usr/local/lib/python3.7/dist-packages (from requests->transformers) (2.10)\n",
            "Requirement already satisfied: certifi>=2017.4.17 in /usr/local/lib/python3.7/dist-packages (from requests->transformers) (2022.9.24)\n",
            "Installing collected packages: tokenizers, huggingface-hub, transformers\n",
            "Successfully installed huggingface-hub-0.10.1 tokenizers-0.13.1 transformers-4.24.0\n"
          ]
        }
      ]
    },
    {
      "cell_type": "code",
      "source": [
        "%matplotlib inline"
      ],
      "metadata": {
        "id": "HbejEUrzSu2p"
      },
      "execution_count": null,
      "outputs": []
    },
    {
      "cell_type": "markdown",
      "metadata": {
        "id": "zhuc6z4zRm-j"
      },
      "source": [
        "We will train a ``nn.TransformerEncoder`` model on a\n",
        "language modeling task. The language modeling task is to assign a\n",
        "probability for the likelihood of a given word (or a sequence of words)\n",
        "to follow a sequence of words. A sequence of tokens are passed to the embedding\n",
        "layer first, followed by a positional encoding layer to account for the order\n",
        "of the word (see the next paragraph for more details). The\n",
        "``nn.TransformerEncoder`` consists of multiple layers of\n",
        "[nn.TransformerEncoderLayer](https://pytorch.org/docs/stable/generated/torch.nn.TransformerEncoderLayer.html).\n",
        "Along with the input sequence, a square attention mask is required because the\n",
        "self-attention layers in ``nn.TransformerEncoder`` are only allowed to attend\n",
        "the earlier positions in the sequence. For the language modeling task, any\n",
        "tokens on the future positions should be masked. To produce a probability\n",
        "distribution over output words, the output of the ``nn.TransformerEncoder``\n",
        "model is passed through a linear layer followed by a log-softmax function.\n",
        "\n",
        "\n"
      ]
    },
    {
      "cell_type": "code",
      "execution_count": null,
      "metadata": {
        "id": "iG5wmzsNRm-l"
      },
      "outputs": [],
      "source": [
        "import math\n",
        "from typing import Tuple\n",
        "\n",
        "import torch\n",
        "from torch import nn, tensor\n",
        "import torch.nn.functional as F\n",
        "from torch.nn import TransformerEncoder, TransformerEncoderLayer\n",
        "from torch.utils.data import dataset\n",
        "\n",
        "class TransformerModel(nn.Module):\n",
        "\n",
        "    def __init__(self, ntoken: int, d_model: int, nhead: int, d_hid: int,\n",
        "                 nlayers: int, dropout: float = 0.5):\n",
        "        super().__init__()\n",
        "        self.model_type = 'Transformer'\n",
        "        self.pos_encoder = PositionalEncoding(d_model, dropout)\n",
        "        encoder_layers = TransformerEncoderLayer(d_model, nhead, d_hid, dropout)\n",
        "        self.transformer_encoder = TransformerEncoder(encoder_layers, nlayers)\n",
        "        self.encoder = nn.Embedding(ntoken, d_model)\n",
        "        self.d_model = d_model\n",
        "        self.decoder = nn.Linear(d_model, ntoken)\n",
        "\n",
        "        self.init_weights()\n",
        "\n",
        "    def init_weights(self) -> None:\n",
        "        initrange = 0.1\n",
        "        self.encoder.weight.data.uniform_(-initrange, initrange)\n",
        "        self.decoder.bias.data.zero_()\n",
        "        self.decoder.weight.data.uniform_(-initrange, initrange)\n",
        "\n",
        "    def forward(self, src: tensor, src_mask: tensor) -> tensor:\n",
        "        \"\"\"\n",
        "        Args:\n",
        "            src: Tensor, shape [seq_len, batch_size]\n",
        "            src_mask: Tensor, shape [seq_len, seq_len]\n",
        "\n",
        "        Returns:\n",
        "            output Tensor of shape [seq_len, batch_size, ntoken]\n",
        "        \"\"\"\n",
        "        src = self.encoder(src) * math.sqrt(self.d_model)\n",
        "        src = self.pos_encoder(src)\n",
        "        output = self.transformer_encoder(src, src_mask)\n",
        "        output = self.decoder(output)\n",
        "        return output\n",
        "\n",
        "\n",
        "def generate_square_subsequent_mask(sz: int) -> tensor:\n",
        "    \"\"\"Generates an upper-triangular matrix of -inf, with zeros on diag.\"\"\"\n",
        "    return torch.triu(torch.ones(sz, sz) * float('-inf'), diagonal=1)"
      ]
    },
    {
      "cell_type": "code",
      "source": [
        "# Q4. Jot what you understand on how the Transformer model works from the code above"
      ],
      "metadata": {
        "id": "9z0FvAvbV7vd"
      },
      "execution_count": null,
      "outputs": []
    },
    {
      "cell_type": "markdown",
      "metadata": {
        "id": "WByVmPU-Rm-l"
      },
      "source": [
        "## Positional Encoding\n",
        "``PositionalEncoding`` module injects some information about the\n",
        "relative or absolute position of the tokens in the sequence. The\n",
        "positional encodings have the same dimension as the embeddings so that\n",
        "the two can be summed. Here, we use ``sine`` and ``cosine`` functions of\n",
        "different frequencies.\n",
        "\n",
        "\n"
      ]
    },
    {
      "cell_type": "code",
      "execution_count": null,
      "metadata": {
        "id": "Mnc5qAiXRm-m"
      },
      "outputs": [],
      "source": [
        "class PositionalEncoding(nn.Module):\n",
        "\n",
        "    def __init__(self, d_model: int, dropout: float = 0.1, max_len: int = 5000):\n",
        "        super().__init__()\n",
        "        self.dropout = nn.Dropout(p=dropout)\n",
        "\n",
        "        position = torch.arange(max_len).unsqueeze(1)\n",
        "        div_term = torch.exp(torch.arange(0, d_model, 2) * (-math.log(10000.0) / d_model))\n",
        "        pe = torch.zeros(max_len, 1, d_model)\n",
        "        pe[:, 0, 0::2] = torch.sin(position * div_term)\n",
        "        pe[:, 0, 1::2] = torch.cos(position * div_term)\n",
        "        self.register_buffer('pe', pe)\n",
        "\n",
        "    def forward(self, x: tensor) -> tensor:\n",
        "        \"\"\"\n",
        "        Args:\n",
        "            x: tensor, shape [seq_len, batch_size, embedding_dim]\n",
        "        \"\"\"\n",
        "        x = x + self.pe[:x.size(0)]\n",
        "        return self.dropout(x)"
      ]
    },
    {
      "cell_type": "code",
      "source": [
        "# Q5. Why do we need positional encoding for the transformer?\n",
        "# A5. Since the transformer is not recurrent but done at once, we need to assign the position of each word."
      ],
      "metadata": {
        "id": "hxtIjyOzWLFo"
      },
      "execution_count": null,
      "outputs": []
    },
    {
      "cell_type": "markdown",
      "metadata": {
        "id": "3DO9oqU1Rm-n"
      },
      "source": [
        "The vocab object is built based on the train dataset and is used to numericalize\n",
        "tokens into tensors. Wikitext-2 represents rare tokens as `<unk>`.\n",
        "\n",
        "Given a 1-D vector of sequential data, ``batchify()`` arranges the data\n",
        "into ``batch_size`` columns. If the data does not divide evenly into\n",
        "``batch_size`` columns, then the data is trimmed to fit. For instance, with\n",
        "the alphabet as the data (total length of 26) and ``batch_size=4``, we would\n",
        "divide the alphabet into 4 sequences of length 6:\n",
        "\n",
        "\\begin{align}\\begin{bmatrix}\n",
        "  \\text{A} & \\text{B} & \\text{C} & \\ldots & \\text{X} & \\text{Y} & \\text{Z}\n",
        "  \\end{bmatrix}\n",
        "  \\Rightarrow\n",
        "  \\begin{bmatrix}\n",
        "  \\begin{bmatrix}\\text{A} \\\\ \\text{B} \\\\ \\text{C} \\\\ \\text{D} \\\\ \\text{E} \\\\ \\text{F}\\end{bmatrix} &\n",
        "  \\begin{bmatrix}\\text{G} \\\\ \\text{H} \\\\ \\text{I} \\\\ \\text{J} \\\\ \\text{K} \\\\ \\text{L}\\end{bmatrix} &\n",
        "  \\begin{bmatrix}\\text{M} \\\\ \\text{N} \\\\ \\text{O} \\\\ \\text{P} \\\\ \\text{Q} \\\\ \\text{R}\\end{bmatrix} &\n",
        "  \\begin{bmatrix}\\text{S} \\\\ \\text{T} \\\\ \\text{U} \\\\ \\text{V} \\\\ \\text{W} \\\\ \\text{X}\\end{bmatrix}\n",
        "  \\end{bmatrix}\\end{align}\n",
        "\n",
        "Batching enables more parallelizable processing. However, batching means that\n",
        "the model treats each column independently; for example, the dependence of\n",
        "``G`` and ``F`` can not be learned in the example above.\n",
        "\n",
        "\n"
      ]
    },
    {
      "cell_type": "code",
      "execution_count": null,
      "metadata": {
        "id": "4WcWHxlBRm-o",
        "colab": {
          "base_uri": "https://localhost:8080/"
        },
        "outputId": "76ef6cb7-21c5-445f-adb7-151f71c52164"
      },
      "outputs": [
        {
          "output_type": "stream",
          "name": "stderr",
          "text": [
            "wikitext-2-v1.zip: 100%|██████████| 4.48M/4.48M [00:00<00:00, 84.8MB/s]\n"
          ]
        }
      ],
      "source": [
        "import torch\n",
        "from torchtext.datasets import WikiText2\n",
        "from torchtext.data.utils import get_tokenizer\n",
        "from torchtext.vocab import build_vocab_from_iterator\n",
        "from torch.utils.data import IterableDataset\n",
        "from torch import tensor\n",
        "\n",
        "\n",
        "train_iter = WikiText2(split='train')\n",
        "tokenizer = get_tokenizer('basic_english')\n",
        "vocab = build_vocab_from_iterator(map(tokenizer, train_iter), specials=['<unk>'])\n",
        "vocab.set_default_index(vocab['<unk>']) \n",
        "\n",
        "def data_process(raw_text_iter: dataset.IterableDataset) -> tensor:\n",
        "    \"\"\"Converts raw text into a flat Tensor.\"\"\"\n",
        "    data = [torch.tensor(vocab(tokenizer(item)), dtype=torch.long) for item in raw_text_iter]\n",
        "    return torch.cat(tuple(filter(lambda t: t.numel() > 0, data)))\n",
        "\n",
        "# train_iter was \"consumed\" by the process of building the vocab,\n",
        "# so we have to create it again\n",
        "train_iter, val_iter, test_iter = WikiText2()\n",
        "train_data = data_process(train_iter)\n",
        "val_data = data_process(val_iter)\n",
        "test_data = data_process(test_iter)\n",
        "\n",
        "device = torch.device('cuda' if torch.cuda.is_available() else 'cpu')\n",
        "\n",
        "def batchify(data: tensor, bsize: int) -> tensor:\n",
        "    \"\"\"Divides the data into bsize separate sequences, removing extra elements\n",
        "    that wouldn't cleanly fit.\n",
        "\n",
        "    Args:\n",
        "        data: tensor, shape [N]\n",
        "        bsz: int, batch size\n",
        "\n",
        "    Returns:\n",
        "        tensor of shape [N // bsize, bsize]\n",
        "    \"\"\"\n",
        "    seq_len = data.size(0) // bsize\n",
        "    data = data[:seq_len * bsize]\n",
        "    data = data.view(bsize, seq_len).t().contiguous()\n",
        "    return data.to(device)\n",
        "\n",
        "batch_size = 20\n",
        "eval_batch_size = 10\n",
        "train_data = batchify(train_data, batch_size)  # shape [seq_len, batch_size]\n",
        "val_data = batchify(val_data, eval_batch_size)\n",
        "test_data = batchify(test_data, eval_batch_size)"
      ]
    },
    {
      "cell_type": "markdown",
      "metadata": {
        "id": "tK2XIUCNRm-o"
      },
      "source": [
        "### Functions to generate input and target sequence\n",
        "\n",
        "``get_batch()`` generates a pair of input-target sequences for\n",
        "the transformer model. It subdivides the source data into chunks of\n",
        "length ``bptt``. For the language modeling task, the model needs the\n",
        "following words as ``Target``. For example, with a ``bptt`` value of 2,\n",
        "we’d get the following two Variables for ``i`` = 0:\n",
        "\n",
        "<img src=\"https://pytorch.org/tutorials/_images/transformer_input_target.png\">\n",
        "\n",
        "It should be noted that the chunks are along dimension 0, consistent\n",
        "with the ``S`` dimension in the Transformer model. The batch dimension\n",
        "``N`` is along dimension 1.\n",
        "\n",
        "\n"
      ]
    },
    {
      "cell_type": "code",
      "execution_count": null,
      "metadata": {
        "id": "Ji-Pf0EjRm-p"
      },
      "outputs": [],
      "source": [
        "bptt = 35\n",
        "def get_batch(source: tensor, i: int) -> Tuple[tensor, tensor]:\n",
        "    \"\"\"\n",
        "    Args:\n",
        "        source: tensor, shape [full_seq_len, batch_size]\n",
        "        i: int\n",
        "\n",
        "    Returns:\n",
        "        tuple (data, target), where data has shape [seq_len, batch_size] and\n",
        "        target has shape [seq_len * batch_size]\n",
        "    \"\"\"\n",
        "    seq_len = min(bptt, len(source) - 1 - i)\n",
        "    data = source[i:i+seq_len]\n",
        "    target = source[i+1:i+1+seq_len].reshape(-1)\n",
        "    return data, target"
      ]
    },
    {
      "cell_type": "markdown",
      "metadata": {
        "id": "-RqXpzCYRm-q"
      },
      "source": [
        "### Train and Evaluate Functions\n",
        "We use [CrossEntropyLoss](https://pytorch.org/docs/stable/generated/torch.nn.CrossEntropyLoss.html)\n",
        "with the [SGD](https://pytorch.org/docs/stable/generated/torch.optim.SGD.html)\n",
        "(stochastic gradient descent) optimizer. The learning rate is initially set to\n",
        "5.0 and follows a [StepLR](https://pytorch.org/docs/stable/generated/torch.optim.lr_scheduler.StepLR.html)\n",
        "schedule. During training, we use [nn.utils.clip_grad_norm](https://pytorch.org/docs/stable/generated/torch.nn.utils.clip_grad_norm_.html)\n",
        "to prevent gradients from exploding.\n",
        "\n"
      ]
    },
    {
      "cell_type": "code",
      "execution_count": null,
      "metadata": {
        "id": "wjC59NLTRm-q"
      },
      "outputs": [],
      "source": [
        "import copy\n",
        "import time\n",
        "\n",
        "def train(model: nn.Module) -> None:\n",
        "    model.train()  # turn on train mode\n",
        "    total_loss = 0.\n",
        "    log_interval = 200\n",
        "    start_time = time.time()\n",
        "    src_mask = generate_square_subsequent_mask(bptt).to(device)\n",
        "\n",
        "    num_batches = len(train_data) // bptt\n",
        "    for batch, i in enumerate(range(0, train_data.size(0) - 1, bptt)):\n",
        "        data, targets = get_batch(train_data, i)\n",
        "        seq_len = data.size(0)\n",
        "        if seq_len != bptt:  # only on last batch\n",
        "            src_mask = src_mask[:seq_len, :seq_len]\n",
        "        output = model(data, src_mask)\n",
        "        loss = criterion(output.view(-1, ntokens), targets)\n",
        "\n",
        "        optimizer.zero_grad()\n",
        "        loss.backward()\n",
        "        torch.nn.utils.clip_grad_norm_(model.parameters(), 0.5)\n",
        "        optimizer.step()\n",
        "\n",
        "        total_loss += loss.item()\n",
        "        if batch % log_interval == 0 and batch > 0:\n",
        "            lr = scheduler.get_last_lr()[0]\n",
        "            ms_per_batch = (time.time() - start_time) * 1000 / log_interval\n",
        "            cur_loss = total_loss / log_interval\n",
        "            ppl = math.exp(cur_loss)\n",
        "            print(f'| epoch {epoch:3d} | {batch:5d}/{num_batches:5d} batches | '\n",
        "                  f'lr {lr:02.2f} | ms/batch {ms_per_batch:5.2f} | '\n",
        "                  f'loss {cur_loss:5.2f} | ppl {ppl:8.2f}')\n",
        "            total_loss = 0\n",
        "            start_time = time.time()\n",
        "\n",
        "def evaluate(model: nn.Module, eval_data: tensor) -> float:\n",
        "    model.eval()  # turn on evaluation mode\n",
        "    total_loss = 0.\n",
        "    src_mask = generate_square_subsequent_mask(bptt).to(device)\n",
        "    with torch.no_grad():\n",
        "        for i in range(0, eval_data.size(0) - 1, bptt):\n",
        "            data, targets = get_batch(eval_data, i)\n",
        "            seq_len = data.size(0)\n",
        "            if seq_len != bptt:\n",
        "                src_mask = src_mask[:seq_len, :seq_len]\n",
        "            output = model(data, src_mask)\n",
        "            output_flat = output.view(-1, ntokens)\n",
        "            total_loss += seq_len * criterion(output_flat, targets).item()\n",
        "    return total_loss / (len(eval_data) - 1)"
      ]
    },
    {
      "cell_type": "markdown",
      "metadata": {
        "id": "9u5OOuqdRm-p"
      },
      "source": [
        "### Hyperparameters & Model Instance\n",
        "The model hyperparameters are defined below. The vocab size is\n",
        "equal to the length of the vocab object.\n",
        "\n",
        "\n"
      ]
    },
    {
      "cell_type": "code",
      "execution_count": null,
      "metadata": {
        "id": "pxk3LHnTRm-q"
      },
      "outputs": [],
      "source": [
        "ntokens = len(vocab)  # size of vocabulary\n",
        "emsize = 200   # embedding dimension\n",
        "d_hid = 200    # dimension of the feedforward network model in nn.TransformerEncoder\n",
        "nlayers = 2    # number of nn.TransformerEncoderLayer in nn.TransformerEncoder\n",
        "nhead = 2      # number of heads in nn.MultiheadAttention (NOTE: embed_dim must be divisible by num_heads)\n",
        "dropout = 0.2  # dropout probability\n",
        "\n",
        "model = TransformerModel(ntokens, emsize, nhead, d_hid, nlayers, dropout).to(device)\n",
        "\n",
        "criterion = nn.CrossEntropyLoss()\n",
        "lr = 5.0  # learning rate\n",
        "optimizer = torch.optim.SGD(model.parameters(), lr=lr)\n",
        "scheduler = torch.optim.lr_scheduler.StepLR(optimizer, 1.0, gamma=0.95)\n"
      ]
    },
    {
      "cell_type": "markdown",
      "metadata": {
        "id": "U2prr7A0Rm-r"
      },
      "source": [
        "### Run the model\n",
        "Loop over epochs. Save the model if the validation loss is the best\n",
        "we've seen so far. Adjust the learning rate after each epoch.\n",
        "\n",
        "Training time: \n",
        "- ~2.5m (3 epochs) +1m for additional epoch\n"
      ]
    },
    {
      "cell_type": "code",
      "execution_count": null,
      "metadata": {
        "id": "pB_KGcM1Rm-r",
        "colab": {
          "base_uri": "https://localhost:8080/"
        },
        "outputId": "2c48f2c6-0bd3-45a9-9db2-6c7e317eef2d"
      },
      "outputs": [
        {
          "output_type": "stream",
          "name": "stdout",
          "text": [
            "| epoch   1 |   200/ 2928 batches | lr 5.00 | ms/batch 17.09 | loss  8.16 | ppl  3496.84\n",
            "| epoch   1 |   400/ 2928 batches | lr 5.00 | ms/batch 16.40 | loss  6.89 | ppl   983.54\n",
            "| epoch   1 |   600/ 2928 batches | lr 5.00 | ms/batch 19.28 | loss  6.46 | ppl   636.24\n",
            "| epoch   1 |   800/ 2928 batches | lr 5.00 | ms/batch 17.23 | loss  6.31 | ppl   549.25\n",
            "| epoch   1 |  1000/ 2928 batches | lr 5.00 | ms/batch 15.76 | loss  6.20 | ppl   490.88\n",
            "| epoch   1 |  1200/ 2928 batches | lr 5.00 | ms/batch 15.77 | loss  6.16 | ppl   474.82\n",
            "| epoch   1 |  1400/ 2928 batches | lr 5.00 | ms/batch 15.82 | loss  6.12 | ppl   453.75\n",
            "| epoch   1 |  1600/ 2928 batches | lr 5.00 | ms/batch 15.81 | loss  6.11 | ppl   450.37\n",
            "| epoch   1 |  1800/ 2928 batches | lr 5.00 | ms/batch 15.82 | loss  6.03 | ppl   416.19\n",
            "| epoch   1 |  2000/ 2928 batches | lr 5.00 | ms/batch 15.86 | loss  6.02 | ppl   413.14\n",
            "| epoch   1 |  2200/ 2928 batches | lr 5.00 | ms/batch 15.86 | loss  5.91 | ppl   367.11\n",
            "| epoch   1 |  2400/ 2928 batches | lr 5.00 | ms/batch 15.89 | loss  5.98 | ppl   394.93\n",
            "| epoch   1 |  2600/ 2928 batches | lr 5.00 | ms/batch 15.90 | loss  5.95 | ppl   384.64\n",
            "| epoch   1 |  2800/ 2928 batches | lr 5.00 | ms/batch 15.89 | loss  5.88 | ppl   357.36\n",
            "-----------------------------------------------------------------------------------------\n",
            "| end of epoch   1 | time: 49.61s | valid loss  5.80 | valid ppl   329.87\n",
            "-----------------------------------------------------------------------------------------\n",
            "| epoch   2 |   200/ 2928 batches | lr 4.75 | ms/batch 15.97 | loss  5.86 | ppl   352.25\n",
            "| epoch   2 |   400/ 2928 batches | lr 4.75 | ms/batch 15.89 | loss  5.85 | ppl   348.50\n",
            "| epoch   2 |   600/ 2928 batches | lr 4.75 | ms/batch 15.91 | loss  5.66 | ppl   288.21\n",
            "| epoch   2 |   800/ 2928 batches | lr 4.75 | ms/batch 15.93 | loss  5.71 | ppl   300.71\n",
            "| epoch   2 |  1000/ 2928 batches | lr 4.75 | ms/batch 15.98 | loss  5.65 | ppl   283.01\n",
            "| epoch   2 |  1200/ 2928 batches | lr 4.75 | ms/batch 17.38 | loss  5.68 | ppl   292.79\n",
            "| epoch   2 |  1400/ 2928 batches | lr 4.75 | ms/batch 17.93 | loss  5.69 | ppl   295.05\n",
            "| epoch   2 |  1600/ 2928 batches | lr 4.75 | ms/batch 16.10 | loss  5.70 | ppl   299.77\n",
            "| epoch   2 |  1800/ 2928 batches | lr 4.75 | ms/batch 16.14 | loss  5.65 | ppl   284.05\n",
            "| epoch   2 |  2000/ 2928 batches | lr 4.75 | ms/batch 16.21 | loss  5.67 | ppl   290.20\n",
            "| epoch   2 |  2200/ 2928 batches | lr 4.75 | ms/batch 16.25 | loss  5.55 | ppl   258.30\n",
            "| epoch   2 |  2400/ 2928 batches | lr 4.75 | ms/batch 16.25 | loss  5.65 | ppl   283.57\n",
            "| epoch   2 |  2600/ 2928 batches | lr 4.75 | ms/batch 16.34 | loss  5.64 | ppl   282.39\n",
            "| epoch   2 |  2800/ 2928 batches | lr 4.75 | ms/batch 16.34 | loss  5.58 | ppl   264.48\n",
            "-----------------------------------------------------------------------------------------\n",
            "| end of epoch   2 | time: 49.73s | valid loss  5.72 | valid ppl   304.47\n",
            "-----------------------------------------------------------------------------------------\n",
            "| epoch   3 |   200/ 2928 batches | lr 4.51 | ms/batch 16.52 | loss  5.60 | ppl   270.93\n",
            "| epoch   3 |   400/ 2928 batches | lr 4.51 | ms/batch 16.53 | loss  5.62 | ppl   276.07\n",
            "| epoch   3 |   600/ 2928 batches | lr 4.51 | ms/batch 16.60 | loss  5.42 | ppl   226.60\n",
            "| epoch   3 |   800/ 2928 batches | lr 4.51 | ms/batch 16.67 | loss  5.48 | ppl   240.17\n",
            "| epoch   3 |  1000/ 2928 batches | lr 4.51 | ms/batch 16.67 | loss  5.44 | ppl   229.84\n",
            "| epoch   3 |  1200/ 2928 batches | lr 4.51 | ms/batch 16.74 | loss  5.48 | ppl   238.99\n",
            "| epoch   3 |  1400/ 2928 batches | lr 4.51 | ms/batch 16.83 | loss  5.50 | ppl   243.57\n",
            "| epoch   3 |  1600/ 2928 batches | lr 4.51 | ms/batch 17.11 | loss  5.53 | ppl   251.58\n",
            "| epoch   3 |  1800/ 2928 batches | lr 4.51 | ms/batch 17.48 | loss  5.46 | ppl   235.83\n",
            "| epoch   3 |  2000/ 2928 batches | lr 4.51 | ms/batch 16.82 | loss  5.49 | ppl   241.24\n",
            "| epoch   3 |  2200/ 2928 batches | lr 4.51 | ms/batch 16.79 | loss  5.36 | ppl   212.61\n",
            "| epoch   3 |  2400/ 2928 batches | lr 4.51 | ms/batch 16.70 | loss  5.46 | ppl   235.72\n",
            "| epoch   3 |  2600/ 2928 batches | lr 4.51 | ms/batch 16.69 | loss  5.47 | ppl   237.24\n",
            "| epoch   3 |  2800/ 2928 batches | lr 4.51 | ms/batch 16.66 | loss  5.40 | ppl   221.04\n",
            "-----------------------------------------------------------------------------------------\n",
            "| end of epoch   3 | time: 51.00s | valid loss  5.68 | valid ppl   291.72\n",
            "-----------------------------------------------------------------------------------------\n"
          ]
        }
      ],
      "source": [
        "best_val_loss = float('inf')\n",
        "epochs = 3\n",
        "best_model = None\n",
        "\n",
        "for epoch in range(1, epochs + 1):\n",
        "    epoch_start_time = time.time()\n",
        "    train(model)\n",
        "    val_loss = evaluate(model, val_data)\n",
        "    val_ppl = math.exp(val_loss)\n",
        "    elapsed = time.time() - epoch_start_time\n",
        "    print('-' * 89)\n",
        "    print(f'| end of epoch {epoch:3d} | time: {elapsed:5.2f}s | '\n",
        "          f'valid loss {val_loss:5.2f} | valid ppl {val_ppl:8.2f}')\n",
        "    print('-' * 89)\n",
        "\n",
        "    if val_loss < best_val_loss:\n",
        "        best_val_loss = val_loss\n",
        "        best_model = copy.deepcopy(model)\n",
        "\n",
        "    scheduler.step()"
      ]
    },
    {
      "cell_type": "markdown",
      "metadata": {
        "id": "vru0j925Rm-r"
      },
      "source": [
        "## Evaluate the best model on the test dataset\n",
        "\n",
        "\n"
      ]
    },
    {
      "cell_type": "code",
      "execution_count": null,
      "metadata": {
        "id": "zsl9bnZ9Rm-r",
        "colab": {
          "base_uri": "https://localhost:8080/"
        },
        "outputId": "57851154-1d67-403e-8715-a89078fae34d"
      },
      "outputs": [
        {
          "output_type": "stream",
          "name": "stdout",
          "text": [
            "=========================================================================================\n",
            "| End of training | test loss  5.60 | test ppl   269.50\n",
            "=========================================================================================\n"
          ]
        }
      ],
      "source": [
        "test_loss = evaluate(best_model, test_data)\n",
        "test_ppl = math.exp(test_loss)\n",
        "print('=' * 89)\n",
        "print(f'| End of training | test loss {test_loss:5.2f} | '\n",
        "      f'test ppl {test_ppl:8.2f}')\n",
        "print('=' * 89)"
      ]
    },
    {
      "cell_type": "code",
      "source": [
        "# Q6. Try changing some hyperparameters, e.g. nhead=4, nlayers=3, epochs=4 (one change at a time)\n",
        "# Reflect on the performance of this model.\n"
      ],
      "metadata": {
        "id": "u2lxZITAXAlz"
      },
      "execution_count": null,
      "outputs": []
    }
  ]
}