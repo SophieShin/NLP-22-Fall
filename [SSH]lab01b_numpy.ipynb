{
  "nbformat": 4,
  "nbformat_minor": 0,
  "metadata": {
    "colab": {
      "provenance": [],
      "collapsed_sections": [],
      "include_colab_link": true
    },
    "kernelspec": {
      "name": "python3",
      "display_name": "Python 3"
    }
  },
  "cells": [
    {
      "cell_type": "markdown",
      "metadata": {
        "id": "view-in-github",
        "colab_type": "text"
      },
      "source": [
        "<a href=\"https://colab.research.google.com/github/SophieShin/NLP-22-Fall/blob/main/%5BSSH%5Dlab01b_numpy.ipynb\" target=\"_parent\"><img src=\"https://colab.research.google.com/assets/colab-badge.svg\" alt=\"Open In Colab\"/></a>"
      ]
    },
    {
      "cell_type": "markdown",
      "metadata": {
        "id": "jcURIk_sSCcS"
      },
      "source": [
        "\n",
        "# Lab 2 – NumPy \n",
        "---\n",
        "\n",
        "NumPy is a library in Python for processing multi-dimensional arrays, along with a large collection of high-level mathematical functions to operate on these arrays.\n",
        "\n"
      ]
    },
    {
      "cell_type": "code",
      "metadata": {
        "id": "J9vVTEUuSlBI",
        "colab": {
          "base_uri": "https://localhost:8080/"
        },
        "outputId": "07e09446-3517-41be-91cf-37df4375ab9a"
      },
      "source": [
        "import numpy as np\n",
        "\n",
        "print(\"Numpy:\", np.__version__)"
      ],
      "execution_count": 1,
      "outputs": [
        {
          "output_type": "stream",
          "name": "stdout",
          "text": [
            "Numpy: 1.21.6\n"
          ]
        }
      ]
    },
    {
      "cell_type": "markdown",
      "metadata": {
        "id": "ecFnw2LJWsz8"
      },
      "source": [
        "### Array creation\n",
        "\n",
        "Create a simple scalar as an np array\n"
      ]
    },
    {
      "cell_type": "code",
      "metadata": {
        "id": "3vnxUr2ub04C",
        "colab": {
          "base_uri": "https://localhost:8080/"
        },
        "outputId": "30b3203b-18fd-4deb-9c6c-bac9b44f9726"
      },
      "source": [
        "a = np.array(5)\n",
        "print(a)\n",
        "print(a.ndim)"
      ],
      "execution_count": 2,
      "outputs": [
        {
          "output_type": "stream",
          "name": "stdout",
          "text": [
            "5\n",
            "0\n"
          ]
        }
      ]
    },
    {
      "cell_type": "markdown",
      "metadata": {
        "id": "ew_pXsrDb9bg"
      },
      "source": [
        "Create a simple 1-D array\n"
      ]
    },
    {
      "cell_type": "code",
      "metadata": {
        "id": "8E0ENWYO4nWR",
        "colab": {
          "base_uri": "https://localhost:8080/"
        },
        "outputId": "27ab5619-4297-45a5-d411-6b71b89b85a3"
      },
      "source": [
        "a = np.array([0,1,2])\n",
        "print(a.ndim)\n",
        "print(a.size)"
      ],
      "execution_count": 3,
      "outputs": [
        {
          "output_type": "stream",
          "name": "stdout",
          "text": [
            "1\n",
            "3\n"
          ]
        }
      ]
    },
    {
      "cell_type": "markdown",
      "metadata": {
        "id": "YVACLQIOXiec"
      },
      "source": [
        "Create a 1-D array with zeros in it\n",
        "\n",
        "Check array properties"
      ]
    },
    {
      "cell_type": "code",
      "metadata": {
        "id": "DiG7e7rCXlYt",
        "colab": {
          "base_uri": "https://localhost:8080/"
        },
        "outputId": "117abccd-5845-4fce-dd18-b2c61e3fecec"
      },
      "source": [
        "a = np.zeros(3)\n",
        "print(a)\n",
        "\n",
        "# print array type\n",
        "print(type(a))\n",
        "# print array's first element\n",
        "print(a[0])\n",
        "# print type of array's first element\n",
        "print(type(a[0]))\n",
        "# print number of dimensions of array\n",
        "print(a.ndim)\n",
        "# print size of array\n",
        "print(a.size)\n",
        "# print array data type\n",
        "print(a.dtype)"
      ],
      "execution_count": 4,
      "outputs": [
        {
          "output_type": "stream",
          "name": "stdout",
          "text": [
            "[0. 0. 0.]\n",
            "<class 'numpy.ndarray'>\n",
            "0.0\n",
            "<class 'numpy.float64'>\n",
            "1\n",
            "3\n",
            "float64\n"
          ]
        }
      ]
    },
    {
      "cell_type": "markdown",
      "metadata": {
        "id": "asq-tBXz5IPO"
      },
      "source": [
        "Specifying array data type"
      ]
    },
    {
      "cell_type": "code",
      "metadata": {
        "id": "PSXfp4j45Ik2",
        "colab": {
          "base_uri": "https://localhost:8080/"
        },
        "outputId": "08965181-b6eb-4846-f0c0-bd2e6c300ac9"
      },
      "source": [
        "a = np.array([1,2,3], dtype='int32')\n",
        "print(a)\n",
        "print(a.dtype)"
      ],
      "execution_count": 5,
      "outputs": [
        {
          "output_type": "stream",
          "name": "stdout",
          "text": [
            "[1 2 3]\n",
            "int32\n"
          ]
        }
      ]
    },
    {
      "cell_type": "markdown",
      "metadata": {
        "id": "SsQZjix_VgPZ"
      },
      "source": [
        "Create an array with 1's in it"
      ]
    },
    {
      "cell_type": "code",
      "metadata": {
        "id": "PaTrpDwUVrbN",
        "colab": {
          "base_uri": "https://localhost:8080/"
        },
        "outputId": "517fc739-a4ff-4200-8a08-a232344956e6"
      },
      "source": [
        "z = np.ones(10)\n",
        "z"
      ],
      "execution_count": 6,
      "outputs": [
        {
          "output_type": "execute_result",
          "data": {
            "text/plain": [
              "array([1., 1., 1., 1., 1., 1., 1., 1., 1., 1.])"
            ]
          },
          "metadata": {},
          "execution_count": 6
        }
      ]
    },
    {
      "cell_type": "markdown",
      "metadata": {
        "id": "AcNFM_otaWgY"
      },
      "source": [
        "Specying 2-D array data type\n"
      ]
    },
    {
      "cell_type": "code",
      "metadata": {
        "id": "kWdgoZpiaTBX",
        "colab": {
          "base_uri": "https://localhost:8080/"
        },
        "outputId": "1b23064e-f6ad-429c-e74e-5f4c5fb92ef9"
      },
      "source": [
        "z = np.ones((2,4), dtype=int) # Default dtype is numpy.float64\n",
        "print(z)\n",
        "print(z.dtype)"
      ],
      "execution_count": 7,
      "outputs": [
        {
          "output_type": "stream",
          "name": "stdout",
          "text": [
            "[[1 1 1 1]\n",
            " [1 1 1 1]]\n",
            "int64\n"
          ]
        }
      ]
    },
    {
      "cell_type": "markdown",
      "metadata": {
        "id": "-m-cnwei6tZ8"
      },
      "source": [
        "Fill array with a number"
      ]
    },
    {
      "cell_type": "code",
      "metadata": {
        "id": "mDhrnjw06rii",
        "colab": {
          "base_uri": "https://localhost:8080/"
        },
        "outputId": "b6567910-d832-4c6e-a767-c139f25d6dda"
      },
      "source": [
        "np.full((3,4), 13)"
      ],
      "execution_count": 8,
      "outputs": [
        {
          "output_type": "execute_result",
          "data": {
            "text/plain": [
              "array([[13, 13, 13, 13],\n",
              "       [13, 13, 13, 13],\n",
              "       [13, 13, 13, 13]])"
            ]
          },
          "metadata": {},
          "execution_count": 8
        }
      ]
    },
    {
      "cell_type": "markdown",
      "metadata": {
        "id": "gXItqN5Q1BpB"
      },
      "source": [
        "### Identity matrix"
      ]
    },
    {
      "cell_type": "code",
      "metadata": {
        "id": "v_JA88wV1D4e",
        "colab": {
          "base_uri": "https://localhost:8080/"
        },
        "outputId": "ad76c49f-28e2-4ec4-c95d-f396994ac0af"
      },
      "source": [
        "np.identity(3)"
      ],
      "execution_count": 9,
      "outputs": [
        {
          "output_type": "execute_result",
          "data": {
            "text/plain": [
              "array([[1., 0., 0.],\n",
              "       [0., 1., 0.],\n",
              "       [0., 0., 1.]])"
            ]
          },
          "metadata": {},
          "execution_count": 9
        }
      ]
    },
    {
      "cell_type": "code",
      "metadata": {
        "id": "QSWC6a0InKSQ",
        "colab": {
          "base_uri": "https://localhost:8080/"
        },
        "outputId": "4b1a6e8e-7691-483e-8f57-95c06588108d"
      },
      "source": [
        "np.eye(2)"
      ],
      "execution_count": 10,
      "outputs": [
        {
          "output_type": "execute_result",
          "data": {
            "text/plain": [
              "array([[1., 0.],\n",
              "       [0., 1.]])"
            ]
          },
          "metadata": {},
          "execution_count": 10
        }
      ]
    },
    {
      "cell_type": "markdown",
      "metadata": {
        "id": "j_AZQmf6Vb8F"
      },
      "source": [
        "## Array Shape\n",
        "\n",
        "The shape of an array is the number of elements in each dimension."
      ]
    },
    {
      "cell_type": "code",
      "metadata": {
        "id": "rq_kLhOr_QqD",
        "colab": {
          "base_uri": "https://localhost:8080/"
        },
        "outputId": "272e0cba-e5a5-4222-e54f-3a2792a940a7"
      },
      "source": [
        "a = np.array([0,1,2])\n",
        "print(a.shape)"
      ],
      "execution_count": 11,
      "outputs": [
        {
          "output_type": "stream",
          "name": "stdout",
          "text": [
            "(3,)\n"
          ]
        }
      ]
    },
    {
      "cell_type": "markdown",
      "metadata": {
        "id": "K7xdTpnEcZT8"
      },
      "source": [
        "Array rank is the number of dimensions"
      ]
    },
    {
      "cell_type": "code",
      "metadata": {
        "id": "33nt1d-0cf18",
        "colab": {
          "base_uri": "https://localhost:8080/"
        },
        "outputId": "a8410ecc-21c9-4149-fe93-9fcf2d459e73"
      },
      "source": [
        "print(a.ndim)"
      ],
      "execution_count": 12,
      "outputs": [
        {
          "output_type": "stream",
          "name": "stdout",
          "text": [
            "1\n"
          ]
        }
      ]
    },
    {
      "cell_type": "markdown",
      "metadata": {
        "id": "7HULnFqdcAgh"
      },
      "source": [
        "### Reshape\n",
        "By reshaping we can add or remove dimensions or change number of elements in each dimension."
      ]
    },
    {
      "cell_type": "code",
      "metadata": {
        "id": "0D3JwF-ZcGqb",
        "colab": {
          "base_uri": "https://localhost:8080/"
        },
        "outputId": "d7675a47-be4e-4bd3-8792-364e757846f0"
      },
      "source": [
        "a.shape = (3,1)\n",
        "print(a)"
      ],
      "execution_count": 13,
      "outputs": [
        {
          "output_type": "stream",
          "name": "stdout",
          "text": [
            "[[0]\n",
            " [1]\n",
            " [2]]\n"
          ]
        }
      ]
    },
    {
      "cell_type": "markdown",
      "metadata": {
        "id": "uDXJFqVfwYWT"
      },
      "source": [
        "Reshape from 1-D to 2-D"
      ]
    },
    {
      "cell_type": "code",
      "metadata": {
        "id": "VLXuw6eowcYt",
        "colab": {
          "base_uri": "https://localhost:8080/"
        },
        "outputId": "3e42dfec-10e5-4bfd-e8eb-c1690daa3d22"
      },
      "source": [
        "b = np.array([1, 2, 3, 4, 5, 6, 7, 8, 9, 10, 11, 12])\n",
        "print(b.ndim)\n",
        "print(b.shape)\n",
        "c = b.reshape(4, 3)\n",
        "print(c)\n",
        "print(c.ndim)\n",
        "print(c.shape)"
      ],
      "execution_count": 14,
      "outputs": [
        {
          "output_type": "stream",
          "name": "stdout",
          "text": [
            "1\n",
            "(12,)\n",
            "[[ 1  2  3]\n",
            " [ 4  5  6]\n",
            " [ 7  8  9]\n",
            " [10 11 12]]\n",
            "2\n",
            "(4, 3)\n"
          ]
        }
      ]
    },
    {
      "cell_type": "markdown",
      "metadata": {
        "id": "w2ELbWecw4Oh"
      },
      "source": [
        "Reshape to 3-D\n",
        "- Arrays can be reshaped to any dimensions as long as the number of elements match\n"
      ]
    },
    {
      "cell_type": "code",
      "metadata": {
        "id": "tLdV3i8nw2kH",
        "colab": {
          "base_uri": "https://localhost:8080/"
        },
        "outputId": "94bb7a25-0e01-4728-9a07-9b98b5880d55"
      },
      "source": [
        "d = c.reshape(2,3,2)\n",
        "print(d)\n",
        "d.shape"
      ],
      "execution_count": 15,
      "outputs": [
        {
          "output_type": "stream",
          "name": "stdout",
          "text": [
            "[[[ 1  2]\n",
            "  [ 3  4]\n",
            "  [ 5  6]]\n",
            "\n",
            " [[ 7  8]\n",
            "  [ 9 10]\n",
            "  [11 12]]]\n"
          ]
        },
        {
          "output_type": "execute_result",
          "data": {
            "text/plain": [
              "(2, 3, 2)"
            ]
          },
          "metadata": {},
          "execution_count": 15
        }
      ]
    },
    {
      "cell_type": "markdown",
      "metadata": {
        "id": "bs9n1emSxb-v"
      },
      "source": [
        "Unknown dimension\n",
        "\n",
        "- You are allowed to have ONE \"unknown\" dimension *only*.\n",
        "- Specify -1 for this, NumPy will calculate this number automatically."
      ]
    },
    {
      "cell_type": "code",
      "metadata": {
        "id": "je1kWJ9txxud",
        "colab": {
          "base_uri": "https://localhost:8080/"
        },
        "outputId": "88a3e01d-0ead-4189-bc0b-ef78dd379357"
      },
      "source": [
        "e = c.reshape(1,2,-1)\n",
        "print(e)\n",
        "print(e.shape)"
      ],
      "execution_count": 16,
      "outputs": [
        {
          "output_type": "stream",
          "name": "stdout",
          "text": [
            "[[[ 1  2  3  4  5  6]\n",
            "  [ 7  8  9 10 11 12]]]\n",
            "(1, 2, 6)\n"
          ]
        }
      ]
    },
    {
      "cell_type": "markdown",
      "metadata": {
        "id": "XwZ-poKdHlHH"
      },
      "source": [
        "Reshape back to 1-D"
      ]
    },
    {
      "cell_type": "code",
      "metadata": {
        "id": "pbxdmNB-Gz0c",
        "colab": {
          "base_uri": "https://localhost:8080/"
        },
        "outputId": "debe446a-4949-40ce-a833-4ee881821a22"
      },
      "source": [
        "e = e.reshape(12)\n",
        "print(e)\n",
        "print(e.shape)"
      ],
      "execution_count": 17,
      "outputs": [
        {
          "output_type": "stream",
          "name": "stdout",
          "text": [
            "[ 1  2  3  4  5  6  7  8  9 10 11 12]\n",
            "(12,)\n"
          ]
        }
      ]
    },
    {
      "cell_type": "markdown",
      "metadata": {
        "id": "PsawhjpcfJTw"
      },
      "source": [
        "## Evenly spaced numbers over a specified number of elements or interval\n",
        "- ``linspace()``\n",
        "- ``arange()``\n"
      ]
    },
    {
      "cell_type": "code",
      "metadata": {
        "id": "u_DoTZXLakCN"
      },
      "source": [
        "z = np.linspace(2, 10, 5) # from 2 to 10 with 5 elements"
      ],
      "execution_count": 18,
      "outputs": []
    },
    {
      "cell_type": "code",
      "metadata": {
        "colab": {
          "base_uri": "https://localhost:8080/"
        },
        "id": "gMVbPVCGfSjc",
        "outputId": "303fb3de-d21a-4b76-eadd-74ad3cfd1bc0"
      },
      "source": [
        "z = np.arange(0, 10, step=5) # from 0 to 9 with step size 5\n",
        "z"
      ],
      "execution_count": 19,
      "outputs": [
        {
          "output_type": "execute_result",
          "data": {
            "text/plain": [
              "array([0, 5])"
            ]
          },
          "metadata": {},
          "execution_count": 19
        }
      ]
    },
    {
      "cell_type": "code",
      "metadata": {
        "id": "VeXvv-V5nfaS",
        "colab": {
          "base_uri": "https://localhost:8080/"
        },
        "outputId": "a262695d-8747-4383-cf0d-9ce736369882"
      },
      "source": [
        "z = np.arange(10)\n",
        "z"
      ],
      "execution_count": 20,
      "outputs": [
        {
          "output_type": "execute_result",
          "data": {
            "text/plain": [
              "array([0, 1, 2, 3, 4, 5, 6, 7, 8, 9])"
            ]
          },
          "metadata": {},
          "execution_count": 20
        }
      ]
    },
    {
      "cell_type": "markdown",
      "metadata": {
        "id": "G5eaJ4L0fL-z"
      },
      "source": [
        "\n",
        "# NumPy Arrays vs Lists\n",
        "\n",
        "*   Faster to read because it uses less bytes of memory via fixed type (e.g. Int32)\n",
        "*   No type checking when iterating through objects\n",
        "*   Utilises contiguous memory\n",
        "*   Element wise operations possible\n"
      ]
    },
    {
      "cell_type": "code",
      "metadata": {
        "id": "1rWmKx3pfOMk",
        "colab": {
          "base_uri": "https://localhost:8080/"
        },
        "outputId": "e9f94332-a425-45a9-c81f-d724ca05e3bd"
      },
      "source": [
        "# Create array from list\n",
        "a = np.array([1,3,7])\n",
        "print(a)\n",
        "type(a)"
      ],
      "execution_count": 21,
      "outputs": [
        {
          "output_type": "stream",
          "name": "stdout",
          "text": [
            "[1 3 7]\n"
          ]
        },
        {
          "output_type": "execute_result",
          "data": {
            "text/plain": [
              "numpy.ndarray"
            ]
          },
          "metadata": {},
          "execution_count": 21
        }
      ]
    },
    {
      "cell_type": "markdown",
      "metadata": {
        "id": "nu0N35W5qboD"
      },
      "source": [
        "Convert array to list"
      ]
    },
    {
      "cell_type": "code",
      "metadata": {
        "id": "Lscgyp-sqdlL",
        "colab": {
          "base_uri": "https://localhost:8080/"
        },
        "outputId": "a628c080-e506-448a-d594-800f28822c12"
      },
      "source": [
        "alist = np.ones(5).tolist()\n",
        "print(alist)\n",
        "type(alist)"
      ],
      "execution_count": 22,
      "outputs": [
        {
          "output_type": "stream",
          "name": "stdout",
          "text": [
            "[1.0, 1.0, 1.0, 1.0, 1.0]\n"
          ]
        },
        {
          "output_type": "execute_result",
          "data": {
            "text/plain": [
              "list"
            ]
          },
          "metadata": {},
          "execution_count": 22
        }
      ]
    },
    {
      "cell_type": "markdown",
      "metadata": {
        "id": "lr-Kr8LwfmvH"
      },
      "source": [
        "## 2-D arrays"
      ]
    },
    {
      "cell_type": "code",
      "metadata": {
        "id": "fcz1zXhefo71",
        "colab": {
          "base_uri": "https://localhost:8080/"
        },
        "outputId": "17db6f0a-de62-4d6e-be2f-45a8b632391b"
      },
      "source": [
        "alist = [[1,2,3,4], [8,7,6,5]]\n",
        "z = np.array(alist)\n",
        "print(z)\n",
        "print(z.shape)"
      ],
      "execution_count": 23,
      "outputs": [
        {
          "output_type": "stream",
          "name": "stdout",
          "text": [
            "[[1 2 3 4]\n",
            " [8 7 6 5]]\n",
            "(2, 4)\n"
          ]
        }
      ]
    },
    {
      "cell_type": "code",
      "metadata": {
        "id": "8ngPOoekgTYs",
        "colab": {
          "base_uri": "https://localhost:8080/"
        },
        "outputId": "f64bf3cb-92ed-4fc7-95e5-9ebd1ab29f04"
      },
      "source": [
        "blist = [[1,2,3,4], [8,7,6,5]]\n",
        "z = np.array([blist])\n",
        "print(z)\n",
        "print(z.shape)"
      ],
      "execution_count": 24,
      "outputs": [
        {
          "output_type": "stream",
          "name": "stdout",
          "text": [
            "[[[1 2 3 4]\n",
            "  [8 7 6 5]]]\n",
            "(1, 2, 4)\n"
          ]
        }
      ]
    },
    {
      "cell_type": "markdown",
      "metadata": {
        "id": "Em5Nw9arhCwF"
      },
      "source": [
        "## Random Array\n",
        "\n",
        "Create a random integer array specifying range and size"
      ]
    },
    {
      "cell_type": "code",
      "metadata": {
        "id": "zQdGQDg-Fzsw",
        "colab": {
          "base_uri": "https://localhost:8080/"
        },
        "outputId": "20f7e4b8-a64a-4ccd-80ed-821cb39ea974"
      },
      "source": [
        "# random integers start, end exclusive, shape\n",
        "np.random.randint(4,9,size=(3,4))"
      ],
      "execution_count": 25,
      "outputs": [
        {
          "output_type": "execute_result",
          "data": {
            "text/plain": [
              "array([[6, 7, 5, 4],\n",
              "       [4, 8, 7, 6],\n",
              "       [8, 4, 6, 6]])"
            ]
          },
          "metadata": {},
          "execution_count": 25
        }
      ]
    },
    {
      "cell_type": "markdown",
      "metadata": {
        "id": "qaHcD1N8E_mW"
      },
      "source": [
        "Create an array with 10 random numbers between 0 and 1"
      ]
    },
    {
      "cell_type": "code",
      "metadata": {
        "id": "M_4UhUmPujho",
        "colab": {
          "base_uri": "https://localhost:8080/"
        },
        "outputId": "332d4c90-64cb-4531-e927-56f7b3411f7b"
      },
      "source": [
        "np.random.random(10)"
      ],
      "execution_count": 26,
      "outputs": [
        {
          "output_type": "execute_result",
          "data": {
            "text/plain": [
              "array([0.70314695, 0.90324677, 0.8448676 , 0.18955719, 0.6969723 ,\n",
              "       0.81037988, 0.02982692, 0.8626713 , 0.32869817, 0.16791093])"
            ]
          },
          "metadata": {},
          "execution_count": 26
        }
      ]
    },
    {
      "cell_type": "markdown",
      "metadata": {
        "id": "daIq4T4JuzpO"
      },
      "source": [
        "Use ``seed()`` for reproducibility"
      ]
    },
    {
      "cell_type": "code",
      "metadata": {
        "id": "Zxy_M4OZhEWU",
        "colab": {
          "base_uri": "https://localhost:8080/"
        },
        "outputId": "3e60a1b8-dac5-433b-9149-d8894112a846"
      },
      "source": [
        "# Seed allows the random values generated will be the same every time the code is run\n",
        "np.random.seed(0) # change 0 to any other integer value (e.g. 10) and see the effects\n",
        "z1 = np.random.randint(10, size=6) # generate an array with 6 integers between 0 and 9\n",
        "z1"
      ],
      "execution_count": 27,
      "outputs": [
        {
          "output_type": "execute_result",
          "data": {
            "text/plain": [
              "array([5, 0, 3, 3, 7, 9])"
            ]
          },
          "metadata": {},
          "execution_count": 27
        }
      ]
    },
    {
      "cell_type": "markdown",
      "metadata": {
        "id": "uRWWdwq8wjjo"
      },
      "source": [
        "## Basic operations"
      ]
    },
    {
      "cell_type": "code",
      "metadata": {
        "id": "HSd3L_JsFUzh",
        "colab": {
          "base_uri": "https://localhost:8080/"
        },
        "outputId": "84f8e02d-41e2-48db-a8a7-639452549bcd"
      },
      "source": [
        "z = np.array([1,2,3,8,9])\n",
        "print(z<3)\n",
        "z[z>3]"
      ],
      "execution_count": 28,
      "outputs": [
        {
          "output_type": "stream",
          "name": "stdout",
          "text": [
            "[ True  True False False False]\n"
          ]
        },
        {
          "output_type": "execute_result",
          "data": {
            "text/plain": [
              "array([8, 9])"
            ]
          },
          "metadata": {},
          "execution_count": 28
        }
      ]
    },
    {
      "cell_type": "code",
      "metadata": {
        "id": "whvr3FlZGVpP",
        "colab": {
          "base_uri": "https://localhost:8080/"
        },
        "outputId": "2170f1b6-ce3a-44f1-9d60-c7627d30e947"
      },
      "source": [
        "a = np.array([1,2,3,4,5])\n",
        "b = np.array([6,7,8,9,10])\n",
        "print(a+b)\n",
        "print(a-b)\n",
        "print(a*b)\n",
        "print(a/b)\n",
        "print(a * 10)"
      ],
      "execution_count": 29,
      "outputs": [
        {
          "output_type": "stream",
          "name": "stdout",
          "text": [
            "[ 7  9 11 13 15]\n",
            "[-5 -5 -5 -5 -5]\n",
            "[ 6 14 24 36 50]\n",
            "[0.16666667 0.28571429 0.375      0.44444444 0.5       ]\n",
            "[10 20 30 40 50]\n"
          ]
        }
      ]
    },
    {
      "cell_type": "markdown",
      "source": [
        "## Applying identical scalar to every element in matrix"
      ],
      "metadata": {
        "id": "F9pjCRZEuxD0"
      }
    },
    {
      "cell_type": "code",
      "source": [
        "import numpy as np\n",
        "mat = np.zeros((2,2))\n",
        "scalar = 3\n",
        "print(np.add(mat,scalar))\n",
        "print(np.subtract(mat, scalar))"
      ],
      "metadata": {
        "id": "fcWwO4Hruko6",
        "colab": {
          "base_uri": "https://localhost:8080/"
        },
        "outputId": "d8b550c4-4d13-409c-9592-b85b9fd42c03"
      },
      "execution_count": 30,
      "outputs": [
        {
          "output_type": "stream",
          "name": "stdout",
          "text": [
            "[[3. 3.]\n",
            " [3. 3.]]\n",
            "[[-3. -3.]\n",
            " [-3. -3.]]\n"
          ]
        }
      ]
    },
    {
      "cell_type": "markdown",
      "metadata": {
        "id": "e2RzzZldGkVO"
      },
      "source": [
        "## Dot product"
      ]
    },
    {
      "cell_type": "code",
      "metadata": {
        "id": "Nu7p59sdGmiu",
        "colab": {
          "base_uri": "https://localhost:8080/"
        },
        "outputId": "44bb9bd4-2c1e-43f8-e86b-6fe855f49cce"
      },
      "source": [
        "a @ b"
      ],
      "execution_count": 31,
      "outputs": [
        {
          "output_type": "execute_result",
          "data": {
            "text/plain": [
              "130"
            ]
          },
          "metadata": {},
          "execution_count": 31
        }
      ]
    },
    {
      "cell_type": "markdown",
      "metadata": {
        "id": "R3A5qQmVG01b"
      },
      "source": [
        "## Transpose\n",
        "\n",
        "Swap the rows and columns of an array"
      ]
    },
    {
      "cell_type": "code",
      "metadata": {
        "id": "1___Z3ykG2se",
        "colab": {
          "base_uri": "https://localhost:8080/"
        },
        "outputId": "d7f48b3a-6205-45ed-8ba4-c27d8a9ba136"
      },
      "source": [
        "c = np.array([[1,2,3], [4,5,6]])\n",
        "c.T"
      ],
      "execution_count": 32,
      "outputs": [
        {
          "output_type": "execute_result",
          "data": {
            "text/plain": [
              "array([[1, 4],\n",
              "       [2, 5],\n",
              "       [3, 6]])"
            ]
          },
          "metadata": {},
          "execution_count": 32
        }
      ]
    },
    {
      "cell_type": "markdown",
      "metadata": {
        "id": "zJXAJSAcpGic"
      },
      "source": [
        "## Indexing & Slicing\n",
        "\n",
        "- Remember indexes start at 0\n",
        "- Accessing specific elements"
      ]
    },
    {
      "cell_type": "code",
      "metadata": {
        "id": "8h0ErrfMD1F5",
        "colab": {
          "base_uri": "https://localhost:8080/"
        },
        "outputId": "740035a4-b1a7-44db-8115-f953fcde4c5d"
      },
      "source": [
        "c = np.array([[1,2,3,4,5,6,7], [8,9,10,11,12,13,14]])\n",
        "\n",
        "# Index starts at 0\n",
        "print(c[0,0])\n",
        "print(c[1,2]) # row 1 (2nd row) , column 2 (3rd column)"
      ],
      "execution_count": 33,
      "outputs": [
        {
          "output_type": "stream",
          "name": "stdout",
          "text": [
            "1\n",
            "10\n"
          ]
        }
      ]
    },
    {
      "cell_type": "markdown",
      "metadata": {
        "id": "8AoJeja0pIsI"
      },
      "source": [
        "## Slicing\n",
        "- ``a[start:stop]``  # items ``start`` through ``stop-1``\n",
        "- ``a[start:]``      # items ``start`` through the rest of the array\n",
        "- ``a[:stop]``       # items from the beginning through ``stop-1``\n",
        "- ``a[:]``           # a copy of the whole array\n"
      ]
    },
    {
      "cell_type": "code",
      "metadata": {
        "id": "7AQMsfUwpK__",
        "colab": {
          "base_uri": "https://localhost:8080/"
        },
        "outputId": "6dbf048f-cb84-4f37-851a-9d1a6fe96913"
      },
      "source": [
        "# Get specific row/column\n",
        "print(c[0, : ]) # get row 0\n",
        "print(c[ : ,2]) # get column 2\n",
        "print(c.shape)"
      ],
      "execution_count": 34,
      "outputs": [
        {
          "output_type": "stream",
          "name": "stdout",
          "text": [
            "[1 2 3 4 5 6 7]\n",
            "[ 3 10]\n",
            "(2, 7)\n"
          ]
        }
      ]
    },
    {
      "cell_type": "markdown",
      "metadata": {
        "id": "-oYuY6sLqX_1"
      },
      "source": [
        "### Indexing from the back\n",
        "- ``a[-1]``    # last item in the array\n",
        "- ``a[-2:]``   # last two items in the array\n",
        "- ``a[:-2]``   # everything except the last two items\n",
        "- Backward indexing starts from -1"
      ]
    },
    {
      "cell_type": "code",
      "metadata": {
        "id": "WRl5THxmoNgv",
        "colab": {
          "base_uri": "https://localhost:8080/"
        },
        "outputId": "b1ff686e-7036-4d7e-aab9-75ebae42a1ff"
      },
      "source": [
        "b = np.array([[9.0, 8.0, 7.0, 6.0], [5.0, 4.0, 3.0, 2.0]])\n",
        "print(b[1,-2]) # starting indexing backwards (second element from the back)"
      ],
      "execution_count": 35,
      "outputs": [
        {
          "output_type": "stream",
          "name": "stdout",
          "text": [
            "3.0\n"
          ]
        }
      ]
    },
    {
      "cell_type": "markdown",
      "metadata": {
        "id": "lEK7NC9rqLlp"
      },
      "source": [
        "### Including step\n",
        "- ``a[start:stop:step]`` # ``start`` through not past ``stop``, by ``step``"
      ]
    },
    {
      "cell_type": "code",
      "metadata": {
        "id": "jk9Aa_vRqNFM",
        "colab": {
          "base_uri": "https://localhost:8080/"
        },
        "outputId": "e9fa9016-84b0-42b2-b4be-56b59451924f"
      },
      "source": [
        "print(c[0,1:6:2])\n",
        "print(c[1,1:-1:2])"
      ],
      "execution_count": 36,
      "outputs": [
        {
          "output_type": "stream",
          "name": "stdout",
          "text": [
            "[2 4 6]\n",
            "[ 9 11 13]\n"
          ]
        }
      ]
    },
    {
      "cell_type": "markdown",
      "metadata": {
        "id": "cvoJ_RAErFn6"
      },
      "source": [
        "### Changing elements\n",
        "\n",
        "> Indented block\n",
        "\n"
      ]
    },
    {
      "cell_type": "code",
      "metadata": {
        "id": "AjPxXrqjrH08",
        "colab": {
          "base_uri": "https://localhost:8080/"
        },
        "outputId": "89da3f79-a43f-4f6f-f4df-e9a58df36451"
      },
      "source": [
        "c[1,5] = 20\n",
        "print(c)\n",
        "\n",
        "c[:, 2] = [17,19]\n",
        "print(c)"
      ],
      "execution_count": 37,
      "outputs": [
        {
          "output_type": "stream",
          "name": "stdout",
          "text": [
            "[[ 1  2  3  4  5  6  7]\n",
            " [ 8  9 10 11 12 20 14]]\n",
            "[[ 1  2 17  4  5  6  7]\n",
            " [ 8  9 19 11 12 20 14]]\n"
          ]
        }
      ]
    },
    {
      "cell_type": "markdown",
      "metadata": {
        "id": "FiOC3cPWsdh7"
      },
      "source": [
        "### Indexing 3-D arrays"
      ]
    },
    {
      "cell_type": "code",
      "metadata": {
        "id": "ClCG-Da8shbV",
        "colab": {
          "base_uri": "https://localhost:8080/"
        },
        "outputId": "ce65baf2-6a3a-490e-a1a2-80bdd8a91d55"
      },
      "source": [
        "d = np.array([[[1,2],[3,4]], [[5,6],[7,8]]])\n",
        "print(d)\n",
        "print(d.shape)"
      ],
      "execution_count": 38,
      "outputs": [
        {
          "output_type": "stream",
          "name": "stdout",
          "text": [
            "[[[1 2]\n",
            "  [3 4]]\n",
            "\n",
            " [[5 6]\n",
            "  [7 8]]]\n",
            "(2, 2, 2)\n"
          ]
        }
      ]
    },
    {
      "cell_type": "code",
      "metadata": {
        "id": "9DBbb_LrtZoD",
        "colab": {
          "base_uri": "https://localhost:8080/"
        },
        "outputId": "1766444e-895f-404c-846b-430f5da5dfda"
      },
      "source": [
        "# Get specific element\n",
        "print(d[0,1,1])\n",
        "\n",
        "# All x, some y , all z\n",
        "print(d[:,1,:])"
      ],
      "execution_count": 39,
      "outputs": [
        {
          "output_type": "stream",
          "name": "stdout",
          "text": [
            "4\n",
            "[[3 4]\n",
            " [7 8]]\n"
          ]
        }
      ]
    },
    {
      "cell_type": "code",
      "metadata": {
        "id": "c34iZ31luY3B",
        "colab": {
          "base_uri": "https://localhost:8080/"
        },
        "outputId": "5398fa87-3a3f-4ee9-98b4-999003ee246d"
      },
      "source": [
        "# Replace\n",
        "d[:,1,:] = [[9,9], [8,8]]\n",
        "d"
      ],
      "execution_count": 40,
      "outputs": [
        {
          "output_type": "execute_result",
          "data": {
            "text/plain": [
              "array([[[1, 2],\n",
              "        [9, 9]],\n",
              "\n",
              "       [[5, 6],\n",
              "        [8, 8]]])"
            ]
          },
          "metadata": {},
          "execution_count": 40
        }
      ]
    },
    {
      "cell_type": "markdown",
      "metadata": {
        "id": "tiEWpX69GvFX"
      },
      "source": [
        "## Repeat array"
      ]
    },
    {
      "cell_type": "code",
      "metadata": {
        "id": "yOVFXLVLGwof",
        "colab": {
          "base_uri": "https://localhost:8080/"
        },
        "outputId": "5091931e-5015-45bf-ced1-da62bbdda0f1"
      },
      "source": [
        "e = np.array([1,2,3])\n",
        "np.repeat(e, 2)"
      ],
      "execution_count": 41,
      "outputs": [
        {
          "output_type": "execute_result",
          "data": {
            "text/plain": [
              "array([1, 1, 2, 2, 3, 3])"
            ]
          },
          "metadata": {},
          "execution_count": 41
        }
      ]
    },
    {
      "cell_type": "code",
      "metadata": {
        "id": "uiZn250aHBaa",
        "colab": {
          "base_uri": "https://localhost:8080/"
        },
        "outputId": "ce6358fa-1891-4ad3-c5c9-d4828f02e3fb"
      },
      "source": [
        "# repeat on an axis\n",
        "e = np.array([[1,2,3]])\n",
        "np.repeat(e, 2, axis=0)"
      ],
      "execution_count": 42,
      "outputs": [
        {
          "output_type": "execute_result",
          "data": {
            "text/plain": [
              "array([[1, 2, 3],\n",
              "       [1, 2, 3]])"
            ]
          },
          "metadata": {},
          "execution_count": 42
        }
      ]
    },
    {
      "cell_type": "code",
      "metadata": {
        "id": "TTtJSIqkbdF4",
        "colab": {
          "base_uri": "https://localhost:8080/"
        },
        "outputId": "b03b6e12-8057-425f-ab66-34c74891976d"
      },
      "source": [
        "f = np.ones((5,5), dtype='int32')\n",
        "f[1:-1, 1:-1] = 0\n",
        "f[2,2] = 9\n",
        "f"
      ],
      "execution_count": 43,
      "outputs": [
        {
          "output_type": "execute_result",
          "data": {
            "text/plain": [
              "array([[1, 1, 1, 1, 1],\n",
              "       [1, 0, 0, 0, 1],\n",
              "       [1, 0, 9, 0, 1],\n",
              "       [1, 0, 0, 0, 1],\n",
              "       [1, 1, 1, 1, 1]], dtype=int32)"
            ]
          },
          "metadata": {},
          "execution_count": 43
        }
      ]
    },
    {
      "cell_type": "markdown",
      "metadata": {
        "id": "F2FhXKBzdBvv"
      },
      "source": [
        "## Making copies using numpy\n"
      ]
    },
    {
      "cell_type": "code",
      "metadata": {
        "id": "beXK4n6edUBV",
        "colab": {
          "base_uri": "https://localhost:8080/"
        },
        "outputId": "18a44920-7113-4b07-c02e-675a15711d54"
      },
      "source": [
        "g = np.array([1,2,3])\n",
        "h = g # point h to g so they share content\n",
        "h[1] = 100\n",
        "print(g)"
      ],
      "execution_count": 44,
      "outputs": [
        {
          "output_type": "stream",
          "name": "stdout",
          "text": [
            "[  1 100   3]\n"
          ]
        }
      ]
    },
    {
      "cell_type": "code",
      "metadata": {
        "id": "SowYr20KdWHX",
        "colab": {
          "base_uri": "https://localhost:8080/"
        },
        "outputId": "69232c75-6dd5-49bb-d670-848e53a47503"
      },
      "source": [
        "g = np.array([1,2,3])\n",
        "h = g.copy() # explicitly make a copy\n",
        "h[1] = 100\n",
        "print(g)"
      ],
      "execution_count": 45,
      "outputs": [
        {
          "output_type": "stream",
          "name": "stdout",
          "text": [
            "[1 2 3]\n"
          ]
        }
      ]
    },
    {
      "cell_type": "markdown",
      "source": [
        "## Making deep copies using copy library"
      ],
      "metadata": {
        "id": "7sbzahejv3jB"
      }
    },
    {
      "cell_type": "code",
      "source": [
        "a = [1,2,3]\n",
        "b = a\n",
        "b[0] = 999\n",
        "print(a)#changed b, but also a is being changed"
      ],
      "metadata": {
        "id": "NlLgK9l7MTmn",
        "colab": {
          "base_uri": "https://localhost:8080/"
        },
        "outputId": "94664c5d-fe15-47a2-a7e9-adc14c11964b"
      },
      "execution_count": 46,
      "outputs": [
        {
          "output_type": "stream",
          "name": "stdout",
          "text": [
            "[999, 2, 3]\n"
          ]
        }
      ]
    },
    {
      "cell_type": "code",
      "source": [
        "import copy\n",
        "a = [1,2,3]\n",
        "b = copy.deepcopy(a)\n",
        "print(a)#changed b, but a is not changed"
      ],
      "metadata": {
        "id": "N8L1JN3mv5uf",
        "colab": {
          "base_uri": "https://localhost:8080/"
        },
        "outputId": "852e1889-8eee-43eb-d6f5-a27ba3e0a30a"
      },
      "execution_count": 47,
      "outputs": [
        {
          "output_type": "stream",
          "name": "stdout",
          "text": [
            "[1, 2, 3]\n"
          ]
        }
      ]
    },
    {
      "cell_type": "markdown",
      "metadata": {
        "id": "pfsr2QJehBs_"
      },
      "source": [
        "# Linear Algebra"
      ]
    },
    {
      "cell_type": "code",
      "metadata": {
        "id": "Y_bIRmo7hPDy",
        "colab": {
          "base_uri": "https://localhost:8080/"
        },
        "outputId": "82cabce3-5eda-4ea9-dd0c-42f63fec069f"
      },
      "source": [
        "a = np.ones((2,3))\n",
        "print(a)\n",
        "\n",
        "b = np.full((3,2),2)\n",
        "print(b)\n",
        "\n",
        "np.matmul(a,b)"
      ],
      "execution_count": 48,
      "outputs": [
        {
          "output_type": "stream",
          "name": "stdout",
          "text": [
            "[[1. 1. 1.]\n",
            " [1. 1. 1.]]\n",
            "[[2 2]\n",
            " [2 2]\n",
            " [2 2]]\n"
          ]
        },
        {
          "output_type": "execute_result",
          "data": {
            "text/plain": [
              "array([[6., 6.],\n",
              "       [6., 6.]])"
            ]
          },
          "metadata": {},
          "execution_count": 48
        }
      ]
    },
    {
      "cell_type": "markdown",
      "source": [
        "## Inverse of a Matrix"
      ],
      "metadata": {
        "id": "a820__4CvaLO"
      }
    },
    {
      "cell_type": "code",
      "source": [
        "mat = np.array([[3,2],[1,4]])\n",
        "np.linalg.inv(mat)"
      ],
      "metadata": {
        "id": "RPuCN66KvYcl",
        "colab": {
          "base_uri": "https://localhost:8080/"
        },
        "outputId": "1267a020-7cb9-485b-c18f-61ef1543e689"
      },
      "execution_count": 49,
      "outputs": [
        {
          "output_type": "execute_result",
          "data": {
            "text/plain": [
              "array([[ 0.4, -0.2],\n",
              "       [-0.1,  0.3]])"
            ]
          },
          "metadata": {},
          "execution_count": 49
        }
      ]
    },
    {
      "cell_type": "markdown",
      "metadata": {
        "id": "xMdgPZ-Eiotc"
      },
      "source": [
        "# Statistics"
      ]
    },
    {
      "cell_type": "code",
      "metadata": {
        "id": "DiJpwzH8itCU",
        "colab": {
          "base_uri": "https://localhost:8080/"
        },
        "outputId": "a4da30fc-f3eb-4b35-ac5c-a16f6a3c9c1f"
      },
      "source": [
        "a = np.array([[1,2,3], [4,5,6]])\n",
        "print(a.sum())   \n",
        "print(a.mean()) \n",
        "print(a.max())   \n",
        "print(a.min())   \n",
        "print(a.argmax())"
      ],
      "execution_count": 50,
      "outputs": [
        {
          "output_type": "stream",
          "name": "stdout",
          "text": [
            "21\n",
            "3.5\n",
            "6\n",
            "1\n",
            "5\n"
          ]
        }
      ]
    },
    {
      "cell_type": "markdown",
      "metadata": {
        "id": "B9I-1Ix2Fot1"
      },
      "source": [
        "Specifying axis\n",
        "- Column: ``axis=0``\n",
        "- Row: ``axis=1``"
      ]
    },
    {
      "cell_type": "code",
      "metadata": {
        "id": "WTjj0oQzFqpe",
        "colab": {
          "base_uri": "https://localhost:8080/"
        },
        "outputId": "cdea8973-b428-40d9-9bf3-8953c6c27b35"
      },
      "source": [
        "print(np.min(a, axis=1)) # smallest values in rows\n",
        "print(np.max(a, axis=0)) # largest values in columns"
      ],
      "execution_count": 51,
      "outputs": [
        {
          "output_type": "stream",
          "name": "stdout",
          "text": [
            "[1 4]\n",
            "[4 5 6]\n"
          ]
        }
      ]
    },
    {
      "cell_type": "markdown",
      "metadata": {
        "id": "q8vq3nCsGZXX"
      },
      "source": [
        "Others – Log and exponential"
      ]
    },
    {
      "cell_type": "code",
      "metadata": {
        "id": "LfrKsLCOGanj",
        "colab": {
          "base_uri": "https://localhost:8080/"
        },
        "outputId": "f521209b-96de-42ad-caee-8e309c89d3a7"
      },
      "source": [
        "print(np.log(a)) \n",
        "print(np.exp(a)) "
      ],
      "execution_count": 52,
      "outputs": [
        {
          "output_type": "stream",
          "name": "stdout",
          "text": [
            "[[0.         0.69314718 1.09861229]\n",
            " [1.38629436 1.60943791 1.79175947]]\n",
            "[[  2.71828183   7.3890561   20.08553692]\n",
            " [ 54.59815003 148.4131591  403.42879349]]\n"
          ]
        }
      ]
    },
    {
      "cell_type": "markdown",
      "metadata": {
        "id": "5UbCvj9SpNe4"
      },
      "source": [
        "## Vertical stacking"
      ]
    },
    {
      "cell_type": "code",
      "metadata": {
        "id": "DBcR69YspPUM",
        "colab": {
          "base_uri": "https://localhost:8080/"
        },
        "outputId": "492c748d-e5bd-4ecd-f890-f32606566b2c"
      },
      "source": [
        "v1 = np.array([1,2,3,4])\n",
        "v2 = np.array([5,6,7,8])\n",
        "\n",
        "np.vstack([v1,v2,v1,v2])"
      ],
      "execution_count": 53,
      "outputs": [
        {
          "output_type": "execute_result",
          "data": {
            "text/plain": [
              "array([[1, 2, 3, 4],\n",
              "       [5, 6, 7, 8],\n",
              "       [1, 2, 3, 4],\n",
              "       [5, 6, 7, 8]])"
            ]
          },
          "metadata": {},
          "execution_count": 53
        }
      ]
    },
    {
      "cell_type": "code",
      "metadata": {
        "colab": {
          "base_uri": "https://localhost:8080/"
        },
        "id": "JaUPFFnTq1oT",
        "outputId": "6b4c112b-1797-402a-f88d-a5c31f070a03"
      },
      "source": [
        "np.hstack([v2,v1,v1])"
      ],
      "execution_count": 54,
      "outputs": [
        {
          "output_type": "execute_result",
          "data": {
            "text/plain": [
              "array([5, 6, 7, 8, 1, 2, 3, 4, 1, 2, 3, 4])"
            ]
          },
          "metadata": {},
          "execution_count": 54
        }
      ]
    },
    {
      "cell_type": "code",
      "metadata": {
        "id": "4tB3b0rJrDbG",
        "colab": {
          "base_uri": "https://localhost:8080/"
        },
        "outputId": "14eb4ee6-b394-4595-c095-c792cd1eacb4"
      },
      "source": [
        "h1 = np.zeros((2,4))\n",
        "h2 = np.ones((2,2))\n",
        "\n",
        "np.hstack((h1,h2))"
      ],
      "execution_count": 55,
      "outputs": [
        {
          "output_type": "execute_result",
          "data": {
            "text/plain": [
              "array([[0., 0., 0., 0., 1., 1.],\n",
              "       [0., 0., 0., 0., 1., 1.]])"
            ]
          },
          "metadata": {},
          "execution_count": 55
        }
      ]
    },
    {
      "cell_type": "markdown",
      "metadata": {
        "id": "mTIwXgT4twBY"
      },
      "source": [
        "## Plotting with Matplotlib\n",
        "- A simple example using post office international parcel charges for two countries"
      ]
    },
    {
      "cell_type": "code",
      "metadata": {
        "id": "fwS6AZmutvTQ",
        "colab": {
          "base_uri": "https://localhost:8080/",
          "height": 279
        },
        "outputId": "1dd00949-bad1-4d98-d1f5-f2adbea9293b"
      },
      "source": [
        "import matplotlib.pyplot as plt\n",
        "import numpy as np\n",
        "\n",
        "# Parcel weights start at 0.5kg to 20.5kgs in half kilo intervals\n",
        "x = np.arange(0.5, 20.5, 0.5)\n",
        "\n",
        "# Country 1 parcel charges\n",
        "c1 = np.array([16.0, 19.0, 21.5, 24.5, 25.0, 27.3, 29.6, 31.9, 34.2, 36.5, 38.8, 41.1, 43.4, 45.7, 48.0, 50.3, 52.6, 54.9, 57.2, 59.5, \n",
        "     61.8, 64.1, 66.4, 68.7, 71.0, 73.3, 75.6, 77.9, 80.2, 82.5, 84.8, 87.1, 89.4, 91.7, 94.0, 96.3, 98.6, 100.9, 103.2, 105.5])\n",
        "\n",
        "# Country 2 parcel charges\n",
        "c2 = np.array([16.0, 19.0, 21.5, 24.5, 25.5, 27.0, 28.5, 30.0, 31.5, 33, 34.5, 36, 37.5, 39, 40.5, 42, 43.5, 45, 46.5, 48, \n",
        "     49.5, 51, 52.5, 54, 55.5, 57, 58.5, 60, 61.5, 63, 64.5, 66, 67.5, 69, 70.5, 72, 73.5, 75, 76.5, 78])\n",
        "\n",
        "plt.plot(x,c1)\n",
        "plt.plot(x,c2)\n",
        "plt.xlabel(\"Weight (kg)\")\n",
        "plt.ylabel(\"Price (Thousand Won)\")\n",
        "plt.legend(['Country 1', 'Country 2'])\n",
        "plt.show()"
      ],
      "execution_count": 56,
      "outputs": [
        {
          "output_type": "display_data",
          "data": {
            "text/plain": [
              "<Figure size 432x288 with 1 Axes>"
            ],
            "image/png": "[encoded data removed]"
          },
          "metadata": {
            "needs_background": "light"
          }
        }
      ]
    },
    {
      "cell_type": "code",
      "metadata": {
        "id": "obhtBBp-2TZq",
        "colab": {
          "base_uri": "https://localhost:8080/"
        },
        "outputId": "6a264a5c-4dce-4909-e8f2-a781165585e8"
      },
      "source": [
        "# Get estimated value from plot using np.interp() for postal price for a weight that's not in the array\n",
        "parcel_weight = 11.3 # change this to any other value and run again\n",
        "\n",
        "est1 = np.interp(parcel_weight, x, c1)\n",
        "\n",
        "est2 = np.interp(parcel_weight, x, c2)\n",
        "\n",
        "print(f'Estimated parcel prices for weight {parcel_weight:.2f} is {est1} for Country 1 and {est2:.2f} for Country 2')"
      ],
      "execution_count": 57,
      "outputs": [
        {
          "output_type": "stream",
          "name": "stdout",
          "text": [
            "Estimated parcel prices for weight 11.30 is 65.48 for Country 1 and 51.90 for Country 2\n"
          ]
        }
      ]
    },
    {
      "cell_type": "markdown",
      "source": [
        "## Bar plot"
      ],
      "metadata": {
        "id": "Q_7xUrVUvpdQ"
      }
    },
    {
      "cell_type": "code",
      "source": [
        "plt.bar(x,c1)\n",
        "plt.xlabel(\"Weight (kg)\")\n",
        "plt.ylabel(\"Price (Thousand Won)\")\n",
        "plt.show()"
      ],
      "metadata": {
        "id": "GlKnkKeJvqHR",
        "colab": {
          "base_uri": "https://localhost:8080/",
          "height": 279
        },
        "outputId": "5af89b09-bbae-4197-f92e-7bf672458c3c"
      },
      "execution_count": 58,
      "outputs": [
        {
          "output_type": "display_data",
          "data": {
            "text/plain": [
              "<Figure size 432x288 with 1 Axes>"
            ],
            "image/png": "[encoded data removed]"
          },
          "metadata": {
            "needs_background": "light"
          }
        }
      ]
    },
    {
      "cell_type": "code",
      "source": [],
      "metadata": {
        "id": "r7QBKGMyi4e5"
      },
      "execution_count": null,
      "outputs": []
    }
  ]
}