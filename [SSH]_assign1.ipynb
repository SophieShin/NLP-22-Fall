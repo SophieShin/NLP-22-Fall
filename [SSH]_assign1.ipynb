{
  "nbformat": 4,
  "nbformat_minor": 0,
  "metadata": {
    "colab": {
      "provenance": [],
      "collapsed_sections": [],
      "include_colab_link": true
    },
    "kernelspec": {
      "name": "python3",
      "display_name": "Python 3"
    },
    "language_info": {
      "name": "python"
    },
    "gpuClass": "standard"
  },
  "cells": [
    {
      "cell_type": "markdown",
      "metadata": {
        "id": "view-in-github",
        "colab_type": "text"
      },
      "source": [
        "<a href=\"https://colab.research.google.com/github/SophieShin/NLP_22_Fall/blob/main/%5BSSH%5D_assign1.ipynb\" target=\"_parent\"><img src=\"https://colab.research.google.com/assets/colab-badge.svg\" alt=\"Open In Colab\"/></a>"
      ]
    },
    {
      "cell_type": "markdown",
      "metadata": {
        "id": "zMeJSwyhZOB5"
      },
      "source": [
        "# Assignment 1: Generating Word Embeddings\n",
        "- Please save a copy to your drive before working on the notebook.\n",
        "- Save your work as $<$initials$>$-assign1.ipynb, e.g. `RCE-assign1.ipynb`\n",
        "- Make sure your notebook is accessible (readable) to anyone with the link and provide the url when submitting.\n",
        "- You may also submit your ipynb file if you prefer."
      ]
    },
    {
      "cell_type": "markdown",
      "source": [
        "# Word Embeddings \n",
        "Word embeddings are dense vectors of real numbers, one per word in your vocabulary. We often want dense outputs from our neural networks, where the inputs are $|V|$ dimensional, where $𝑉$ is our vocabulary, but often the outputs are only a few dimensional (if we are only predicting a handful of labels, for instance). How do we get from a massive dimensional space to a smaller dimensional space?\n",
        "\n",
        "When we use a one-hot encoding,\n",
        "we represent the word $w$ by\n",
        "\n",
        "\\begin{align}\\overbrace{\\left[ 0, 0, \\dots, 1, \\dots, 0, 0 \\right]}^\\text{|V| elements}\\end{align}\n",
        "\n",
        "where the 1 is in a location unique to $w$. Any other word will have a 1 in some other location, and a 0 everywhere else. It basically treats all words as independent entities with no relation to each other. What we really want is some notion of *similarity* between words.\n",
        "\n",
        "How could we actually encode semantic similarity in words? Maybe we think up some semantic attributes. \n",
        "\n",
        "For example, in these sentences:\n",
        "* The mathematician ran to the store.\n",
        "* The physicist ran to the store.\n",
        "* The mathematician solved the open problem.\n",
        "\n",
        "We see that both mathematicians and physicists\n",
        "can run, so maybe we give these words a high score for the \"is able to run\" semantic attribute.\n",
        "\n",
        "If each attribute is a dimension, then we might give each word a vector,\n",
        "like this:\n",
        "\n",
        "\\begin{align}q_\\text{mathematician} = \\left[ \\overbrace{2.3}^\\text{can run},\n",
        "   \\overbrace{9.4}^\\text{likes coffee}, \\overbrace{-5.5}^\\text{majored in Physics}, \\dots \\right]\\end{align}\n",
        "\n",
        "\\begin{align}q_\\text{physicist} = \\left[ \\overbrace{2.5}^\\text{can run},\n",
        "   \\overbrace{9.1}^\\text{likes coffee}, \\overbrace{6.4}^\\text{majored in Physics}, \\dots \\right]\\end{align}\n",
        "\n",
        "Then we can get a measure of similarity between these words by doing:\n",
        "\n",
        "\\begin{align}\\text{Similarity}(\\text{physicist}, \\text{mathematician}) = q_\\text{physicist} \\cdot q_\\text{mathematician}\\end{align}\n",
        "\n",
        "Although it is more common to normalize by the lengths:\n",
        "\n",
        "\\begin{align}\\text{Similarity}(\\text{physicist}, \\text{mathematician}) = \\frac{q_\\text{physicist} \\cdot q_\\text{mathematician}}\n",
        "   {\\| q_\\text{physicist} \\| \\| q_\\text{mathematician} \\|} = \\cos (\\phi)\\end{align}\n",
        "\n",
        "Where $\\phi$ is the angle between the two vectors. That way,\n",
        "extremely similar words (words whose embeddings point in the same direction) will have similarity 1. Extremely dissimilar words should have similarity -1.\n",
        "\n",
        "## Word Embeddings in Pytorch\n",
        "\n",
        "Embeddings are stored as a $|V| \\times D$ matrix, where $D$\n",
        "is the dimensionality of the embeddings, such that the word assigned index $i$ has its embedding stored in the $i$'th row of the matrix.\n",
        "\n",
        "## An Example: N-Gram Language Modelling\n",
        "\n",
        "A language model is a system that predicts a word when other words in a sequence are given, e.g. \"Where is my wonderful _\". In an $n$-gram language model, given a sequence of words\n",
        "$w$, we want to compute\n",
        "\n",
        "\\begin{align}P(w_i | w_{i-1}, w_{i-2}, \\dots, w_{i-n+1} )\\end{align}\n",
        "\n",
        "Where $w_i$ is the $i$-th word of the sequence.\n",
        "\n",
        "Since the sequence length can be long, a very crude way of doing this is to restrict the number of previous consecutive words that will be considered when predicting $w_i$. This number of $n$ consecutive words is called an **$n$-gram**. The 2-grams for the sequence \"Where is my wonderful\" are \"Where is\", \"is my\" and \"my wonderful\".\n",
        "\n",
        "The algorithm scans each word one by one, each time trying to predict the word at the current index, $w_i$, based on a few previous context words. The number of context words to consider is controlled by the hyper parameter, `CONTEXT_SIZE`, which is the same as $n-1$. The prediction produced by the model is then compared to the actual word at position $i$ using a loss function.\n",
        "\n",
        "In this example, we will compute the loss function on the text from an online book and update the parameters with backpropagation.\n"
      ],
      "metadata": {
        "id": "LjjizWNVVFED"
      }
    },
    {
      "cell_type": "markdown",
      "source": [
        "### Download James Joyce's book from Gutenberg\n",
        "\n",
        "---\n"
      ],
      "metadata": {
        "id": "O4hPdkiIWjRg"
      }
    },
    {
      "cell_type": "code",
      "source": [
        "# Q1. Download James Joyce's 'A Picture of Dorian Gray' and save it as book.txt\n",
        "# Download URL:\n",
        "!wget https://www.gutenberg.org/cache/epub/4078/pg4078.txt -O book.txt\n",
        "# CODE"
      ],
      "metadata": {
        "id": "Ljy6C8blygjv",
        "colab": {
          "base_uri": "https://localhost:8080/"
        },
        "outputId": "fa2e35f1-4dc9-4d4a-a6fa-c744c083b8b3"
      },
      "execution_count": 23,
      "outputs": [
        {
          "output_type": "stream",
          "name": "stdout",
          "text": [
            "--2022-09-24 05:46:18--  https://www.gutenberg.org/cache/epub/4078/pg4078.txt\n",
            "Resolving www.gutenberg.org (www.gutenberg.org)... 152.19.134.47, 2610:28:3090:3000:0:bad:cafe:47\n",
            "Connecting to www.gutenberg.org (www.gutenberg.org)|152.19.134.47|:443... connected.\n",
            "HTTP request sent, awaiting response... 200 OK\n",
            "Length: 324893 (317K) [text/plain]\n",
            "Saving to: ‘book.txt’\n",
            "\n",
            "book.txt            100%[===================>] 317.28K  --.-KB/s    in 0.1s    \n",
            "\n",
            "2022-09-24 05:46:18 (3.04 MB/s) - ‘book.txt’ saved [324893/324893]\n",
            "\n"
          ]
        }
      ]
    },
    {
      "cell_type": "markdown",
      "source": [
        "Open and Inspect File"
      ],
      "metadata": {
        "id": "p7G5oQbWULRP"
      }
    },
    {
      "cell_type": "code",
      "source": [
        "import pandas as pd\n",
        "\n",
        "# Open this file for reading and store contents in a string\n",
        "with open('book.txt', 'r') as f:\n",
        "    corpus_ = f.read()\n",
        "\n",
        "# See some text in this document\n",
        "print(corpus_[1075:3075])\n",
        "\n",
        "# Select a subset to build our vocab\n",
        "corpus_ = corpus_[1075:50750]\n",
        "\n",
        "# Convert the String object to a list\n",
        "corpus = [corpus_]\n"
      ],
      "metadata": {
        "id": "yG6ug3B6zYH0",
        "colab": {
          "base_uri": "https://localhost:8080/"
        },
        "outputId": "9ef7ca4b-2392-456f-ec4b-47d170e4b564"
      },
      "execution_count": 24,
      "outputs": [
        {
          "output_type": "stream",
          "name": "stdout",
          "text": [
            " The studio was filled with the rich odor of roses, and when the\n",
            "light summer wind stirred amidst the trees of the garden there came\n",
            "through the open door the heavy scent of the lilac, or the more\n",
            "delicate perfume of the pink-flowering thorn.\n",
            "\n",
            "From the corner of the divan of Persian saddle-bags on which he was\n",
            "lying, smoking, as usual, innumerable cigarettes, Lord Henry Wotton\n",
            "could just catch the gleam of the honey-sweet and honey-colored\n",
            "blossoms of the laburnum, whose tremulous branches seemed hardly able\n",
            "to bear the burden of a beauty so flame-like as theirs; and now and\n",
            "then the fantastic shadows of birds in flight flitted across the long\n",
            "tussore-silk curtains that were stretched in front of the huge window,\n",
            "producing a kind of momentary Japanese effect, and making him think of\n",
            "those pallid jade-faced painters who, in an art that is necessarily\n",
            "immobile, seek to convey the sense of swiftness and motion.  The sullen\n",
            "murmur of the bees shouldering their way through the long unmown grass,\n",
            "or circling with monotonous insistence round the black-crocketed spires\n",
            "of the early June hollyhocks, seemed to make the stillness more\n",
            "oppressive, and the dim roar of London was like the bourdon note of a\n",
            "distant organ.\n",
            "\n",
            "In the centre of the room, clamped to an upright easel, stood the\n",
            "full-length portrait of a young man of extraordinary personal beauty,\n",
            "and in front of it, some little distance away, was sitting the artist\n",
            "himself, Basil Hallward, whose sudden disappearance some years ago\n",
            "caused, at the time, such public excitement, and gave rise to so many\n",
            "strange conjectures.\n",
            "\n",
            "As he looked at the gracious and comely form he had so skilfully\n",
            "mirrored in his art, a smile of pleasure passed across his face, and\n",
            "seemed about to linger there.  But he suddenly started up, and, closing\n",
            "[4] his eyes, placed his fingers upon the lids, as though he sought to\n",
            "imprison within his brain some curious dream from which he feared he\n",
            "might awake.\n",
            "\n",
            "\"It is your best work, Basil, the best thing yo\n"
          ]
        }
      ]
    },
    {
      "cell_type": "markdown",
      "source": [
        "### Tokenise and Build Vocabulary"
      ],
      "metadata": {
        "id": "BXKm8lSO7wBu"
      }
    },
    {
      "cell_type": "code",
      "source": [
        "from torchtext.data.utils import get_tokenizer\n",
        "from torchtext.vocab import build_vocab_from_iterator\n",
        "\n",
        "tokenizer = get_tokenizer('basic_english')\n",
        "\n",
        "def yield_tokens():\n",
        "  for s in corpus:\n",
        "    tokens = tokenizer(s)\n",
        "    print(tokens)\n",
        "    yield tokens\n",
        "\n",
        "token_generator = yield_tokens() # can now iterate through token_generator\n",
        "\n"
      ],
      "metadata": {
        "id": "dwfXvwuu3E_K"
      },
      "execution_count": 25,
      "outputs": []
    },
    {
      "cell_type": "code",
      "source": [
        "token_generator = yield_tokens() # can now iterate through token_generator\n",
        "\n",
        "# Q2. Build a vocab using build_vocab_from_iterator():\n",
        "# - Out of vocab (OOV) words should be given the token \"<unk>\"\n",
        "# - Select only words that occur at least 2 times in the document using the 'min_freq' argument\n",
        "\n",
        "vocab = build_vocab_from_iterator(token_generator, specials=[\"<unk>\"], min_freq=2)\n",
        "vocab.set_default_index(vocab[\"<unk>\"]) # to assign unknown token with index 0\n",
        "\n"
      ],
      "metadata": {
        "colab": {
          "base_uri": "https://localhost:8080/"
        },
        "id": "dBReuZ_vXDm_",
        "outputId": "bc4b811e-e321-4623-bb3c-6bd5d210e134"
      },
      "execution_count": 26,
      "outputs": [
        {
          "output_type": "stream",
          "name": "stdout",
          "text": [
            "['the', 'studio', 'was', 'filled', 'with', 'the', 'rich', 'odor', 'of', 'roses', ',', 'and', 'when', 'the', 'light', 'summer', 'wind', 'stirred', 'amidst', 'the', 'trees', 'of', 'the', 'garden', 'there', 'came', 'through', 'the', 'open', 'door', 'the', 'heavy', 'scent', 'of', 'the', 'lilac', ',', 'or', 'the', 'more', 'delicate', 'perfume', 'of', 'the', 'pink-flowering', 'thorn', '.', 'from', 'the', 'corner', 'of', 'the', 'divan', 'of', 'persian', 'saddle-bags', 'on', 'which', 'he', 'was', 'lying', ',', 'smoking', ',', 'as', 'usual', ',', 'innumerable', 'cigarettes', ',', 'lord', 'henry', 'wotton', 'could', 'just', 'catch', 'the', 'gleam', 'of', 'the', 'honey-sweet', 'and', 'honey-colored', 'blossoms', 'of', 'the', 'laburnum', ',', 'whose', 'tremulous', 'branches', 'seemed', 'hardly', 'able', 'to', 'bear', 'the', 'burden', 'of', 'a', 'beauty', 'so', 'flame-like', 'as', 'theirs', 'and', 'now', 'and', 'then', 'the', 'fantastic', 'shadows', 'of', 'birds', 'in', 'flight', 'flitted', 'across', 'the', 'long', 'tussore-silk', 'curtains', 'that', 'were', 'stretched', 'in', 'front', 'of', 'the', 'huge', 'window', ',', 'producing', 'a', 'kind', 'of', 'momentary', 'japanese', 'effect', ',', 'and', 'making', 'him', 'think', 'of', 'those', 'pallid', 'jade-faced', 'painters', 'who', ',', 'in', 'an', 'art', 'that', 'is', 'necessarily', 'immobile', ',', 'seek', 'to', 'convey', 'the', 'sense', 'of', 'swiftness', 'and', 'motion', '.', 'the', 'sullen', 'murmur', 'of', 'the', 'bees', 'shouldering', 'their', 'way', 'through', 'the', 'long', 'unmown', 'grass', ',', 'or', 'circling', 'with', 'monotonous', 'insistence', 'round', 'the', 'black-crocketed', 'spires', 'of', 'the', 'early', 'june', 'hollyhocks', ',', 'seemed', 'to', 'make', 'the', 'stillness', 'more', 'oppressive', ',', 'and', 'the', 'dim', 'roar', 'of', 'london', 'was', 'like', 'the', 'bourdon', 'note', 'of', 'a', 'distant', 'organ', '.', 'in', 'the', 'centre', 'of', 'the', 'room', ',', 'clamped', 'to', 'an', 'upright', 'easel', ',', 'stood', 'the', 'full-length', 'portrait', 'of', 'a', 'young', 'man', 'of', 'extraordinary', 'personal', 'beauty', ',', 'and', 'in', 'front', 'of', 'it', ',', 'some', 'little', 'distance', 'away', ',', 'was', 'sitting', 'the', 'artist', 'himself', ',', 'basil', 'hallward', ',', 'whose', 'sudden', 'disappearance', 'some', 'years', 'ago', 'caused', ',', 'at', 'the', 'time', ',', 'such', 'public', 'excitement', ',', 'and', 'gave', 'rise', 'to', 'so', 'many', 'strange', 'conjectures', '.', 'as', 'he', 'looked', 'at', 'the', 'gracious', 'and', 'comely', 'form', 'he', 'had', 'so', 'skilfully', 'mirrored', 'in', 'his', 'art', ',', 'a', 'smile', 'of', 'pleasure', 'passed', 'across', 'his', 'face', ',', 'and', 'seemed', 'about', 'to', 'linger', 'there', '.', 'but', 'he', 'suddenly', 'started', 'up', ',', 'and', ',', 'closing', '[4]', 'his', 'eyes', ',', 'placed', 'his', 'fingers', 'upon', 'the', 'lids', ',', 'as', 'though', 'he', 'sought', 'to', 'imprison', 'within', 'his', 'brain', 'some', 'curious', 'dream', 'from', 'which', 'he', 'feared', 'he', 'might', 'awake', '.', 'it', 'is', 'your', 'best', 'work', ',', 'basil', ',', 'the', 'best', 'thing', 'you', 'have', 'ever', 'done', ',', 'said', 'lord', 'henry', ',', 'languidly', '.', 'you', 'must', 'certainly', 'send', 'it', 'next', 'year', 'to', 'the', 'grosvenor', '.', 'the', 'academy', 'is', 'too', 'large', 'and', 'too', 'vulgar', '.', 'the', 'grosvenor', 'is', 'the', 'only', 'place', '.', 'i', 'don', \"'\", 't', 'think', 'i', 'will', 'send', 'it', 'anywhere', ',', 'he', 'answered', ',', 'tossing', 'his', 'head', 'back', 'in', 'that', 'odd', 'way', 'that', 'used', 'to', 'make', 'his', 'friends', 'laugh', 'at', 'him', 'at', 'oxford', '.', 'no', 'i', 'won', \"'\", 't', 'send', 'it', 'anywhere', '.', 'lord', 'henry', 'elevated', 'his', 'eyebrows', ',', 'and', 'looked', 'at', 'him', 'in', 'amazement', 'through', 'the', 'thin', 'blue', 'wreaths', 'of', 'smoke', 'that', 'curled', 'up', 'in', 'such', 'fanciful', 'whorls', 'from', 'his', 'heavy', 'opium-tainted', 'cigarette', '.', 'not', 'send', 'it', 'anywhere', '?', 'my', 'dear', 'fellow', ',', 'why', '?', 'have', 'you', 'any', 'reason', '?', 'what', 'odd', 'chaps', 'you', 'painters', 'are', '!', 'you', 'do', 'anything', 'in', 'the', 'world', 'to', 'gain', 'a', 'reputation', '.', 'as', 'soon', 'as', 'you', 'have', 'one', ',', 'you', 'seem', 'to', 'want', 'to', 'throw', 'it', 'away', '.', 'it', 'is', 'silly', 'of', 'you', ',', 'for', 'there', 'is', 'only', 'one', 'thing', 'in', 'the', 'world', 'worse', 'than', 'being', 'talked', 'about', ',', 'and', 'that', 'is', 'not', 'being', 'talked', 'about', '.', 'a', 'portrait', 'like', 'this', 'would', 'set', 'you', 'far', 'above', 'all', 'the', 'young', 'men', 'in', 'england', ',', 'and', 'make', 'the', 'old', 'men', 'quite', 'jealous', ',', 'if', 'old', 'men', 'are', 'ever', 'capable', 'of', 'any', 'emotion', '.', 'i', 'know', 'you', 'will', 'laugh', 'at', 'me', ',', 'he', 'replied', ',', 'but', 'i', 'really', 'can', \"'\", 't', 'exhibit', 'it', '.', 'i', 'have', 'put', 'too', 'much', 'of', 'myself', 'into', 'it', '.', 'lord', 'henry', 'stretched', 'his', 'long', 'legs', 'out', 'on', 'the', 'divan', 'and', 'shook', 'with', 'laughter', '.', 'yes', ',', 'i', 'knew', 'you', 'would', 'laugh', 'but', 'it', 'is', 'quite', 'true', ',', 'all', 'the', 'same', '.', 'too', 'much', 'of', 'yourself', 'in', 'it', '!', 'upon', 'my', 'word', ',', 'basil', ',', 'i', 'didn', \"'\", 't', 'know', 'you', 'were', 'so', 'vain', 'and', 'i', 'really', 'can', \"'\", 't', 'see', 'any', 'resemblance', 'between', 'you', ',', 'with', 'your', 'rugged', 'strong', 'face', 'and', 'your', 'coal-black', 'hair', ',', 'and', 'this', 'young', 'adonis', ',', 'who', 'looks', 'as', 'if', 'he', 'was', 'made', 'of', 'ivory', 'and', 'rose-leaves', '.', 'why', ',', 'my', 'dear', 'basil', ',', 'he', 'is', 'a', 'narcissus', ',', 'and', 'you--well', ',', 'of', 'course', 'you', 'have', 'an', 'intellectual', 'expression', ',', 'and', 'all', 'that', '.', 'but', 'beauty', ',', 'real', 'beauty', ',', 'ends', 'where', 'an', 'intellectual', 'expression', 'begins', '.', 'intellect', 'is', 'in', 'itself', 'an', 'exaggeration', ',', 'and', 'destroys', 'the', 'harmony', 'of', 'any', 'face', '.', 'the', 'moment', 'one', 'sits', 'down', 'to', 'think', ',', 'one', 'becomes', 'all', 'nose', ',', 'or', 'all', 'forehead', ',', 'or', 'something', 'horrid', '.', 'look', 'at', 'the', 'successful', 'men', 'in', 'any', 'of', 'the', 'learned', 'professions', '.', 'how', 'perfectly', 'hideous', 'they', 'are', '!', 'except', ',', 'of', 'course', ',', 'in', 'the', 'church', '.', 'but', 'then', 'in', 'the', 'church', 'they', 'don', \"'\", 't', 'think', '.', 'a', 'bishop', 'keeps', 'on', 'saying', 'at', 'the', 'age', 'of', 'eighty', 'what', 'he', 'was', 'told', 'to', 'say', 'when', 'he', 'was', 'a', 'boy', 'of', 'eighteen', ',', 'and', 'consequently', 'he', 'always', 'looks', 'absolutely', 'delightful', '.', 'your', 'mysterious', 'young', 'friend', ',', 'whose', 'name', 'you', 'have', 'never', 'told', 'me', ',', 'but', 'whose', 'picture', 'really', 'fascinates', 'me', ',', 'never', 'thinks', '.', 'i', 'feel', 'quite', 'sure', 'of', 'that', '.', 'he', 'is', 'a', 'brainless', ',', 'beautiful', 'thing', ',', 'who', 'should', 'be', 'always', 'here', 'in', 'winter', 'when', 'we', 'have', 'no', 'flowers', 'to', 'look', 'at', ',', 'and', 'always', 'here', 'in', 'summer', 'when', 'we', 'want', 'something', 'to', 'chill', 'our', 'intelligence', '.', 'don', \"'\", 't', 'flatter', 'yourself', ',', 'basil', 'you', 'are', 'not', 'in', 'the', 'least', 'like', 'him', '.', 'you', 'don', \"'\", 't', 'understand', 'me', ',', 'harry', '.', 'of', 'course', 'i', 'am', 'not', 'like', 'him', '.', 'i', 'know', 'that', 'perfectly', 'well', '.', 'indeed', ',', 'i', 'should', 'be', 'sorry', 'to', 'look', 'like', 'him', '.', 'you', 'shrug', 'your', 'shoulders', '?', 'i', 'am', 'telling', 'you', 'the', 'truth', '.', 'there', 'is', 'a', 'fatality', 'about', 'all', 'physical', 'and', 'intellectual', 'distinction', ',', 'the', 'sort', 'of', 'fatality', 'that', '[5]', 'seems', 'to', 'dog', 'through', 'history', 'the', 'faltering', 'steps', 'of', 'kings', '.', 'it', 'is', 'better', 'not', 'to', 'be', 'different', 'from', 'one', \"'\", 's', 'fellows', '.', 'the', 'ugly', 'and', 'the', 'stupid', 'have', 'the', 'best', 'of', 'it', 'in', 'this', 'world', '.', 'they', 'can', 'sit', 'quietly', 'and', 'gape', 'at', 'the', 'play', '.', 'if', 'they', 'know', 'nothing', 'of', 'victory', ',', 'they', 'are', 'at', 'least', 'spared', 'the', 'knowledge', 'of', 'defeat', '.', 'they', 'live', 'as', 'we', 'all', 'should', 'live', ',', 'undisturbed', ',', 'indifferent', ',', 'and', 'without', 'disquiet', '.', 'they', 'neither', 'bring', 'ruin', 'upon', 'others', 'nor', 'ever', 'receive', 'it', 'from', 'alien', 'hands', '.', 'your', 'rank', 'and', 'wealth', ',', 'harry', 'my', 'brains', ',', 'such', 'as', 'they', 'are', ',', '--my', 'fame', ',', 'whatever', 'it', 'may', 'be', 'worth', 'dorian', 'gray', \"'\", 's', 'good', 'looks', ',', '--we', 'will', 'all', 'suffer', 'for', 'what', 'the', 'gods', 'have', 'given', 'us', ',', 'suffer', 'terribly', '.', 'dorian', 'gray', '?', 'is', 'that', 'his', 'name', '?', 'said', 'lord', 'henry', ',', 'walking', 'across', 'the', 'studio', 'towards', 'basil', 'hallward', '.', 'yes', 'that', 'is', 'his', 'name', '.', 'i', 'didn', \"'\", 't', 'intend', 'to', 'tell', 'it', 'to', 'you', '.', 'but', 'why', 'not', '?', 'oh', ',', 'i', 'can', \"'\", 't', 'explain', '.', 'when', 'i', 'like', 'people', 'immensely', 'i', 'never', 'tell', 'their', 'names', 'to', 'any', 'one', '.', 'it', 'seems', 'like', 'surrendering', 'a', 'part', 'of', 'them', '.', 'you', 'know', 'how', 'i', 'love', 'secrecy', '.', 'it', 'is', 'the', 'only', 'thing', 'that', 'can', 'make', 'modern', 'life', 'wonderful', 'or', 'mysterious', 'to', 'us', '.', 'the', 'commonest', 'thing', 'is', 'delightful', 'if', 'one', 'only', 'hides', 'it', '.', 'when', 'i', 'leave', 'town', 'i', 'never', 'tell', 'my', 'people', 'where', 'i', 'am', 'going', '.', 'if', 'i', 'did', ',', 'i', 'would', 'lose', 'all', 'my', 'pleasure', '.', 'it', 'is', 'a', 'silly', 'habit', ',', 'i', 'dare', 'say', ',', 'but', 'somehow', 'it', 'seems', 'to', 'bring', 'a', 'great', 'deal', 'of', 'romance', 'into', 'one', \"'\", 's', 'life', '.', 'i', 'suppose', 'you', 'think', 'me', 'awfully', 'foolish', 'about', 'it', '?', 'not', 'at', 'all', ',', 'answered', 'lord', 'henry', ',', 'laying', 'his', 'hand', 'upon', 'his', 'shoulder', 'not', 'at', 'all', ',', 'my', 'dear', 'basil', '.', 'you', 'seem', 'to', 'forget', 'that', 'i', 'am', 'married', ',', 'and', 'the', 'one', 'charm', 'of', 'marriage', 'is', 'that', 'it', 'makes', 'a', 'life', 'of', 'deception', 'necessary', 'for', 'both', 'parties', '.', 'i', 'never', 'know', 'where', 'my', 'wife', 'is', ',', 'and', 'my', 'wife', 'never', 'knows', 'what', 'i', 'am', 'doing', '.', 'when', 'we', 'meet', ',', '--we', 'do', 'meet', 'occasionally', ',', 'when', 'we', 'dine', 'out', 'together', ',', 'or', 'go', 'down', 'to', 'the', 'duke', \"'\", 's', ',', '--we', 'tell', 'each', 'other', 'the', 'most', 'absurd', 'stories', 'with', 'the', 'most', 'serious', 'faces', '.', 'my', 'wife', 'is', 'very', 'good', 'at', 'it', ',', '--much', 'better', ',', 'in', 'fact', ',', 'than', 'i', 'am', '.', 'she', 'never', 'gets', 'confused', 'over', 'her', 'dates', ',', 'and', 'i', 'always', 'do', '.', 'but', 'when', 'she', 'does', 'find', 'me', 'out', ',', 'she', 'makes', 'no', 'row', 'at', 'all', '.', 'i', 'sometimes', 'wish', 'she', 'would', 'but', 'she', 'merely', 'laughs', 'at', 'me', '.', 'i', 'hate', 'the', 'way', 'you', 'talk', 'about', 'your', 'married', 'life', ',', 'harry', ',', 'said', 'basil', 'hallward', ',', 'shaking', 'his', 'hand', 'off', ',', 'and', 'strolling', 'towards', 'the', 'door', 'that', 'led', 'into', 'the', 'garden', '.', 'i', 'believe', 'that', 'you', 'are', 'really', 'a', 'very', 'good', 'husband', ',', 'but', 'that', 'you', 'are', 'thoroughly', 'ashamed', 'of', 'your', 'own', 'virtues', '.', 'you', 'are', 'an', 'extraordinary', 'fellow', '.', 'you', 'never', 'say', 'a', 'moral', 'thing', ',', 'and', 'you', 'never', 'do', 'a', 'wrong', 'thing', '.', 'your', 'cynicism', 'is', 'simply', 'a', 'pose', '.', 'being', 'natural', 'is', 'simply', 'a', 'pose', ',', 'and', 'the', 'most', 'irritating', 'pose', 'i', 'know', ',', 'cried', 'lord', 'henry', ',', 'laughing', 'and', 'the', 'two', 'young', 'men', 'went', 'out', 'into', 'the', 'garden', 'together', ',', 'and', 'for', 'a', 'time', 'they', 'did', 'not', 'speak', '.', 'after', 'a', 'long', 'pause', 'lord', 'henry', 'pulled', 'out', 'his', 'watch', '.', 'i', 'am', 'afraid', 'i', 'must', 'be', 'going', ',', 'basil', ',', 'he', 'murmured', ',', 'and', 'before', 'i', 'go', 'i', 'insist', 'on', 'your', 'answering', 'a', 'question', 'i', 'put', 'to', 'you', 'some', 'time', 'ago', '.', 'what', 'is', 'that', '?', 'asked', 'basil', 'hallward', ',', 'keeping', 'his', 'eyes', 'fixed', 'on', 'the', 'ground', '.', 'you', 'know', 'quite', 'well', '.', 'i', 'do', 'not', ',', 'harry', '.', '[6]', 'well', ',', 'i', 'will', 'tell', 'you', 'what', 'it', 'is', '.', 'please', 'don', \"'\", 't', '.', 'i', 'must', '.', 'i', 'want', 'you', 'to', 'explain', 'to', 'me', 'why', 'you', 'won', \"'\", 't', 'exhibit', 'dorian', 'gray', \"'\", 's', 'picture', '.', 'i', 'want', 'the', 'real', 'reason', '.', 'i', 'told', 'you', 'the', 'real', 'reason', '.', 'no', ',', 'you', 'did', 'not', '.', 'you', 'said', 'it', 'was', 'because', 'there', 'was', 'too', 'much', 'of', 'yourself', 'in', 'it', '.', 'now', ',', 'that', 'is', 'childish', '.', 'harry', ',', 'said', 'basil', 'hallward', ',', 'looking', 'him', 'straight', 'in', 'the', 'face', ',', 'every', 'portrait', 'that', 'is', 'painted', 'with', 'feeling', 'is', 'a', 'portrait', 'of', 'the', 'artist', ',', 'not', 'of', 'the', 'sitter', '.', 'the', 'sitter', 'is', 'merely', 'the', 'accident', ',', 'the', 'occasion', '.', 'it', 'is', 'not', 'he', 'who', 'is', 'revealed', 'by', 'the', 'painter', 'it', 'is', 'rather', 'the', 'painter', 'who', ',', 'on', 'the', 'colored', 'canvas', ',', 'reveals', 'himself', '.', 'the', 'reason', 'i', 'will', 'not', 'exhibit', 'this', 'picture', 'is', 'that', 'i', 'am', 'afraid', 'that', 'i', 'have', 'shown', 'with', 'it', 'the', 'secret', 'of', 'my', 'own', 'soul', '.', 'lord', 'harry', 'laughed', '.', 'and', 'what', 'is', 'that', '?', 'he', 'asked', '.', 'i', 'will', 'tell', 'you', ',', 'said', 'hallward', 'and', 'an', 'expression', 'of', 'perplexity', 'came', 'over', 'his', 'face', '.', 'i', 'am', 'all', 'expectation', ',', 'basil', ',', 'murmured', 'his', 'companion', ',', 'looking', 'at', 'him', '.', 'oh', ',', 'there', 'is', 'really', 'very', 'little', 'to', 'tell', ',', 'harry', ',', 'answered', 'the', 'young', 'painter', 'and', 'i', 'am', 'afraid', 'you', 'will', 'hardly', 'understand', 'it', '.', 'perhaps', 'you', 'will', 'hardly', 'believe', 'it', '.', 'lord', 'henry', 'smiled', ',', 'and', ',', 'leaning', 'down', ',', 'plucked', 'a', 'pink-petalled', 'daisy', 'from', 'the', 'grass', ',', 'and', 'examined', 'it', '.', 'i', 'am', 'quite', 'sure', 'i', 'shall', 'understand', 'it', ',', 'he', 'replied', ',', 'gazing', 'intently', 'at', 'the', 'little', 'golden', 'white-feathered', 'disk', ',', 'and', 'i', 'can', 'believe', 'anything', ',', 'provided', 'that', 'it', 'is', 'incredible', '.', 'the', 'wind', 'shook', 'some', 'blossoms', 'from', 'the', 'trees', ',', 'and', 'the', 'heavy', 'lilac', 'blooms', ',', 'with', 'their', 'clustering', 'stars', ',', 'moved', 'to', 'and', 'fro', 'in', 'the', 'languid', 'air', '.', 'a', 'grasshopper', 'began', 'to', 'chirrup', 'in', 'the', 'grass', ',', 'and', 'a', 'long', 'thin', 'dragon-fly', 'floated', 'by', 'on', 'its', 'brown', 'gauze', 'wings', '.', 'lord', 'henry', 'felt', 'as', 'if', 'he', 'could', 'hear', 'basil', 'hallward', \"'\", 's', 'heart', 'beating', ',', 'and', 'he', 'wondered', 'what', 'was', 'coming', '.', 'well', ',', 'this', 'is', 'incredible', ',', 'repeated', 'hallward', ',', 'rather', 'bitterly', ',', '--incredible', 'to', 'me', 'at', 'times', '.', 'i', 'don', \"'\", 't', 'know', 'what', 'it', 'means', '.', 'the', 'story', 'is', 'simply', 'this', '.', 'two', 'months', 'ago', 'i', 'went', 'to', 'a', 'crush', 'at', 'lady', 'brandon', \"'\", 's', '.', 'you', 'know', 'we', 'poor', 'painters', 'have', 'to', 'show', 'ourselves', 'in', 'society', 'from', 'time', 'to', 'time', ',', 'just', 'to', 'remind', 'the', 'public', 'that', 'we', 'are', 'not', 'savages', '.', 'with', 'an', 'evening', 'coat', 'and', 'a', 'white', 'tie', ',', 'as', 'you', 'told', 'me', 'once', ',', 'anybody', ',', 'even', 'a', 'stock-broker', ',', 'can', 'gain', 'a', 'reputation', 'for', 'being', 'civilized', '.', 'well', ',', 'after', 'i', 'had', 'been', 'in', 'the', 'room', 'about', 'ten', 'minutes', ',', 'talking', 'to', 'huge', 'overdressed', 'dowagers', 'and', 'tedious', 'academicians', ',', 'i', 'suddenly', 'became', 'conscious', 'that', 'some', 'one', 'was', 'looking', 'at', 'me', '.', 'i', 'turned', 'half-way', 'round', ',', 'and', 'saw', 'dorian', 'gray', 'for', 'the', 'first', 'time', '.', 'when', 'our', 'eyes', 'met', ',', 'i', 'felt', 'that', 'i', 'was', 'growing', 'pale', '.', 'a', 'curious', 'instinct', 'of', 'terror', 'came', 'over', 'me', '.', 'i', 'knew', 'that', 'i', 'had', 'come', 'face', 'to', 'face', 'with', 'some', 'one', 'whose', 'mere', 'personality', 'was', 'so', 'fascinating', 'that', ',', 'if', 'i', 'allowed', 'it', 'to', 'do', 'so', ',', 'it', 'would', 'absorb', 'my', 'whole', 'nature', ',', 'my', 'whole', 'soul', ',', 'my', 'very', 'art', 'itself', '.', 'i', 'did', 'not', 'want', 'any', 'external', 'influence', 'in', 'my', 'life', '.', 'you', 'know', 'yourself', ',', 'harry', ',', 'how', 'independent', 'i', 'am', 'by', 'nature', '.', 'my', 'father', 'destined', 'me', 'for', 'the', 'army', '.', 'i', 'insisted', 'on', '[7]', 'going', 'to', 'oxford', '.', 'then', 'he', 'made', 'me', 'enter', 'my', 'name', 'at', 'the', 'middle', 'temple', '.', 'before', 'i', 'had', 'eaten', 'half', 'a', 'dozen', 'dinners', 'i', 'gave', 'up', 'the', 'bar', ',', 'and', 'announced', 'my', 'intention', 'of', 'becoming', 'a', 'painter', '.', 'i', 'have', 'always', 'been', 'my', 'own', 'master', 'had', 'at', 'least', 'always', 'been', 'so', ',', 'till', 'i', 'met', 'dorian', 'gray', '.', 'then--but', 'i', 'don', \"'\", 't', 'know', 'how', 'to', 'explain', 'it', 'to', 'you', '.', 'something', 'seemed', 'to', 'tell', 'me', 'that', 'i', 'was', 'on', 'the', 'verge', 'of', 'a', 'terrible', 'crisis', 'in', 'my', 'life', '.', 'i', 'had', 'a', 'strange', 'feeling', 'that', 'fate', 'had', 'in', 'store', 'for', 'me', 'exquisite', 'joys', 'and', 'exquisite', 'sorrows', '.', 'i', 'knew', 'that', 'if', 'i', 'spoke', 'to', 'dorian', 'i', 'would', 'become', 'absolutely', 'devoted', 'to', 'him', ',', 'and', 'that', 'i', 'ought', 'not', 'to', 'speak', 'to', 'him', '.', 'i', 'grew', 'afraid', ',', 'and', 'turned', 'to', 'quit', 'the', 'room', '.', 'it', 'was', 'not', 'conscience', 'that', 'made', 'me', 'do', 'so', 'it', 'was', 'cowardice', '.', 'i', 'take', 'no', 'credit', 'to', 'myself', 'for', 'trying', 'to', 'escape', '.', 'conscience', 'and', 'cowardice', 'are', 'really', 'the', 'same', 'things', ',', 'basil', '.', 'conscience', 'is', 'the', 'trade-name', 'of', 'the', 'firm', '.', 'that', 'is', 'all', '.', 'i', 'don', \"'\", 't', 'believe', 'that', ',', 'harry', '.', 'however', ',', 'whatever', 'was', 'my', 'motive', ',', '--and', 'it', 'may', 'have', 'been', 'pride', ',', 'for', 'i', 'used', 'to', 'be', 'very', 'proud', ',', '--i', 'certainly', 'struggled', 'to', 'the', 'door', '.', 'there', ',', 'of', 'course', ',', 'i', 'stumbled', 'against', 'lady', 'brandon', '.', \"'\", 'you', 'are', 'not', 'going', 'to', 'run', 'away', 'so', 'soon', ',', 'mr', '.', 'hallward', '?', \"'\", 'she', 'screamed', 'out', '.', 'you', 'know', 'her', 'shrill', 'horrid', 'voice', '?', 'yes', 'she', 'is', 'a', 'peacock', 'in', 'everything', 'but', 'beauty', ',', 'said', 'lord', 'henry', ',', 'pulling', 'the', 'daisy', 'to', 'bits', 'with', 'his', 'long', ',', 'nervous', 'fingers', '.', 'i', 'could', 'not', 'get', 'rid', 'of', 'her', '.', 'she', 'brought', 'me', 'up', 'to', 'royalties', ',', 'and', 'people', 'with', 'stars', 'and', 'garters', ',', 'and', 'elderly', 'ladies', 'with', 'gigantic', 'tiaras', 'and', 'hooked', 'noses', '.', 'she', 'spoke', 'of', 'me', 'as', 'her', 'dearest', 'friend', '.', 'i', 'had', 'only', 'met', 'her', 'once', 'before', ',', 'but', 'she', 'took', 'it', 'into', 'her', 'head', 'to', 'lionize', 'me', '.', 'i', 'believe', 'some', 'picture', 'of', 'mine', 'had', 'made', 'a', 'great', 'success', 'at', 'the', 'time', ',', 'at', 'least', 'had', 'been', 'chattered', 'about', 'in', 'the', 'penny', 'newspapers', ',', 'which', 'is', 'the', 'nineteenth-century', 'standard', 'of', 'immortality', '.', 'suddenly', 'i', 'found', 'myself', 'face', 'to', 'face', 'with', 'the', 'young', 'man', 'whose', 'personality', 'had', 'so', 'strangely', 'stirred', 'me', '.', 'we', 'were', 'quite', 'close', ',', 'almost', 'touching', '.', 'our', 'eyes', 'met', 'again', '.', 'it', 'was', 'mad', 'of', 'me', ',', 'but', 'i', 'asked', 'lady', 'brandon', 'to', 'introduce', 'me', 'to', 'him', '.', 'perhaps', 'it', 'was', 'not', 'so', 'mad', ',', 'after', 'all', '.', 'it', 'was', 'simply', 'inevitable', '.', 'we', 'would', 'have', 'spoken', 'to', 'each', 'other', 'without', 'any', 'introduction', '.', 'i', 'am', 'sure', 'of', 'that', '.', 'dorian', 'told', 'me', 'so', 'afterwards', '.', 'he', ',', 'too', ',', 'felt', 'that', 'we', 'were', 'destined', 'to', 'know', 'each', 'other', '.', 'and', 'how', 'did', 'lady', 'brandon', 'describe', 'this', 'wonderful', 'young', 'man', '?', 'i', 'know', 'she', 'goes', 'in', 'for', 'giving', 'a', 'rapid', 'précis', 'of', 'all', 'her', 'guests', '.', 'i', 'remember', 'her', 'bringing', 'me', 'up', 'to', 'a', 'most', 'truculent', 'and', 'red-faced', 'old', 'gentleman', 'covered', 'all', 'over', 'with', 'orders', 'and', 'ribbons', ',', 'and', 'hissing', 'into', 'my', 'ear', ',', 'in', 'a', 'tragic', 'whisper', 'which', 'must', 'have', 'been', 'perfectly', 'audible', 'to', 'everybody', 'in', 'the', 'room', ',', 'something', 'like', \"'\", 'sir', 'humpty', 'dumpty--you', 'know--afghan', 'frontier--russian', 'intrigues', 'very', 'successful', 'man--wife', 'killed', 'by', 'an', 'elephant--quite', 'inconsolable--wants', 'to', 'marry', 'a', 'beautiful', 'american', 'widow--everybody', 'does', 'nowadays--hates', 'mr', '.', 'gladstone--but', 'very', 'much', 'interested', 'in', 'beetles', 'ask', 'him', 'what', 'he', 'thinks', 'of', 'schouvaloff', '.', \"'\", 'i', 'simply', 'fled', '.', 'i', 'like', 'to', 'find', 'out', 'people', 'for', 'myself', '.', 'but', 'poor', 'lady', 'brandon', 'treats', 'her', 'guests', 'exactly', 'as', 'an', 'auctioneer', 'treats', 'his', 'goods', '.', 'she', 'either', 'explains', 'them', 'entirely', 'away', ',', 'or', 'tells', 'one', 'everything', 'about', 'them', 'except', 'what', 'one', 'wants', 'to', 'know', '.', 'but', 'what', 'did', 'she', 'say', 'about', 'mr', '.', 'dorian', 'gray', '?', '[8]', 'oh', ',', 'she', 'murmured', ',', \"'\", 'charming', 'boy--poor', 'dear', 'mother', 'and', 'i', 'quite', 'inseparable--engaged', 'to', 'be', 'married', 'to', 'the', 'same', 'man--i', 'mean', 'married', 'on', 'the', 'same', 'day--how', 'very', 'silly', 'of', 'me', '!', 'quite', 'forget', 'what', 'he', 'does--afraid', 'he--doesn', \"'\", 't', 'do', 'anything--oh', ',', 'yes', ',', 'plays', 'the', 'piano--or', 'is', 'it', 'the', 'violin', ',', 'dear', 'mr', '.', 'gray', '?', \"'\", 'we', 'could', 'neither', 'of', 'us', 'help', 'laughing', ',', 'and', 'we', 'became', 'friends', 'at', 'once', '.', 'laughter', 'is', 'not', 'a', 'bad', 'beginning', 'for', 'a', 'friendship', ',', 'and', 'it', 'is', 'the', 'best', 'ending', 'for', 'one', ',', 'said', 'lord', 'henry', ',', 'plucking', 'another', 'daisy', '.', 'hallward', 'buried', 'his', 'face', 'in', 'his', 'hands', '.', 'you', 'don', \"'\", 't', 'understand', 'what', 'friendship', 'is', ',', 'harry', ',', 'he', 'murmured', ',', '--or', 'what', 'enmity', 'is', ',', 'for', 'that', 'matter', '.', 'you', 'like', 'every', 'one', 'that', 'is', 'to', 'say', ',', 'you', 'are', 'indifferent', 'to', 'every', 'one', '.', 'how', 'horribly', 'unjust', 'of', 'you', '!', 'cried', 'lord', 'henry', ',', 'tilting', 'his', 'hat', 'back', ',', 'and', 'looking', 'up', 'at', 'the', 'little', 'clouds', 'that', 'were', 'drifting', 'across', 'the', 'hollowed', 'turquoise', 'of', 'the', 'summer', 'sky', ',', 'like', 'ravelled', 'skeins', 'of', 'glossy', 'white', 'silk', '.', 'yes', 'horribly', 'unjust', 'of', 'you', '.', 'i', 'make', 'a', 'great', 'difference', 'between', 'people', '.', 'i', 'choose', 'my', 'friends', 'for', 'their', 'good', 'looks', ',', 'my', 'acquaintances', 'for', 'their', 'characters', ',', 'and', 'my', 'enemies', 'for', 'their', 'brains', '.', 'a', 'man', 'can', \"'\", 't', 'be', 'too', 'careful', 'in', 'the', 'choice', 'of', 'his', 'enemies', '.', 'i', 'have', 'not', 'got', 'one', 'who', 'is', 'a', 'fool', '.', 'they', 'are', 'all', 'men', 'of', 'some', 'intellectual', 'power', ',', 'and', 'consequently', 'they', 'all', 'appreciate', 'me', '.', 'is', 'that', 'very', 'vain', 'of', 'me', '?', 'i', 'think', 'it', 'is', 'rather', 'vain', '.', 'i', 'should', 'think', 'it', 'was', ',', 'harry', '.', 'but', 'according', 'to', 'your', 'category', 'i', 'must', 'be', 'merely', 'an', 'acquaintance', '.', 'my', 'dear', 'old', 'basil', ',', 'you', 'are', 'much', 'more', 'than', 'an', 'acquaintance', '.', 'and', 'much', 'less', 'than', 'a', 'friend', '.', 'a', 'sort', 'of', 'brother', ',', 'i', 'suppose', '?', 'oh', ',', 'brothers', '!', 'i', 'don', \"'\", 't', 'care', 'for', 'brothers', '.', 'my', 'elder', 'brother', 'won', \"'\", 't', 'die', ',', 'and', 'my', 'younger', 'brothers', 'seem', 'never', 'to', 'do', 'anything', 'else', '.', 'harry', '!', 'my', 'dear', 'fellow', ',', 'i', 'am', 'not', 'quite', 'serious', '.', 'but', 'i', 'can', \"'\", 't', 'help', 'detesting', 'my', 'relations', '.', 'i', 'suppose', 'it', 'comes', 'from', 'the', 'fact', 'that', 'we', 'can', \"'\", 't', 'stand', 'other', 'people', 'having', 'the', 'same', 'faults', 'as', 'ourselves', '.', 'i', 'quite', 'sympathize', 'with', 'the', 'rage', 'of', 'the', 'english', 'democracy', 'against', 'what', 'they', 'call', 'the', 'vices', 'of', 'the', 'upper', 'classes', '.', 'they', 'feel', 'that', 'drunkenness', ',', 'stupidity', ',', 'and', 'immorality', 'should', 'be', 'their', 'own', 'special', 'property', ',', 'and', 'that', 'if', 'any', 'one', 'of', 'us', 'makes', 'an', 'ass', 'of', 'himself', 'he', 'is', 'poaching', 'on', 'their', 'preserves', '.', 'when', 'poor', 'southwark', 'got', 'into', 'the', 'divorce', 'court', ',', 'their', 'indignation', 'was', 'quite', 'magnificent', '.', 'and', 'yet', 'i', 'don', \"'\", 't', 'suppose', 'that', 'ten', 'per', 'cent', 'of', 'the', 'lower', 'orders', 'live', 'correctly', '.', 'i', 'don', \"'\", 't', 'agree', 'with', 'a', 'single', 'word', 'that', 'you', 'have', 'said', ',', 'and', ',', 'what', 'is', 'more', ',', 'harry', ',', 'i', 'don', \"'\", 't', 'believe', 'you', 'do', 'either', '.', 'lord', 'henry', 'stroked', 'his', 'pointed', 'brown', 'beard', ',', 'and', 'tapped', 'the', 'toe', 'of', 'his', 'patent-leather', 'boot', 'with', 'a', 'tasselled', 'malacca', 'cane', '.', 'how', 'english', 'you', 'are', ',', 'basil', '!', 'if', 'one', 'puts', 'forward', 'an', 'idea', 'to', 'a', 'real', 'englishman', ',', '--always', 'a', 'rash', 'thing', 'to', 'do', ',', '--he', 'never', 'dreams', 'of', 'considering', 'whether', 'the', 'idea', 'is', 'right', 'or', 'wrong', '.', 'the', 'only', 'thing', 'he', 'considers', 'of', 'any', 'importance', 'is', 'whether', 'one', 'believes', 'it', 'one', \"'\", 's', 'self', '.', 'now', ',', 'the', 'value', 'of', 'an', 'idea', 'has', 'nothing', 'whatsoever', 'to', 'do', 'with', 'the', 'sincerity', 'of', 'the', 'man', 'who', 'expresses', 'it', '.', 'indeed', ',', 'the', 'probabilities', 'are', 'that', 'the', 'more', 'insincere', 'the', 'man', 'is', ',', 'the', 'more', 'purely', 'intellectual', 'will', 'the', 'idea', 'be', ',', 'as', 'in', 'that', 'case', 'it', '[9]', 'will', 'not', 'be', 'colored', 'by', 'either', 'his', 'wants', ',', 'his', 'desires', ',', 'or', 'his', 'prejudices', '.', 'however', ',', 'i', 'don', \"'\", 't', 'propose', 'to', 'discuss', 'politics', ',', 'sociology', ',', 'or', 'metaphysics', 'with', 'you', '.', 'i', 'like', 'persons', 'better', 'than', 'principles', '.', 'tell', 'me', 'more', 'about', 'dorian', 'gray', '.', 'how', 'often', 'do', 'you', 'see', 'him', '?', 'every', 'day', '.', 'i', 'couldn', \"'\", 't', 'be', 'happy', 'if', 'i', 'didn', \"'\", 't', 'see', 'him', 'every', 'day', '.', 'of', 'course', 'sometimes', 'it', 'is', 'only', 'for', 'a', 'few', 'minutes', '.', 'but', 'a', 'few', 'minutes', 'with', 'somebody', 'one', 'worships', 'mean', 'a', 'great', 'deal', '.', 'but', 'you', 'don', \"'\", 't', 'really', 'worship', 'him', '?', 'i', 'do', '.', 'how', 'extraordinary', '!', 'i', 'thought', 'you', 'would', 'never', 'care', 'for', 'anything', 'but', 'your', 'painting', ',', '--your', 'art', ',', 'i', 'should', 'say', '.', 'art', 'sounds', 'better', ',', 'doesn', \"'\", 't', 'it', '?', 'he', 'is', 'all', 'my', 'art', 'to', 'me', 'now', '.', 'i', 'sometimes', 'think', ',', 'harry', ',', 'that', 'there', 'are', 'only', 'two', 'eras', 'of', 'any', 'importance', 'in', 'the', 'history', 'of', 'the', 'world', '.', 'the', 'first', 'is', 'the', 'appearance', 'of', 'a', 'new', 'medium', 'for', 'art', ',', 'and', 'the', 'second', 'is', 'the', 'appearance', 'of', 'a', 'new', 'personality', 'for', 'art', 'also', '.', 'what', 'the', 'invention', 'of', 'oil-painting', 'was', 'to', 'the', 'venetians', ',', 'the', 'face', 'of', 'antinoüs', 'was', 'to', 'late', 'greek', 'sculpture', ',', 'and', 'the', 'face', 'of', 'dorian', 'gray', 'will', 'some', 'day', 'be', 'to', 'me', '.', 'it', 'is', 'not', 'merely', 'that', 'i', 'paint', 'from', 'him', ',', 'draw', 'from', 'him', ',', 'model', 'from', 'him', '.', 'of', 'course', 'i', 'have', 'done', 'all', 'that', '.', 'he', 'has', 'stood', 'as', 'paris', 'in', 'dainty', 'armor', ',', 'and', 'as', 'adonis', 'with', 'huntsman', \"'\", 's', 'cloak', 'and', 'polished', 'boar-spear', '.', 'crowned', 'with', 'heavy', 'lotus-blossoms', ',', 'he', 'has', 'sat', 'on', 'the', 'prow', 'of', 'adrian', \"'\", 's', 'barge', ',', 'looking', 'into', 'the', 'green', ',', 'turbid', 'nile', '.', 'he', 'has', 'leaned', 'over', 'the', 'still', 'pool', 'of', 'some', 'greek', 'woodland', ',', 'and', 'seen', 'in', 'the', 'water', \"'\", 's', 'silent', 'silver', 'the', 'wonder', 'of', 'his', 'own', 'beauty', '.', 'but', 'he', 'is', 'much', 'more', 'to', 'me', 'than', 'that', '.', 'i', 'won', \"'\", 't', 'tell', 'you', 'that', 'i', 'am', 'dissatisfied', 'with', 'what', 'i', 'have', 'done', 'of', 'him', ',', 'or', 'that', 'his', 'beauty', 'is', 'such', 'that', 'art', 'cannot', 'express', 'it', '.', 'there', 'is', 'nothing', 'that', 'art', 'cannot', 'express', ',', 'and', 'i', 'know', 'that', 'the', 'work', 'i', 'have', 'done', 'since', 'i', 'met', 'dorian', 'gray', 'is', 'good', 'work', ',', 'is', 'the', 'best', 'work', 'of', 'my', 'life', '.', 'but', 'in', 'some', 'curious', 'way--i', 'wonder', 'will', 'you', 'understand', 'me', '?', '--his', 'personality', 'has', 'suggested', 'to', 'me', 'an', 'entirely', 'new', 'manner', 'in', 'art', ',', 'an', 'entirely', 'new', 'mode', 'of', 'style', '.', 'i', 'see', 'things', 'differently', ',', 'i', 'think', 'of', 'them', 'differently', '.', 'i', 'can', 'now', 're-create', 'life', 'in', 'a', 'way', 'that', 'was', 'hidden', 'from', 'me', 'before', '.', \"'\", 'a', 'dream', 'of', 'form', 'in', 'days', 'of', 'thought', ',', \"'\", '--who', 'is', 'it', 'who', 'says', 'that', '?', 'i', 'forget', 'but', 'it', 'is', 'what', 'dorian', 'gray', 'has', 'been', 'to', 'me', '.', 'the', 'merely', 'visible', 'presence', 'of', 'this', 'lad', ',', '--for', 'he', 'seems', 'to', 'me', 'little', 'more', 'than', 'a', 'lad', ',', 'though', 'he', 'is', 'really', 'over', 'twenty', ',', '--his', 'merely', 'visible', 'presence', ',', '--ah', '!', 'i', 'wonder', 'can', 'you', 'realize', 'all', 'that', 'that', 'means', '?', 'unconsciously', 'he', 'defines', 'for', 'me', 'the', 'lines', 'of', 'a', 'fresh', 'school', ',', 'a', 'school', 'that', 'is', 'to', 'have', 'in', 'itself', 'all', 'the', 'passion', 'of', 'the', 'romantic', 'spirit', ',', 'all', 'the', 'perfection', 'of', 'the', 'spirit', 'that', 'is', 'greek', '.', 'the', 'harmony', 'of', 'soul', 'and', 'body', ',', '--how', 'much', 'that', 'is', '!', 'we', 'in', 'our', 'madness', 'have', 'separated', 'the', 'two', ',', 'and', 'have', 'invented', 'a', 'realism', 'that', 'is', 'bestial', ',', 'an', 'ideality', 'that', 'is', 'void', '.', 'harry', '!', 'harry', '!', 'if', 'you', 'only', 'knew', 'what', 'dorian', 'gray', 'is', 'to', 'me', '!', 'you', 'remember', 'that', 'landscape', 'of', 'mine', ',', 'for', 'which', 'agnew', 'offered', 'me', 'such', 'a', 'huge', 'price', ',', 'but', 'which', 'i', 'would', 'not', 'part', 'with', '?', 'it', 'is', 'one', 'of', 'the', 'best', 'things', 'i', 'have', 'ever', 'done', '.', 'and', 'why', 'is', 'it', 'so', '?', 'because', ',', 'while', 'i', 'was', 'painting', 'it', ',', 'dorian', 'gray', 'sat', 'beside', 'me', '.', 'basil', ',', 'this', 'is', 'quite', 'wonderful', '!', 'i', 'must', 'see', 'dorian', 'gray', '.', 'hallward', 'got', 'up', 'from', 'the', 'seat', ',', 'and', 'walked', 'up', 'and', 'down', 'the', '[10]', 'garden', '.', 'after', 'some', 'time', 'he', 'came', 'back', '.', 'you', 'don', \"'\", 't', 'understand', ',', 'harry', ',', 'he', 'said', '.', 'dorian', 'gray', 'is', 'merely', 'to', 'me', 'a', 'motive', 'in', 'art', '.', 'he', 'is', 'never', 'more', 'present', 'in', 'my', 'work', 'than', 'when', 'no', 'image', 'of', 'him', 'is', 'there', '.', 'he', 'is', 'simply', 'a', 'suggestion', ',', 'as', 'i', 'have', 'said', ',', 'of', 'a', 'new', 'manner', '.', 'i', 'see', 'him', 'in', 'the', 'curves', 'of', 'certain', 'lines', ',', 'in', 'the', 'loveliness', 'and', 'the', 'subtleties', 'of', 'certain', 'colors', '.', 'that', 'is', 'all', '.', 'then', 'why', 'won', \"'\", 't', 'you', 'exhibit', 'his', 'portrait', '?', 'because', 'i', 'have', 'put', 'into', 'it', 'all', 'the', 'extraordinary', 'romance', 'of', 'which', ',', 'of', 'course', ',', 'i', 'have', 'never', 'dared', 'to', 'speak', 'to', 'him', '.', 'he', 'knows', 'nothing', 'about', 'it', '.', 'he', 'will', 'never', 'know', 'anything', 'about', 'it', '.', 'but', 'the', 'world', 'might', 'guess', 'it', 'and', 'i', 'will', 'not', 'bare', 'my', 'soul', 'to', 'their', 'shallow', ',', 'prying', 'eyes', '.', 'my', 'heart', 'shall', 'never', 'be', 'put', 'under', 'their', 'microscope', '.', 'there', 'is', 'too', 'much', 'of', 'myself', 'in', 'the', 'thing', ',', 'harry', ',', '--too', 'much', 'of', 'myself', '!', 'poets', 'are', 'not', 'so', 'scrupulous', 'as', 'you', 'are', '.', 'they', 'know', 'how', 'useful', 'passion', 'is', 'for', 'publication', '.', 'nowadays', 'a', 'broken', 'heart', 'will', 'run', 'to', 'many', 'editions', '.', 'i', 'hate', 'them', 'for', 'it', '.', 'an', 'artist', 'should', 'create', 'beautiful', 'things', ',', 'but', 'should', 'put', 'nothing', 'of', 'his', 'own', 'life', 'into', 'them', '.', 'we', 'live', 'in', 'an', 'age', 'when', 'men', 'treat', 'art', 'as', 'if', 'it', 'were', 'meant', 'to', 'be', 'a', 'form', 'of', 'autobiography', '.', 'we', 'have', 'lost', 'the', 'abstract', 'sense', 'of', 'beauty', '.', 'if', 'i', 'live', ',', 'i', 'will', 'show', 'the', 'world', 'what', 'it', 'is', 'and', 'for', 'that', 'reason', 'the', 'world', 'shall', 'never', 'see', 'my', 'portrait', 'of', 'dorian', 'gray', '.', 'i', 'think', 'you', 'are', 'wrong', ',', 'basil', ',', 'but', 'i', 'won', \"'\", 't', 'argue', 'with', 'you', '.', 'it', 'is', 'only', 'the', 'intellectually', 'lost', 'who', 'ever', 'argue', '.', 'tell', 'me', ',', 'is', 'dorian', 'gray', 'very', 'fond', 'of', 'you', '?', 'hallward', 'considered', 'for', 'a', 'few', 'moments', '.', 'he', 'likes', 'me', ',', 'he', 'answered', ',', 'after', 'a', 'pause', 'i', 'know', 'he', 'likes', 'me', '.', 'of', 'course', 'i', 'flatter', 'him', 'dreadfully', '.', 'i', 'find', 'a', 'strange', 'pleasure', 'in', 'saying', 'things', 'to', 'him', 'that', 'i', 'know', 'i', 'shall', 'be', 'sorry', 'for', 'having', 'said', '.', 'i', 'give', 'myself', 'away', '.', 'as', 'a', 'rule', ',', 'he', 'is', 'charming', 'to', 'me', ',', 'and', 'we', 'walk', 'home', 'together', 'from', 'the', 'club', 'arm', 'in', 'arm', ',', 'or', 'sit', 'in', 'the', 'studio', 'and', 'talk', 'of', 'a', 'thousand', 'things', '.', 'now', 'and', 'then', ',', 'however', ',', 'he', 'is', 'horribly', 'thoughtless', ',', 'and', 'seems', 'to', 'take', 'a', 'real', 'delight', 'in', 'giving', 'me', 'pain', '.', 'then', 'i', 'feel', ',', 'harry', ',', 'that', 'i', 'have', 'given', 'away', 'my', 'whole', 'soul', 'to', 'some', 'one', 'who', 'treats', 'it', 'as', 'if', 'it', 'were', 'a', 'flower', 'to', 'put', 'in', 'his', 'coat', ',', 'a', 'bit', 'of', 'decoration', 'to', 'charm', 'his', 'vanity', ',', 'an', 'ornament', 'for', 'a', 'summer', \"'\", 's', 'day', '.', 'days', 'in', 'summer', ',', 'basil', ',', 'are', 'apt', 'to', 'linger', '.', 'perhaps', 'you', 'will', 'tire', 'sooner', 'than', 'he', 'will', '.', 'it', 'is', 'a', 'sad', 'thing', 'to', 'think', 'of', ',', 'but', 'there', 'is', 'no', 'doubt', 'that', 'genius', 'lasts', 'longer', 'than', 'beauty', '.', 'that', 'accounts', 'for', 'the', 'fact', 'that', 'we', 'all', 'take', 'such', 'pains', 'to', 'over-educate', 'ourselves', '.', 'in', 'the', 'wild', 'struggle', 'for', 'existence', ',', 'we', 'want', 'to', 'have', 'something', 'that', 'endures', ',', 'and', 'so', 'we', 'fill', 'our', 'minds', 'with', 'rubbish', 'and', 'facts', ',', 'in', 'the', 'silly', 'hope', 'of', 'keeping', 'our', 'place', '.', 'the', 'thoroughly', 'well', 'informed', 'man', ',', '--that', 'is', 'the', 'modern', 'ideal', '.', 'and', 'the', 'mind', 'of', 'the', 'thoroughly', 'well', 'informed', 'man', 'is', 'a', 'dreadful', 'thing', '.', 'it', 'is', 'like', 'a', 'bric-à-brac', 'shop', ',', 'all', 'monsters', 'and', 'dust', ',', 'and', 'everything', 'priced', 'above', 'its', 'proper', 'value', '.', 'i', 'think', 'you', 'will', 'tire', 'first', ',', 'all', 'the', 'same', '.', 'some', 'day', 'you', 'will', 'look', 'at', 'gray', ',', 'and', 'he', 'will', 'seem', 'to', 'you', 'to', 'be', 'a', 'little', 'out', 'of', 'drawing', ',', 'or', 'you', 'won', \"'\", 't', 'like', 'his', 'tone', 'of', 'color', ',', 'or', 'something', '.', 'you', 'will', 'bitterly', 'reproach', 'him', 'in', 'your', 'own', 'heart', ',', 'and', 'seriously', 'think', 'that', 'he', 'has', 'behaved', 'very', 'badly', 'to', 'you', '.', 'the', 'next', 'time', 'he', 'calls', ',', 'you', 'will', 'be', '[11]', 'perfectly', 'cold', 'and', 'indifferent', '.', 'it', 'will', 'be', 'a', 'great', 'pity', ',', 'for', 'it', 'will', 'alter', 'you', '.', 'the', 'worst', 'of', 'having', 'a', 'romance', 'is', 'that', 'it', 'leaves', 'one', 'so', 'unromantic', '.', 'harry', ',', 'don', \"'\", 't', 'talk', 'like', 'that', '.', 'as', 'long', 'as', 'i', 'live', ',', 'the', 'personality', 'of', 'dorian', 'gray', 'will', 'dominate', 'me', '.', 'you', 'can', \"'\", 't', 'feel', 'what', 'i', 'feel', '.', 'you', 'change', 'too', 'often', '.', 'ah', ',', 'my', 'dear', 'basil', ',', 'that', 'is', 'exactly', 'why', 'i', 'can', 'feel', 'it', '.', 'those', 'who', 'are', 'faithful', 'know', 'only', 'the', 'pleasures', 'of', 'love', 'it', 'is', 'the', 'faithless', 'who', 'know', 'love', \"'\", 's', 'tragedies', '.', 'and', 'lord', 'henry', 'struck', 'a', 'light', 'on', 'a', 'dainty', 'silver', 'case', ',', 'and', 'began', 'to', 'smoke', 'a', 'cigarette', 'with', 'a', 'self-conscious', 'and', 'self-satisfied', 'air', ',', 'as', 'if', 'he', 'had', 'summed', 'up', 'life', 'in', 'a', 'phrase', '.', 'there', 'was', 'a', 'rustle', 'of', 'chirruping', 'sparrows', 'in', 'the', 'ivy', ',', 'and', 'the', 'blue', 'cloud-shadows', 'chased', 'themselves', 'across', 'the', 'grass', 'like', 'swallows', '.', 'how', 'pleasant', 'it', 'was', 'in', 'the', 'garden', '!', 'and', 'how', 'delightful', 'other', 'people', \"'\", 's', 'emotions', 'were', '!', '--much', 'more', 'delightful', 'than', 'their', 'ideas', ',', 'it', 'seemed', 'to', 'him', '.', 'one', \"'\", 's', 'own', 'soul', ',', 'and', 'the', 'passions', 'of', 'one', \"'\", 's', 'friends', ',', '--those', 'were', 'the', 'fascinating', 'things', 'in', 'life', '.', 'he', 'thought', 'with', 'pleasure', 'of', 'the', 'tedious', 'luncheon', 'that', 'he', 'had', 'missed', 'by', 'staying', 'so', 'long', 'with', 'basil', 'hallward', '.', 'had', 'he', 'gone', 'to', 'his', 'aunt', \"'\", 's', ',', 'he', 'would', 'have', 'been', 'sure', 'to', 'meet', 'lord', 'goodbody', 'there', ',', 'and', 'the', 'whole', 'conversation', 'would', 'have', 'been', 'about', 'the', 'housing', 'of', 'the', 'poor', ',', 'and', 'the', 'necessity', 'for', 'model', 'lodging-houses', '.', 'it', 'was', 'charming', 'to', 'have', 'escaped', 'all', 'that', '!', 'as', 'he', 'thought', 'of', 'his', 'aunt', ',', 'an', 'idea', 'seemed', 'to', 'strike', 'him', '.', 'he', 'turned', 'to', 'hallward', ',', 'and', 'said', ',', 'my', 'dear', 'fellow', ',', 'i', 'have', 'just', 'remembered', '.', 'remembered', 'what', ',', 'harry', '?', 'where', 'i', 'heard', 'the', 'name', 'of', 'dorian', 'gray', '.', 'where', 'was', 'it', '?', 'asked', 'hallward', ',', 'with', 'a', 'slight', 'frown', '.', 'don', \"'\", 't', 'look', 'so', 'angry', ',', 'basil', '.', 'it', 'was', 'at', 'my', 'aunt', \"'\", 's', ',', 'lady', 'agatha', \"'\", 's', '.', 'she', 'told', 'me', 'she', 'had', 'discovered', 'a', 'wonderful', 'young', 'man', ',', 'who', 'was', 'going', 'to', 'help', 'her', 'in', 'the', 'east', 'end', ',', 'and', 'that', 'his', 'name', 'was', 'dorian', 'gray', '.', 'i', 'am', 'bound', 'to', 'state', 'that', 'she', 'never', 'told', 'me', 'he', 'was', 'good-looking', '.', 'women', 'have', 'no', 'appreciation', 'of', 'good', 'looks', '.', 'at', 'least', ',', 'good', 'women', 'have', 'not', '.', 'she', 'said', 'that', 'he', 'was', 'very', 'earnest', ',', 'and', 'had', 'a', 'beautiful', 'nature', '.', 'i', 'at', 'once', 'pictured', 'to', 'myself', 'a', 'creature', 'with', 'spectacles', 'and', 'lank', 'hair', ',', 'horridly', 'freckled', ',', 'and', 'tramping', 'about', 'on', 'huge', 'feet', '.', 'i', 'wish', 'i', 'had', 'known', 'it', 'was', 'your', 'friend', '.', 'i', 'am', 'very', 'glad', 'you', 'didn', \"'\", 't', ',', 'harry', '.', 'why', '?', 'i', 'don', \"'\", 't', 'want', 'you', 'to', 'meet', 'him', '.', 'mr', '.', 'dorian', 'gray', 'is', 'in', 'the', 'studio', ',', 'sir', ',', 'said', 'the', 'butler', ',', 'coming', 'into', 'the', 'garden', '.', 'you', 'must', 'introduce', 'me', 'now', ',', 'cried', 'lord', 'henry', ',', 'laughing', '.', 'basil', 'hallward', 'turned', 'to', 'the', 'servant', ',', 'who', 'stood', 'blinking', 'in', 'the', 'sunlight', '.', 'ask', 'mr', '.', 'gray', 'to', 'wait', ',', 'parker', 'i', 'will', 'be', 'in', 'in', 'a', 'few', 'moments', '.', 'the', 'man', 'bowed', ',', 'and', 'went', 'up', 'the', 'walk', '.', 'then', 'he', 'looked', 'at', 'lord', 'henry', '.', 'dorian', 'gray', 'is', 'my', 'dearest', 'friend', ',', 'he', 'said', '.', 'he', 'has', 'a', 'simple', 'and', 'a', 'beautiful', 'nature', '.', 'your', 'aunt', 'was', 'quite', 'right', 'in', 'what', 'she', 'said', 'of', 'him', '.', 'don', \"'\", 't', 'spoil', 'him', 'for', 'me', '.', 'don', \"'\", 't', 'try', 'to', 'influence', 'him', '.', 'your', 'influence', 'would', 'be', 'bad', '.', 'the', 'world', 'is', 'wide', ',', 'and', 'has', 'many', 'marvellous', 'people', 'in', 'it', '.', 'don', \"'\", 't', 'take', '[12]', 'away', 'from', 'me', 'the', 'one', 'person', 'that', 'makes', 'life', 'absolutely', 'lovely', 'to', 'me', ',', 'and', 'that', 'gives', 'to', 'my', 'art', 'whatever', 'wonder', 'or', 'charm', 'it', 'possesses', '.', 'mind', ',', 'harry', ',', 'i', 'trust', 'you', '.', 'he', 'spoke', 'very', 'slowly', ',', 'and', 'the', 'words', 'seemed', 'wrung', 'out', 'of', 'him', 'almost', 'against', 'his', 'will', '.', 'what', 'nonsense', 'you', 'talk', '!', 'said', 'lord', 'henry', ',', 'smiling', ',', 'and', ',', 'taking', 'hallward', 'by', 'the', 'arm', ',', 'he', 'almost', 'led', 'him', 'into', 'the', 'house', '.', 'chapter', 'ii', '[', '.', '.', '.', '12]', 'as', 'they', 'entered', 'they', 'saw', 'dorian', 'gray', '.', 'he', 'was', 'seated', 'at', 'the', 'piano', ',', 'with', 'his', 'back', 'to', 'them', ',', 'turning', 'over', 'the', 'pages', 'of', 'a', 'volume', 'of', 'schumann', \"'\", 's', 'forest', 'scenes', '.', 'you', 'must', 'lend', 'me', 'these', ',', 'basil', ',', 'he', 'cried', '.', 'i', 'want', 'to', 'learn', 'them', '.', 'they', 'are', 'perfectly', 'charming', '.', 'that', 'entirely', 'depends', 'on', 'how', 'you', 'sit', 'to-day', ',', 'dorian', '.', 'oh', ',', 'i', 'am', 'tired', 'of', 'sitting', ',', 'and', 'i', 'don', \"'\", 't', 'want', 'a', 'life-sized', 'portrait', 'of', 'myself', ',', 'answered', 'the', 'lad', ',', 'swinging', 'round', 'on', 'the', 'music-stool', ',', 'in', 'a', 'wilful', ',', 'petulant', 'manner', '.', 'when', 'he', 'caught', 'sight', 'of', 'lord', 'henry', ',', 'a', 'faint', 'blush', 'colored', 'his', 'cheeks', 'for', 'a', 'moment', ',', 'and', 'he', 'started', 'up', '.', 'i', 'beg', 'your', 'pardon', ',', 'basil', ',', 'but', 'i', 'didn', \"'\", 't', 'know', 'you', 'had', 'any', 'one', 'with', 'you', '.', 'this', 'is', 'lord', 'henry', 'wotton', ',', 'dorian', ',', 'an', 'old', 'oxford', 'friend', 'of', 'mine', '.', 'i', 'have', 'just', 'been', 'telling', 'him', 'what', 'a', 'capital', 'sitter', 'you', 'were', ',', 'and', 'now', 'you', 'have', 'spoiled', 'everything', '.', 'you', 'have', 'not', 'spoiled', 'my', 'pleasure', 'in', 'meeting', 'you', ',', 'mr', '.', 'gray', ',', 'said', 'lord', 'henry', ',', 'stepping', 'forward', 'and', 'shaking', 'him', 'by', 'the', 'hand', '.', 'my', 'aunt', 'has', 'often', 'spoken', 'to', 'me', 'about', 'you', '.', 'you', 'are', 'one', 'of', 'her', 'favorites', ',', 'and', ',', 'i', 'am', 'afraid', ',', 'one', 'of', 'her', 'victims', 'also', '.', 'i', 'am', 'in', 'lady', 'agatha', \"'\", 's', 'black', 'books', 'at', 'present', ',', 'answered', 'dorian', ',', 'with', 'a', 'funny', 'look', 'of', 'penitence', '.', 'i', 'promised', 'to', 'go', 'to', 'her', 'club', 'in', 'whitechapel', 'with', 'her', 'last', 'tuesday', ',', 'and', 'i', 'really', 'forgot', 'all', 'about', 'it', '.', 'we', 'were', 'to', 'have', 'played', 'a', 'duet', 'together', ',', '--three', 'duets', ',', 'i', 'believe', '.', 'i', 'don', \"'\", 't', 'know', 'what', 'she', 'will', 'say', 'to', 'me', '.', 'i', 'am', 'far', 'too', 'frightened', 'to', 'call', '.', 'oh', ',', 'i', 'will', 'make', 'your', 'peace', 'with', 'my', 'aunt', '.', 'she', 'is', 'quite', 'devoted', 'to', 'you', '.', 'and', 'i', 'don', \"'\", 't', 'think', 'it', 'really', 'matters', 'about', 'your', 'not', 'being', 'there', '.', 'the', 'audience', 'probably', 'thought', 'it', 'was', 'a', 'duet', '.', 'when', 'aunt', 'agatha', 'sits', 'down', 'to', 'the', 'piano', 'she', 'makes', 'quite', 'enough', 'noise', 'for', 'two', 'people', '.', 'that', 'is', 'very', 'horrid', 'to', 'her', ',', 'and', 'not', 'very', 'nice', 'to', 'me', ',', 'answered', 'dorian', ',', 'laughing', '.', 'lord', 'henry', 'looked', 'at', 'him', '.', 'yes', ',', 'he', 'was', 'certainly', 'wonderfully', 'handsome', ',', 'with', 'his', 'finely-curved', 'scarlet', 'lips', ',', 'his', 'frank', 'blue', 'eyes', ',', 'his', 'crisp', 'gold', 'hair', '.', 'there', 'was', 'something', 'in', 'his', 'face', 'that', 'made', 'one', 'trust', 'him', 'at', 'once', '.', 'all', 'the', 'candor', 'of', 'youth', 'was', 'there', ',', 'as', 'well', 'as', 'all', 'youth', \"'\", 's', 'passionate', 'purity', '.', 'one', 'felt', 'that', 'he', 'had', 'kept', 'himself', 'unspotted', 'from', 'the', 'world', '.', 'no', 'wonder', 'basil', 'hallward', 'worshipped', 'him', '.', 'he', 'was', 'made', 'to', 'be', 'worshipped', '.', 'you', 'are', 'too', 'charming', 'to', 'go', 'in', 'for', 'philanthropy', ',', 'mr', '.', 'gray', ',', '--far', 'too', 'charming', '.', 'and', 'lord', 'henry', 'flung', 'himself', 'down', 'on', 'the', 'divan', ',', 'and', 'opened', 'his', 'cigarette-case', '.', 'hallward', 'had', 'been', 'busy', 'mixing', 'his', 'colors', 'and', 'getting', 'his', 'brushes', 'ready', '.', 'he', 'was', 'looking', 'worried', ',', 'and', 'when', 'he', 'heard', 'lord', 'henry', \"'\", 's', 'last', '[13]', 'remark', 'he', 'glanced', 'at', 'him', ',', 'hesitated', 'for', 'a', 'moment', ',', 'and', 'then', 'said', ',', 'harry', ',', 'i', 'want', 'to', 'finish', 'this', 'picture', 'to-day', '.', 'would', 'you', 'think', 'it', 'awfully', 'rude', 'of', 'me', 'if', 'i', 'asked', 'you', 'to', 'go', 'away', '?', 'lord', 'henry', 'smiled', ',', 'and', 'looked', 'at', 'dorian', 'gray', '.', 'am', 'i', 'to', 'go', ',', 'mr', '.', 'gray', '?', 'he', 'asked', '.', 'oh', ',', 'please', 'don', \"'\", 't', ',', 'lord', 'henry', '.', 'i', 'see', 'that', 'basil', 'is', 'in', 'one', 'of', 'his', 'sulky', 'moods', 'and', 'i', 'can', \"'\", 't', 'bear', 'him', 'when', 'he', 'sulks', '.', 'besides', ',', 'i', 'want', 'you', 'to', 'tell', 'me', 'why', 'i', 'should', 'not', 'go', 'in', 'for', 'philanthropy', '.', 'i', 'don', \"'\", 't', 'know', 'that', 'i', 'shall', 'tell', 'you', 'that', ',', 'mr', '.', 'gray', '.', 'but', 'i', 'certainly', 'will', 'not', 'run', 'away', ',', 'now', 'that', 'you', 'have', 'asked', 'me', 'to', 'stop', '.', 'you', 'don', \"'\", 't', 'really', 'mind', ',', 'basil', ',', 'do', 'you', '?', 'you', 'have', 'often', 'told', 'me', 'that', 'you', 'liked', 'your', 'sitters', 'to', 'have', 'some', 'one', 'to', 'chat', 'to', '.', 'hallward', 'bit', 'his', 'lip', '.', 'if', 'dorian', 'wishes', 'it', ',', 'of', 'course', 'you', 'must', 'stay', '.', 'dorian', \"'\", 's', 'whims', 'are', 'laws', 'to', 'everybody', ',', 'except', 'himself', '.', 'lord', 'henry', 'took', 'up', 'his', 'hat', 'and', 'gloves', '.', 'you', 'are', 'very', 'pressing', ',', 'basil', ',', 'but', 'i', 'am', 'afraid', 'i', 'must', 'go', '.', 'i', 'have', 'promised', 'to', 'meet', 'a', 'man', 'at', 'the', 'orleans', '.', '--good-by', ',', 'mr', '.', 'gray', '.', 'come', 'and', 'see', 'me', 'some', 'afternoon', 'in', 'curzon', 'street', '.', 'i', 'am', 'nearly', 'always', 'at', 'home', 'at', 'five', 'o', \"'\", 'clock', '.', 'write', 'to', 'me', 'when', 'you', 'are', 'coming', '.', 'i', 'should', 'be', 'sorry', 'to', 'miss', 'you', '.', 'basil', ',', 'cried', 'dorian', 'gray', ',', 'if', 'lord', 'henry', 'goes', 'i', 'shall', 'go', 'too', '.', 'you', 'never', 'open', 'your', 'lips', 'while', 'you', 'are', 'painting', ',', 'and', 'it', 'is', 'horribly', 'dull', 'standing', 'on', 'a', 'platform', 'and', 'trying', 'to', 'look', 'pleasant', '.', 'ask', 'him', 'to', 'stay', '.', 'i', 'insist', 'upon', 'it', '.', 'stay', ',', 'harry', ',', 'to', 'oblige', 'dorian', ',', 'and', 'to', 'oblige', 'me', ',', 'said', 'hallward', ',', 'gazing', 'intently', 'at', 'his', 'picture', '.', 'it', 'is', 'quite', 'true', ',', 'i', 'never', 'talk', 'when', 'i', 'am', 'working', ',', 'and', 'never', 'listen', 'either', ',', 'and', 'it', 'must', 'be', 'dreadfully', 'tedious', 'for', 'my', 'unfortunate', 'sitters', '.', 'i', 'beg', 'you', 'to', 'stay', '.', 'but', 'what', 'about', 'my', 'man', 'at', 'the', 'orleans', '?', 'hallward', 'laughed', '.', 'i', 'don', \"'\", 't', 'think', 'there', 'will', 'be', 'any', 'difficulty', 'about', 'that', '.', 'sit', 'down', 'again', ',', 'harry', '.', '--and', 'now', ',', 'dorian', ',', 'get', 'up', 'on', 'the', 'platform', ',', 'and', 'don', \"'\", 't', 'move', 'about', 'too', 'much', ',', 'or', 'pay', 'any', 'attention', 'to', 'what', 'lord', 'henry', 'says', '.', 'he', 'has', 'a', 'very', 'bad', 'influence', 'over', 'all', 'his', 'friends', ',', 'with', 'the', 'exception', 'of', 'myself', '.', 'dorian', 'stepped', 'up', 'on', 'the', 'dais', ',', 'with', 'the', 'air', 'of', 'a', 'young', 'greek', 'martyr', ',', 'and', 'made', 'a', 'little', 'moue', 'of', 'discontent', 'to', 'lord', 'henry', ',', 'to', 'whom', 'he', 'had', 'rather', 'taken', 'a', 'fancy', '.', 'he', 'was', 'so', 'unlike', 'hallward', '.', 'they', 'made', 'a', 'delightful', 'contrast', '.', 'and', 'he', 'had', 'such', 'a', 'beautiful', 'voice', '.', 'after', 'a', 'few', 'moments', 'he', 'said', 'to', 'him', ',', 'have', 'you', 'really', 'a', 'very', 'bad', 'influence', ',', 'lord', 'henry', '?', 'as', 'bad', 'as', 'basil', 'says', '?', 'there', 'is', 'no', 'such', 'thing', 'as', 'a', 'good', 'influence', ',', 'mr', '.', 'gray', '.', 'all', 'influence', 'is', 'immoral', ',', '--immoral', 'from', 'the', 'scientific', 'point', 'of', 'view', '.', 'why', '?', 'because', 'to', 'influence', 'a', 'person', 'is', 'to', 'give', 'him', 'one', \"'\", 's', 'own', 'soul', '.', 'he', 'does', 'not', 'think', 'his', 'natural', 'thoughts', ',', 'or', 'burn', 'with', 'his', 'natural', 'passions', '.', 'his', 'virtues', 'are', 'not', 'real', 'to', 'him', '.', 'his', 'sins', ',', 'if', 'there', 'are', 'such', 'things', 'as', 'sins', ',', 'are', 'borrowed', '.', 'he', 'becomes', 'an', 'echo', 'of', 'some', 'one', 'else', \"'\", 's', 'music', ',', 'an', 'actor', 'of', 'a', 'part', 'that', 'has', 'not', 'been', 'written', 'for', 'him', '.', 'the', 'aim', 'of', 'life', 'is', 'self-development', '.', 'to', 'realize', 'one', \"'\", 's', 'nature', 'perfectly', ',', '--that', 'is', 'what', 'each', 'of', 'us', 'is', 'here', 'for', '.', 'people', 'are', 'afraid', 'of', 'themselves', ',', 'nowadays', '.', 'they', 'have', 'forgotten', 'the', 'highest', 'of', 'all', 'duties', ',', 'the', 'duty', 'that', 'one', 'owes', 'to', 'one', \"'\", 's', '[14]', 'self', '.', 'of', 'course', 'they', 'are', 'charitable', '.', 'they', 'feed', 'the', 'hungry', ',', 'and', 'clothe', 'the', 'beggar', '.', 'but', 'their', 'own', 'souls', 'starve', ',', 'and', 'are', 'naked', '.', 'courage', 'has', 'gone', 'out', 'of', 'our', 'race', '.', 'perhaps', 'we', 'never', 'really', 'had', 'it', '.', 'the', 'terror', 'of', 'society', ',', 'which', 'is', 'the', 'basis', 'of', 'morals', ',', 'the', 'terror', 'of', 'god', ',', 'which', 'is', 'the', 'secret', 'of', 'religion', ',', '--these', 'are', 'the', 'two', 'things', 'that', 'govern', 'us', '.', 'and', 'yet--', 'just', 'turn', 'your', 'head', 'a', 'little', 'more', 'to', 'the', 'right', ',', 'dorian', ',', 'like', 'a', 'good', 'boy', ',', 'said', 'hallward', ',', 'deep', 'in', 'his', 'work', ',', 'and', 'conscious', 'only', 'that', 'a', 'look', 'had', 'come', 'into', 'the', 'lad', \"'\", 's', 'face', 'that', 'he', 'had', 'never', 'seen', 'there', 'before', '.', 'and', 'yet', ',', 'continued', 'lord', 'henry', ',', 'in', 'his', 'low', ',', 'musical', 'voice', ',', 'and', 'with', 'that', 'graceful', 'wave', 'of', 'the', 'hand', 'that', 'was', 'always', 'so', 'characteristic', 'of', 'him', ',', 'and', 'that', 'he', 'had', 'even', 'in', 'his', 'eton', 'days', ',', 'i', 'believe', 'that', 'if', 'one', 'man', 'were', 'to', 'live', 'his', 'life', 'out', 'fully', 'and', 'completely', ',', 'were', 'to', 'give', 'form', 'to', 'every', 'feeling', ',', 'expression', 'to', 'every', 'thought', ',', 'reality', 'to', 'every', 'dream', ',', '--i', 'believe', 'that', 'the', 'world', 'would', 'gain', 'such', 'a', 'fresh', 'impulse', 'of', 'joy', 'that', 'we', 'would', 'forget', 'all', 'the', 'maladies', 'of', 'mediaevalism', ',', 'and', 'return', 'to', 'the', 'hellenic', 'ideal', ',', '--to', 'something', 'finer', ',', 'richer', ',', 'than', 'the', 'hellenic', 'ideal', ',', 'it', 'may', 'be', '.', 'but', 'the', 'bravest', 'man', 'among', 'us', 'is', 'afraid', 'of', 'himself', '.', 'the', 'mutilation', 'of', 'the', 'savage', 'has', 'its', 'tragic', 'survival', 'in', 'the', 'self-denial', 'that', 'mars', 'our', 'lives', '.', 'we', 'are', 'punished', 'for', 'our', 'refusals', '.', 'every', 'impulse', 'that', 'we', 'strive', 'to', 'strangle', 'broods', 'in', 'the', 'mind', ',', 'and', 'poisons', 'us', '.', 'the', 'body', 'sins', 'once', ',', 'and', 'has', 'done', 'with', 'its', 'sin', ',', 'for', 'action', 'is', 'a', 'mode', 'of', 'purification', '.', 'nothing', 'remains', 'then', 'but', 'the', 'recollection', 'of', 'a', 'pleasure', ',', 'or', 'the', 'luxury', 'of', 'a', 'regret', '.', 'the', 'only', 'way', 'to', 'get', 'rid', 'of', 'a', 'temptation', 'is', 'to', 'yield', 'to', 'it', '.', 'resist', 'it', ',', 'and', 'your', 'soul', 'grows', 'sick', 'with', 'longing', 'for', 'the', 'things', 'it', 'has', 'forbidden', 'to', 'itself', ',', 'with', 'desire', 'for', 'what', 'its', 'monstrous', 'laws', 'have', 'made', 'monstrous', 'and', 'unlawful', '.', 'it', 'has', 'been', 'said', 'that', 'the', 'great', 'events', 'of', 'the', 'world', 'take', 'place', 'in', 'the', 'brain', '.', 'it', 'is', 'in', 'the', 'brain', ',', 'and', 'the', 'brain', 'only', ',', 'that', 'the', 'great', 'sins', 'of', 'the', 'world', 'take', 'place', 'also', '.', 'you', ',', 'mr', '.', 'gray', ',', 'you', 'yourself', ',', 'with', 'your', 'rose-red', 'youth', 'and', 'your', 'rose-white', 'boyhood', ',', 'you', 'have', 'had', 'passions', 'that', 'have', 'made', 'you', 'afraid', ',', 'thoughts', 'that', 'have', 'filled', 'you', 'with', 'terror', ',', 'day-dreams', 'and', 'sleeping', 'dreams', 'whose', 'mere', 'memory', 'might', 'stain', 'your', 'cheek', 'with', 'shame--', 'stop', '!', 'murmured', 'dorian', 'gray', ',', 'stop', '!', 'you', 'bewilder', 'me', '.', 'i', 'don', \"'\", 't', 'know', 'what', 'to', 'say', '.', 'there', 'is', 'some', 'answer', 'to', 'you', ',', 'but', 'i', 'cannot', 'find', 'it', '.', 'don', \"'\", 't', 'speak', '.', 'let', 'me', 'think', ',', 'or', ',', 'rather', ',', 'let', 'me', 'try', 'not', 'to', 'think', '.', 'for', 'nearly', 'ten', 'minutes', 'he', 'stood', 'there', 'motionless', ',', 'with', 'parted', 'lips', ',', 'and', 'eyes', 'strangely', 'bright', '.', 'he', 'was', 'dimly', 'conscious', 'that', 'entirely', 'fresh', 'impulses', 'were', 'at', 'work', 'within', 'him', ',', 'and', 'they', 'seemed', 'to', 'him', 'to', 'have', 'come', 'really', 'from', 'himself', '.', 'the', 'few', 'words', 'that', 'basil', \"'\", 's', 'friend', 'had', 'said', 'to', 'him--words', 'spoken', 'by', 'chance', ',', 'no', 'doubt', ',', 'and', 'with', 'wilful', 'paradox', 'in', 'them--had', 'yet', 'touched', 'some', 'secret', 'chord', ',', 'that', 'had', 'never', 'been', 'touched', 'before', ',', 'but', 'that', 'he', 'felt', 'was', 'now', 'vibrating', 'and', 'throbbing', 'to', 'curious', 'pulses', '.', 'music', 'had', 'stirred', 'him', 'like', 'that', '.', 'music', 'had', 'troubled', 'him', 'many', 'times', '.', 'but', 'music', 'was', 'not', 'articulate', '.', 'it', 'was', 'not', 'a', 'new', 'world', ',', 'but', 'rather', 'a', 'new', 'chaos', ',', 'that', 'it', 'created', 'in', 'us', '.', 'words', '!', 'mere', 'words', '!', 'how', 'terrible', 'they', 'were', '!', 'how', 'clear', ',', 'and', 'vivid', ',', 'and', 'cruel', '!', 'one', 'could', 'not', 'escape', 'from', 'them', '.', 'and', 'yet', 'what', 'a', 'subtle', 'magic', 'there', 'was', 'in', 'them', '!', '[15]', 'they', 'seemed', 'to', 'be', 'able', 'to', 'give', 'a', 'plastic', 'form', 'to', 'formless', 'things', ',', 'and', 'to', 'have', 'a', 'music', 'of', 'their', 'own', 'as', 'sweet', 'as', 'that', 'of', 'viol', 'or', 'of', 'lute', '.', 'mere', 'words', '!', 'was', 'there', 'anything', 'so', 'real', 'as', 'words', '?', 'yes', 'there', 'had', 'been', 'things', 'in', 'his', 'boyhood', 'that', 'he', 'had', 'not', 'understood', '.', 'he', 'understood', 'them', 'now', '.', 'life', 'suddenly', 'became', 'fiery-colored', 'to', 'him', '.', 'it', 'seemed', 'to', 'him', 'that', 'he', 'had', 'been', 'walking', 'in', 'fire', '.', 'why', 'had', 'he', 'not', 'known', 'it', '?', 'lord', 'henry', 'watched', 'him', ',', 'with', 'his', 'sad', 'smile', '.', 'he', 'knew', 'the', 'precise', 'psychological', 'moment', 'when', 'to', 'say', 'nothing', '.', 'he', 'felt', 'intensely', 'interested', '.', 'he', 'was', 'amazed', 'at', 'the', 'sudden', 'impression', 'that', 'his', 'words', 'had', 'produced', ',', 'and', ',', 'remembering', 'a', 'book', 'that', 'he', 'had', 'read', 'when', 'he', 'was', 'sixteen', ',', 'which', 'had', 'revealed', 'to', 'him', 'much', 'that', 'he', 'had', 'not', 'known', 'before', ',', 'he', 'wondered', 'whether', 'dorian', 'gray', 'was', 'passing', 'through', 'the', 'same', 'experience', '.', 'he', 'had', 'merely', 'shot', 'an', 'arrow', 'into', 'the', 'air', '.', 'had', 'it', 'hit', 'the', 'mark', '?', 'how', 'fascinating', 'the', 'lad', 'was', '!', 'hallward', 'painted', 'away', 'with', 'that', 'marvellous', 'bold', 'touch', 'of', 'his', ',', 'that', 'had', 'the', 'true', 'refinement', 'and', 'perfect', 'delicacy', 'that', 'come', 'only', 'from', 'strength', '.', 'he', 'was', 'unconscious', 'of', 'the', 'silence', '.', 'basil', ',', 'i', 'am', 'tired', 'of', 'standing', ',', 'cried', 'dorian', 'gray', ',', 'suddenly', '.', 'i', 'must', 'go', 'out', 'and', 'sit', 'in', 'the', 'garden', '.', 'the', 'air', 'is', 'stifling', 'here', '.', 'my', 'dear', 'fellow', ',', 'i', 'am', 'so', 'sorry', '.', 'when', 'i', 'am', 'painting', ',', 'i', 'can', \"'\", 't', 'think', 'of', 'anything', 'else', '.', 'but', 'you', 'never', 'sat', 'better', '.', 'you', 'were', 'perfectly', 'still', '.', 'and', 'i', 'have', 'caught', 'the', 'effect', 'i', 'wanted', ',', '--the', 'half-parted', 'lips', ',', 'and', 'the', 'bright', 'look', 'in', 'the', 'eyes', '.', 'i', 'don', \"'\", 't', 'know', 'what', 'harry', 'has', 'been', 'saying', 'to', 'you', ',', 'but', 'he', 'has', 'certainly', 'made', 'you', 'have', 'the', 'most', 'wonderful', 'expression', '.', 'i', 'suppose', 'he', 'has', 'been', 'paying', 'you', 'compliments', '.', 'you', 'mustn', \"'\", 't', 'believe', 'a', 'word', 'that', 'he', 'says', '.', 'he', 'has', 'certainly', 'not', 'been', 'paying', 'me', 'compliments', '.', 'perhaps', 'that', 'is', 'the', 'reason', 'i', 'don', \"'\", 't', 'think', 'i', 'believe', 'anything', 'he', 'has', 'told', 'me', '.', 'you', 'know', 'you', 'believe', 'it', 'all', ',', 'said', 'lord', 'henry', ',', 'looking', 'at', 'him', 'with', 'his', 'dreamy', ',', 'heavy-lidded', 'eyes', '.', 'i', 'will', 'go', 'out', 'to', 'the', 'garden', 'with', 'you', '.', 'it', 'is', 'horridly', 'hot', 'in', 'the', 'studio', '.', '--basil', ',', 'let', 'us', 'have', 'something', 'iced', 'to', 'drink', ',', 'something', 'with', 'strawberries', 'in', 'it', '.', 'certainly', ',', 'harry', '.', 'just', 'touch', 'the', 'bell', ',', 'and', 'when', 'parker', 'comes', 'i', 'will', 'tell', 'him', 'what', 'you', 'want', '.', 'i', 'have', 'got', 'to', 'work', 'up', 'this', 'background', ',', 'so', 'i', 'will', 'join', 'you', 'later', 'on', '.', 'don', \"'\", 't', 'keep', 'dorian', 'too', 'long', '.', 'i', 'have', 'never', 'been', 'in', 'better', 'form', 'for', 'painting', 'than', 'i', 'am', 'to-day', '.', 'this', 'is', 'going', 'to', 'be', 'my', 'masterpiece', '.', 'it', 'is', 'my', 'masterpiece', 'as', 'it', 'stands', '.', 'lord', 'henry', 'went', 'out', 'to', 'the', 'garden', ',', 'and', 'found', 'dorian', 'gray', 'burying', 'his', 'face', 'in', 'the', 'great', 'cool', 'lilac-blossoms', ',', 'feverishly', 'drinking', 'in', 'their', 'perfume', 'as', 'if', 'it', 'had', 'been', 'wine', '.', 'he', 'came', 'close', 'to', 'him', ',', 'and', 'put', 'his', 'hand', 'upon', 'his', 'shoulder', '.', 'you', 'are', 'quite', 'right', 'to', 'do', 'that', ',', 'he', 'murmured', '.', 'nothing', 'can', 'cure', 'the', 'soul', 'but', 'the', 'senses', ',', 'just', 'as', 'nothing', 'can', 'cure', 'the', 'senses', 'but', 'the', 'soul', '.', 'the', 'lad', 'started', 'and', 'drew', 'back', '.', 'he', 'was', 'bareheaded', ',', 'and', 'the', 'leaves', 'had', 'tossed', 'his', 'rebellious', 'curls', 'and', 'tangled', 'all', 'their', 'gilded', 'threads', '.', 'there', 'was', 'a', 'look', 'of', 'fear', 'in', 'his', 'eyes', ',', 'such', 'as', 'people', 'have', 'when', 'they', 'are', 'suddenly', 'awakened', '.', 'his', 'finely-chiselled', 'nostrils', 'quivered', ',', 'and', 'some', 'hidden', 'nerve', 'shook', 'the', 'scarlet', 'of', 'his', 'lips', 'and', 'left', 'them', 'trembling', '.', '[16]', 'yes', ',', 'continued', 'lord', 'henry', ',', 'that', 'is', 'one', 'of', 'the', 'great', 'secrets', 'of', 'life', ',', '--to', 'cure', 'the', 'soul', 'by', 'means', 'of', 'the', 'senses', ',', 'and', 'the', 'senses', 'by', 'means', 'of', 'the', 'soul', '.', 'you', 'are', 'a', 'wonderful', 'creature', '.', 'you', 'know', 'more', 'than', 'you', 'think', 'you', 'know', ',', 'just', 'as', 'you', 'know', 'less', 'than', 'you', 'want', 'to', 'know', '.', 'dorian', 'gray', 'frowned', 'and', 'turned', 'his', 'head', 'away', '.', 'he', 'could', 'not', 'help', 'liking', 'the', 'tall', ',', 'graceful', 'young', 'man', 'who', 'was', 'standing', 'by', 'him', '.', 'his', 'romantic', 'olive-colored', 'face', 'and', 'worn', 'expression', 'interested', 'him', '.', 'there', 'was', 'something', 'in', 'his', 'low', ',', 'languid', 'voice', 'that', 'was', 'absolutely', 'fascinating', '.', 'his', 'cool', ',', 'white', ',', 'flower-like', 'hands', ',', 'even', ',', 'had', 'a', 'curious', 'charm', '.', 'they', 'moved', ',', 'as', 'he', 'spoke', ',', 'like', 'music', ',', 'and', 'seemed', 'to', 'have', 'a', 'language', 'of', 'their', 'own', '.', 'but', 'he', 'felt', 'afraid', 'of', 'him', ',', 'and', 'ashamed', 'of', 'being', 'afraid', '.', 'why', 'had', 'it', 'been', 'left', 'for', 'a', 'stranger', 'to', 'reveal', 'him', 'to', 'himself', '?', 'he', 'had', 'known', 'basil', 'hallward', 'for', 'months', ',', 'but', 'the', 'friendship', 'between', 'then', 'had', 'never', 'altered', 'him', '.', 'suddenly', 'there', 'had', 'come', 'some', 'one', 'across', 'his', 'life', 'who', 'seemed', 'to', 'have', 'disclosed', 'to', 'him', 'life', \"'\", 's', 'mystery', '.', 'and', ',', 'yet', ',', 'what', 'was', 'there', 'to', 'be', 'afraid', 'of', '?', 'he', 'was', 'not', 'a', 'school-boy', ',', 'or', 'a', 'girl', '.', 'it', 'was', 'absurd', 'to', 'be', 'frightened', '.', 'let', 'us', 'go', 'and', 'sit', 'in', 'the', 'shade', ',', 'said', 'lord', 'henry', '.', 'parker', 'has', 'brought', 'out', 'the', 'drinks', ',', 'and', 'if', 'you', 'stay', 'any', 'longer', 'in', 'this', 'glare', 'you', 'will', 'be', 'quite', 'spoiled', ',', 'and', 'basil', 'will', 'never', 'paint', 'you', 'again', '.', 'you', 'really', 'must', 'not', 'let', 'yourself', 'become', 'sunburnt', '.', 'it', 'would', 'be', 'very', 'unbecoming', 'to', 'you', '.', 'what', 'does', 'it', 'matter', '?', 'cried', 'dorian', ',', 'laughing', ',', 'as', 'he', 'sat', 'down', 'on', 'the', 'seat', 'at', 'the', 'end', 'of', 'the', 'garden', '.', 'it', 'should', 'matter', 'everything', 'to', 'you', ',', 'mr', '.', 'gray', '.', 'why', '?', 'because', 'you', 'have', 'now', 'the', 'most', 'marvellous', 'youth', ',', 'and', 'youth', 'is', 'the', 'one', 'thing', 'worth', 'having', '.', 'i', 'don', \"'\", 't', 'feel', 'that', ',', 'lord', 'henry', '.', 'no', ',', 'you', 'don', \"'\", 't', 'feel', 'it', 'now', '.', 'some', 'day', ',', 'when', 'you', 'are', 'old', 'and', 'wrinkled', 'and', 'ugly', ',', 'when', 'thought', 'has', 'seared', 'your', 'forehead', 'with', 'its', 'lines', ',', 'and', 'passion', 'branded', 'your', 'lips', 'with', 'its', 'hideous', 'fires', ',', 'you', 'will', 'feel', 'it', ',', 'you', 'will', 'feel', 'it', 'terribly', '.', 'now', ',', 'wherever', 'you', 'go', ',', 'you', 'charm', 'the', 'world', '.', 'will', 'it', 'always', 'be', 'so', '?', 'you', 'have', 'a', 'wonderfully', 'beautiful', 'face', ',', 'mr', '.', 'gray', '.', 'don', \"'\", 't', 'frown', '.', 'you', 'have', '.', 'and', 'beauty', 'is', 'a', 'form', 'of', 'genius', ',', '--is', 'higher', ',', 'indeed', ',', 'than', 'genius', ',', 'as', 'it', 'needs', 'no', 'explanation', '.', 'it', 'is', 'one', 'of', 'the', 'great', 'facts', 'of', 'the', 'world', ',', 'like', 'sunlight', ',', 'or', 'spring-time', ',', 'or', 'the', 'reflection', 'in', 'dark', 'waters', 'of', 'that', 'silver', 'shell', 'we', 'call', 'the', 'moon', '.', 'it', 'cannot', 'be', 'questioned', '.', 'it', 'has', 'its', 'divine', 'right', 'of', 'sovereignty', '.', 'it', 'makes', 'princes', 'of', 'those', 'who', 'have', 'it', '.', 'you', 'smile', '?', 'ah', '!', 'when', 'you', 'have', 'lost', 'it', 'you', 'won', \"'\", 't', 'smile', '.', 'people', 'say', 'sometimes', 'that', 'beauty', 'is', 'only', 'superficial', '.', 'that', 'may', 'be', 'so', '.', 'but', 'at', 'least', 'it', 'is', 'not', 'so', 'superficial', 'as', 'thought', '.', 'to', 'me', ',', 'beauty', 'is', 'the', 'wonder', 'of', 'wonders', '.', 'it', 'is', 'only', 'shallow', 'people', 'who', 'do', 'not', 'judge', 'by', 'appearances', '.', 'the', 'true', 'mystery', 'of', 'the', 'world', 'is', 'the', 'visible', ',', 'not', 'the', 'invisible', '.', 'yes', ',', 'mr', '.', 'gray', ',', 'the', 'gods', 'have', 'been', 'good', 'to', 'you', '.', 'but', 'what', 'the', 'gods', 'give', 'they', 'quickly', 'take', 'away', '.', 'you', 'have', 'only', 'a', 'few', 'years', 'in', 'which', 'really', 'to', 'live', '.', 'when', 'your', 'youth', 'goes', ',', 'your', 'beauty', 'will', 'go', 'with', 'it', ',', 'and', 'then', 'you', 'will', 'suddenly', 'discover', 'that', 'there', 'are', 'no', 'triumphs', 'left', '[17]', 'for', 'you', ',', 'or', 'have', 'to', 'content', 'yourself', 'with', 'those', 'mean', 'triumphs', 'that', 'the', 'memory', 'of', 'your', 'past', 'will', 'make', 'more', 'bitter', 'than', 'defeats', '.', 'every', 'month', 'as', 'it', 'wanes', 'brings', 'you', 'nearer', 'to', 'something', 'dreadful', '.', 'time', 'is', 'jealous', 'of', 'you', ',', 'and', 'wars', 'against', 'your', 'lilies', 'and', 'your', 'roses', '.', 'you', 'will', 'become', 'sallow', ',', 'and', 'hollow-cheeked', ',', 'and', 'dull-eyed', '.', 'you', 'will', 'suffer', 'horribly', '.', 'realize', 'your', 'youth', 'while', 'you', 'have', 'it', '.', 'don', \"'\", 't', 'squander', 'the', 'gold', 'of', 'your', 'days', ',', 'listening', 'to', 'the', 'tedious', ',', 'trying', 'to', 'improve', 'the', 'hopeless', 'failure', ',', 'or', 'giving', 'away', 'your', 'life', 'to', 'the', 'ignorant', ',', 'the', 'common', ',', 'and', 'the', 'vulgar', ',', 'which', 'are', 'the', 'aims', ',', 'the', 'false', 'ideals', ',', 'of', 'our', 'age', '.', 'live', '!', 'live', 'the', 'wonderful', 'life', 'that', 'is', 'in', 'you', '!', 'let', 'nothing', 'be', 'lost', 'upon', 'you', '.', 'be', 'always', 'searching', 'for', 'new', 'sensations', '.', 'be', 'afraid', 'of', 'nothing', '.', 'a', 'new', 'hedonism', ',', '--that', 'is', 'what', 'our', 'century', 'wants', '.', 'you', 'might', 'be', 'its', 'visible', 'symbol', '.', 'with', 'your', 'personality', 'there', 'is', 'nothing', 'you', 'could', 'not', 'do', '.', 'the', 'world', 'belongs', 'to', 'you', 'for', 'a', 'season', '.', 'the', 'moment', 'i', 'met', 'you', 'i', 'saw', 'that', 'you', 'were', 'quite', 'unconscious', 'of', 'what', 'you', 'really', 'are', ',', 'what', 'you', 'really', 'might', 'be', '.', 'there', 'was', 'so', 'much', 'about', 'you', 'that', 'charmed', 'me', 'that', 'i', 'felt', 'i', 'must', 'tell', 'you', 'something', 'about', 'yourself', '.', 'i', 'thought', 'how', 'tragic', 'it', 'would', 'be', 'if', 'you', 'were', 'wasted', '.', 'for', 'there', 'is', 'such', 'a', 'little', 'time', 'that', 'your', 'youth', 'will', 'last', ',', '--such', 'a', 'little', 'time', '.', 'the', 'common', 'hill-flowers', 'wither', ',', 'but', 'they', 'blossom', 'again', '.', 'the', 'laburnum', 'will', 'be', 'as', 'golden', 'next', 'june', 'as', 'it', 'is', 'now', '.', 'in', 'a', 'month', 'there', 'will', 'be', 'purple', 'stars', 'on', 'the', 'clematis', ',', 'and', 'year', 'after', 'year', 'the', 'green', 'night', 'of', 'its', 'leaves', 'will', 'have', 'its', 'purple', 'stars', '.', 'but', 'we', 'never', 'get', 'back', 'our', 'youth', '.', 'the', 'pulse', 'of', 'joy', 'that', 'beats', 'in', 'us', 'at', 'twenty', ',', 'becomes', 'sluggish', '.', 'our', 'limbs', 'fail', ',', 'our', 'senses', 'rot', '.', 'we', 'degenerate', 'into', 'hideous', 'puppets', ',', 'haunted', 'by', 'the', 'memory', 'of', 'the', 'passions', 'of', 'which', 'we', 'were', 'too', 'much', 'afraid', ',', 'and', 'the', 'exquisite', 'temptations', 'that', 'we', 'did', 'not', 'dare', 'to', 'yield', 'to', '.', 'youth', '!', 'youth', '!', 'there', 'is', 'absolutely', 'nothing', 'in', 'the', 'world', 'but', 'youth', '!', 'dorian', 'gray', 'listened', ',', 'open-eyed', 'and', 'wondering', '.', 'the', 'spray', 'of', 'lilac', 'fell', 'from', 'his', 'hand', 'upon', 'the', 'gravel', '.', 'a', 'furry', 'bee', 'came', 'and', 'buzzed', 'round', 'it', 'for', 'a', 'moment', '.', 'then', 'it', 'began', 'to', 'scramble', 'all', 'over', 'the', 'fretted', 'purple', 'of', 'the', 'tiny', 'blossoms', '.', 'he', 'watched', 'it', 'with', 'that', 'strange', 'interest', 'in', 'trivial', 'things', 'that', 'we', 'try', 'to', 'develop', 'when', 'things', 'of', 'high', 'import', 'make', 'us', 'afraid', ',', 'or', 'when', 'we', 'are', 'stirred', 'by', 'some', 'new', 'emotion', ',', 'for', 'which', 'we', 'cannot', 'find', 'expression', ',', 'or', 'when', 'some', 'thought', 'that', 'terrifies', 'us', 'lays', 'sudden', 'siege', 'to', 'the', 'brain', 'and', 'calls', 'on', 'us', 'to', 'yield', '.', 'after', 'a', 'time', 'it', 'flew', 'away', '.', 'he', 'saw', 'it', 'creeping', 'into', 'the', 'stained', 'trumpet', 'of', 'a', 'tyrian', 'convolvulus', '.', 'the', 'flower', 'seemed', 'to', 'quiver', ',', 'and', 'then', 'swayed', 'gently', 'to', 'and', 'fro', '.', 'suddenly', 'hallward', 'appeared', 'at', 'the', 'door', 'of', 'the', 'studio', ',', 'and', 'made', 'frantic', 'signs', 'for', 'them', 'to', 'come', 'in', '.', 'they', 'turned', 'to', 'each', 'other', ',', 'and', 'smiled', '.', 'i', 'am', 'waiting', ',', 'cried', 'hallward', '.', 'do', 'come', 'in', '.', 'the', 'light', 'is', 'quite', 'perfect', ',', 'and', 'you', 'can', 'bring', 'your', 'drinks', '.', 'they', 'rose', 'up', ',', 'and', 'sauntered', 'down', 'the', 'walk', 'together', '.', 'two', 'green-and-white', 'butterflies', 'fluttered', 'past', 'them', ',', 'and', 'in', 'the', 'pear-tree', 'at', 'the', 'end', 'of', 'the', 'garden', 'a', 'thrush', 'began', 'to', 'sing', '.', 'you', 'are', 'glad', 'you', 'have', 'met', 'me', ',', 'mr', '.', 'gray', ',', 'said', 'lord', 'henry', ',', 'looking', 'at', 'him', '.', 'yes', ',', 'i', 'am', 'glad', 'now', '.', 'i', 'wonder', 'shall', 'i', 'always', 'be', 'glad', '?', '[18]', 'always', '!', 'that', 'is', 'a', 'dreadful', 'word', '.', 'it', 'makes', 'me', 'shudder', 'when', 'i', 'hear', 'it', '.', 'women', 'are', 'so', 'fond', 'of', 'using', 'it', '.', 'they', 'spoil', 'every', 'romance', 'by', 'trying', 'to', 'make', 'it', 'last', 'forever', '.', 'it', 'is', 'a', 'meaningless', 'word', ',', 'too', '.', 'the', 'only', 'difference', 'between', 'a', 'caprice', 'and', 'a', 'life-long', 'passion', 'is', 'that', 'the', 'caprice', 'lasts', 'a', 'little', 'longer', '.', 'as', 'they', 'entered', 'the', 'studio', ',', 'dorian', 'gray', 'put', 'his', 'hand', 'upon', 'lord', 'henry', \"'\", 's', 'arm', '.', 'in', 'that', 'case', ',', 'let', 'our', 'friendship', 'be', 'a', 'caprice', ',', 'he', 'murmured', ',', 'flushing', 'at', 'his', 'own', 'boldness', ',', 'then', 'stepped', 'upon', 'the', 'platform', 'and', 'resumed', 'his', 'pose', '.', 'lord', 'henry', 'flung', 'himself', 'into', 'a', 'large', 'wicker', 'arm-chair', ',', 'and', 'watched', 'him', '.', 'the', 'sweep', 'and', 'dash', 'of', 'the', 'brush', 'on', 'the', 'canvas', 'made', 'the', 'only', 'sound', 'that', 'broke', 'the', 'stillness', ',', 'except', 'when', 'hallward', 'stepped', 'back', 'now', 'and', 'then', 'to', 'look', 'at', 'his', 'work', 'from', 'a', 'distance', '.', 'in', 'the', 'slanting', 'beams', 'that', 'streamed', 'through', 'the', 'open', 'door-way', 'the', 'dust', 'danced', 'and', 'was', 'golden', '.', 'the', 'heavy', 'scent', 'of', 'the', 'roses', 'seemed', 'to', 'brood', 'over', 'everything', '.', 'after', 'about', 'a', 'quarter', 'of', 'an', 'hour', ',', 'hallward', 'stopped', 'painting', ',', 'looked', 'for', 'a', 'long', 'time', 'at', 'dorian', 'gray', ',', 'and', 'then', 'for', 'a', 'long', 'time', 'at', 'the', 'picture', ',', 'biting', 'the', 'end', 'of', 'one', 'of', 'his', 'huge', 'brushes', ',', 'and', 'smiling', '.', 'it', 'is', 'quite', 'finished', ',', 'he', 'cried', ',', 'at', 'last', ',', 'and', 'stooping', 'down', 'he', 'wrote', 'his', 'name', 'in', 'thin', 'vermilion', 'letters', 'on', 'the', 'left-hand', 'corner', 'of', 'the', 'canvas', '.', 'lord', 'henry', 'came', 'over', 'and', 'examined', 'the', 'picture', '.', 'it', 'was', 'certainly', 'a', 'wonderful', 'work', 'of', 'art', ',', 'and', 'a', 'wonderful', 'likeness', 'as', 'well', '.', 'my', 'dear', 'fellow', ',', 'i', 'congratulate', 'you', 'most', 'warmly', ',', 'he', 'said', '.', '--mr', '.', 'gray', ',', 'come', 'and', 'look', 'at', 'yourself', '.', 'the', 'lad', 'started', ',', 'as', 'if', 'awakened', 'from', 'some', 'dream', '.', 'is', 'it', 'really', 'finished', '?', 'he', 'murmured', ',', 'stepping', 'down', 'from', 'the', 'platform', '.', 'quite', 'finished', ',', 'said', 'hallward', '.', 'and', 'you', 'have', 'sat', 'splendidly', 'to-day', '.', 'i', 'am', 'awfully', 'obliged', 'to', 'you', '.', 'that', 'is', 'entirely', 'due', 'to', 'me', ',', 'broke', 'in', 'lord', 'henry', '.', 'isn', \"'\", 't', 'it', ',', 'mr', '.', 'gray', '?', 'dorian', 'made', 'no', 'answer', ',', 'but', 'passed', 'listlessly', 'in', 'front', 'of', 'his', 'picture', 'and', 'turned', 'towards', 'it', '.', 'when', 'he', 'saw', 'it', 'he', 'drew', 'back', ',', 'and', 'his', 'cheeks', 'flushed', 'for', 'a', 'moment', 'with', 'pleasure', '.', 'a', 'look', 'of', 'joy', 'came', 'into', 'his', 'eyes', ',', 'as', 'if', 'he', 'had', 'recognized', 'himself', 'for', 'the', 'first', 'time', '.', 'he', 'stood', 'there', 'motionless', ',', 'and', 'in', 'wonder', ',', 'dimly', 'conscious', 'that', 'hallward', 'was', 'speaking', 'to', 'him', ',', 'but', 'not', 'catching', 'the', 'meaning', 'of', 'his', 'words', '.', 'the', 'sense', 'of', 'his', 'own', 'beauty', 'came', 'on', 'him', 'like', 'a', 'revelation', '.', 'he', 'had', 'never', 'felt', 'it', 'before', '.', 'basil', 'hallward', \"'\", 's', 'compliments', 'had', 'seemed', 'to', 'him', 'to', 'be', 'merely', 'the', 'charming', 'exaggerations', 'of', 'friendship', '.', 'he', 'had', 'listened', 'to', 'them', ',', 'laughed', 'at', 'them', ',', 'forgotten', 'them', '.', 'they', 'had', 'not', 'influenced', 'his', 'nature', '.', 'then', 'had', 'come', 'lord', 'henry', ',', 'with', 'his', 'strange', 'panegyric', 'on', 'youth', ',', 'his', 'terrible', 'warning', 'of', 'its', 'brevity', '.', 'that', 'had', 'stirred', 'him', 'at', 'the', 'time', ',', 'and', 'now', ',', 'as', 'he', 'stood', 'gazing', 'at', 'the', 'shadow', 'of', 'his', 'own', 'loveliness', ',', 'the', 'full', 'reality', 'of', 'the', 'description', 'flashed', 'across', 'him', '.', 'yes', ',', 'there', 'would', 'be', 'a', 'day', 'when', 'his', 'face', 'would', 'be', 'wrinkled', 'and', 'wizen', ',', 'his', 'eyes', 'dim', 'and', 'colorless', ',', 'the', 'grace', 'of', 'his', 'figure', 'broken', 'and', 'deformed', '.', 'the', 'scarlet', 'would', 'pass', 'away', 'from', 'his', 'lips', ',', 'and', 'the', 'gold', 'steal', 'from', 'his', 'hair', '.', 'the', 'life', 'that', 'was', 'to', 'make', 'his', 'soul', 'would', 'mar', 'his', 'body', '.', 'he', 'would', 'become', 'ignoble', ',', 'hideous', ',', 'and', 'uncouth', '.', '[19]', 'as', 'he', 'thought', 'of', 'it', ',', 'a', 'sharp', 'pang', 'of', 'pain', 'struck', 'like', 'a', 'knife', 'across', 'him', ',', 'and', 'made', 'each', 'delicate', 'fibre', 'of', 'his', 'nature', 'quiver', '.', 'his', 'eyes', 'deepened', 'into', 'amethyst', ',', 'and', 'a', 'mist', 'of', 'tears', 'came', 'across', 'them', '.', 'he', 'felt', 'as', 'if', 'a', 'hand', 'of', 'ice', 'had', 'been', 'laid', 'upon', 'his', 'heart', '.', 'don', \"'\", 't', 'you', 'like', 'it', '?', 'cried', 'hallward', 'at', 'last', ',', 'stung', 'a', 'little', 'by', 'the', 'lad', \"'\", 's', 'silence', ',', 'and', 'not', 'understanding', 'what', 'it', 'meant', '.', 'of', 'course', 'he', 'likes', 'it', ',', 'said', 'lord', 'henry', '.', 'who', 'wouldn', \"'\", 't', 'like', 'it', '?', 'it', 'is', 'one', 'of', 'the', 'greatest', 'things', 'in', 'modern', 'art', '.', 'i', 'will', 'give', 'you', 'anything', 'you', 'like', 'to', 'ask', 'for', 'it', '.', 'i', 'must', 'have', 'it', '.', 'it', 'is', 'not', 'my', 'property', ',', 'harry', '.', 'whose', 'property', 'is', 'it', '?', 'dorian', \"'\", 's', ',', 'of', 'course', '.', 'he', 'is', 'a', 'very', 'lucky', 'fellow', '.', 'how', 'sad', 'it', 'is', '!', 'murmured', 'dorian', 'gray', ',', 'with', 'his', 'eyes', 'still', 'fixed', 'upon', 'his', 'own', 'portrait', '.', 'how', 'sad', 'it', 'is', '!', 'i', 'shall', 'grow', 'old', ',', 'and', 'horrid', ',', 'and', 'dreadful', '.', 'but', 'this', 'picture', 'will', 'remain', 'always', 'young', '.', 'it', 'will', 'never', 'be', 'older', 'than', 'this', 'particular', 'day', 'of', 'june', '.', '.', '.', '.', 'if', 'it', 'was', 'only', 'the', 'other', 'way', '!', 'if', 'it', 'was', 'i', 'who', 'were', 'to', 'be', 'always', 'young', ',', 'and', 'the', 'picture', 'that', 'were', 'to', 'grow', 'old', '!', 'for', 'this--for', 'this--i', 'would', 'give', 'everything', '!', 'yes', ',', 'there', 'is', 'nothing', 'in', 'the', 'whole', 'world', 'i', 'would', 'not', 'give', '!', 'you', 'would', 'hardly', 'care', 'for', 'that', 'arrangement', ',', 'basil', ',', 'cried', 'lord', 'henry', ',', 'laughing', '.', 'it', 'would', 'be', 'rather', 'hard', 'lines', 'on', 'you', '.', 'i', 'should', 'object', 'very', 'strongly', ',', 'harry', '.', 'dorian', 'gray', 'turned', 'and', 'looked', 'at', 'him', '.', 'i', 'believe', 'you', 'would', ',', 'basil', '.', 'you', 'like', 'your', 'art', 'better', 'than', 'your', 'friends', '.', 'i', 'am', 'no', 'more', 'to', 'you', 'than', 'a', 'green', 'bronze', 'figure', '.', 'hardly', 'as', 'much', ',', 'i', 'dare', 'say', '.', 'hallward', 'stared', 'in', 'amazement', '.', 'it', 'was', 'so', 'unlike', 'dorian', 'to', 'speak', 'like', 'that', '.', 'what', 'had', 'happened', '?', 'he', 'seemed', 'almost', 'angry', '.', 'his', 'face', 'was', 'flushed', 'and', 'his', 'cheeks', 'burning', '.', 'yes', ',', 'he', 'continued', ',']\n"
          ]
        }
      ]
    },
    {
      "cell_type": "code",
      "source": [
        "# Q3. How many words are in this vocab?\n",
        "print(f'Theare are {len(vocab)} words in the vocab')\n",
        "\n",
        "# Q4. Get the word at index 120 in vocab\n",
        "print(vocab.lookup_tokens([120]))\n",
        "\n",
        "\n",
        "# Q5. Get the index for the word \"thorn\". What does this tell you about the occurrence of this word in the document?\n",
        "print(vocab.lookup_indices(['thorn']))\n",
        "# A5. Since the index is 0(unknown token), we can infer that this word appeared less than twice. "
      ],
      "metadata": {
        "id": "MiizjUA13cq6",
        "colab": {
          "base_uri": "https://localhost:8080/"
        },
        "outputId": "ea13bf06-0bd2-47e3-cb1c-055ebfb228e3"
      },
      "execution_count": 27,
      "outputs": [
        {
          "output_type": "stream",
          "name": "stdout",
          "text": [
            "Theare are 738 words in the vocab\n",
            "['look']\n",
            "[0]\n"
          ]
        }
      ]
    },
    {
      "cell_type": "markdown",
      "source": [
        "### Define the Neural Network & Train\n",
        "- Choose a context size, `CONTEXT_SIZE` i.e. the number of previous words you want to consider for the prediction\n",
        "- Choose an embedding dimension, `EMBEDDING_DIM`\n",
        "- Get the $n$-grams based on the context size\n",
        "- Feed the $n$-grams as input and predict the next word using the weights (embeddings) which are random at the beginning\n",
        "- Calculate loss and backpropagate to update the weights"
      ],
      "metadata": {
        "id": "Zw01kKXU7kF3"
      }
    },
    {
      "cell_type": "code",
      "execution_count": 30,
      "metadata": {
        "id": "O216pD577Ohf",
        "colab": {
          "base_uri": "https://localhost:8080/"
        },
        "outputId": "e9ecf7bd-9230-4973-9e1b-9304322fbe73"
      },
      "outputs": [
        {
          "output_type": "stream",
          "name": "stdout",
          "text": [
            "First 3 n-grams and target word: [(['The', 'studio', 'was', 'filled', 'with'], 'the'), (['studio', 'was', 'filled', 'with', 'the'], 'rich'), (['was', 'filled', 'with', 'the', 'rich'], 'odor')]\n",
            "Epoch 5 Loss: 30456.737997146323\n",
            "Epoch 10 Loss: 22989.707252198248\n",
            "Epoch 15 Loss: 17439.238761334986\n",
            "Epoch 20 Loss: 13753.080832084022\n",
            "Epoch 25 Loss: 10976.114565746577\n",
            "Epoch 30 Loss: 9152.739669792747\n",
            "Epoch 35 Loss: 7904.439418785955\n",
            "Epoch 40 Loss: 7149.287117404321\n",
            "Epoch 45 Loss: 6465.860707775359\n",
            "Epoch 50 Loss: 5776.90755209173\n",
            "Epoch 55 Loss: 5729.843036224383\n",
            "Epoch 60 Loss: 5437.030284629293\n",
            "Epoch 65 Loss: 5390.077414384929\n",
            "Epoch 70 Loss: 5534.161462508613\n",
            "Epoch 75 Loss: 4742.506790247099\n",
            "Epoch 80 Loss: 4602.237487769577\n",
            "Epoch 85 Loss: 5293.983554475634\n",
            "Epoch 90 Loss: 5404.820579453093\n",
            "Epoch 95 Loss: 5499.58792296397\n",
            "Epoch 100 Loss: 5375.184724859636\n"
          ]
        }
      ],
      "source": [
        "import torch\n",
        "import torch.nn as nn\n",
        "import torch.nn.functional as F\n",
        "import torch.optim as optim\n",
        "\n",
        "CONTEXT_SIZE = 5\n",
        "EMBEDDING_DIM = 12\n",
        "EPOCHS = 100\n",
        "\n",
        "train_corpus = corpus_.split()\n",
        "\n",
        "# Generate the n-grams\n",
        "# Each tuple is ([ word_i-CONTEXT_SIZE, ..., word_i-1 ], target word)\n",
        "ngrams = [\n",
        "    (\n",
        "        [train_corpus[i - j - 1] for j in reversed(range(CONTEXT_SIZE))],\n",
        "        train_corpus[i]\n",
        "    )\n",
        "    for i in range(CONTEXT_SIZE, len(train_corpus))\n",
        "]\n",
        "\n",
        "# Print the first 3, just so you can see what they look like.\n",
        "print(f\"First 3 n-grams and target word: {ngrams[:3]}\")\n",
        "\n",
        "\n",
        "class NGramLM(nn.Module):\n",
        "\n",
        "    def __init__(self, vocab_size, embedding_dim, context_size):\n",
        "        super(NGramLM, self).__init__()\n",
        "        self.embeddings = nn.Embedding(vocab_size, embedding_dim)\n",
        "        self.linear1 = nn.Linear(context_size * embedding_dim, 128)\n",
        "        self.linear2 = nn.Linear(128, vocab_size)\n",
        "\n",
        "    def forward(self, inputs):\n",
        "        embeds = self.embeddings(inputs).view((1, -1))\n",
        "        out = F.relu(self.linear1(embeds))\n",
        "        out = self.linear2(out)\n",
        "        log_probs = F.log_softmax(out, dim=1)\n",
        "        return log_probs\n",
        "\n",
        "\n",
        "loss_function = nn.NLLLoss()\n",
        "model = NGramLM(len(vocab), EMBEDDING_DIM, CONTEXT_SIZE)\n",
        "optimizer = optim.SGD(model.parameters(), lr=0.01)\n",
        "\n",
        "for epoch in range(EPOCHS):\n",
        "    total_loss = 0\n",
        "    for context, target in ngrams:\n",
        "\n",
        "        # Step 1. Prepare the inputs to be passed to the model (i.e, turn the words\n",
        "        # into integer indices and wrap them in tensors)\n",
        "        context_idxs = torch.tensor([vocab[w] for w in context], dtype=torch.long)\n",
        "\n",
        "        # Step 2. Recall that torch *accumulates* gradients. Before passing in a\n",
        "        # new instance, you need to zero out the gradients from the old\n",
        "        # instance\n",
        "        model.zero_grad()\n",
        "\n",
        "        # Step 3. Run the forward pass, getting log probabilities over next\n",
        "        # words\n",
        "        log_probs = model(context_idxs)\n",
        "\n",
        "        # Step 4. Compute your loss function. (Again, Torch wants the target\n",
        "        # word wrapped in a tensor)\n",
        "        loss = loss_function(log_probs, torch.tensor([vocab[target]], dtype=torch.long))\n",
        "\n",
        "        # Step 5. Do the backward pass and update the gradient\n",
        "        loss.backward()\n",
        "        optimizer.step()\n",
        "\n",
        "        # Get the Python number from a 1-element Tensor by calling tensor.item()\n",
        "        total_loss += loss.item()\n",
        "    if ((epoch+1) % 5 == 0):\n",
        "      print(f\"Epoch {epoch+1} Loss: {total_loss}\")  # Print loss every 5 epochs\n"
      ]
    },
    {
      "cell_type": "code",
      "source": [
        "# Q6. How many units (neurons) are there in the final layer and why?\n",
        "# A6. It is the size of the vocab(738) therefore we can apply softmax to make the model predict the most possible word.\n",
        "\n",
        "# Q7. What does this line of code do?\n",
        "# embeds = self.embeddings(inputs).view((1, -1))\n",
        "# A7. This flattens the embedding tensor to a vector."
      ],
      "metadata": {
        "id": "yvJbFlN0uE_P"
      },
      "execution_count": null,
      "outputs": []
    },
    {
      "cell_type": "markdown",
      "source": [
        "### See how well the model predicts the words in the document"
      ],
      "metadata": {
        "id": "ZXSbyGvxOLEy"
      }
    },
    {
      "cell_type": "code",
      "source": [
        "# Check accuracy for the first 25 words\n",
        "num_correct = 0\n",
        "for i in range(25):\n",
        "  word, target = ngrams[i]\n",
        "  word = torch.tensor([vocab[i] for i in word], dtype=torch.long)\n",
        "  out = model(word)\n",
        "  _, predict_label = torch.max(out, 1)\n",
        "  itos = vocab.get_itos()\n",
        "  predict_word = itos[predict_label.item()]\n",
        "  print(f'Real word is \"{target}\"\", Predicted word is \"{predict_word}\"')\n",
        "  if target==predict_word:\n",
        "    num_correct += 1 \n",
        "print(f\"Correctly predicted words = {num_correct}/25\")"
      ],
      "metadata": {
        "id": "DviwxHZFCPKY",
        "colab": {
          "base_uri": "https://localhost:8080/"
        },
        "outputId": "b4341010-f7b8-449b-ca7e-9295c32d08bd"
      },
      "execution_count": 31,
      "outputs": [
        {
          "output_type": "stream",
          "name": "stdout",
          "text": [
            "Real word is \"the\"\", Predicted word is \"the\"\n",
            "Real word is \"rich\"\", Predicted word is \"<unk>\"\n",
            "Real word is \"odor\"\", Predicted word is \"<unk>\"\n",
            "Real word is \"of\"\", Predicted word is \"of\"\n",
            "Real word is \"roses,\"\", Predicted word is \"<unk>\"\n",
            "Real word is \"and\"\", Predicted word is \"and\"\n",
            "Real word is \"when\"\", Predicted word is \"when\"\n",
            "Real word is \"the\"\", Predicted word is \"he\"\n",
            "Real word is \"light\"\", Predicted word is \"light\"\n",
            "Real word is \"summer\"\", Predicted word is \"summer\"\n",
            "Real word is \"wind\"\", Predicted word is \"wind\"\n",
            "Real word is \"stirred\"\", Predicted word is \"stirred\"\n",
            "Real word is \"amidst\"\", Predicted word is \"<unk>\"\n",
            "Real word is \"the\"\", Predicted word is \"the\"\n",
            "Real word is \"trees\"\", Predicted word is \"trees\"\n",
            "Real word is \"of\"\", Predicted word is \"of\"\n",
            "Real word is \"the\"\", Predicted word is \"the\"\n",
            "Real word is \"garden\"\", Predicted word is \"garden\"\n",
            "Real word is \"there\"\", Predicted word is \"there\"\n",
            "Real word is \"came\"\", Predicted word is \"came\"\n",
            "Real word is \"through\"\", Predicted word is \"through\"\n",
            "Real word is \"the\"\", Predicted word is \"the\"\n",
            "Real word is \"open\"\", Predicted word is \"open\"\n",
            "Real word is \"door\"\", Predicted word is \"door\"\n",
            "Real word is \"the\"\", Predicted word is \"the\"\n",
            "Correctly predicted words = 20/25\n"
          ]
        }
      ]
    },
    {
      "cell_type": "markdown",
      "source": [
        "### Model improvement\n",
        "The accuracy was probably not great. Using the options given below, see if you can achieve 50% accuracy.\n",
        "- Notes:\n",
        "  - Training takes 3.5 minutes with the settings above (if epochs are doubled, it would double the training time)\n",
        "  - If a different optimiser is used, training could take longer"
      ],
      "metadata": {
        "id": "hbfG4URYw2xQ"
      }
    },
    {
      "cell_type": "code",
      "source": [
        "# Q8. You should try to get the at least average 12.5/25 accuracy over 3 runs. \n",
        "# Tweak the following hyper parameters in order to achieve this:\n",
        "# i) CONTEXT_SIZE = (between 3 and 5), ii) EPOCHS = (max 100), iii) EMBEDDING_DIM = (between 8 and 12), iv) optimizer (any other)\n",
        "# Train with the same configuration 3 times to see that the (average) accuracy is at least 50% (12.5/25).\n",
        "# Your final code in the cells above should reflect the model that has achieved this accuracy.\n",
        "# All code cell outputs above should be clear. You may duplicate the training and prediction code cells and run them \n",
        "# but it is not necessary. One run's output is enough. You should jot down the three runs accuracies below.\n",
        "# State any comments or observations that you have with regards to this.\n",
        "\n",
        "# Run 1 accuracy: 6/25  -> epochs:100\n",
        "# Run 2 accuracy: 12/25   -> epochs:100, context_size: 5\n",
        "# Run 3 accuracy: 20/25   -> epochs:100, context_size = 5, embedding_dim = 12 , learning_rate : 0.01"
      ],
      "metadata": {
        "id": "dF-0xuJtOhxL"
      },
      "execution_count": null,
      "outputs": []
    },
    {
      "cell_type": "markdown",
      "source": [
        "### Get embedding for a word"
      ],
      "metadata": {
        "id": "1na9IG1hLz03"
      }
    },
    {
      "cell_type": "code",
      "source": [
        "vocab['trees']"
      ],
      "metadata": {
        "colab": {
          "base_uri": "https://localhost:8080/"
        },
        "id": "UO2a3afvM0k6",
        "outputId": "dff9769a-0c15-4f0f-d281-050b3117685b"
      },
      "execution_count": 101,
      "outputs": [
        {
          "output_type": "execute_result",
          "data": {
            "text/plain": [
              "712"
            ]
          },
          "metadata": {},
          "execution_count": 101
        }
      ]
    },
    {
      "cell_type": "code",
      "source": [
        "# Q9. Get the embedding for a given word. It should return the embedding generated by the model or a 1D tensor containing\n",
        "# EMBEDDING_DIM 0s if the word is not in the vocabulary \n",
        "# CODE\n",
        "word_dict = {'trees':vocab[\"trees\"]}\n",
        "index=[word_dict['trees']]\n",
        "input_tensor=torch.LongTensor(index)\n",
        "emb_layer=model.embeddings\n",
        "embeddings=emb_layer(input_tensor)\n",
        "print(embeddings)"
      ],
      "metadata": {
        "id": "9mEVg43UA0C4",
        "colab": {
          "base_uri": "https://localhost:8080/"
        },
        "outputId": "10849ea7-daed-4927-db7f-d53d00b12a98"
      },
      "execution_count": 72,
      "outputs": [
        {
          "output_type": "stream",
          "name": "stdout",
          "text": [
            "tensor([[-0.2733,  1.8189,  0.1303, -0.7887, -1.1634,  2.0401,  1.1422, -0.6723,\n",
            "         -0.4153,  0.5764, -1.5664, -0.1830]], grad_fn=<EmbeddingBackward0>)\n"
          ]
        }
      ]
    },
    {
      "cell_type": "code",
      "source": [
        "print(vocab['skku'])\n",
        "word_dict = {'skku':vocab[\"skku\"]}\n",
        "index=[word_dict['skku']]\n",
        "input_tensor=torch.LongTensor(index)\n",
        "emb_layer=model.embeddings\n",
        "embeddings=emb_layer(input_tensor)\n",
        "print(embeddings)"
      ],
      "metadata": {
        "colab": {
          "base_uri": "https://localhost:8080/"
        },
        "id": "GhydQE4BSw0i",
        "outputId": "d2916996-5b67-4936-f877-598b82e2227d"
      },
      "execution_count": 103,
      "outputs": [
        {
          "output_type": "stream",
          "name": "stdout",
          "text": [
            "0\n",
            "tensor([[-0.2540, -0.3412,  0.3125,  0.7686, -0.8240, -0.6898,  0.8095, -0.4827,\n",
            "          0.0261,  0.2834, -0.3079, -0.5027]], grad_fn=<EmbeddingBackward0>)\n"
          ]
        }
      ]
    },
    {
      "cell_type": "markdown",
      "source": [
        "### Find \"similar\" words\n",
        "Based on the embeddings, we hope that vectors that are similar correspond to words that are similar in the context of the document"
      ],
      "metadata": {
        "id": "zs4N8_1vya8k"
      }
    },
    {
      "cell_type": "code",
      "source": [
        "def closest_to_vector(v, n):\n",
        "    embeddings = model.embeddings.weight\n",
        "\n",
        "    all_scores = torch.matmul(embeddings, v)\n",
        "    best_inds = reversed(torch.argsort(all_scores))   # why reversed?\n",
        "    itos = vocab.get_itos()\n",
        "    best_words = [itos[i] for i in best_inds]\n",
        "    return best_words[:n]\n",
        "\n",
        "def most_similar(w, n):\n",
        "    w_emb = model.embeddings.weight[vocab[w]]\n",
        "    return closest_to_vector(model.embeddings.weight[vocab[w], :], n)\n"
      ],
      "metadata": {
        "id": "kI-fAWyMlYdB"
      },
      "execution_count": 91,
      "outputs": []
    },
    {
      "cell_type": "code",
      "source": [
        "embeddings = model.embeddings.weight"
      ],
      "metadata": {
        "id": "XtENFpf5Q0Qg"
      },
      "execution_count": 73,
      "outputs": []
    },
    {
      "cell_type": "code",
      "source": [
        "embeddings.shape"
      ],
      "metadata": {
        "colab": {
          "base_uri": "https://localhost:8080/"
        },
        "id": "a8d_C2hVSHh4",
        "outputId": "1273b756-4ac6-4166-d893-2aa3230ad9d6"
      },
      "execution_count": 92,
      "outputs": [
        {
          "output_type": "execute_result",
          "data": {
            "text/plain": [
              "torch.Size([738, 12])"
            ]
          },
          "metadata": {},
          "execution_count": 92
        }
      ]
    },
    {
      "cell_type": "code",
      "source": [
        "model.embeddings.weight[vocab['portrait'],:]"
      ],
      "metadata": {
        "colab": {
          "base_uri": "https://localhost:8080/"
        },
        "id": "zwfiLnJIQ3Kr",
        "outputId": "15d5976f-3ee4-485a-9fff-4a5b7b649a10"
      },
      "execution_count": 76,
      "outputs": [
        {
          "output_type": "execute_result",
          "data": {
            "text/plain": [
              "tensor([-1.8624,  0.0027,  1.4693, -0.6728,  0.4088, -0.5114,  0.7859,  1.4218,\n",
              "        -0.2440, -1.3600, -2.2400, -0.6394], grad_fn=<SliceBackward0>)"
            ]
          },
          "metadata": {},
          "execution_count": 76
        }
      ]
    },
    {
      "cell_type": "code",
      "source": [
        "v = model.embeddings.weight[vocab['portrait']]\n",
        "v"
      ],
      "metadata": {
        "colab": {
          "base_uri": "https://localhost:8080/"
        },
        "id": "BK0QaE8EROlk",
        "outputId": "d2297187-86ba-4e86-e8d3-a024d09cf7ff"
      },
      "execution_count": 80,
      "outputs": [
        {
          "output_type": "execute_result",
          "data": {
            "text/plain": [
              "tensor([-1.8624,  0.0027,  1.4693, -0.6728,  0.4088, -0.5114,  0.7859,  1.4218,\n",
              "        -0.2440, -1.3600, -2.2400, -0.6394], grad_fn=<SelectBackward0>)"
            ]
          },
          "metadata": {},
          "execution_count": 80
        }
      ]
    },
    {
      "cell_type": "code",
      "source": [
        "all_scores = torch.matmul(embeddings, v)\n",
        "all_scores.shape\n"
      ],
      "metadata": {
        "colab": {
          "base_uri": "https://localhost:8080/"
        },
        "id": "607txQJURXCK",
        "outputId": "d8d66526-a336-4766-a08d-67670e0c5366"
      },
      "execution_count": 83,
      "outputs": [
        {
          "output_type": "execute_result",
          "data": {
            "text/plain": [
              "torch.Size([738])"
            ]
          },
          "metadata": {},
          "execution_count": 83
        }
      ]
    },
    {
      "cell_type": "code",
      "source": [
        "all_scores"
      ],
      "metadata": {
        "id": "k4pefkSySPw2"
      },
      "execution_count": null,
      "outputs": []
    },
    {
      "cell_type": "code",
      "source": [
        "best_inds = reversed(torch.argsort(all_scores))\n",
        "best_inds"
      ],
      "metadata": {
        "colab": {
          "base_uri": "https://localhost:8080/"
        },
        "id": "gpRe7AgFRiAm",
        "outputId": "4c1907ba-c72a-4675-ceb8-d6c589b3f6a8"
      },
      "execution_count": 84,
      "outputs": [
        {
          "output_type": "execute_result",
          "data": {
            "text/plain": [
              "tensor([179, 662, 697, 705, 528, 684, 303, 373, 256, 358,  48, 134, 209, 604,\n",
              "        386, 435, 131, 108, 655,  58, 272, 585,  85, 213, 452, 548, 625, 565,\n",
              "        141,  72, 651, 707, 703, 474, 341,  75, 397, 526, 560, 115, 507,  68,\n",
              "         14,  82, 483,  57, 706, 391, 590, 492, 103, 681, 117, 189, 453, 154,\n",
              "         23, 291, 471, 680,  18, 514, 591, 400, 454, 255, 305, 525, 399, 339,\n",
              "        649,  28, 282,  76, 317, 718, 346, 200, 126, 184, 674, 736, 278, 598,\n",
              "        328, 211,  80, 694, 173, 575, 436, 381, 465, 729, 145, 193, 298, 228,\n",
              "        461, 529, 517, 481, 735,  16, 556, 261, 578, 539, 521, 570, 246, 352,\n",
              "        631, 545, 518, 722, 264,  38, 237, 111,  12,  95, 425, 469, 607, 275,\n",
              "        475, 727,  59, 457, 268, 227, 277, 618, 434, 343, 395, 644, 690, 210,\n",
              "        669, 666,  87, 247, 449, 349, 205, 606,  94, 608,  78, 489,  20, 426,\n",
              "        659, 511, 208, 658, 555,   7, 613, 572, 414, 285, 444, 318, 557, 244,\n",
              "        617,  89, 497, 182, 367, 665, 689, 512, 342, 480, 176, 551, 368,  51,\n",
              "        713, 271, 124, 731, 542, 223, 676, 164, 721, 513, 197,  91, 547, 300,\n",
              "        251, 663, 712, 634, 579, 265, 217,  92,  42, 178, 588,  35, 470, 611,\n",
              "        519, 695,  70, 284, 105, 563, 185, 324, 623, 215,  97, 139, 279, 201,\n",
              "        171, 307, 253,  34, 566, 169, 348, 460,  46, 673,  66, 725, 387, 392,\n",
              "        597, 715, 704,  30, 468, 191, 187,  88, 627, 344, 142,   3, 206, 714,\n",
              "        446, 424, 664, 486, 619, 719, 220, 648, 148, 456, 380, 150, 394, 239,\n",
              "        194,  53, 720, 138, 516, 592, 353, 549, 546, 118, 107,  83, 576, 484,\n",
              "        325, 363, 693, 116, 472, 479, 249, 503,  24,   0, 501, 698,  22, 523,\n",
              "        390, 375,   4, 599, 473, 522, 345, 260,  55, 672, 710, 728, 129,  15,\n",
              "        222, 678, 726,  37, 679, 147, 388, 502, 262, 682, 633, 652, 299, 495,\n",
              "        266, 235, 635, 355, 584, 165, 240, 289, 146, 653, 309, 216, 143, 537,\n",
              "        369, 708, 334, 384, 601, 630, 431, 656,  11,  69, 153, 382, 407, 577,\n",
              "        336, 259, 602, 396, 573, 248, 459, 232, 441, 482, 321, 315, 283, 229,\n",
              "        293, 242,  56, 359,  39, 562, 280, 615,  67, 677,  33, 254,  27, 312,\n",
              "        416, 595, 133, 408, 491, 455, 685, 322, 151, 493, 365, 645, 605, 427,\n",
              "        640, 125, 534, 106, 550, 409, 276, 166, 351, 439,   9,  47,  90, 587,\n",
              "        430, 270, 413, 432, 558,  31, 500, 552, 554, 509,  44, 540, 330, 478,\n",
              "        530, 401, 160, 594, 490, 135, 347, 418, 286, 641,  79,  45, 433, 702,\n",
              "        524, 274, 559, 646, 333, 376, 429, 331, 203, 177, 144, 632,  81, 419,\n",
              "        733, 218, 281, 304, 447,  13, 642, 323, 450, 385, 163, 730, 226, 732,\n",
              "        290, 340, 496,  54, 626, 464,  65, 389, 504, 402, 149, 204, 643, 724,\n",
              "        302, 159,  77, 667, 462, 370, 624, 398, 683, 571, 527, 561, 621, 306,\n",
              "         60, 109, 236, 199, 123, 622, 225, 377, 301, 319, 415, 538, 422,   5,\n",
              "         36, 224, 294, 320, 614, 172, 535,  73, 443, 101, 202, 541, 670, 657,\n",
              "        311, 357, 231, 155, 110, 335, 102, 487,  61, 230, 238, 362, 532, 393,\n",
              "        593, 140, 366, 737, 586, 553,  29, 412, 620, 661, 100, 668, 467, 198,\n",
              "        308, 257, 612, 411,  17, 122, 458, 639, 258, 687, 295,  86, 313, 544,\n",
              "        374,  32, 252, 583, 466,  63, 515, 234, 127, 356, 520, 654, 263,  41,\n",
              "        510, 616, 438,  43,  74, 214, 709, 332, 181, 531, 437, 505, 498, 448,\n",
              "        190, 250,  98, 686, 168, 316, 186, 314, 406,  71, 699,  93,  62, 445,\n",
              "         49, 716, 589, 158, 174, 638,  26,   6, 647, 609, 629, 543, 734, 428,\n",
              "        701, 494, 442, 420, 183, 711,   8, 691, 233, 137, 463, 692, 157, 132,\n",
              "        287, 130, 119, 603, 327,  52, 170, 354, 404, 326, 243, 292, 671, 288,\n",
              "        219,  21, 297, 121, 269,  25, 162, 364, 175, 485, 417, 114,  99, 488,\n",
              "        536, 152, 580, 167, 581, 329, 360, 533, 650, 696, 310, 383,  50,   1,\n",
              "          2, 660, 196, 267, 476, 241,  10, 405, 195,  19, 636, 564, 372, 128,\n",
              "        508, 156, 273, 112, 596, 451, 338, 361, 410,  40, 688, 113,  64, 136,\n",
              "        378,  84, 506, 723, 637, 207, 104, 628, 423, 569, 421, 477, 371, 350,\n",
              "        192, 600, 379, 296,  96, 574, 161, 499, 700, 440, 717, 610, 568, 675,\n",
              "        212, 180, 221, 582, 188, 567, 120, 403, 337, 245])"
            ]
          },
          "metadata": {},
          "execution_count": 84
        }
      ]
    },
    {
      "cell_type": "code",
      "source": [
        "itos = vocab.get_itos()\n",
        "best_words = [itos[i] for i in best_inds]\n",
        "best_words[:10]"
      ],
      "metadata": {
        "colab": {
          "base_uri": "https://localhost:8080/"
        },
        "id": "F7auRsBnRygM",
        "outputId": "6c6c4084-1cd0-406b-8628-c6c4460c54fb"
      },
      "execution_count": 90,
      "outputs": [
        {
          "output_type": "execute_result",
          "data": {
            "text/plain": [
              "['portrait',\n",
              " 'remember',\n",
              " 'sunlight',\n",
              " 'thoughts',\n",
              " 'colors',\n",
              " 'smiling',\n",
              " 'exhibit',\n",
              " 'became',\n",
              " 'friendship',\n",
              " 'to-day']"
            ]
          },
          "metadata": {},
          "execution_count": 90
        }
      ]
    },
    {
      "cell_type": "markdown",
      "source": [
        "Get the 10 most similar words to the word \"portrait\""
      ],
      "metadata": {
        "id": "9ZqgEADv5lql"
      }
    },
    {
      "cell_type": "code",
      "source": [
        "print(most_similar('portrait', 10))"
      ],
      "metadata": {
        "id": "HBeLfmIUm0yE",
        "colab": {
          "base_uri": "https://localhost:8080/"
        },
        "outputId": "96f77c92-6d92-4beb-9ace-ca54c6e64ce1"
      },
      "execution_count": 70,
      "outputs": [
        {
          "output_type": "stream",
          "name": "stdout",
          "text": [
            "['portrait', 'remember', 'sunlight', 'thoughts', 'colors', 'smiling', 'exhibit', 'became', 'friendship', 'to-day']\n"
          ]
        }
      ]
    },
    {
      "cell_type": "markdown",
      "source": [
        "### Further Thoughts"
      ],
      "metadata": {
        "id": "ZDlZ625Z3BLB"
      }
    },
    {
      "cell_type": "code",
      "source": [
        "# Q10. Do you find the top-10 most similar words convincing?\n",
        "# A10. It seems to show similar words to a cetain extent. \n",
        "# What would you do to further improve the performance of the model? You can suggest anything apart from the list of hyperparameters\n",
        "# in Q8. You do NOT have to implement anything.\n",
        "# Putting some linear layers in the model may increase the performance.\n"
      ],
      "metadata": {
        "id": "7-NzfwiO2dtc"
      },
      "execution_count": null,
      "outputs": []
    }
  ]
}