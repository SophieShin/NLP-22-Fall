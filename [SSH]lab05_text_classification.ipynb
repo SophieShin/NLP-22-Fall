{
  "nbformat": 4,
  "nbformat_minor": 0,
  "metadata": {
    "colab": {
      "provenance": [],
      "collapsed_sections": [],
      "include_colab_link": true
    },
    "kernelspec": {
      "name": "python3",
      "display_name": "Python 3"
    },
    "language_info": {
      "name": "python"
    },
    "gpuClass": "standard"
  },
  "cells": [
    {
      "cell_type": "markdown",
      "metadata": {
        "id": "view-in-github",
        "colab_type": "text"
      },
      "source": [
        "<a href=\"https://colab.research.google.com/github/SophieShin/NLP_22_Fall/blob/main/%5BSSH%5Dlab05_text_classification.ipynb\" target=\"_parent\"><img src=\"https://colab.research.google.com/assets/colab-badge.svg\" alt=\"Open In Colab\"/></a>"
      ]
    },
    {
      "cell_type": "markdown",
      "metadata": {
        "id": "zIwXfN622XNs"
      },
      "source": [
        "## Text Classification using AG News\n",
        "- The `AG_NEWS` dataset has news on four topics with the following labels:\n",
        "            1: \"World\"\n",
        "            2: \"Sports\"\n",
        "            3: \"Business\"\n",
        "            4: \"Sci/Tec\"\n",
        "- You may use GPU for this lab if you want quicker results (Change Runtime) but CPUs should be ok too (CPU training takes 3-3.5m mins)\n"
      ]
    },
    {
      "cell_type": "code",
      "source": [
        "# Install prerequisite\n",
        "!pip install torchdata"
      ],
      "metadata": {
        "id": "QmPXMOS4uSpj",
        "colab": {
          "base_uri": "https://localhost:8080/"
        },
        "outputId": "8e138c4a-8b5d-4c31-d7ba-e631260f48c9"
      },
      "execution_count": 1,
      "outputs": [
        {
          "output_type": "stream",
          "name": "stdout",
          "text": [
            "Looking in indexes: https://pypi.org/simple, https://us-python.pkg.dev/colab-wheels/public/simple/\n",
            "Collecting torchdata\n",
            "  Downloading torchdata-0.4.1-cp37-cp37m-manylinux_2_17_x86_64.manylinux2014_x86_64.whl (4.4 MB)\n",
            "\u001b[K     |████████████████████████████████| 4.4 MB 4.1 MB/s \n",
            "\u001b[?25hCollecting urllib3>=1.25\n",
            "  Downloading urllib3-1.26.12-py2.py3-none-any.whl (140 kB)\n",
            "\u001b[K     |████████████████████████████████| 140 kB 64.4 MB/s \n",
            "\u001b[?25hRequirement already satisfied: requests in /usr/local/lib/python3.7/dist-packages (from torchdata) (2.23.0)\n",
            "Collecting portalocker>=2.0.0\n",
            "  Downloading portalocker-2.5.1-py2.py3-none-any.whl (15 kB)\n",
            "Requirement already satisfied: torch==1.12.1 in /usr/local/lib/python3.7/dist-packages (from torchdata) (1.12.1+cu113)\n",
            "Requirement already satisfied: typing-extensions in /usr/local/lib/python3.7/dist-packages (from torch==1.12.1->torchdata) (4.1.1)\n",
            "Requirement already satisfied: idna<3,>=2.5 in /usr/local/lib/python3.7/dist-packages (from requests->torchdata) (2.10)\n",
            "Requirement already satisfied: certifi>=2017.4.17 in /usr/local/lib/python3.7/dist-packages (from requests->torchdata) (2022.6.15)\n",
            "Requirement already satisfied: chardet<4,>=3.0.2 in /usr/local/lib/python3.7/dist-packages (from requests->torchdata) (3.0.4)\n",
            "Collecting urllib3>=1.25\n",
            "  Downloading urllib3-1.25.11-py2.py3-none-any.whl (127 kB)\n",
            "\u001b[K     |████████████████████████████████| 127 kB 48.2 MB/s \n",
            "\u001b[?25hInstalling collected packages: urllib3, portalocker, torchdata\n",
            "  Attempting uninstall: urllib3\n",
            "    Found existing installation: urllib3 1.24.3\n",
            "    Uninstalling urllib3-1.24.3:\n",
            "      Successfully uninstalled urllib3-1.24.3\n",
            "Successfully installed portalocker-2.5.1 torchdata-0.4.1 urllib3-1.25.11\n"
          ]
        }
      ]
    },
    {
      "cell_type": "markdown",
      "metadata": {
        "id": "gys3I5sknN56"
      },
      "source": [
        "### Access to the raw data as an iterator"
      ]
    },
    {
      "cell_type": "code",
      "metadata": {
        "id": "VviUsD3up7iB"
      },
      "source": [
        "import torch\n",
        "import torchdata\n",
        "\n",
        "from torchtext.datasets import AG_NEWS\n",
        "\n",
        "train_iter = iter(AG_NEWS(split='train'))\n",
        "\n",
        "# The torchtext library provides a few raw dataset iterators, which yield the raw text strings. \n",
        "# For example, the AG_NEWS dataset iterators yield the raw data as a tuple of label and text."
      ],
      "execution_count": 12,
      "outputs": []
    },
    {
      "cell_type": "markdown",
      "metadata": {
        "id": "XZxmzGDfnTZR"
      },
      "source": [
        "View some items in this dataset"
      ]
    },
    {
      "cell_type": "code",
      "metadata": {
        "id": "XOrLeiR6nWIj",
        "colab": {
          "base_uri": "https://localhost:8080/"
        },
        "outputId": "662bc4cb-14c5-49d8-c620-b38cc5b1c09c"
      },
      "source": [
        "next(train_iter)"
      ],
      "execution_count": 15,
      "outputs": [
        {
          "output_type": "execute_result",
          "data": {
            "text/plain": [
              "(3,\n",
              " \"Oil and Economy Cloud Stocks' Outlook (Reuters) Reuters - Soaring crude prices plus worries\\\\about the economy and the outlook for earnings are expected to\\\\hang over the stock market next week during the depth of the\\\\summer doldrums.\")"
            ]
          },
          "metadata": {},
          "execution_count": 15
        }
      ]
    },
    {
      "cell_type": "code",
      "metadata": {
        "id": "NywAyPhgnXOd",
        "colab": {
          "base_uri": "https://localhost:8080/"
        },
        "outputId": "efd349e9-360b-4a0d-9133-5c6bccec0178"
      },
      "source": [
        "next(train_iter)"
      ],
      "execution_count": 16,
      "outputs": [
        {
          "output_type": "execute_result",
          "data": {
            "text/plain": [
              "(3,\n",
              " 'Iraq Halts Oil Exports from Main Southern Pipeline (Reuters) Reuters - Authorities have halted oil export\\\\flows from the main pipeline in southern Iraq after\\\\intelligence showed a rebel militia could strike\\\\infrastructure, an oil official said on Saturday.')"
            ]
          },
          "metadata": {},
          "execution_count": 16
        }
      ]
    },
    {
      "cell_type": "code",
      "metadata": {
        "id": "Q4ifroEcb6Kt"
      },
      "source": [
        "# Q1. What does each entry in the iterator represent with regards to a news piece?\n",
        "# A1. train_iter is iterable object therefore next(train_iter) represent what data there is in train_iter by the order one by one."
      ],
      "execution_count": 5,
      "outputs": []
    },
    {
      "cell_type": "markdown",
      "metadata": {
        "id": "PlGQrtWOneIn"
      },
      "source": [
        "### Prepare data\n",
        "- Use `get_tokenizer()` to create tokens from the `basic_english` language\n",
        "- Generate a token for each word in the training set. More on `yield` [HERE](https://stackoverflow.com/questions/231767/what-does-the-yield-keyword-do)\n",
        "- Build the vocabulary using `build_vocab_from_iterator()`"
      ]
    },
    {
      "cell_type": "code",
      "metadata": {
        "id": "IS84roQYnfft"
      },
      "source": [
        "from torchtext.data.utils import get_tokenizer\n",
        "from torchtext.vocab import build_vocab_from_iterator\n",
        "\n",
        "tokenizer = get_tokenizer('basic_english')\n",
        "\n",
        "train_iter = iter(AG_NEWS(split='train'))\n",
        "\n",
        "\n",
        "def yield_tokens(data_iter):\n",
        "    for _, text in data_iter:\n",
        "        yield tokenizer(text)\n",
        "\n",
        "vocab = build_vocab_from_iterator(yield_tokens(train_iter), specials=[\"<unk>\"], min_freq=10)\n",
        "# The first step is to build a vocabulary with the raw training dataset.\n",
        "# Here we use built in factory function build_vocab_from_iterator \n",
        "# which accepts iterator that yield list or iterator of tokens. Users can also pass any special symbols to be added to the vocabulary.\n",
        "\n",
        "vocab.set_default_index(vocab[\"<unk>\"])\n",
        "\n",
        "# Q2. What does the last line of code do?\n",
        "# A2. The first line means building vocab set with yield_token funtion(tokenization) and putting special token as 'unknown'.\n",
        "#     Also, this allows to bulid vocab with words that appear more than 10 times. If some words appear less than 10, \n",
        "#     this would not be involoved in the vocab list. \n",
        "#     The second line makes the unknown token to have the index 0\n",
        "\n",
        "# Q3. Would the vocab size be higher or lower if min_freq was set to something smaller? Why?\n",
        "# A3. If the min_freq is larger, then the vocab size will be smaller because there are less words that appear more than 10 times. And vice versa.\n"
      ],
      "execution_count": 6,
      "outputs": []
    },
    {
      "cell_type": "code",
      "source": [
        "# The vocabulary block converts a list of tokens into integers.\n",
        "vocab(['here', 'is', 'an', 'example'])"
      ],
      "metadata": {
        "colab": {
          "base_uri": "https://localhost:8080/"
        },
        "id": "m9QPKWmuQKlt",
        "outputId": "e1d7e392-384f-452b-d949-233f3cb0ec74"
      },
      "execution_count": 18,
      "outputs": [
        {
          "output_type": "execute_result",
          "data": {
            "text/plain": [
              "[475, 21, 30, 5297]"
            ]
          },
          "metadata": {},
          "execution_count": 18
        }
      ]
    },
    {
      "cell_type": "markdown",
      "metadata": {
        "id": "kUuRGujjt1SK"
      },
      "source": [
        "### Text and Label Pipelines\n",
        "- The text and label pipelines will be used to process the raw data strings from the dataset iterators\n"
      ]
    },
    {
      "cell_type": "markdown",
      "source": [
        "- The label pipeline converts the label into integers"
      ],
      "metadata": {
        "id": "0vzfRjWg0uVm"
      }
    },
    {
      "cell_type": "code",
      "metadata": {
        "id": "UTkQzMGSt3f7"
      },
      "source": [
        "# Prepare the text processing pipeline with the tokenizer and vocabulary.\n",
        "# The text and label pipelines will be used to process the raw data strings from the dataset iterators.\n",
        "\n",
        "text_pipeline = lambda x: vocab(tokenizer(x))\n",
        "label_pipeline = lambda x: int(x) - 1"
      ],
      "execution_count": 7,
      "outputs": []
    },
    {
      "cell_type": "code",
      "metadata": {
        "id": "Hm_TLX5guIG0",
        "colab": {
          "base_uri": "https://localhost:8080/"
        },
        "outputId": "a221db87-56d9-425f-8ea8-b2099d5a5b1b"
      },
      "source": [
        "text_pipeline(\"Welcome...unicorns, to my mystical world!\")"
      ],
      "execution_count": 8,
      "outputs": [
        {
          "output_type": "execute_result",
          "data": {
            "text/plain": [
              "[3314, 1, 1, 1, 0, 3, 4, 1300, 0, 50, 764]"
            ]
          },
          "metadata": {},
          "execution_count": 8
        }
      ]
    },
    {
      "cell_type": "code",
      "metadata": {
        "id": "rMYYPNrouqBT"
      },
      "source": [
        "# Q4. How many tokens does this sentence have? Does this match the number of words in the sentence? Why?\n",
        "# A4. There are 14 tokens in this sentence and this matches the number of words.\n",
        "\n",
        "# Q5. Looking at the token values, are there any of them not contained in the vocab? Which one(s)?\n",
        "# A5. 'unicorns' is not in the vocab therefore its index is 0(unknown)."
      ],
      "execution_count": 9,
      "outputs": []
    },
    {
      "cell_type": "markdown",
      "source": [
        "- The label pipeline converts the label into integers"
      ],
      "metadata": {
        "id": "X-KBfj46rCCN"
      }
    },
    {
      "cell_type": "code",
      "metadata": {
        "id": "DoqwIrcPrkVL",
        "colab": {
          "base_uri": "https://localhost:8080/"
        },
        "outputId": "b8b93511-5ab3-424b-8ee9-77adfb8b82fe"
      },
      "source": [
        "label_pipeline(4)"
      ],
      "execution_count": 10,
      "outputs": [
        {
          "output_type": "execute_result",
          "data": {
            "text/plain": [
              "3"
            ]
          },
          "metadata": {},
          "execution_count": 10
        }
      ]
    },
    {
      "cell_type": "markdown",
      "metadata": {
        "id": "xuMom7W0v-h-"
      },
      "source": [
        "### Data Batch and Iterator\n",
        "- we will use DataLoader that we are already familiar with\n",
        "- we will write `collate_fn` function to work on a batch of samples generated from DataLoader\n",
        "- it will take a batch from the DataLoader and processes them according to the data processing pipelines declared previously\n",
        "- the text entries in the original data batch input are packed into a list and concatenated as a single tensor for the input of `nn.EmbeddingBag` later\n",
        "- The offset is a tensor of delimiters to represent the beginning index of the individual sequence in the text tensor"
      ]
    },
    {
      "cell_type": "code",
      "metadata": {
        "id": "kZEf8BFPwu2t"
      },
      "source": [
        "from torch.utils.data import DataLoader\n",
        "\n",
        "# Device configuration\n",
        "device = torch.device(\"cuda\" if torch.cuda.is_available() else \"cpu\")\n",
        "\n",
        "def collate_batch(batch):\n",
        "    label_list, text_list, offsets = [], [], [0]\n",
        "    for (_label, _text) in batch:\n",
        "         # Get the label\n",
        "         label_list.append(label_pipeline(_label)) # get the label\n",
        "         # Get the tokens for each text entry\n",
        "         processed_text = torch.tensor(text_pipeline(_text), dtype=torch.int64) # torch.long\n",
        "         # Store tokens in text_list\n",
        "         text_list.append(processed_text)\n",
        "         # Get index of the current text entry\n",
        "         offsets.append(processed_text.size(0)) # returns the size of the 1st dimension of the tensor\n",
        "        #  offsets.append(len(processed_text)) # returns the size of the 1st dimension of the tensor\n",
        "    label_list = torch.tensor(label_list, dtype=torch.int64)\n",
        "    # The number of tokens for each news entry is added cumulatively\n",
        "    offsets = torch.tensor(offsets[:-1]).cumsum(dim=0) # cumulative sum of the first dimension\n",
        "    text_list = torch.cat(text_list)\n",
        "    return label_list.to(device), text_list.to(device), offsets.to(device)\n",
        "\n",
        "\n",
        "# Q6. What is \"offsets\" and why is it required for this dataset?\n",
        "# A6. It tells you that on which index the new sentence starts. It allows us to know where the new sentence starts."
      ],
      "execution_count": 19,
      "outputs": []
    },
    {
      "cell_type": "markdown",
      "source": [
        "![image.png](data:image/png;base64,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)"
      ],
      "metadata": {
        "id": "fBe43TnZTmDT"
      }
    },
    {
      "cell_type": "markdown",
      "metadata": {
        "id": "paV7-qVZzP1x"
      },
      "source": [
        "### Define the NN Model\n",
        "- consists of an embedding layer and a linear layer\n",
        "- the `nn.EmbeddingBag` layer computes sums or means of `bags` of embeddings, without instantiating the intermediate embeddings\n"
      ]
    },
    {
      "cell_type": "code",
      "metadata": {
        "id": "K0nzAkAPzRwq"
      },
      "source": [
        "from torch import nn\n",
        "\n",
        "class TextClassModel(nn.Module):\n",
        "\n",
        "    def __init__(self, vocab_size, embed_dim, num_class):\n",
        "        super().__init__()\n",
        "        self.embedding = nn.EmbeddingBag(vocab_size, embed_dim, sparse=True)\n",
        "        self.fc = nn.Linear(embed_dim, num_class)\n",
        "        self.init_weights()\n",
        "\n",
        "    # Define a fn to initialise weights. \n",
        "    # Others: nn.init.kaiming_(fc.weight, -initrange, initrange), nn.init.xavier_(fc.weight, -initrange, initrange)\n",
        "    \n",
        "    def init_weights(self):\n",
        "        initrange = 0.5\n",
        "        self.embedding.weight.data.uniform_(-initrange, initrange)\n",
        "        self.fc.weight.data.uniform_(-initrange, initrange)\n",
        "        self.fc.bias.data.zero_()\n",
        "\n",
        "    def forward(self, text, offsets):\n",
        "        embedded = self.embedding(text, offsets)\n",
        "        return self.fc(embedded)\n",
        "\n",
        "# Q7. Why is padding not required when using EmbeddingBag()?\n",
        "# A7. Since it concates all the sample data and know the position that the next data starts with offset array. "
      ],
      "execution_count": 22,
      "outputs": []
    },
    {
      "cell_type": "markdown",
      "metadata": {
        "id": "J7izKEEe0U9m"
      },
      "source": [
        "### Build model instance"
      ]
    },
    {
      "cell_type": "code",
      "metadata": {
        "id": "DWhwd-eG0Waq"
      },
      "source": [
        "train_iter = AG_NEWS(split='train')\n",
        "num_class = len(set([label for (label, text) in train_iter])) # derive the unique class labels\n",
        "vocab_size = len(vocab)\n",
        "emb_size = 64\n",
        "\n",
        "model = TextClassModel(vocab_size, emb_size, num_class).to(device)\n",
        "\n",
        "# Q8. What would be the vector dimension for each word in the vocabulary?\n",
        "# A8. The embedding dimension is 64. "
      ],
      "execution_count": 23,
      "outputs": []
    },
    {
      "cell_type": "code",
      "source": [
        "vocab_size"
      ],
      "metadata": {
        "colab": {
          "base_uri": "https://localhost:8080/"
        },
        "id": "FxlWJQhtUWhI",
        "outputId": "dff67dd3-3ac3-46fd-be3f-7c537d1e562c"
      },
      "execution_count": 26,
      "outputs": [
        {
          "output_type": "execute_result",
          "data": {
            "text/plain": [
              "20644"
            ]
          },
          "metadata": {},
          "execution_count": 26
        }
      ]
    },
    {
      "cell_type": "markdown",
      "metadata": {
        "id": "P6OCD5f_0qOS"
      },
      "source": [
        "### Functions for Training and Evaluation"
      ]
    },
    {
      "cell_type": "code",
      "metadata": {
        "id": "7ggruRPQ0uKd"
      },
      "source": [
        "import time\n",
        "\n",
        "def train(dataloader):\n",
        "    model.train()\n",
        "    total_acc, total_count = 0, 0\n",
        "    log_interval = 500\n",
        "    start_time = time.time()\n",
        "\n",
        "    for idx, (label, text, offsets) in enumerate(dataloader):\n",
        "        optimizer.zero_grad()\n",
        "        predicted_label = model(text, offsets)\n",
        "        loss = criterion(predicted_label, label)\n",
        "        loss.backward()\n",
        "        torch.nn.utils.clip_grad_norm_(model.parameters(), 0.1) # gradient clipping (later)\n",
        "        optimizer.step()\n",
        "        total_acc += (predicted_label.argmax(1) == label).sum().item()\n",
        "        total_count += label.size(0)\n",
        "        if idx % log_interval == 0 and idx > 0:\n",
        "            elapsed = time.time() - start_time\n",
        "            print('| epoch {:3d} | {:5d}/{:5d} batches '\n",
        "                  '| accuracy {:8.3f}'.format(epoch, idx, len(dataloader),\n",
        "                                              total_acc/total_count))\n",
        "            total_acc, total_count = 0, 0\n",
        "            start_time = time.time()\n",
        "\n",
        "def evaluate(dataloader):\n",
        "    model.eval()\n",
        "    total_acc, total_count = 0, 0\n",
        "\n",
        "    with torch.no_grad():\n",
        "        for idx, (label, text, offsets) in enumerate(dataloader):\n",
        "            predicted_label = model(text, offsets)\n",
        "            loss = criterion(predicted_label, label)\n",
        "            total_acc += (predicted_label.argmax(1) == label).sum().item()\n",
        "            total_count += label.size(0)\n",
        "    return total_acc/total_count"
      ],
      "execution_count": 27,
      "outputs": []
    },
    {
      "cell_type": "markdown",
      "metadata": {
        "id": "omAD6H4m1DXd"
      },
      "source": [
        "Split the dataset and run\n",
        "- the original data was not split into train/validation\n",
        "- use `torch.utils.data.dataset.random_split` to split the data\n",
        "- `torch.optim.lr_scheduler.StepLR` decays the learning rate of each parameter group by `gamma` every `step_size` epochs\n",
        "- `to_map_style_dataset()` converts iterable-style dataset to map-style dataset. This is needed because iterables do not have `__getitem__()` and therefore cannot be indexed\n"
      ]
    },
    {
      "cell_type": "code",
      "metadata": {
        "id": "SbqmkcR81RAW"
      },
      "source": [
        "from torch.utils.data.dataset import random_split\n",
        "from torchtext.data.functional import to_map_style_dataset\n",
        "\n",
        "EPOCHS = 10 # epoch\n",
        "LR = 5  # learning rate\n",
        "BATCH_SIZE = 32 # batch size for training\n",
        "\n",
        "criterion = torch.nn.CrossEntropyLoss()\n",
        "optimizer = torch.optim.SGD(model.parameters(), lr=LR)\n",
        "scheduler = torch.optim.lr_scheduler.StepLR(optimizer, step_size=1.0, gamma=0.1)\n",
        "\n",
        "train_iter, test_iter = AG_NEWS()\n",
        "train_dataset = to_map_style_dataset(train_iter)\n",
        "test_dataset = to_map_style_dataset(test_iter)\n",
        "\n",
        "# Split the dataset\n",
        "num_train = int(len(train_dataset) * 0.9)\n",
        "split_train_, split_valid_ = \\\n",
        "    random_split(train_dataset, [num_train, len(train_dataset) - num_train])\n",
        "\n",
        "train_dataloader = DataLoader(split_train_, batch_size=BATCH_SIZE,\n",
        "                              shuffle=True, collate_fn=collate_batch)\n",
        "valid_dataloader = DataLoader(split_valid_, batch_size=BATCH_SIZE,\n",
        "                              shuffle=True, collate_fn=collate_batch)\n",
        "test_dataloader = DataLoader(test_dataset, batch_size=BATCH_SIZE,\n",
        "                             shuffle=True, collate_fn=collate_batch)\n",
        "\n",
        "# Q9. How is the dataset split and what is the ratio between train, validation and test sets?\n",
        "# A9. The train_dataset is splited into two group train and validation with the ratio of 9:1."
      ],
      "execution_count": 28,
      "outputs": []
    },
    {
      "cell_type": "markdown",
      "source": [
        "### Timeout: Default DataLoader behaviour (Automatic Batching)\n",
        "- What if we do not supply a collate function?\n",
        "- How does DataLoader's default collate_fn work?\n",
        "  - Adds a new dimension to the beginning of the tensor (batch) and combines the data in the batch along that dimension.\n",
        "  - It automatically converts NumPy arrays and Python numerical values into PyTorch Tensors.\n",
        "  - Batch the elements into a tensor while preserving the structure of the data (eg dict, list, tuple, namedtuple, etc.)\n",
        "\n",
        "- However, if our data has varying lengths, like news or text reviews, we will need to pad them to be of fixed lengths before sending them to the NN input later.\n",
        "- So we will need to write our own collate_fn to handle this"
      ],
      "metadata": {
        "id": "TybwFiQeQCGd"
      }
    },
    {
      "cell_type": "code",
      "source": [
        "import numpy as np\n",
        "\n",
        "reviews = [\n",
        "        (0, \"This is awful.\"),\n",
        "        (1, \"Great\"),\n",
        "        (1, \"Fab!\"),\n",
        "        (0, \"Boring\")\n",
        "    ]\n",
        "\n",
        "dataloader = DataLoader(reviews, batch_size=2)\n",
        "\n",
        "for label, rev in dataloader:\n",
        "  print(f\"label: {label}\")\n",
        "  print(f\"text: {rev}\")\n"
      ],
      "metadata": {
        "id": "Od3Ga2rPOBdJ",
        "colab": {
          "base_uri": "https://localhost:8080/"
        },
        "outputId": "1830fd9f-44d5-46e4-f794-d63f570e661e"
      },
      "execution_count": 32,
      "outputs": [
        {
          "output_type": "stream",
          "name": "stdout",
          "text": [
            "label: tensor([0, 1])\n",
            "text: ('This is awful.', 'Great')\n",
            "label: tensor([1, 0])\n",
            "text: ('Fab!', 'Boring')\n"
          ]
        }
      ]
    },
    {
      "cell_type": "code",
      "source": [
        "# Enumerate gives us the index for the batch\n",
        "for idx, (lbl, txt) in enumerate(dataloader):\n",
        "  print(f\"batch: {idx}\")\n",
        "  print(f\"label: {lbl}\")\n",
        "  print(f\"text: {txt}\")\n"
      ],
      "metadata": {
        "id": "cldq0UsoXh8M",
        "colab": {
          "base_uri": "https://localhost:8080/"
        },
        "outputId": "5a2cc8a5-1aca-4ab9-bf40-99e7e3c77705"
      },
      "execution_count": 33,
      "outputs": [
        {
          "output_type": "stream",
          "name": "stdout",
          "text": [
            "batch: 0\n",
            "label: tensor([0, 1])\n",
            "text: ('This is awful.', 'Great')\n",
            "batch: 1\n",
            "label: tensor([1, 0])\n",
            "text: ('Fab!', 'Boring')\n"
          ]
        }
      ]
    },
    {
      "cell_type": "code",
      "source": [
        "train_iter, test_iter = AG_NEWS()\n",
        "\n",
        "tr_loader = DataLoader(train_iter, batch_size=2,\n",
        "                              shuffle=True)\n",
        "\n",
        "for label, news in tr_loader:\n",
        "  print(f\"label: {label}\")\n",
        "  print(f\"news: {news}\")\n",
        "  break;\n"
      ],
      "metadata": {
        "id": "A1OJwAyiRwL1",
        "colab": {
          "base_uri": "https://localhost:8080/"
        },
        "outputId": "89cc0f8d-5051-4d3e-963b-cfacbadc6f5f"
      },
      "execution_count": 35,
      "outputs": [
        {
          "output_type": "stream",
          "name": "stdout",
          "text": [
            "label: tensor([2, 2])\n",
            "news: (\"California overpowers N. Carolina Danny Leon hit a two-run homer, and Tyler Carp and John Lister added solo homers to lead California (1-0) to a 9-2 victory over North Carolina (1-1) yesterday in the Little League World Series at South Williamsport, Pa. The runs came quickly. California batted around in the third inning to take a 6-0 lead. Leon's shot to center and Lister's ...\", 'Baseball Today (AP) AP - Minnesota at Texas (8:05 p.m. EDT). Johan Santana (13-6) starts for the AL Central-leading Twins against Kenny Rogers (15-5).')\n"
          ]
        }
      ]
    },
    {
      "cell_type": "markdown",
      "source": [
        "More complex data\n",
        "- If each sample is a dictionary, it outputs a dictionary with the same set of keys but batched Tensors as values (or lists if the values can not be converted into Tensors). Same for lists, tuples, namedtuples, etc."
      ],
      "metadata": {
        "id": "8TyNOEsvQ7lP"
      }
    },
    {
      "cell_type": "code",
      "source": [
        "person_data = [\n",
        "        [0, \"Ada\", {\"height\": 153.1, \"feature\": np.array([1,2,3])}],\n",
        "        [1, \"Bob\", {\"height\": 172.5, \"feature\": np.array([3,2,1])}]\n",
        "    ]\n",
        "\n",
        "dataloader = DataLoader(person_data, batch_size=2)\n",
        "for _, (label, text, dic) in enumerate(dataloader):\n",
        "  print(f\"label: {label}\")\n",
        "  print(f\"text: {text}\")\n",
        "  print(f\"dic: {dic}\")\n"
      ],
      "metadata": {
        "id": "ymXdXMV7Q35x",
        "colab": {
          "base_uri": "https://localhost:8080/"
        },
        "outputId": "7994a047-ce87-4b36-868f-8aa878b4960e"
      },
      "execution_count": 36,
      "outputs": [
        {
          "output_type": "stream",
          "name": "stdout",
          "text": [
            "label: tensor([0, 1])\n",
            "text: ('Ada', 'Bob')\n",
            "dic: {'height': tensor([153.1000, 172.5000], dtype=torch.float64), 'feature': tensor([[1, 2, 3],\n",
            "        [3, 2, 1]])}\n"
          ]
        }
      ]
    },
    {
      "cell_type": "markdown",
      "metadata": {
        "id": "GdzWmZrJOVCg"
      },
      "source": [
        "### Back to News Classification\n",
        "### Train & Evaluate\n",
        "- Training takes around 3-3.5 minutes on CPU\n",
        "- **NOTE!** If the training code is too slow (you do not see the first output within 1 minute), restart your runtime and start over"
      ]
    },
    {
      "cell_type": "code",
      "metadata": {
        "id": "gjqCQtlq49Kd",
        "colab": {
          "base_uri": "https://localhost:8080/"
        },
        "outputId": "3769b3f9-c2a8-49bb-f4c2-fb1c65b66ee7"
      },
      "source": [
        "total_acc = None\n",
        "\n",
        "for epoch in range(1, EPOCHS + 1):\n",
        "    epoch_start_time = time.time()\n",
        "    train(train_dataloader)\n",
        "    acc_val = evaluate(valid_dataloader)\n",
        "    if total_acc is not None and total_acc > acc_val:\n",
        "      scheduler.step()\n",
        "    else:\n",
        "       total_acc = acc_val\n",
        "    print('-' * 59)\n",
        "    print('| end of epoch {:3d} | time: {:5.2f}s | '\n",
        "          'valid accuracy {:8.3f} '.format(epoch,\n",
        "                                           time.time() - epoch_start_time,\n",
        "                                           acc_val))\n",
        "    print('-' * 59)"
      ],
      "execution_count": 37,
      "outputs": [
        {
          "output_type": "stream",
          "name": "stdout",
          "text": [
            "| epoch   1 |   500/ 3375 batches | accuracy    0.637\n",
            "| epoch   1 |  1000/ 3375 batches | accuracy    0.842\n",
            "| epoch   1 |  1500/ 3375 batches | accuracy    0.861\n",
            "| epoch   1 |  2000/ 3375 batches | accuracy    0.869\n",
            "| epoch   1 |  2500/ 3375 batches | accuracy    0.878\n",
            "| epoch   1 |  3000/ 3375 batches | accuracy    0.888\n",
            "-----------------------------------------------------------\n",
            "| end of epoch   1 | time: 15.99s | valid accuracy    0.893 \n",
            "-----------------------------------------------------------\n",
            "| epoch   2 |   500/ 3375 batches | accuracy    0.902\n",
            "| epoch   2 |  1000/ 3375 batches | accuracy    0.898\n",
            "| epoch   2 |  1500/ 3375 batches | accuracy    0.902\n",
            "| epoch   2 |  2000/ 3375 batches | accuracy    0.903\n",
            "| epoch   2 |  2500/ 3375 batches | accuracy    0.906\n",
            "| epoch   2 |  3000/ 3375 batches | accuracy    0.905\n",
            "-----------------------------------------------------------\n",
            "| end of epoch   2 | time: 15.47s | valid accuracy    0.901 \n",
            "-----------------------------------------------------------\n",
            "| epoch   3 |   500/ 3375 batches | accuracy    0.918\n",
            "| epoch   3 |  1000/ 3375 batches | accuracy    0.917\n",
            "| epoch   3 |  1500/ 3375 batches | accuracy    0.912\n",
            "| epoch   3 |  2000/ 3375 batches | accuracy    0.914\n",
            "| epoch   3 |  2500/ 3375 batches | accuracy    0.918\n",
            "| epoch   3 |  3000/ 3375 batches | accuracy    0.914\n",
            "-----------------------------------------------------------\n",
            "| end of epoch   3 | time: 15.48s | valid accuracy    0.901 \n",
            "-----------------------------------------------------------\n",
            "| epoch   4 |   500/ 3375 batches | accuracy    0.933\n",
            "| epoch   4 |  1000/ 3375 batches | accuracy    0.935\n",
            "| epoch   4 |  1500/ 3375 batches | accuracy    0.933\n",
            "| epoch   4 |  2000/ 3375 batches | accuracy    0.933\n",
            "| epoch   4 |  2500/ 3375 batches | accuracy    0.931\n",
            "| epoch   4 |  3000/ 3375 batches | accuracy    0.935\n",
            "-----------------------------------------------------------\n",
            "| end of epoch   4 | time: 16.10s | valid accuracy    0.909 \n",
            "-----------------------------------------------------------\n",
            "| epoch   5 |   500/ 3375 batches | accuracy    0.938\n",
            "| epoch   5 |  1000/ 3375 batches | accuracy    0.939\n",
            "| epoch   5 |  1500/ 3375 batches | accuracy    0.933\n",
            "| epoch   5 |  2000/ 3375 batches | accuracy    0.933\n",
            "| epoch   5 |  2500/ 3375 batches | accuracy    0.936\n",
            "| epoch   5 |  3000/ 3375 batches | accuracy    0.932\n",
            "-----------------------------------------------------------\n",
            "| end of epoch   5 | time: 15.25s | valid accuracy    0.909 \n",
            "-----------------------------------------------------------\n",
            "| epoch   6 |   500/ 3375 batches | accuracy    0.936\n",
            "| epoch   6 |  1000/ 3375 batches | accuracy    0.935\n",
            "| epoch   6 |  1500/ 3375 batches | accuracy    0.936\n",
            "| epoch   6 |  2000/ 3375 batches | accuracy    0.938\n",
            "| epoch   6 |  2500/ 3375 batches | accuracy    0.937\n",
            "| epoch   6 |  3000/ 3375 batches | accuracy    0.933\n",
            "-----------------------------------------------------------\n",
            "| end of epoch   6 | time: 15.39s | valid accuracy    0.911 \n",
            "-----------------------------------------------------------\n",
            "| epoch   7 |   500/ 3375 batches | accuracy    0.939\n",
            "| epoch   7 |  1000/ 3375 batches | accuracy    0.937\n",
            "| epoch   7 |  1500/ 3375 batches | accuracy    0.937\n",
            "| epoch   7 |  2000/ 3375 batches | accuracy    0.941\n",
            "| epoch   7 |  2500/ 3375 batches | accuracy    0.935\n",
            "| epoch   7 |  3000/ 3375 batches | accuracy    0.937\n",
            "-----------------------------------------------------------\n",
            "| end of epoch   7 | time: 20.06s | valid accuracy    0.909 \n",
            "-----------------------------------------------------------\n",
            "| epoch   8 |   500/ 3375 batches | accuracy    0.939\n",
            "| epoch   8 |  1000/ 3375 batches | accuracy    0.940\n",
            "| epoch   8 |  1500/ 3375 batches | accuracy    0.940\n",
            "| epoch   8 |  2000/ 3375 batches | accuracy    0.939\n",
            "| epoch   8 |  2500/ 3375 batches | accuracy    0.938\n",
            "| epoch   8 |  3000/ 3375 batches | accuracy    0.939\n",
            "-----------------------------------------------------------\n",
            "| end of epoch   8 | time: 17.94s | valid accuracy    0.910 \n",
            "-----------------------------------------------------------\n",
            "| epoch   9 |   500/ 3375 batches | accuracy    0.941\n",
            "| epoch   9 |  1000/ 3375 batches | accuracy    0.938\n",
            "| epoch   9 |  1500/ 3375 batches | accuracy    0.940\n",
            "| epoch   9 |  2000/ 3375 batches | accuracy    0.939\n",
            "| epoch   9 |  2500/ 3375 batches | accuracy    0.941\n",
            "| epoch   9 |  3000/ 3375 batches | accuracy    0.940\n",
            "-----------------------------------------------------------\n",
            "| end of epoch   9 | time: 17.49s | valid accuracy    0.910 \n",
            "-----------------------------------------------------------\n",
            "| epoch  10 |   500/ 3375 batches | accuracy    0.937\n",
            "| epoch  10 |  1000/ 3375 batches | accuracy    0.942\n",
            "| epoch  10 |  1500/ 3375 batches | accuracy    0.940\n",
            "| epoch  10 |  2000/ 3375 batches | accuracy    0.939\n",
            "| epoch  10 |  2500/ 3375 batches | accuracy    0.940\n",
            "| epoch  10 |  3000/ 3375 batches | accuracy    0.937\n",
            "-----------------------------------------------------------\n",
            "| end of epoch  10 | time: 15.67s | valid accuracy    0.910 \n",
            "-----------------------------------------------------------\n"
          ]
        }
      ]
    },
    {
      "cell_type": "code",
      "metadata": {
        "id": "Mp0FqEaxS9_z"
      },
      "source": [
        "# Q10. Why are the train and test datasets converted to map style datasets?\n",
        "# A10. If we store index and the data, then dataloader can easily access the data with the index. \n"
      ],
      "execution_count": null,
      "outputs": []
    },
    {
      "cell_type": "markdown",
      "source": [
        "Evaluate the model with test dataset"
      ],
      "metadata": {
        "id": "R7NSTrP-5nxt"
      }
    },
    {
      "cell_type": "code",
      "source": [
        "print('Checking the results of test dataset.')\n",
        "accu_test = evaluate(test_dataloader)\n",
        "print('test accuracy {:8.3f}'.format(accu_test))"
      ],
      "metadata": {
        "id": "H_AHv4OC5iK3",
        "colab": {
          "base_uri": "https://localhost:8080/"
        },
        "outputId": "7f3f4699-fc36-4a98-87a4-cdfc288b2d9f"
      },
      "execution_count": 38,
      "outputs": [
        {
          "output_type": "stream",
          "name": "stdout",
          "text": [
            "Checking the results of test dataset.\n",
            "test accuracy    0.912\n"
          ]
        }
      ]
    },
    {
      "cell_type": "markdown",
      "source": [
        "Test on a random news\n"
      ],
      "metadata": {
        "id": "5nEM7riZ5rlO"
      }
    },
    {
      "cell_type": "code",
      "source": [
        "ag_news_label = {1: \"World\",\n",
        "                 2: \"Sports\",\n",
        "                 3: \"Business\",\n",
        "                 4: \"Sci/Tec\"}\n",
        "\n",
        "def predict(text, text_pipeline):\n",
        "    with torch.no_grad():\n",
        "        text = torch.tensor(text_pipeline(text))\n",
        "        output = model(text, torch.tensor([0]))\n",
        "        return output.argmax(1).item() + 1\n",
        "\n",
        "ex_text_str = \"MEMPHIS, Tenn. – Four days ago, Jon Rahm was \\\n",
        "    enduring the season’s worst weather conditions on Sunday at The \\\n",
        "    Open on his way to a closing 75 at Royal Portrush, which \\\n",
        "    considering the wind and the rain was a respectable showing. \\\n",
        "    Thursday’s first round at the WGC-FedEx St. Jude Invitational \\\n",
        "    was another story. With temperatures in the mid-80s and hardly any \\\n",
        "    wind, the Spaniard was 13 strokes better in a flawless round. \\\n",
        "    Thanks to his best putting performance on the PGA Tour, Rahm \\\n",
        "    finished with an 8-under 62 for a three-stroke lead, which \\\n",
        "    was even more impressive considering he’d never played the \\\n",
        "    front nine at TPC Southwind.\"\n",
        "\n",
        "model = model.to(\"cpu\")\n",
        "\n",
        "print(\"This is a %s news\" %ag_news_label[predict(ex_text_str, text_pipeline)])"
      ],
      "metadata": {
        "id": "7Xb6W85r5zZo",
        "colab": {
          "base_uri": "https://localhost:8080/"
        },
        "outputId": "ed493d31-f394-42c5-d495-a8a14e709510"
      },
      "execution_count": 39,
      "outputs": [
        {
          "output_type": "stream",
          "name": "stdout",
          "text": [
            "This is a Sports news\n"
          ]
        }
      ]
    },
    {
      "cell_type": "code",
      "source": [
        "# Q11. Think of ways to further improve the accuracy of the model. \n",
        "# Put any thoughts or code cells below.\n",
        "# A11. We may increase the number of epoch. Also we may try to change the optimizer, learning rate. "
      ],
      "metadata": {
        "id": "nEIouxvzEqJ0"
      },
      "execution_count": 40,
      "outputs": []
    }
  ]
}