{
  "nbformat": 4,
  "nbformat_minor": 0,
  "metadata": {
    "colab": {
      "provenance": [],
      "collapsed_sections": [],
      "include_colab_link": true
    },
    "kernelspec": {
      "name": "python3",
      "display_name": "Python 3"
    },
    "gpuClass": "standard"
  },
  "cells": [
    {
      "cell_type": "markdown",
      "metadata": {
        "id": "view-in-github",
        "colab_type": "text"
      },
      "source": [
        "<a href=\"https://colab.research.google.com/github/SophieShin/NLP_22_Fall/blob/main/%5BSSH%5Dlab03_nn_training.ipynb\" target=\"_parent\"><img src=\"https://colab.research.google.com/assets/colab-badge.svg\" alt=\"Open In Colab\"/></a>"
      ]
    },
    {
      "cell_type": "markdown",
      "metadata": {
        "id": "DRzQR_f5l4iS"
      },
      "source": [
        "# Lab 3 – First Neural Network\n",
        "- Work on saved a copy on your Drive, name your file appropriately, e.g. `GN-lab03.ipynb` (Korean students, please put the initial of your **family name first** because that's how you appear in the register, e.g. Kim Gyeong Min should be `KGM`)\n",
        "- Run ALL the code cells and answer the questions (code or text) before submitting the notebook. Code cell output should be visible in your submission.\n",
        "- Save your notebook (`Ctrl+S`) before submitting. \n",
        "\n",
        "## A. Implementing a basic \"forward\" pass\n",
        "Try to visualise what each neural network model looks like in terms of neurons, weights and biases.\n"
      ]
    },
    {
      "cell_type": "code",
      "metadata": {
        "id": "Xakn64iC_F1r"
      },
      "source": [
        "import sys\n",
        "import matplotlib as plt\n",
        "import numpy as np\n",
        "import torch\n"
      ],
      "execution_count": 1,
      "outputs": []
    },
    {
      "cell_type": "markdown",
      "metadata": {
        "id": "iWvkX4ap2WfO"
      },
      "source": [
        "## The Perceptron (Single Neuron)\n",
        "- Every non-input NEURON has a bias, not every weight, so the bias is added for a single output neuron\n",
        "- 1 output neuron with 3 inputs"
      ]
    },
    {
      "cell_type": "code",
      "metadata": {
        "id": "rq_kLhOr_QqD",
        "colab": {
          "base_uri": "https://localhost:8080/"
        },
        "outputId": "326097cc-f68a-4bfa-b397-7c2f0827d7e9"
      },
      "source": [
        "# Initialise some values\n",
        "input = [0.8, 1.3, 2.5]\n",
        "weights = [2.5, 1.7, -0.5]\n",
        "bias = 2\n",
        "\n",
        "# Get the weighted sum of the inputs and add the bias\n",
        "output = input[0]*weights[0] + input[1]*weights[1] + input[2]*weights[2] + bias\n",
        "print(output)\n",
        "\n",
        "# Add a step function; output is 1 if it is 0 or more, 0 otherwise\n",
        "output = 1 if output >= 0 else 0\n",
        "\n",
        "# Print perceptron's final output\n",
        "print(f'Final perceptron output = {output}') \n",
        "\n",
        "# TODO\n",
        "# Q1. Think of a ML problem or task where a neural network would have a final output to be 0 or 1.\n",
        "# A1. It can be used to solve classification problems such as spam or not, Pass or Fail."
      ],
      "execution_count": 2,
      "outputs": [
        {
          "output_type": "stream",
          "name": "stdout",
          "text": [
            "4.96\n",
            "Final perceptron output = 1\n"
          ]
        }
      ]
    },
    {
      "cell_type": "markdown",
      "metadata": {
        "id": "7w-UJYm5MTsZ"
      },
      "source": [
        "### Example 2: Multiple neurons\n",
        "- Each neuron will have its own WEIGHT associated to each input\n",
        "- As before, each NEURON will have its own BIAS"
      ]
    },
    {
      "cell_type": "code",
      "metadata": {
        "id": "Zxqlna_eMqpj",
        "colab": {
          "base_uri": "https://localhost:8080/"
        },
        "outputId": "9c557257-57f1-4f6e-ca0e-31f7309e16ac"
      },
      "source": [
        "#inputs = [0.8, 1.3, 2.5, 2.0] # A sample of 4 features, e.g. temperature, humidity, wind, pressure\n",
        "\n",
        "input = [0.8, 1.3, 2.5, 2.0]\n",
        "\n",
        "weights1 = [2.5, 1.7, -0.5, 1.0] # neuron 1\n",
        "weights2 = [0.5, -0.91, 0.26, -0.5] # neuron 2\n",
        "weights3 = [-0.26, -0.27, 0.17, 0.87] # neuron 3\n",
        "\n",
        "bias1 = 2\n",
        "bias2 = 3\n",
        "bias3 = 0.5\n",
        "\n",
        "output = [input[0]*weights1[0] + input[1]*weights1[1] + input[2]*weights1[2] + input[3]*weights1[3] + bias1,\n",
        "          input[0]*weights2[0] + input[1]*weights2[1] + input[2]*weights2[2] + input[3]*weights2[3] + bias2,\n",
        "          input[0]*weights3[0] + input[1]*weights3[1] + input[2]*weights3[2] + input[3]*weights3[3] + bias3]\n",
        "\n",
        "print(output)\n",
        "\n",
        "# TODO\n",
        "# Q2. How many output neurons does this network contain?\n",
        "# A2. There are 3 neurons in this model."
      ],
      "execution_count": 3,
      "outputs": [
        {
          "output_type": "stream",
          "name": "stdout",
          "text": [
            "[6.96, 1.867, 2.106]\n"
          ]
        }
      ]
    },
    {
      "cell_type": "markdown",
      "metadata": {
        "id": "T9KdBdw1PzAO"
      },
      "source": [
        "### Use Loops and Matrices!\n",
        "\n",
        "\n"
      ]
    },
    {
      "cell_type": "code",
      "metadata": {
        "id": "cDrkbsgzQtPZ",
        "colab": {
          "base_uri": "https://localhost:8080/"
        },
        "outputId": "f54ddbbe-1074-4162-8b77-c650e27f939d"
      },
      "source": [
        "inputs = [0.8, 1.3, 2.5, 2.0]\n",
        "\n",
        "weights = [[2.5, 1.7, -0.5, 1.0], \n",
        "           [0.5, -0.91, 0.26, -0.5],\n",
        "           [-0.26, -0.27, 0.17, 0.87]]\n",
        "\n",
        "biases = [2, 3, 0.5]\n",
        "\n",
        "layer_outputs = [] # Outputs of current layer\n",
        "for weight, bias in zip(weights, biases):\n",
        "    output = 0 # Reset current neuron output to 0\n",
        "    for input, w in zip(inputs, weight):\n",
        "        output += input*w\n",
        "    output += bias\n",
        "    layer_outputs.append(output)\n",
        "\n",
        "print(zip(weights, biases))\n",
        "print(layer_outputs)"
      ],
      "execution_count": 4,
      "outputs": [
        {
          "output_type": "stream",
          "name": "stdout",
          "text": [
            "<zip object at 0x7f7ec2ca1b90>\n",
            "[6.96, 1.867, 2.106]\n"
          ]
        }
      ]
    },
    {
      "cell_type": "markdown",
      "metadata": {
        "id": "ikyggUJxXtPr"
      },
      "source": [
        "## Let's use NumPy & Dot Products!\n",
        "- Multiply elements wise the corresponding values in two arrays and add them up\n",
        "- Dot product between two vectors results in a single scalar value\n"
      ]
    },
    {
      "cell_type": "code",
      "metadata": {
        "id": "MJekSFlcXwM8",
        "colab": {
          "base_uri": "https://localhost:8080/"
        },
        "outputId": "de897a3e-e7c2-46e7-f9d0-b266fac70135"
      },
      "source": [
        "import numpy as np\n",
        "\n",
        "inputs = np.array([0.8, 1.3, 2.5, 2.0])\n",
        "weights = np.array([2.5, 1.7, -0.5, 1.0])\n",
        "bias = 2\n",
        "\n",
        "output = np.dot(weights, inputs) + bias\n",
        "print(output)"
      ],
      "execution_count": 5,
      "outputs": [
        {
          "output_type": "stream",
          "name": "stdout",
          "text": [
            "6.96\n"
          ]
        }
      ]
    },
    {
      "cell_type": "markdown",
      "metadata": {
        "id": "D2L-U4yRaCXu"
      },
      "source": [
        "When performing a dot product between a vector (input) and a matrix (weights)\n",
        "  - Weights have to be first parameter of ``np.dot()``, otherwise an error will be thrown\n",
        "  - Column size of ``weights`` = row size of ``inputs``\n"
      ]
    },
    {
      "cell_type": "code",
      "metadata": {
        "id": "r9AoCO93aL6B",
        "colab": {
          "base_uri": "https://localhost:8080/"
        },
        "outputId": "7934401d-faab-4c3a-ab32-0721d3ca38ec"
      },
      "source": [
        "inputs = np.array([0.8, 1.3, 2.5, 2.0])\n",
        "\n",
        "weights = np.array([[2.5, 1.7, -0.5, 1.0], \n",
        "           [0.5, -0.91, 0.26, -0.5],\n",
        "           [-0.26, -0.27, 0.17, 0.87]])\n",
        "\n",
        "biases = np.array([2, 3, 0.5])\n",
        "\n",
        "output = np.dot(weights, inputs) + biases # dot product of a vector and a matrix\n",
        "\n",
        "print(output)\n",
        "\n",
        "# TODO\n",
        "# Q3. What else can we do to perform the dot product between the inputs and weights?\n",
        "# A3. @ operator can be applied as well like below.\n",
        "\n",
        "print(weights@inputs + biases)"
      ],
      "execution_count": 6,
      "outputs": [
        {
          "output_type": "stream",
          "name": "stdout",
          "text": [
            "[6.96  1.867 2.106]\n",
            "[6.96  1.867 2.106]\n"
          ]
        }
      ]
    },
    {
      "cell_type": "markdown",
      "metadata": {
        "id": "mTxtXoYEb0ea"
      },
      "source": [
        "## Summary\n",
        "- Weights and biases are two different tools for approximating something (e.g. an output from an input)\n",
        "- Weights determine how much influence this input has for the output (as it is multiplied) and bias determines how much this output can be offset by the input (as it is added)\n",
        "- Think of a classical equation for a line ``y = wx + b`` where ``w`` is the weight and ``b`` is a the bias"
      ]
    },
    {
      "cell_type": "markdown",
      "metadata": {
        "id": "qiPxh-XmJqPT"
      },
      "source": [
        "## Dot product between two 2-D arrays (two matrices)\n",
        "- Numpy's ``np.dot()`` is flexible; it computes the inner product for 1D arrays and performs matrix multiplication for 2D arrays.\n",
        "- Since both matrices have the same size, transpose the second matrix, i.e. ``weights`` here so that ``1st-col-size=2nd-row-size`` holds \n"
      ]
    },
    {
      "cell_type": "code",
      "metadata": {
        "id": "PhGET9UWKoIL",
        "colab": {
          "base_uri": "https://localhost:8080/"
        },
        "outputId": "9fba8b79-d415-4262-b0e4-66cf0b816752"
      },
      "source": [
        "# inputs 3x4\n",
        "inputs = np.array([[0.8, 1.3, 2.5, 2.0],\n",
        "          [2.3, 1.5, 3.8, 4.5],\n",
        "          [-1.5, 2.7, 3.3, -0.8]])\n",
        "\n",
        "# weights 3x4\n",
        "weights = np.array([[2.5, 1.7, -0.5, 1.0], \n",
        "           [0.5, -0.91, 0.26, -0.5],\n",
        "           [-0.26, -0.27, 0.17, 0.87]])\n",
        "\n",
        "biases = np.array([2, 3, 0.5])\n",
        "\n",
        "output = np.dot(inputs, weights.T) + biases\n",
        "\n",
        "print(f'{output} \\n{output.shape}')\n",
        "\n",
        "# TODO\n",
        "# Q4. Explain what it means to have a 2-D array for the input and also for the output\n",
        "# A4. It may mean that there are multiple data operated at once, hence multiple outputs."
      ],
      "execution_count": 7,
      "outputs": [
        {
          "output_type": "stream",
          "name": "stdout",
          "text": [
            "[[ 6.96   1.867  2.106]\n",
            " [12.9    1.523  4.058]\n",
            " [ 0.39   1.051  0.026]] \n",
            "(3, 3)\n"
          ]
        }
      ]
    },
    {
      "cell_type": "markdown",
      "metadata": {
        "id": "HJCjLVN4ZrL8"
      },
      "source": [
        "## Let's use Tensors!\n",
        "- ``torch.dot()`` behaves differently to ``np.dot()`` \n",
        "- ``torch.dot(a,b)`` treats both ``a`` and ``b`` as 1D vectors (irrespective of their original shape) and computes their inner product.\n",
        "- Several ways to do matrix (rank 2 tensor) multiplication:\n",
        "  - ``ab = a.mm(b)``\n",
        "  - ``ab = torch.mm(a, b)``\n",
        "  - ``ab = torch.matmul(a, b)``\n",
        "  - ``ab = a @ b # Python 3.5+``\n",
        "- The number of columns of the first matrix must be equal to the number of rows of the second matrix.\n",
        "- The function ``torch.matmul()`` performs matrix multiplications if both arguments are 2D and computes their dot product if both arguments are 1D.\n"
      ]
    },
    {
      "cell_type": "code",
      "metadata": {
        "id": "8qlNIDiPxSrF",
        "colab": {
          "base_uri": "https://localhost:8080/"
        },
        "outputId": "fc516752-bfe0-434e-e900-b61922f61770"
      },
      "source": [
        "# 1-D tensor dot product\n",
        "a = torch.tensor([1, 2])\n",
        "b = torch.tensor([3, 2])\n",
        "\n",
        "torch.dot(a, b)"
      ],
      "execution_count": 8,
      "outputs": [
        {
          "output_type": "execute_result",
          "data": {
            "text/plain": [
              "tensor(7)"
            ]
          },
          "metadata": {},
          "execution_count": 8
        }
      ]
    },
    {
      "cell_type": "code",
      "metadata": {
        "id": "puj-YybH0E6g",
        "colab": {
          "base_uri": "https://localhost:8080/"
        },
        "outputId": "69e633e2-6f88-42c4-f6a1-f119c60bec17"
      },
      "source": [
        "# 2-D tensor dot product for matrices with matching column and row size\n",
        "a = torch.tensor([\n",
        "    [0, 1, 2],\n",
        "    [1, 2, 3]\n",
        "])\n",
        "\n",
        "b = torch.tensor([\n",
        "    [0, 1],\n",
        "    [1, 1],\n",
        "    [1, 3]\n",
        "])\n",
        "\n",
        "torch.mm(a,b)\n"
      ],
      "execution_count": 9,
      "outputs": [
        {
          "output_type": "execute_result",
          "data": {
            "text/plain": [
              "tensor([[ 3,  7],\n",
              "        [ 5, 12]])"
            ]
          },
          "metadata": {},
          "execution_count": 9
        }
      ]
    },
    {
      "cell_type": "markdown",
      "metadata": {
        "id": "WwHbk4uPA6gw"
      },
      "source": [
        "### Dot product between two 2-D tensors from the example"
      ]
    },
    {
      "cell_type": "code",
      "metadata": {
        "id": "JoK1kTu_Zu7K",
        "colab": {
          "base_uri": "https://localhost:8080/"
        },
        "outputId": "800d7812-cbd0-4e6d-f554-1df8466b1c80"
      },
      "source": [
        "input = torch.tensor(inputs)\n",
        "weight = torch.tensor(weights)\n",
        "bias = torch.tensor(biases)\n",
        "\n",
        "output = torch.matmul(input, torch.transpose(weight, 0, 1)) + bias\n",
        "\n",
        "print(output, output.shape)\n",
        "\n",
        "# TODO\n",
        "# Q5. repeat using the @ operator. You should get the same output\n",
        "# A5. Using @ operator generates the same result as below.\n",
        "\n",
        "output2 = input@weight.T + bias\n",
        "print(output2, output.shape)"
      ],
      "execution_count": 10,
      "outputs": [
        {
          "output_type": "stream",
          "name": "stdout",
          "text": [
            "tensor([[ 6.9600,  1.8670,  2.1060],\n",
            "        [12.9000,  1.5230,  4.0580],\n",
            "        [ 0.3900,  1.0510,  0.0260]], dtype=torch.float64) torch.Size([3, 3])\n",
            "tensor([[ 6.9600,  1.8670,  2.1060],\n",
            "        [12.9000,  1.5230,  4.0580],\n",
            "        [ 0.3900,  1.0510,  0.0260]], dtype=torch.float64) torch.Size([3, 3])\n"
          ]
        }
      ]
    },
    {
      "cell_type": "markdown",
      "metadata": {
        "id": "5jBRPHQKG3lt"
      },
      "source": [
        "### Exercise: Write your own code using TENSORS to implement a neural network as follows:\n",
        "- Has 5 input neurons made up of random numbers between 0 and 1\n",
        "- Connects to two output neurons\n",
        "- Weights and biases should be random numbers between a normal distribution. Use `torch.randn()`\n",
        "- The final outputs should be a combination of the weighted sum followed by an activation function as follows:\n",
        "  - If the weighted sum is negative, then the output is 0\n",
        "  - Otherwise the output is just the weighted sum\n"
      ]
    },
    {
      "cell_type": "code",
      "metadata": {
        "id": "dvDjJncONJpx",
        "colab": {
          "base_uri": "https://localhost:8080/"
        },
        "outputId": "d9dcdbfe-9d86-4937-d976-c6185af0ea20"
      },
      "source": [
        "# Q6. Has 5 input neurons made up of random numbers between 0 and 1. Use torch.rand()\n",
        "input = torch.rand(1,5)\n",
        "\n",
        "# Q7. Weights should be random numbers between a normal distribution. Use torch.randn()\n",
        "weight = torch.randn(5, 2)\n",
        "\n",
        "# Q8. Biases should be random numbers between a normal distribution. Use torch.randn()\n",
        "bias = torch.randn(2)\n",
        "\n",
        "# Q9. The final outputs should be a combination of the weighted sum\n",
        "output = torch.mm(input, weight) + bias\n",
        "print(output)\n",
        "\n",
        "# Q10. If the weighted sum is negative, then the output is 0, otherwise the output is just the weighted sum\n",
        "# converting elements of an array to zero when negative\n",
        "# reference : https://rfriend.tistory.com/426\n",
        "\n",
        "output_list = output.reshape(2).tolist()\n",
        "activation = [0 if  i<0 else i for i in output_list]\n",
        "output_tensor = torch.tensor(activation)\n",
        "output_tensor = output_tensor.reshape(1,2)\n",
        "print(output_tensor)"
      ],
      "execution_count": 11,
      "outputs": [
        {
          "output_type": "stream",
          "name": "stdout",
          "text": [
            "tensor([[ 1.5172, -0.0885]])\n",
            "tensor([[1.5172, 0.0000]])\n"
          ]
        }
      ]
    },
    {
      "cell_type": "markdown",
      "metadata": {
        "id": "0KvsIo2UfwO3"
      },
      "source": [
        "## B. Build NN Model using ``torch.nn.Module``\n",
        "- Create a subclass of `nn.Module`\n",
        "- Define layers and activations\n",
        "- Do a forward pass to inspect the model, parameters and outputs\n",
        "- Add loss, optimiser and training loop for linear regression"
      ]
    },
    {
      "cell_type": "code",
      "metadata": {
        "id": "RuZwA3o9ZWZz",
        "colab": {
          "base_uri": "https://localhost:8080/"
        },
        "outputId": "51c8a8aa-3642-46da-9140-e3d883b76c40"
      },
      "source": [
        "import torch\n",
        "\n",
        "import torch.nn as nn\n",
        "\n",
        "class TinyModel(nn.Module): # TinyModel is a subclass of nn.Module\n",
        "    \n",
        "    def __init__(self):\n",
        "        super(TinyModel, self).__init__()\n",
        "        super().__init__()\n",
        "        self.linear1 = nn.Linear(100, 200) # input_size and hidden_size\n",
        "        self.activation = nn.ReLU() # Rectified Linear Unit activation function\n",
        "        self.linear2 = nn.Linear(200, 10) # hidden layer and output layer size\n",
        "        self.softmax = nn.Softmax() # output layer activation function\n",
        "    \n",
        "    def forward(self, x):\n",
        "        out = self.linear1(x)\n",
        "        out = self.activation(out)\n",
        "        out = self.linear2(out)\n",
        "        out = self.softmax(out)\n",
        "        return out\n",
        "\n",
        "# Create an instance of TinyModel (like initalising a variable)\n",
        "tinymodel = TinyModel()\n",
        "\n",
        "# See what this model contains\n",
        "print('The model:')\n",
        "print(tinymodel)\n",
        "\n",
        "# Print out one of the layers\n",
        "print('\\n\\nJust one layer:')\n",
        "print(tinymodel.linear2)\n",
        "\n",
        "# View ALL the parameters (weights and biases)\n",
        "# print('\\n\\nModel params:')\n",
        "# for param in tinymodel.parameters():\n",
        "#     print(param)\n",
        "\n",
        "# View the parameters (weights and biases) in the LAST layer (linear2) only\n",
        "print('\\n\\nLinear2 layer params:')\n",
        "for param in tinymodel.linear2.parameters():\n",
        "    print(param)"
      ],
      "execution_count": 13,
      "outputs": [
        {
          "output_type": "stream",
          "name": "stdout",
          "text": [
            "The model:\n",
            "TinyModel(\n",
            "  (linear1): Linear(in_features=100, out_features=200, bias=True)\n",
            "  (activation): ReLU()\n",
            "  (linear2): Linear(in_features=200, out_features=10, bias=True)\n",
            "  (softmax): Softmax(dim=None)\n",
            ")\n",
            "\n",
            "\n",
            "Just one layer:\n",
            "Linear(in_features=200, out_features=10, bias=True)\n",
            "\n",
            "\n",
            "Linear2 layer params:\n",
            "Parameter containing:\n",
            "tensor([[-0.0290, -0.0298, -0.0704,  ...,  0.0397,  0.0049, -0.0088],\n",
            "        [-0.0038,  0.0490,  0.0259,  ..., -0.0222, -0.0527, -0.0133],\n",
            "        [ 0.0116,  0.0085,  0.0032,  ...,  0.0700, -0.0462,  0.0346],\n",
            "        ...,\n",
            "        [ 0.0132,  0.0145,  0.0253,  ..., -0.0060, -0.0651,  0.0350],\n",
            "        [-0.0603, -0.0602, -0.0086,  ...,  0.0477, -0.0347,  0.0192],\n",
            "        [ 0.0500,  0.0657, -0.0675,  ...,  0.0181, -0.0329, -0.0532]],\n",
            "       requires_grad=True)\n",
            "Parameter containing:\n",
            "tensor([ 0.0609,  0.0093,  0.0001,  0.0512, -0.0457,  0.0692,  0.0207, -0.0340,\n",
            "        -0.0478,  0.0529], requires_grad=True)\n"
          ]
        }
      ]
    },
    {
      "cell_type": "markdown",
      "metadata": {
        "id": "RcjYoJIAAD8-"
      },
      "source": [
        "### Linear layer demo\n",
        "\n",
        "For the code chunk below, note that:\n",
        "- the weight, bias and output tensor dimensions are as expected (weight matrix is in transposed form, i.e. has shape `(out_features, in_features)`\n",
        "- the multiplication of the inputs with the weight matrices, added with the bias will produce the output"
      ]
    },
    {
      "cell_type": "code",
      "source": [
        "lin.parameters()"
      ],
      "metadata": {
        "colab": {
          "base_uri": "https://localhost:8080/"
        },
        "id": "PN2hdAEFlzWa",
        "outputId": "fd59cdf0-5608-44e8-d227-0dcad828e4ed"
      },
      "execution_count": 14,
      "outputs": [
        {
          "output_type": "execute_result",
          "data": {
            "text/plain": [
              "<generator object Module.parameters at 0x7f7ec21f3350>"
            ]
          },
          "metadata": {},
          "execution_count": 14
        }
      ]
    },
    {
      "cell_type": "code",
      "metadata": {
        "id": "j6RhRO_CZWZ1",
        "colab": {
          "base_uri": "https://localhost:8080/"
        },
        "outputId": "0b49acb4-396b-49cc-a31e-02a6a9f843c0"
      },
      "source": [
        "# Create a linear layer with 3 inputs and 2 outputs # bias 포함해서 생기는 것 같음\n",
        "lin = torch.nn.Linear(3, 2)\n",
        "# Create sample input vector with random values\n",
        "x = torch.rand(1, 3)\n",
        "print('Input:')\n",
        "print(x)\n",
        "\n",
        "# Print the initial parameter values (these are also randomly set)\n",
        "print('\\n\\nWeight and Bias parameters:')\n",
        "for param in lin.parameters():\n",
        "    print(param)\n",
        "\n",
        "# Apply the linear layer to the input\n",
        "y = lin(x)\n",
        "print('\\n\\nOutput:')\n",
        "print(y)\n"
      ],
      "execution_count": 18,
      "outputs": [
        {
          "output_type": "stream",
          "name": "stdout",
          "text": [
            "Input:\n",
            "tensor([[0.5063, 0.3859, 0.4562]])\n",
            "\n",
            "\n",
            "Weight and Bias parameters:\n",
            "Parameter containing:\n",
            "tensor([[ 0.1214, -0.4287,  0.5274],\n",
            "        [ 0.4719, -0.4578,  0.1704]], requires_grad=True)\n",
            "Parameter containing:\n",
            "tensor([ 0.4419, -0.1930], requires_grad=True)\n",
            "\n",
            "\n",
            "Output:\n",
            "tensor([[ 0.5786, -0.0529]], grad_fn=<AddmmBackward0>)\n"
          ]
        }
      ]
    },
    {
      "cell_type": "markdown",
      "metadata": {
        "id": "7rX90VHvC0kZ"
      },
      "source": [
        "- Note that you see ``requires_grad`` for the parameters. This means that their values will be tracked and used for **gradient** calculation during the training phase.\n",
        "- Although ``Parameter`` is a subclass of ``Tensor``, it has a special extended behaviour in that its gradients can be tracked for NN learning purposes.\n"
      ]
    },
    {
      "cell_type": "markdown",
      "metadata": {
        "id": "pSMHg7NXqUcp"
      },
      "source": [
        "### Add Training Loop, Loss and Optimiser\n",
        "- A loop is necessary to allow NN training to happen iteratively\n",
        "- The number of times we want to repeat the cycle is called number of epochs\n",
        "- Loss functions tell us how far a model's prediction is from the correct answer. PyTorch contains a variety of loss functions, including common MSE (mean squared error = L2 norm), Cross Entropy Loss and Negative Likelihood Loss (useful for classifiers), and others.\n",
        "- An optimiser helps to minimise the loss by taking iterative steps in the direction that minimises the loss by updating the parameters in each epoch. We will use Stochastic Gradient Descent (SGD) for this example.\n",
        "\n",
        "\n",
        "## Example: Linear Regression\n",
        "1. Provide training data. We will provide the inputs, ``x`` and outputs, ``y`` for the formula ``y = 4x + 3``. \n",
        "  - Remember to provide them as tensors. \n",
        "  - Note that ``y`` will have to be correct values that satisfy the formula.\n",
        "2. Define the NN class. \n",
        "  - Since we will only take in a number and also spit out a number, we will have the ``input_size`` to be 1 and the ``output_size`` to be 1 as well. \n",
        "  - For linear regression, the output will be a real value, so no output layer activation function is needed.\n",
        "  - Note also that an extra parameter ``hidden_size`` was added to the initialiser\n",
        "3. Create an instance of the NN class\n",
        "  - Pass in the required parameter ``hidden_size``\n",
        "4. Define Loss and Optimiser\n",
        "  - for this linear regression problem, we will use the MSE Loss and SGD optimiser\n",
        "5. Training Loop\n",
        "  - Loop through a set number of times, e.g. 100\n",
        "    - forward pass to calculate the predicted values for each input sample and calculate the loss using the loss instance you created earlier\n",
        "    - backward pass to first reset all the gradients ``opt.zero_grad()``, then to calculate the gradients of the loss w.r.t. the params ``loss.backward()`` and finally update the params accordingly ``opt.step()``\n",
        "\n",
        "6. Test the model\n",
        "  - At this point, the model has been trained, i.e. the parameters have been optimised and the loss should be small enough.\n",
        "  - Call ``model()`` with any new number to test what the trained model will predict. See how accurately it performs.\n",
        "  - Test with several other numbers.\n",
        "\n",
        "### NOTES:\n",
        "- Data will need to be prepared so that it can be used with PyTorch. Here we have specified the data as a tensor and also made sure that it is of type float. \n",
        "- It is good practice to specify hyper parameters separately, e.g. ``hidden_size``, ``learning_rate``, ``num_epochs``, etc.\n"
      ]
    },
    {
      "cell_type": "code",
      "metadata": {
        "id": "MdiTwoHS93b3",
        "colab": {
          "base_uri": "https://localhost:8080/"
        },
        "outputId": "9f007efa-6cae-49a5-97fd-cf9fd8d7ac9d"
      },
      "source": [
        "import torch\n",
        "\n",
        "import torch.nn as nn\n",
        "\n",
        "\n",
        "# 1. Define training data for a simple mathematical formula y = 4x + 3 for x=1, ..., 5\n",
        "x = torch.tensor([[1],[2],[3],[4],[5],[6],[7]], dtype=torch.float32)\n",
        "y = torch.tensor([[7],[11],[15],[19],[23],[27],[31]], dtype=torch.float32)\n",
        "\n",
        "# 2. Define NN class \n",
        "class MyNN(nn.Module): # TinyModel is a subclass of nn.Module\n",
        "    \n",
        "    def __init__(self, hidden_size):\n",
        "        super().__init__()\n",
        "        self.linear1 = nn.Linear(1, hidden_size) # input_size and hidden_size\n",
        "        self.activation = nn.ReLU() # Rectified Linear Unit activation function\n",
        "        self.linear2 = nn.Linear(hidden_size, 1) # hidden layer and output layer size\n",
        "        # output layer is a real value for regression, does not need any activation\n",
        "    \n",
        "    def forward(self, x):\n",
        "        x = self.linear1(x)\n",
        "        x = self.activation(x)\n",
        "        x = self.linear2(x)\n",
        "        return x\n",
        "\n",
        "# 3. Create an instance of NN model and define the hidden_size\n",
        "hidden_size = 5\n",
        "model = MyNN(hidden_size) # now 'model' will be a callable function\n",
        "\n",
        "# 4. Loss and Optimiser\n",
        "learning_rate = 0.01\n",
        "loss_fn = nn.MSELoss() # now 'loss_fn' will be a callable function\n",
        "opt = torch.optim.SGD(model.parameters(), lr=learning_rate)\n",
        "\n",
        "# 5. Training loop\n",
        "num_epochs = 400\n",
        "\n",
        "for epoch in range(num_epochs):\n",
        "  # 5.1 Forward pass\n",
        "  y_pred = model(x)\n",
        "  loss = loss_fn(y_pred, y) \n",
        "\n",
        "  # 5.2 Backward pass\n",
        "  opt.zero_grad() # Reset gradients at each epoch\n",
        "  loss.backward() # Backpropagate the loss gradients w.r.t the params\n",
        "  opt.step() # Update params\n",
        "\n",
        "  # 5.3 Print loss every 10th epoch\n",
        "  if (epoch+1) % 10 == 0:\n",
        "    print(f'Epoch {epoch+1}/{num_epochs}, Loss={loss.item():.4f} ')\n"
      ],
      "execution_count": 102,
      "outputs": [
        {
          "output_type": "stream",
          "name": "stdout",
          "text": [
            "Epoch 10/400, Loss=347.3059 \n",
            "Epoch 20/400, Loss=39.2941 \n",
            "Epoch 30/400, Loss=1.4888 \n",
            "Epoch 40/400, Loss=36.2039 \n",
            "Epoch 50/400, Loss=53.6723 \n",
            "Epoch 60/400, Loss=2.0509 \n",
            "Epoch 70/400, Loss=41.9772 \n",
            "Epoch 80/400, Loss=44.6857 \n",
            "Epoch 90/400, Loss=129.8517 \n",
            "Epoch 100/400, Loss=1.2067 \n",
            "Epoch 110/400, Loss=17.0669 \n",
            "Epoch 120/400, Loss=1.9729 \n",
            "Epoch 130/400, Loss=22.0909 \n",
            "Epoch 140/400, Loss=32.7615 \n",
            "Epoch 150/400, Loss=14.2581 \n",
            "Epoch 160/400, Loss=28.1250 \n",
            "Epoch 170/400, Loss=11.4807 \n",
            "Epoch 180/400, Loss=24.8154 \n",
            "Epoch 190/400, Loss=13.5289 \n",
            "Epoch 200/400, Loss=21.1771 \n",
            "Epoch 210/400, Loss=15.7628 \n",
            "Epoch 220/400, Loss=17.6838 \n",
            "Epoch 230/400, Loss=16.3068 \n",
            "Epoch 240/400, Loss=15.9681 \n",
            "Epoch 250/400, Loss=15.4589 \n",
            "Epoch 260/400, Loss=15.1805 \n",
            "Epoch 270/400, Loss=14.8391 \n",
            "Epoch 280/400, Loss=14.5306 \n",
            "Epoch 290/400, Loss=14.2466 \n",
            "Epoch 300/400, Loss=13.9845 \n",
            "Epoch 310/400, Loss=13.7422 \n",
            "Epoch 320/400, Loss=13.5177 \n",
            "Epoch 330/400, Loss=13.3092 \n",
            "Epoch 340/400, Loss=13.1153 \n",
            "Epoch 350/400, Loss=12.9346 \n",
            "Epoch 360/400, Loss=12.7658 \n",
            "Epoch 370/400, Loss=12.6080 \n",
            "Epoch 380/400, Loss=12.4601 \n",
            "Epoch 390/400, Loss=12.3213 \n",
            "Epoch 400/400, Loss=12.1909 \n"
          ]
        }
      ]
    },
    {
      "cell_type": "code",
      "metadata": {
        "id": "zatxfhYejeB8",
        "colab": {
          "base_uri": "https://localhost:8080/"
        },
        "outputId": "0c750dfc-e063-469d-e17d-d3f93aa1ab14"
      },
      "source": [
        "# 6. Prediction\n",
        "# Test the model on any new x\n",
        "test_num = 10\n",
        "test = torch.tensor([test_num], dtype=torch.float32)\n",
        "\n",
        "# Get the model's prediction for this test number\n",
        "print(f'\\n\\nModel prediction for {test_num} is {model(test).item():.4f}')"
      ],
      "execution_count": 103,
      "outputs": [
        {
          "output_type": "stream",
          "name": "stdout",
          "text": [
            "\n",
            "\n",
            "Model prediction for 10 is 30.3937\n"
          ]
        }
      ]
    },
    {
      "cell_type": "code",
      "source": [
        "# combination 1(num_epoch = 100, hidden_size = 5, data_change = N, average prediction)\n",
        "(35.6937 + 48.5335 + 48.9275 + 48.8451 + 32.7924)/5"
      ],
      "metadata": {
        "colab": {
          "base_uri": "https://localhost:8080/"
        },
        "id": "U30zCIJGsyj0",
        "outputId": "1ce3aa52-e7ef-429e-a278-9cf9e0580619"
      },
      "execution_count": 77,
      "outputs": [
        {
          "output_type": "execute_result",
          "data": {
            "text/plain": [
              "42.47146"
            ]
          },
          "metadata": {},
          "execution_count": 77
        }
      ]
    },
    {
      "cell_type": "code",
      "source": [
        "# combination 2(num_epoch = 200, hidden_size = 5, data_change = N, average prediction)\n",
        "(36.4902 + 37.6122 + 47.1021 + 48.4026 + 30.3937)/5"
      ],
      "metadata": {
        "colab": {
          "base_uri": "https://localhost:8080/"
        },
        "id": "BQEnJMKjs01o",
        "outputId": "7678fba4-43ab-476d-dab6-aee5d7d0c722"
      },
      "execution_count": 104,
      "outputs": [
        {
          "output_type": "execute_result",
          "data": {
            "text/plain": [
              "40.00016"
            ]
          },
          "metadata": {},
          "execution_count": 104
        }
      ]
    },
    {
      "cell_type": "code",
      "metadata": {
        "id": "RvmHgY1oDLiB"
      },
      "source": [
        "# TODO\n",
        "# Q11. Did the loss decrease over time during training?\n",
        "# A11. The loss sometimes increased and decreased. That's because the surface of the loss function is quite bumpy.\n",
        "\n",
        "# Q12. Was the prediction of the model for x=10 close to the ideal value that it should have? \n",
        "# Run five times and get the average prediction.\n",
        "# Run 1: 33.4928\n",
        "# Run 2: 36.3666\n",
        "# Run 3: 34.6305\n",
        "# Run 4: 35.8441\n",
        "# Run 5: 49.9680\n",
        "# Average: 38.0604. This is not quite close to the target value 43.\n",
        "\n",
        "# Q13. Change the num_epochs to 400 and retrain the model. Is the prediction for x=10 better? Why?\n",
        "# Run 1: 41.0867\n",
        "# Run 2: 40.5896\n",
        "# Run 3: 39.7405\n",
        "# Run 4: 41.1013\n",
        "# Run 5: 39.9166\n",
        "# Average: 40.4869. This is better result than the previous result. Higher number of epoch may lead better result. \n",
        "\n",
        "# Q15. Try increasing or decreasing num_epoch and/or hidden_size or the data to see which combination gives you the best model.\n",
        "# Keep the output of your code execution for the best combination above and state which combination of num_epoch \n",
        "# and hidden_size values gave you the best model.\n",
        "# Combination 1: num_epoch = 100, hidden_size= 5, data change? N, average prediction = 42.47146\n",
        "# Combination 2: num_epoch = 200, hidden_size= 5, data change? Y, average prediction = 40.00016\n",
        "# Since the original function(4x+3) is not that complicated, higher number of epochs did not seem really helpful.\n",
        "# Also, I put two more data but it also did not help, either. "
      ],
      "execution_count": null,
      "outputs": []
    },
    {
      "cell_type": "markdown",
      "metadata": {
        "id": "oj6pLZXIX3Q_"
      },
      "source": [
        "### Let's plot the landscape of the MSE loss over a range of values for weight\n",
        "- The sample training data has function ``y=3x+2``. However, this relationship is **NOT** known by the model. We only have ``x``'s and ``y``'s.\n",
        "- So we try different values of weight, ``w``, between -1 and 5 to fit the equation ``y = wx + 2``\n",
        "- When we do that, we calculate the MSE loss between the predicted outcome, ``pred`` and the actual outcome, ``y`` for each ``w`` that we use.\n",
        "- The loss that occurred for each weight is plotted and connected."
      ]
    },
    {
      "cell_type": "code",
      "metadata": {
        "id": "-GM_vu-urCfd",
        "colab": {
          "base_uri": "https://localhost:8080/",
          "height": 295
        },
        "outputId": "43536b1a-7ac9-4a06-e2b1-76e406f7fa21"
      },
      "source": [
        "import numpy as np\n",
        "import matplotlib.pyplot as plt\n",
        "\n",
        "# Create a range of values from -1 to 10\n",
        "w_range = np.linspace(-1, 10, 1000)\n",
        "loss_w_range = [] # create an empty list to store the loss values\n",
        "\n",
        "# Try different weight values to get predictions for y\n",
        "for w in w_range:\n",
        "    pred = (w * x) + 3\n",
        "    loss = torch.mean((pred - y) ** 2)\n",
        "    loss_w_range.append(loss.item())\n",
        "\n",
        "# Plot the graph\n",
        "plt.title(\"Loss Over Different Weight Values for the Linear Function y=4x+3\")\n",
        "plt.plot(w_range, loss_w_range)\n",
        "plt.xlabel('Weight, w')\n",
        "plt.ylabel('MSE Loss')\n",
        "plt.show()\n"
      ],
      "execution_count": 66,
      "outputs": [
        {
          "output_type": "display_data",
          "data": {
            "text/plain": [
              "<Figure size 432x288 with 1 Axes>"
            ],
            "image/png": "[encoded data removed]"
          },
          "metadata": {
            "needs_background": "light"
          }
        }
      ]
    },
    {
      "cell_type": "code",
      "metadata": {
        "id": "qdbsu201V2lU"
      },
      "source": [
        "# Q16. From the graph, what value of weight gives the minimum loss for this linear function?\n",
        "# 4"
      ],
      "execution_count": null,
      "outputs": []
    }
  ]
}