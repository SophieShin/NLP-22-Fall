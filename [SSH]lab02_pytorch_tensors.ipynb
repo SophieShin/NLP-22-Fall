{
  "nbformat": 4,
  "nbformat_minor": 0,
  "metadata": {
    "colab": {
      "provenance": [],
      "collapsed_sections": [],
      "include_colab_link": true
    },
    "kernelspec": {
      "name": "python3",
      "display_name": "Python 3"
    },
    "language_info": {
      "name": "python"
    },
    "accelerator": "GPU",
    "gpuClass": "standard"
  },
  "cells": [
    {
      "cell_type": "markdown",
      "metadata": {
        "id": "view-in-github",
        "colab_type": "text"
      },
      "source": [
        "<a href=\"https://colab.research.google.com/github/SophieShin/NLP_22_Fall/blob/main/%5BSSH%5Dlab02_pytorch_tensors.ipynb\" target=\"_parent\"><img src=\"https://colab.research.google.com/assets/colab-badge.svg\" alt=\"Open In Colab\"/></a>"
      ]
    },
    {
      "cell_type": "markdown",
      "metadata": {
        "id": "FEH-hBlqcKa1"
      },
      "source": [
        "# Lab 2 – Tensors"
      ]
    },
    {
      "cell_type": "code",
      "metadata": {
        "id": "uWjkXtKltY_K"
      },
      "source": [
        "import torch"
      ],
      "execution_count": 1,
      "outputs": []
    },
    {
      "cell_type": "markdown",
      "metadata": {
        "id": "D3yBh-vOv3WH"
      },
      "source": [
        "## Create empty tensors\n",
        "- Uninitialised tensors"
      ]
    },
    {
      "cell_type": "code",
      "metadata": {
        "id": "ERfCA-Fntg2w",
        "colab": {
          "base_uri": "https://localhost:8080/"
        },
        "outputId": "bcffa56f-cb9b-43dc-e783-21620e554e5b"
      },
      "source": [
        "# 1-D\n",
        "x = torch.empty(1)\n",
        "print(x)\n",
        "\n",
        "# 1-D with two elements\n",
        "x = torch.empty(2)\n",
        "print(f\"\\n1-D tensor\\n{x}\\n\")\n",
        "\n",
        "# 2-D\n",
        "x = torch.empty(2,3)\n",
        "print(f\"2-D tensor\\n{x}\\n\")\n",
        "\n",
        "# 3-D\n",
        "x = torch.empty(2,3,1)\n",
        "print(\"3-D tensor\\n\",x)\n"
      ],
      "execution_count": 2,
      "outputs": [
        {
          "output_type": "stream",
          "name": "stdout",
          "text": [
            "tensor([5.1746e-35])\n",
            "\n",
            "1-D tensor\n",
            "tensor([5.1748e-35, 0.0000e+00])\n",
            "\n",
            "2-D tensor\n",
            "tensor([[5.1749e-35, 0.0000e+00, 5.0447e-44],\n",
            "        [0.0000e+00,        nan, 0.0000e+00]])\n",
            "\n",
            "3-D tensor\n",
            " tensor([[[5.1747e-35],\n",
            "         [0.0000e+00],\n",
            "         [5.0447e-44]],\n",
            "\n",
            "        [[0.0000e+00],\n",
            "         [       nan],\n",
            "         [0.0000e+00]]])\n"
          ]
        }
      ]
    },
    {
      "cell_type": "markdown",
      "metadata": {
        "id": "xO6cW7hlwAsO"
      },
      "source": [
        "## Initialise tensors to scalar, random values, zeros or ones"
      ]
    },
    {
      "cell_type": "code",
      "metadata": {
        "id": "3nyX0btVwD6J",
        "colab": {
          "base_uri": "https://localhost:8080/"
        },
        "outputId": "10831a1a-3e28-418c-db7c-619fd8a478a6"
      },
      "source": [
        "# 0-D tensor (just containing scalar value 3)\n",
        "x = torch.tensor(3)\n",
        "# print(x)\n",
        "print(f'Scalar: {x} has shape {x.shape} and {x.ndim} dimensions\\n')\n",
        "\n",
        "# Random values in the interval [0,1]\n",
        "x = torch.rand(2,3)\n",
        "print(f\"Random values:\\n{x}\")\n",
        "print(x.dtype)\n",
        "\n",
        "# Zeros\n",
        "x = torch.zeros(2,3)\n",
        "print(f\"\\nZeros:\\n{x}\")\n",
        "print(x.dtype)\n",
        "\n",
        "x = torch.zeros(2,3, dtype=torch.int)\n",
        "print(f\"\\nZeros:\\n{x}\\n\")\n",
        "\n",
        "# Ones\n",
        "x = torch.ones(2,3)\n",
        "print(f\"Ones:\\n{x}\")\n",
        "print(f\"Type: {x.dtype}\\n\")\n",
        "\n",
        "x = torch.ones(2,3, dtype=torch.double)\n",
        "print(f\"Ones:\\n{x}\")"
      ],
      "execution_count": 3,
      "outputs": [
        {
          "output_type": "stream",
          "name": "stdout",
          "text": [
            "Scalar: 3 has shape torch.Size([]) and 0 dimensions\n",
            "\n",
            "Random values:\n",
            "tensor([[0.7280, 0.7720, 0.9386],\n",
            "        [0.8916, 0.5183, 0.1134]])\n",
            "torch.float32\n",
            "\n",
            "Zeros:\n",
            "tensor([[0., 0., 0.],\n",
            "        [0., 0., 0.]])\n",
            "torch.float32\n",
            "\n",
            "Zeros:\n",
            "tensor([[0, 0, 0],\n",
            "        [0, 0, 0]], dtype=torch.int32)\n",
            "\n",
            "Ones:\n",
            "tensor([[1., 1., 1.],\n",
            "        [1., 1., 1.]])\n",
            "Type: torch.float32\n",
            "\n",
            "Ones:\n",
            "tensor([[1., 1., 1.],\n",
            "        [1., 1., 1.]], dtype=torch.float64)\n"
          ]
        }
      ]
    },
    {
      "cell_type": "markdown",
      "metadata": {
        "id": "BEAEHoY1xAzC"
      },
      "source": [
        "## Construct tensor from data"
      ]
    },
    {
      "cell_type": "code",
      "metadata": {
        "id": "6Vd7iHsaxFh0",
        "colab": {
          "base_uri": "https://localhost:8080/"
        },
        "outputId": "1697c9ec-67ce-4958-d5bf-449a0b7432d9"
      },
      "source": [
        "# Change a list to a tensor\n",
        "x = torch.tensor([0.5, 2.7])\n",
        "print(x)"
      ],
      "execution_count": 4,
      "outputs": [
        {
          "output_type": "stream",
          "name": "stdout",
          "text": [
            "tensor([0.5000, 2.7000])\n"
          ]
        }
      ]
    },
    {
      "cell_type": "markdown",
      "metadata": {
        "id": "SwIelnjsiTus"
      },
      "source": [
        "### Changing tensor data type\n"
      ]
    },
    {
      "cell_type": "code",
      "metadata": {
        "id": "JZxbB4-XiXCp",
        "colab": {
          "base_uri": "https://localhost:8080/"
        },
        "outputId": "c96682c1-4d11-4873-efc9-9bf58311e5ba"
      },
      "source": [
        "x = torch.rand(2,3) * 20\n",
        "print(x)\n",
        "\n",
        "# Change to integer\n",
        "y = x.to(torch.int32)\n",
        "print(y)"
      ],
      "execution_count": 5,
      "outputs": [
        {
          "output_type": "stream",
          "name": "stdout",
          "text": [
            "tensor([[10.1694,  0.9949, 11.9459],\n",
            "        [11.3117, 11.0984, 17.9455]])\n",
            "tensor([[10,  0, 11],\n",
            "        [11, 11, 17]], dtype=torch.int32)\n"
          ]
        }
      ]
    },
    {
      "cell_type": "markdown",
      "metadata": {
        "id": "eWuSDswYm3wo"
      },
      "source": [
        "### Create a separate copy\n",
        "\n"
      ]
    },
    {
      "cell_type": "code",
      "metadata": {
        "id": "g76w-tQSm62P",
        "colab": {
          "base_uri": "https://localhost:8080/"
        },
        "outputId": "f9d27435-0249-40e6-8166-555b65a4b930"
      },
      "source": [
        "a = torch.ones(2, 2)\n",
        "b = a.clone()\n",
        "\n",
        "a[0][1] = 561          # a changes...\n",
        "print(b)               # ...but b is still all ones"
      ],
      "execution_count": 6,
      "outputs": [
        {
          "output_type": "stream",
          "name": "stdout",
          "text": [
            "tensor([[1., 1.],\n",
            "        [1., 1.]])\n"
          ]
        }
      ]
    },
    {
      "cell_type": "markdown",
      "metadata": {
        "id": "gPoj6eMq0Mgg"
      },
      "source": [
        "## Basic tensor operations\n",
        "\n",
        "- addition, subtraction, multiplication, division"
      ]
    },
    {
      "cell_type": "code",
      "metadata": {
        "id": "hJ6zOX9k0Ouw",
        "colab": {
          "base_uri": "https://localhost:8080/"
        },
        "outputId": "5e7539b9-5f49-4610-bb61-74954a6ed35c"
      },
      "source": [
        "x = torch.rand(2,2)\n",
        "print(f\"x = \\n{x}\\n\")\n",
        "\n",
        "y = torch.rand(2,2)\n",
        "print(f\"y = \\n{y}\\n\")\n",
        "\n",
        "z = torch.add(x,y) # same as z = x + y\n",
        "print(\"x + y = \")\n",
        "print(z)\n",
        "\n",
        "z = torch.sub(x,y) # same as z = x - y\n",
        "print(\"x - y = \")\n",
        "print(z)\n",
        "\n",
        "z = torch.mul(x,y) # same as z = x * y\n",
        "print(\"x * y = \")\n",
        "print(z)\n",
        "\n",
        "z = torch.div(x,y) # same as z = x / y\n",
        "print(\"x / y = \")\n",
        "print(z)\n"
      ],
      "execution_count": 7,
      "outputs": [
        {
          "output_type": "stream",
          "name": "stdout",
          "text": [
            "x = \n",
            "tensor([[0.9211, 0.6211],\n",
            "        [0.2535, 0.3436]])\n",
            "\n",
            "y = \n",
            "tensor([[2.1753e-01, 5.5987e-04],\n",
            "        [8.7876e-01, 3.8097e-02]])\n",
            "\n",
            "x + y = \n",
            "tensor([[1.1386, 0.6216],\n",
            "        [1.1323, 0.3817]])\n",
            "x - y = \n",
            "tensor([[ 0.7036,  0.6205],\n",
            "        [-0.6252,  0.3055]])\n",
            "x * y = \n",
            "tensor([[0.2004, 0.0003],\n",
            "        [0.2228, 0.0131]])\n",
            "x / y = \n",
            "tensor([[4.2344e+00, 1.1093e+03],\n",
            "        [2.8853e-01, 9.0187e+00]])\n"
          ]
        }
      ]
    },
    {
      "cell_type": "markdown",
      "metadata": {
        "id": "Yt2iZ5Wr4qTk"
      },
      "source": [
        "### Inplace operations\n",
        "\n",
        "- any function with a trailing underscore (e.g. ``add_``) will modify the value of the variable in question, in place"
      ]
    },
    {
      "cell_type": "code",
      "metadata": {
        "id": "1xvGeIBw4wM5",
        "colab": {
          "base_uri": "https://localhost:8080/"
        },
        "outputId": "4af02932-470c-4ab0-c54e-5404f6548e21"
      },
      "source": [
        "x = torch.rand(2,2)\n",
        "print(f\"x = \\n{x}\\n\")\n",
        "\n",
        "y = torch.rand(2,2)\n",
        "print(f\"y = \\n{y}\\n\")\n",
        "\n",
        "# Inplace operations\n",
        "y.add_(x) # modify y by adding x to it\n",
        "print(f\"y + x = {y}\")\n",
        "\n",
        "y.sub_(x) # modify y by subtracting x from it\n",
        "print(f\"y - x = {y}\")\n",
        "\n",
        "y.mul_(x) # modify y by multiplying x to it\n",
        "print(f\"y * x = {y}\")\n",
        "\n",
        "y.div_(x) # modify y by dividing it by x\n",
        "print(f\"y / x = {y}\")\n"
      ],
      "execution_count": 8,
      "outputs": [
        {
          "output_type": "stream",
          "name": "stdout",
          "text": [
            "x = \n",
            "tensor([[0.4996, 0.9713],\n",
            "        [0.1346, 0.3451]])\n",
            "\n",
            "y = \n",
            "tensor([[0.7064, 0.0940],\n",
            "        [0.8101, 0.4007]])\n",
            "\n",
            "y + x = tensor([[1.2060, 1.0654],\n",
            "        [0.9447, 0.7457]])\n",
            "y - x = tensor([[0.7064, 0.0940],\n",
            "        [0.8101, 0.4007]])\n",
            "y * x = tensor([[0.3529, 0.0913],\n",
            "        [0.1090, 0.1383]])\n",
            "y / x = tensor([[0.7064, 0.0940],\n",
            "        [0.8101, 0.4007]])\n"
          ]
        }
      ]
    },
    {
      "cell_type": "markdown",
      "metadata": {
        "id": "51KxaSwqO5Xf"
      },
      "source": [
        "## Accessing tensors"
      ]
    },
    {
      "cell_type": "code",
      "metadata": {
        "id": "pIN1M0FxPB6m",
        "colab": {
          "base_uri": "https://localhost:8080/"
        },
        "outputId": "32f86d10-b768-46d4-ab15-606135590257"
      },
      "source": [
        "# Slicing\n",
        "x = torch.rand(5,3)\n",
        "print(x)\n",
        "\n",
        "# Get all rows but only first column\n",
        "print(x[:, 0])\n",
        "\n",
        "# Get all columns but only the second row\n",
        "print(x[1, :])\n",
        "\n",
        "# Get a specific element\n",
        "print(x[2,2])\n",
        "\n",
        "# When the tensor returns only ONE element, use item() to get the actual value of that element\n",
        "print(x[1,1].item())\n",
        "\n",
        "y = torch.tensor([2.0])\n",
        "print(y.item())"
      ],
      "execution_count": 9,
      "outputs": [
        {
          "output_type": "stream",
          "name": "stdout",
          "text": [
            "tensor([[0.1307, 0.4344, 0.8114],\n",
            "        [0.6497, 0.2021, 0.6468],\n",
            "        [0.9913, 0.0660, 0.1404],\n",
            "        [0.3060, 0.1031, 0.0626],\n",
            "        [0.9976, 0.7721, 0.5298]])\n",
            "tensor([0.1307, 0.6497, 0.9913, 0.3060, 0.9976])\n",
            "tensor([0.6497, 0.2021, 0.6468])\n",
            "tensor(0.1404)\n",
            "0.20214319229125977\n",
            "2.0\n"
          ]
        }
      ]
    },
    {
      "cell_type": "markdown",
      "metadata": {
        "id": "oRirOVqNYodz"
      },
      "source": [
        "## Tensor Shape & Dimensions\n",
        "- The number of dimensions a tensor has is called its rank and the length in each dimension describes its ``shape``.\n",
        "- To determine the length of each dimension, call ``.shape``\n",
        "- To determine the number of dimensions it has, call ``.ndim``\n"
      ]
    },
    {
      "cell_type": "code",
      "metadata": {
        "id": "OsWYSWvkY19a",
        "colab": {
          "base_uri": "https://localhost:8080/"
        },
        "outputId": "970c7168-2b8a-4024-be7c-54a000b691e0"
      },
      "source": [
        "x = torch.rand(5,3)\n",
        "print(f'{x} \\nhas shape {x.shape} and {x.ndim} dimensions\\n')"
      ],
      "execution_count": 10,
      "outputs": [
        {
          "output_type": "stream",
          "name": "stdout",
          "text": [
            "tensor([[0.8136, 0.5754, 0.3671],\n",
            "        [0.1536, 0.5771, 0.8589],\n",
            "        [0.1695, 0.1480, 0.9114],\n",
            "        [0.9606, 0.2932, 0.7999],\n",
            "        [0.0806, 0.4714, 0.6905]]) \n",
            "has shape torch.Size([5, 3]) and 2 dimensions\n",
            "\n"
          ]
        }
      ]
    },
    {
      "cell_type": "markdown",
      "metadata": {
        "id": "B2q-gFywUWUh"
      },
      "source": [
        "## More on Shapes\n",
        "\n",
        "- `[1,5,2,6]` has shape (4,) to indicate it has 4 elements and the missing element after the comma means it is a 1-D tensor or array (vector)\n",
        "- `[[1,5,2,6], [1,2,3,1]]` has shape (2,4) to indicate it has 2 elements (rows) and each of these have 4 elements (columns). This is a 2-D tensor or array (matrix or a list of vectors)\n",
        "- `[[[1,5,2,6], [1,2,3,1]], [[5,2,1,2], [6,4,3,2]], [[7,8,5,3], [2,2,9,6]]]` has shape (3, 2, 4) to indicate it has 3 elements in the first dimension, and each of these contain 2 elements and each of these contain 4 elements. This is a 3-D tensor or array\n"
      ]
    },
    {
      "cell_type": "markdown",
      "metadata": {
        "id": "pw4hm1KndIrY"
      },
      "source": [
        "## Operations on tensor dimensions\n",
        "- A tensor dimension is akin to an array's axis. The number of dimensions is called rank.\n",
        "- A scalar has rank 0, a vector has rank 1, a matrix has rank 2, a cuboid has rank 3, etc.\n",
        "- Sometimes one wants to do an operation only on a particular dimension, e.g. on the rows only\n",
        "- Across ``dim=X`` means we do the operation w.r.t to the dimension given and the rest of the dimensions of the tensor stays as they are\n",
        "- in 2-D tensors, ``dim=0`` refers to the columns while ``dim=1`` refers to the rows\n"
      ]
    },
    {
      "cell_type": "code",
      "metadata": {
        "id": "zPATRKKYFWqm",
        "colab": {
          "base_uri": "https://localhost:8080/"
        },
        "outputId": "f3be7808-6e7a-4f9e-8478-9809de83fa8e"
      },
      "source": [
        "x = torch.tensor([[1,2,3],\n",
        "                 [4,5,6]])\n",
        "\n",
        "print(x.shape)\n",
        "print(f'Summing across dim=0 (columns) gives: {torch.sum(x,dim=0)}')\n",
        "\n",
        "print(f'Summing across dim=1 (rows) gives: {torch.sum(x,dim=1)}')\n"
      ],
      "execution_count": 11,
      "outputs": [
        {
          "output_type": "stream",
          "name": "stdout",
          "text": [
            "torch.Size([2, 3])\n",
            "Summing across dim=0 (columns) gives: tensor([5, 7, 9])\n",
            "Summing across dim=1 (rows) gives: tensor([ 6, 15])\n"
          ]
        }
      ]
    },
    {
      "cell_type": "markdown",
      "metadata": {
        "id": "JVqsBwKrTYiC"
      },
      "source": [
        "## Reshaping tensors\n",
        "- There are several ways to do this but using ``torch.reshape()`` is the most common\n",
        "- Also look up ``torch.squeeze(), torch.unsqueeze()`` and ``torch.view()``\n"
      ]
    },
    {
      "cell_type": "code",
      "metadata": {
        "id": "hxJhXnj9Tbu7",
        "colab": {
          "base_uri": "https://localhost:8080/"
        },
        "outputId": "7210586b-3b6a-4390-ad32-b328481a585a"
      },
      "source": [
        "x = torch.rand(4,4)\n",
        "print(\"Original:\")\n",
        "print(x)\n",
        "print(x.shape)\n",
        "\n",
        "# Reshape (flatten) to 1-D\n",
        "y = x.reshape(16) # number of elements must be the same as original, error otherwise\n",
        "print(\"Reshaped to 1-D:\")\n",
        "print(y)\n",
        "\n",
        "# Reshape to 2-D\n",
        "y = x.reshape(8,2)\n",
        "print(\"Reshaped to 2-D:\")\n",
        "print(y)\n",
        "\n",
        "# Could leave out one of the dimensions by specifying -1\n",
        "y = x.reshape(2, -1)\n",
        "print(\"Reshaped to 2 x Unspecified 2-D:\")\n",
        "print(y)\n",
        "print(y.shape)\n",
        "\n",
        "# Could use unsqueeze(0) to add a dimension at position 0\n",
        "y = x.unsqueeze(0)\n",
        "print(f'Using unsqueeze(0) to add dimension from original shape {x.shape} to {y.shape}')"
      ],
      "execution_count": 12,
      "outputs": [
        {
          "output_type": "stream",
          "name": "stdout",
          "text": [
            "Original:\n",
            "tensor([[0.6909, 0.9369, 0.1997, 0.0468],\n",
            "        [0.5561, 0.9963, 0.7813, 0.0164],\n",
            "        [0.6035, 0.6957, 0.1992, 0.7903],\n",
            "        [0.6363, 0.3924, 0.3726, 0.8145]])\n",
            "torch.Size([4, 4])\n",
            "Reshaped to 1-D:\n",
            "tensor([0.6909, 0.9369, 0.1997, 0.0468, 0.5561, 0.9963, 0.7813, 0.0164, 0.6035,\n",
            "        0.6957, 0.1992, 0.7903, 0.6363, 0.3924, 0.3726, 0.8145])\n",
            "Reshaped to 2-D:\n",
            "tensor([[0.6909, 0.9369],\n",
            "        [0.1997, 0.0468],\n",
            "        [0.5561, 0.9963],\n",
            "        [0.7813, 0.0164],\n",
            "        [0.6035, 0.6957],\n",
            "        [0.1992, 0.7903],\n",
            "        [0.6363, 0.3924],\n",
            "        [0.3726, 0.8145]])\n",
            "Reshaped to 2 x Unspecified 2-D:\n",
            "tensor([[0.6909, 0.9369, 0.1997, 0.0468, 0.5561, 0.9963, 0.7813, 0.0164],\n",
            "        [0.6035, 0.6957, 0.1992, 0.7903, 0.6363, 0.3924, 0.3726, 0.8145]])\n",
            "torch.Size([2, 8])\n",
            "Using unsqueeze(0) to add dimension from original shape torch.Size([4, 4]) to torch.Size([1, 4, 4])\n"
          ]
        }
      ]
    },
    {
      "cell_type": "markdown",
      "metadata": {
        "id": "-I4TqJ0gWPmP"
      },
      "source": [
        "## Convert between NumPy and PyTorch tensors\n",
        "\n",
        "- Tensors can work on CPUs and GPUs\n",
        "- NumPy arrays can only work on CPUs"
      ]
    },
    {
      "cell_type": "code",
      "metadata": {
        "id": "w_8klvVsWZ7t",
        "colab": {
          "base_uri": "https://localhost:8080/"
        },
        "outputId": "dde077ff-35ca-47e8-b8d4-dedc91387885"
      },
      "source": [
        "import torch\n",
        "import numpy as np\n",
        "\n",
        "# Tensor to NumPy\n",
        "a = torch.ones(5)\n",
        "print(a)\n",
        "\n",
        "b = a.numpy()\n",
        "print(b)\n",
        "print(type(b))\n",
        "\n",
        "# b changes when a is modified because they share the same memory space!\n",
        "a.add_(1)\n",
        "print(a)\n",
        "print(b)"
      ],
      "execution_count": 13,
      "outputs": [
        {
          "output_type": "stream",
          "name": "stdout",
          "text": [
            "tensor([1., 1., 1., 1., 1.])\n",
            "[1. 1. 1. 1. 1.]\n",
            "<class 'numpy.ndarray'>\n",
            "tensor([2., 2., 2., 2., 2.])\n",
            "[2. 2. 2. 2. 2.]\n"
          ]
        }
      ]
    },
    {
      "cell_type": "code",
      "metadata": {
        "id": "w5WaMa1aXyfb",
        "colab": {
          "base_uri": "https://localhost:8080/"
        },
        "outputId": "d908b791-bf77-434f-aebe-a1f356349c16"
      },
      "source": [
        "import torch\n",
        "import numpy as np\n",
        "\n",
        "a = np.ones(5)\n",
        "print(a)\n",
        "\n",
        "b = torch.from_numpy(a)\n",
        "print(b)\n",
        "\n",
        "# Modifying array will modify the tensor as well\n",
        "a += 2\n",
        "print(a)\n",
        "print(b)"
      ],
      "execution_count": 14,
      "outputs": [
        {
          "output_type": "stream",
          "name": "stdout",
          "text": [
            "[1. 1. 1. 1. 1.]\n",
            "tensor([1., 1., 1., 1., 1.], dtype=torch.float64)\n",
            "[3. 3. 3. 3. 3.]\n",
            "tensor([3., 3., 3., 3., 3.], dtype=torch.float64)\n"
          ]
        }
      ]
    },
    {
      "cell_type": "markdown",
      "source": [
        "## Attach & detach GPU to Pytorch tensors\n",
        "\n",
        "**Note: Make sure your runtime type is set to GPU when running the below codes**"
      ],
      "metadata": {
        "id": "WqEO1z-u3Z1s"
      }
    },
    {
      "cell_type": "code",
      "source": [
        "torch.cuda.is_available()#check if gpu is available"
      ],
      "metadata": {
        "id": "lFv7XARm4GwT",
        "colab": {
          "base_uri": "https://localhost:8080/"
        },
        "outputId": "e825493b-8689-4206-b8ba-8a52a4f51520"
      },
      "execution_count": 15,
      "outputs": [
        {
          "output_type": "execute_result",
          "data": {
            "text/plain": [
              "True"
            ]
          },
          "metadata": {},
          "execution_count": 15
        }
      ]
    },
    {
      "cell_type": "code",
      "source": [
        "device =  torch.device('cuda:0')\n",
        "tmp_tensors = torch.tensor([0,3,1,2]).to(device)#attach gpu\n",
        "tmp_tensors"
      ],
      "metadata": {
        "id": "xVIo8Nqs3bzM",
        "colab": {
          "base_uri": "https://localhost:8080/"
        },
        "outputId": "0e8e5ef9-3549-438c-8536-fcadd1af7a15"
      },
      "execution_count": 16,
      "outputs": [
        {
          "output_type": "execute_result",
          "data": {
            "text/plain": [
              "tensor([0, 3, 1, 2], device='cuda:0')"
            ]
          },
          "metadata": {},
          "execution_count": 16
        }
      ]
    },
    {
      "cell_type": "code",
      "source": [
        "tmp_tensors.cpu().detach().numpy()#detach gpu and make it as a numpy array"
      ],
      "metadata": {
        "id": "CLfkpEOs37UR",
        "colab": {
          "base_uri": "https://localhost:8080/"
        },
        "outputId": "a4f8fd15-5570-4b3d-85f2-d3b7cb45ea21"
      },
      "execution_count": 17,
      "outputs": [
        {
          "output_type": "execute_result",
          "data": {
            "text/plain": [
              "array([0, 3, 1, 2])"
            ]
          },
          "metadata": {},
          "execution_count": 17
        }
      ]
    },
    {
      "cell_type": "markdown",
      "metadata": {
        "id": "UFesCS2x7aWa"
      },
      "source": [
        "# Exercise"
      ]
    },
    {
      "cell_type": "code",
      "metadata": {
        "id": "shmdcMiB7cKz",
        "colab": {
          "base_uri": "https://localhost:8080/"
        },
        "outputId": "c94d3f3b-2e46-4039-c7ae-2766ac13e4cb"
      },
      "source": [
        "# 1a. Create a tensor of 100 equally spaced numbers from 0 to 2.\n",
        "# Assign the tensor to x (Hint: use torch.linspace() )\n",
        "x = torch.linspace(0,2, 100)\n",
        "# 1b. Print x\n",
        "print(x)"
      ],
      "execution_count": 18,
      "outputs": [
        {
          "output_type": "stream",
          "name": "stdout",
          "text": [
            "tensor([0.0000, 0.0202, 0.0404, 0.0606, 0.0808, 0.1010, 0.1212, 0.1414, 0.1616,\n",
            "        0.1818, 0.2020, 0.2222, 0.2424, 0.2626, 0.2828, 0.3030, 0.3232, 0.3434,\n",
            "        0.3636, 0.3838, 0.4040, 0.4242, 0.4444, 0.4646, 0.4848, 0.5051, 0.5253,\n",
            "        0.5455, 0.5657, 0.5859, 0.6061, 0.6263, 0.6465, 0.6667, 0.6869, 0.7071,\n",
            "        0.7273, 0.7475, 0.7677, 0.7879, 0.8081, 0.8283, 0.8485, 0.8687, 0.8889,\n",
            "        0.9091, 0.9293, 0.9495, 0.9697, 0.9899, 1.0101, 1.0303, 1.0505, 1.0707,\n",
            "        1.0909, 1.1111, 1.1313, 1.1515, 1.1717, 1.1919, 1.2121, 1.2323, 1.2525,\n",
            "        1.2727, 1.2929, 1.3131, 1.3333, 1.3535, 1.3737, 1.3939, 1.4141, 1.4343,\n",
            "        1.4545, 1.4747, 1.4949, 1.5152, 1.5354, 1.5556, 1.5758, 1.5960, 1.6162,\n",
            "        1.6364, 1.6566, 1.6768, 1.6970, 1.7172, 1.7374, 1.7576, 1.7778, 1.7980,\n",
            "        1.8182, 1.8384, 1.8586, 1.8788, 1.8990, 1.9192, 1.9394, 1.9596, 1.9798,\n",
            "        2.0000])\n"
          ]
        }
      ]
    },
    {
      "cell_type": "code",
      "metadata": {
        "id": "oUVp1YHh7wDX",
        "colab": {
          "base_uri": "https://localhost:8080/"
        },
        "outputId": "c6b737a7-0303-4840-9394-85d1441e829a"
      },
      "source": [
        "# 2. Print the first 5 numbers in x.\n",
        "print(x[:5])\n",
        "# 3. Print the last 5 numbers in x\n",
        "print(x[-5:])"
      ],
      "execution_count": 20,
      "outputs": [
        {
          "output_type": "stream",
          "name": "stdout",
          "text": [
            "tensor([0.0000, 0.0202, 0.0404, 0.0606, 0.0808])\n",
            "tensor([1.9192, 1.9394, 1.9596, 1.9798, 2.0000])\n"
          ]
        }
      ]
    },
    {
      "cell_type": "code",
      "metadata": {
        "id": "8tCONVqtAmvL",
        "colab": {
          "base_uri": "https://localhost:8080/"
        },
        "outputId": "a43c5461-aebb-4c7e-ffa3-0a375f8e3d19"
      },
      "source": [
        "# 4a. Create another tensor of 100 random values between 0 and 1.\n",
        "# Assign the tensor to y (Hint: use torch.rand() )\n",
        "\n",
        "y = torch.rand(100)\n",
        "# 4b. Print y\n",
        "print(y)"
      ],
      "execution_count": 24,
      "outputs": [
        {
          "output_type": "stream",
          "name": "stdout",
          "text": [
            "tensor([0.0585, 0.8249, 0.7103, 0.3427, 0.9125, 0.8843, 0.0042, 0.6726, 0.0558,\n",
            "        0.0540, 0.5791, 0.5358, 0.9620, 0.5731, 0.4709, 0.9104, 0.5850, 0.8543,\n",
            "        0.3024, 0.9983, 0.5880, 0.4517, 0.3051, 0.2683, 0.2903, 0.7761, 0.9671,\n",
            "        0.9910, 0.0623, 0.1705, 0.8558, 0.3376, 0.1097, 0.6625, 0.9985, 0.9543,\n",
            "        0.8091, 0.8071, 0.2275, 0.0281, 0.6428, 0.5861, 0.4348, 0.6771, 0.2954,\n",
            "        0.0017, 0.7998, 0.4445, 0.0591, 0.9927, 0.7697, 0.4858, 0.4215, 0.7564,\n",
            "        0.2722, 0.8331, 0.4686, 0.6966, 0.1785, 0.5592, 0.2001, 0.7031, 0.2144,\n",
            "        0.0440, 0.1553, 0.2922, 0.3141, 0.0876, 0.7045, 0.4870, 0.3018, 0.0673,\n",
            "        0.5599, 0.5280, 0.2779, 0.6000, 0.1995, 0.0158, 0.8717, 0.6757, 0.1117,\n",
            "        0.5097, 0.6667, 0.4947, 0.1882, 0.5746, 0.2909, 0.6426, 0.5457, 0.0580,\n",
            "        0.9139, 0.7429, 0.9281, 0.5067, 0.3320, 0.8725, 0.8249, 0.3843, 0.2433,\n",
            "        0.5035])\n"
          ]
        }
      ]
    },
    {
      "cell_type": "code",
      "metadata": {
        "id": "0nowe-YHB2in",
        "colab": {
          "base_uri": "https://localhost:8080/"
        },
        "outputId": "1f3bc3ce-f257-4ebc-f3b3-fd549a71f0bb"
      },
      "source": [
        "# 5a. Multiply x and y, store the result in z\n",
        "z = x * y\n",
        "\n",
        "# 5b. Print z\n",
        "print(z)"
      ],
      "execution_count": 25,
      "outputs": [
        {
          "output_type": "stream",
          "name": "stdout",
          "text": [
            "tensor([3.5685e-02, 9.0519e-02, 2.9199e-01, 2.8299e-01, 8.6790e-01, 8.2829e-01,\n",
            "        1.5884e-03, 4.5804e-01, 4.5191e-02, 4.9121e-02, 2.9797e-01, 2.2161e-01,\n",
            "        8.7018e-01, 5.6825e-01, 2.9700e-01, 4.4217e-01, 2.2719e-01, 6.7184e-02,\n",
            "        1.2319e-02, 4.4417e-01, 1.2153e-01, 3.5571e-01, 1.2332e-01, 8.3516e-02,\n",
            "        8.5644e-03, 1.7691e-01, 4.8890e-01, 6.8621e-01, 3.1230e-02, 1.2699e-01,\n",
            "        3.4118e-01, 9.1470e-02, 2.6755e-02, 2.7571e-01, 3.1775e-01, 5.5011e-01,\n",
            "        1.2205e-01, 5.3234e-01, 9.8727e-02, 2.5335e-02, 9.7861e-02, 5.3821e-01,\n",
            "        1.8691e-01, 1.1115e-01, 7.9523e-02, 3.5199e-04, 3.0848e-01, 1.7575e-01,\n",
            "        1.8946e-02, 4.3574e-01, 4.4439e-01, 2.1161e-01, 4.0241e-01, 2.0235e-01,\n",
            "        1.5832e-01, 3.4123e-01, 4.6097e-01, 1.9943e-01, 7.0934e-02, 4.0588e-01,\n",
            "        5.3408e-02, 4.8863e-01, 3.3373e-02, 9.0979e-03, 9.1861e-02, 2.2706e-01,\n",
            "        1.7067e-01, 2.9319e-02, 5.7015e-01, 4.0134e-01, 2.6043e-01, 2.6275e-02,\n",
            "        2.0787e-01, 6.7791e-02, 7.0828e-02, 1.6191e-01, 1.9583e-01, 1.1758e-02,\n",
            "        7.2790e-01, 1.1391e-01, 8.8576e-02, 3.0101e-02, 2.5413e-01, 8.2201e-02,\n",
            "        3.7568e-02, 5.3751e-01, 1.6302e-01, 5.0381e-01, 1.4007e-01, 4.1794e-03,\n",
            "        6.7053e-01, 2.6464e-01, 7.4105e-01, 3.1196e-01, 1.3910e-01, 3.9435e-01,\n",
            "        4.5358e-01, 2.4574e-01, 1.6171e-01, 3.4391e-01])\n"
          ]
        }
      ]
    },
    {
      "cell_type": "code",
      "metadata": {
        "id": "E3lmTYJgCJur",
        "colab": {
          "base_uri": "https://localhost:8080/"
        },
        "outputId": "bd6360b6-a25f-41f1-808c-15cf3b1c292a"
      },
      "source": [
        "# 6a. Reshape z to a tensor with 5 rows and 20 columns\n",
        "# Store reshaped tensor to z2\n",
        "z2 = z.reshape(5,20)\n",
        "\n",
        "# 6b. Print z2\n",
        "print(z2)"
      ],
      "execution_count": 27,
      "outputs": [
        {
          "output_type": "stream",
          "name": "stdout",
          "text": [
            "tensor([[3.5685e-02, 9.0519e-02, 2.9199e-01, 2.8299e-01, 8.6790e-01, 8.2829e-01,\n",
            "         1.5884e-03, 4.5804e-01, 4.5191e-02, 4.9121e-02, 2.9797e-01, 2.2161e-01,\n",
            "         8.7018e-01, 5.6825e-01, 2.9700e-01, 4.4217e-01, 2.2719e-01, 6.7184e-02,\n",
            "         1.2319e-02, 4.4417e-01],\n",
            "        [1.2153e-01, 3.5571e-01, 1.2332e-01, 8.3516e-02, 8.5644e-03, 1.7691e-01,\n",
            "         4.8890e-01, 6.8621e-01, 3.1230e-02, 1.2699e-01, 3.4118e-01, 9.1470e-02,\n",
            "         2.6755e-02, 2.7571e-01, 3.1775e-01, 5.5011e-01, 1.2205e-01, 5.3234e-01,\n",
            "         9.8727e-02, 2.5335e-02],\n",
            "        [9.7861e-02, 5.3821e-01, 1.8691e-01, 1.1115e-01, 7.9523e-02, 3.5199e-04,\n",
            "         3.0848e-01, 1.7575e-01, 1.8946e-02, 4.3574e-01, 4.4439e-01, 2.1161e-01,\n",
            "         4.0241e-01, 2.0235e-01, 1.5832e-01, 3.4123e-01, 4.6097e-01, 1.9943e-01,\n",
            "         7.0934e-02, 4.0588e-01],\n",
            "        [5.3408e-02, 4.8863e-01, 3.3373e-02, 9.0979e-03, 9.1861e-02, 2.2706e-01,\n",
            "         1.7067e-01, 2.9319e-02, 5.7015e-01, 4.0134e-01, 2.6043e-01, 2.6275e-02,\n",
            "         2.0787e-01, 6.7791e-02, 7.0828e-02, 1.6191e-01, 1.9583e-01, 1.1758e-02,\n",
            "         7.2790e-01, 1.1391e-01],\n",
            "        [8.8576e-02, 3.0101e-02, 2.5413e-01, 8.2201e-02, 3.7568e-02, 5.3751e-01,\n",
            "         1.6302e-01, 5.0381e-01, 1.4007e-01, 4.1794e-03, 6.7053e-01, 2.6464e-01,\n",
            "         7.4105e-01, 3.1196e-01, 1.3910e-01, 3.9435e-01, 4.5358e-01, 2.4574e-01,\n",
            "         1.6171e-01, 3.4391e-01]])\n"
          ]
        }
      ]
    },
    {
      "cell_type": "code",
      "source": [
        "z2.shape"
      ],
      "metadata": {
        "colab": {
          "base_uri": "https://localhost:8080/"
        },
        "id": "seGq0dpStjPK",
        "outputId": "8f881c81-0b4d-43a1-eb62-60912d9ed583"
      },
      "execution_count": 29,
      "outputs": [
        {
          "output_type": "execute_result",
          "data": {
            "text/plain": [
              "torch.Size([5, 20])"
            ]
          },
          "metadata": {},
          "execution_count": 29
        }
      ]
    },
    {
      "cell_type": "code",
      "metadata": {
        "id": "eVWgsb3VPBoS",
        "colab": {
          "base_uri": "https://localhost:8080/"
        },
        "outputId": "ee21ac32-dc99-4274-dca5-859a7d725172"
      },
      "source": [
        "# 7. Get the sum of each row in z2\n",
        "print(f'Summing z2 across dim=1 (rows) gives: {torch.sum(z2, dim=1)}')\n",
        "\n",
        "# 8. Get the mean of each column in z2\n",
        "print(f'Summing z2 across dim=1 (columns) gives \" {torch.sum(z2, dim=0)}')"
      ],
      "execution_count": 32,
      "outputs": [
        {
          "output_type": "stream",
          "name": "stdout",
          "text": [
            "Summing z2 across dim=1 (rows) gives: tensor([6.3993, 4.5843, 4.8504, 3.9194, 5.5678])\n",
            "Summing z2 across dim=1 (columns) gives \" tensor([0.3971, 1.5032, 0.8897, 0.5690, 1.0854, 1.7701, 1.1326, 1.8531, 0.8056,\n",
            "        1.0174, 2.0145, 0.8156, 2.2483, 1.4261, 0.9830, 1.8898, 1.4596, 1.0565,\n",
            "        1.0716, 1.3332])\n"
          ]
        }
      ]
    },
    {
      "cell_type": "code",
      "metadata": {
        "id": "444o5Ge0DSCp",
        "colab": {
          "base_uri": "https://localhost:8080/"
        },
        "outputId": "2ae2df80-4ed1-4739-9591-b61ec46f6d10"
      },
      "source": [
        "# 9a. Reshape z to a 3D tensor (keep all the elements)\n",
        "# Store reshaped tensor to z3\n",
        "z3 = z.reshape(2, 5, 10)\n",
        "\n",
        "# 9b. Print z3\n",
        "print(z3)"
      ],
      "execution_count": 33,
      "outputs": [
        {
          "output_type": "stream",
          "name": "stdout",
          "text": [
            "tensor([[[3.5685e-02, 9.0519e-02, 2.9199e-01, 2.8299e-01, 8.6790e-01,\n",
            "          8.2829e-01, 1.5884e-03, 4.5804e-01, 4.5191e-02, 4.9121e-02],\n",
            "         [2.9797e-01, 2.2161e-01, 8.7018e-01, 5.6825e-01, 2.9700e-01,\n",
            "          4.4217e-01, 2.2719e-01, 6.7184e-02, 1.2319e-02, 4.4417e-01],\n",
            "         [1.2153e-01, 3.5571e-01, 1.2332e-01, 8.3516e-02, 8.5644e-03,\n",
            "          1.7691e-01, 4.8890e-01, 6.8621e-01, 3.1230e-02, 1.2699e-01],\n",
            "         [3.4118e-01, 9.1470e-02, 2.6755e-02, 2.7571e-01, 3.1775e-01,\n",
            "          5.5011e-01, 1.2205e-01, 5.3234e-01, 9.8727e-02, 2.5335e-02],\n",
            "         [9.7861e-02, 5.3821e-01, 1.8691e-01, 1.1115e-01, 7.9523e-02,\n",
            "          3.5199e-04, 3.0848e-01, 1.7575e-01, 1.8946e-02, 4.3574e-01]],\n",
            "\n",
            "        [[4.4439e-01, 2.1161e-01, 4.0241e-01, 2.0235e-01, 1.5832e-01,\n",
            "          3.4123e-01, 4.6097e-01, 1.9943e-01, 7.0934e-02, 4.0588e-01],\n",
            "         [5.3408e-02, 4.8863e-01, 3.3373e-02, 9.0979e-03, 9.1861e-02,\n",
            "          2.2706e-01, 1.7067e-01, 2.9319e-02, 5.7015e-01, 4.0134e-01],\n",
            "         [2.6043e-01, 2.6275e-02, 2.0787e-01, 6.7791e-02, 7.0828e-02,\n",
            "          1.6191e-01, 1.9583e-01, 1.1758e-02, 7.2790e-01, 1.1391e-01],\n",
            "         [8.8576e-02, 3.0101e-02, 2.5413e-01, 8.2201e-02, 3.7568e-02,\n",
            "          5.3751e-01, 1.6302e-01, 5.0381e-01, 1.4007e-01, 4.1794e-03],\n",
            "         [6.7053e-01, 2.6464e-01, 7.4105e-01, 3.1196e-01, 1.3910e-01,\n",
            "          3.9435e-01, 4.5358e-01, 2.4574e-01, 1.6171e-01, 3.4391e-01]]])\n"
          ]
        }
      ]
    },
    {
      "cell_type": "code",
      "source": [
        "# 10. Solve the following error when running the below code.\n",
        "first_tensor = torch.tensor([1,2]).to(device)\n",
        "second_tensor = torch.tensor([0,3]).to(device)\n",
        "added_mat = first_tensor + second_tensor\n",
        "print(added_mat)"
      ],
      "metadata": {
        "id": "sStt-HHt4Po9",
        "colab": {
          "base_uri": "https://localhost:8080/"
        },
        "outputId": "83997fc8-064b-4f7f-95ad-954920625f85"
      },
      "execution_count": 35,
      "outputs": [
        {
          "output_type": "stream",
          "name": "stdout",
          "text": [
            "tensor([1, 5], device='cuda:0')\n"
          ]
        }
      ]
    },
    {
      "cell_type": "code",
      "source": [
        "device"
      ],
      "metadata": {
        "colab": {
          "base_uri": "https://localhost:8080/"
        },
        "id": "iwKShU-auf_A",
        "outputId": "97f7dcdd-6a1f-4537-9d4c-84c2766cbb51"
      },
      "execution_count": 36,
      "outputs": [
        {
          "output_type": "execute_result",
          "data": {
            "text/plain": [
              "device(type='cuda', index=0)"
            ]
          },
          "metadata": {},
          "execution_count": 36
        }
      ]
    },
    {
      "cell_type": "code",
      "source": [
        "# 11. Attach the following array to gpu\n",
        "to_gpu_array = torch.tensor([1,2,3,4]).to(device)"
      ],
      "metadata": {
        "id": "QxLchAFI49wj"
      },
      "execution_count": 40,
      "outputs": []
    },
    {
      "cell_type": "code",
      "source": [],
      "metadata": {
        "id": "xFiX9LvAui3P"
      },
      "execution_count": null,
      "outputs": []
    }
  ]
}