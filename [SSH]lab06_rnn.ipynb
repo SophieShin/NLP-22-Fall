{
  "nbformat": 4,
  "nbformat_minor": 0,
  "metadata": {
    "colab": {
      "provenance": [],
      "collapsed_sections": [],
      "include_colab_link": true
    },
    "kernelspec": {
      "name": "python3",
      "display_name": "Python 3"
    },
    "language_info": {
      "name": "python"
    }
  },
  "cells": [
    {
      "cell_type": "markdown",
      "metadata": {
        "id": "view-in-github",
        "colab_type": "text"
      },
      "source": [
        "<a href=\"https://colab.research.google.com/github/SophieShin/NLP_22_Fall/blob/main/%5BSSH%5Dlab06_rnn.ipynb\" target=\"_parent\"><img src=\"https://colab.research.google.com/assets/colab-badge.svg\" alt=\"Open In Colab\"/></a>"
      ]
    },
    {
      "cell_type": "markdown",
      "source": [
        "# Lab 6\n",
        "## Part 1: Character Generation using RNN\n",
        "We can use a language model to not only predict the next word in a sequence but the next word after that, and the next...if we continued this repeated sampling, we can generate text! We are going to use a simple character-based RNN language model to learn to generate characters from a simple training corpus of a few sentences."
      ],
      "metadata": {
        "id": "C957O6gR-hNl"
      }
    },
    {
      "cell_type": "code",
      "source": [
        "import torch\n",
        "from torch import nn\n",
        "\n",
        "import numpy as np"
      ],
      "metadata": {
        "id": "yj8BwFa5-gi2"
      },
      "execution_count": null,
      "outputs": []
    },
    {
      "cell_type": "markdown",
      "source": [
        "First, we'll define the sentences that we want our model to output when fed with the first word or the first few characters.\n",
        "\n",
        "Then we'll create a dictionary (vocab) out of all the characters that we have in the sentences and map them to an integer. This will allow us to convert our input characters to their respective integers (`char2int` or `vocab`) and vice versa (`int2char`). We will use just basic Python without torchtext utlities."
      ],
      "metadata": {
        "id": "z-noSQw1-xya"
      }
    },
    {
      "cell_type": "code",
      "source": [
        "corpus = ['hey how are you','good i am fine','have a nice day', 'see you later']\n",
        "\n",
        "# Tokenise\n",
        "# Join all the sentences together and extract the unique characters from the combined sentences\n",
        "chars = set(''.join(corpus))  # ''.join('**')는 '***'안에 있는 모든 단어를 이어붙인다. # set은 안에 있는 문자를 character 단위로 쪼개서 set형태로 만든다.\n",
        "\n",
        "# Creating a dictionary that maps integers to the characters\n",
        "int2char = dict(enumerate(chars)) # chars에 있는 문자에 idx를 부여하고 이를 dictionary화 한다. # key : ind, value: character\n",
        "print( f'int2char: {int2char}')\n",
        "\n",
        "# Creating another dictionary that maps characters to integers (vocab) # key: character, value : idx\n",
        "char2int = {char: ind for ind, char in int2char.items()} # int2char.items()로 하면 key(idx)와 value가 튜플 형태로 나옴\n",
        "vocab = char2int\n",
        "print(f'char2int: {char2int}')"
      ],
      "metadata": {
        "id": "rdClhDPH-514",
        "colab": {
          "base_uri": "https://localhost:8080/"
        },
        "outputId": "6e28a18c-20f8-4716-804b-a2581b2b9e0a"
      },
      "execution_count": null,
      "outputs": [
        {
          "output_type": "stream",
          "name": "stdout",
          "text": [
            "int2char: {0: 'v', 1: 'o', 2: 'r', 3: 'w', 4: 'm', 5: 'i', 6: ' ', 7: 'a', 8: 'd', 9: 'u', 10: 'n', 11: 'g', 12: 'y', 13: 's', 14: 'e', 15: 'h', 16: 'f', 17: 't', 18: 'c', 19: 'l'}\n",
            "char2int: {'v': 0, 'o': 1, 'r': 2, 'w': 3, 'm': 4, 'i': 5, ' ': 6, 'a': 7, 'd': 8, 'u': 9, 'n': 10, 'g': 11, 'y': 12, 's': 13, 'e': 14, 'h': 15, 'f': 16, 't': 17, 'c': 18, 'l': 19}\n"
          ]
        }
      ]
    },
    {
      "cell_type": "code",
      "source": [
        "int2char[7]"
      ],
      "metadata": {
        "colab": {
          "base_uri": "https://localhost:8080/",
          "height": 35
        },
        "id": "yXOpqHHtLOrc",
        "outputId": "9c7d32e3-df04-40e1-8675-30f2c7b6ae8f"
      },
      "execution_count": null,
      "outputs": [
        {
          "output_type": "execute_result",
          "data": {
            "text/plain": [
              "'a'"
            ],
            "application/vnd.google.colaboratory.intrinsic+json": {
              "type": "string"
            }
          },
          "metadata": {},
          "execution_count": 6
        }
      ]
    },
    {
      "cell_type": "code",
      "source": [
        "int2char.items()"
      ],
      "metadata": {
        "colab": {
          "base_uri": "https://localhost:8080/"
        },
        "id": "GF5V4CsALYvI",
        "outputId": "780465dc-19cc-4bfd-983b-48d03882822e"
      },
      "execution_count": null,
      "outputs": [
        {
          "output_type": "execute_result",
          "data": {
            "text/plain": [
              "dict_items([(0, 'v'), (1, 'o'), (2, 'r'), (3, 'w'), (4, 'm'), (5, 'i'), (6, ' '), (7, 'a'), (8, 'd'), (9, 'u'), (10, 'n'), (11, 'g'), (12, 'y'), (13, 's'), (14, 'e'), (15, 'h'), (16, 'f'), (17, 't'), (18, 'c'), (19, 'l')])"
            ]
          },
          "metadata": {},
          "execution_count": 7
        }
      ]
    },
    {
      "cell_type": "markdown",
      "source": [
        "### Print the vocab"
      ],
      "metadata": {
        "id": "jISAJrGq_Fcm"
      }
    },
    {
      "cell_type": "code",
      "source": [
        "print(vocab)\n",
        "print(len(vocab))"
      ],
      "metadata": {
        "id": "D9feKGFe_G1a",
        "colab": {
          "base_uri": "https://localhost:8080/"
        },
        "outputId": "57b60418-3a3c-4dea-990a-049bb05f8fb3"
      },
      "execution_count": null,
      "outputs": [
        {
          "output_type": "stream",
          "name": "stdout",
          "text": [
            "{'v': 0, 'o': 1, 'r': 2, 'w': 3, 'm': 4, 'i': 5, ' ': 6, 'a': 7, 'd': 8, 'u': 9, 'n': 10, 'g': 11, 'y': 12, 's': 13, 'e': 14, 'h': 15, 'f': 16, 't': 17, 'c': 18, 'l': 19}\n",
            "20\n"
          ]
        }
      ]
    },
    {
      "cell_type": "markdown",
      "source": [
        "### Padding\n",
        "Next, we'll be padding our input sentences to ensure that all the sentences are of the sample length. While RNNs are typically able to take in variably sized inputs, we will usually want to feed training data in batches to speed up the training process. In order to use batches to train on our data, we'll need to ensure that each sequence within the input data are of equal size.\n",
        "\n",
        "Therefore, in most cases, padding can be done by filling up sequences that are too short with 0 values and trimming sequences that are too long. In our case, we'll be finding the length of the longest sequence and padding the rest of the sentences with blank spaces to match that length."
      ],
      "metadata": {
        "id": "CKblhOY-_N2T"
      }
    },
    {
      "cell_type": "code",
      "source": [
        "max(corpus, key=len) #max(str, key=len) 문자열의 길이가 가장 큰 것을 반환한다. 단, 최댓값의 길이가 두 개 이상 있을 경우 index가 가장 작은 것을 출력한다."
      ],
      "metadata": {
        "colab": {
          "base_uri": "https://localhost:8080/",
          "height": 35
        },
        "id": "BXd55-MMsURe",
        "outputId": "2fbb3398-3722-4200-ac36-90db67ad7efe"
      },
      "execution_count": null,
      "outputs": [
        {
          "output_type": "execute_result",
          "data": {
            "text/plain": [
              "'hey how are you'"
            ],
            "application/vnd.google.colaboratory.intrinsic+json": {
              "type": "string"
            }
          },
          "metadata": {},
          "execution_count": 21
        }
      ]
    },
    {
      "cell_type": "code",
      "source": [
        "max(corpus) # idx가 제일 큰 값을 반환"
      ],
      "metadata": {
        "colab": {
          "base_uri": "https://localhost:8080/",
          "height": 35
        },
        "id": "O68RZivesapy",
        "outputId": "28d8a12a-6adf-436c-fa7a-5cfc95baf2fd"
      },
      "execution_count": null,
      "outputs": [
        {
          "output_type": "execute_result",
          "data": {
            "text/plain": [
              "'see you later'"
            ],
            "application/vnd.google.colaboratory.intrinsic+json": {
              "type": "string"
            }
          },
          "metadata": {},
          "execution_count": 11
        }
      ]
    },
    {
      "cell_type": "code",
      "source": [
        "len(max(corpus, key = len))"
      ],
      "metadata": {
        "colab": {
          "base_uri": "https://localhost:8080/"
        },
        "id": "6ULpDDhDNxW6",
        "outputId": "83a724f8-0a5f-4b38-eaf9-591661fabef4"
      },
      "execution_count": null,
      "outputs": [
        {
          "output_type": "execute_result",
          "data": {
            "text/plain": [
              "15"
            ]
          },
          "metadata": {},
          "execution_count": 15
        }
      ]
    },
    {
      "cell_type": "code",
      "source": [
        "maxlen = len(max(corpus, key=len))\n",
        "print(f\"The longest string has {maxlen} characters\")"
      ],
      "metadata": {
        "id": "sMtEUyBM_apD",
        "colab": {
          "base_uri": "https://localhost:8080/"
        },
        "outputId": "5cb90606-759b-41fd-ee69-57ff555d413b"
      },
      "execution_count": null,
      "outputs": [
        {
          "output_type": "stream",
          "name": "stdout",
          "text": [
            "The longest string has 15 characters\n"
          ]
        }
      ]
    },
    {
      "cell_type": "code",
      "source": [
        "# A simple loop that loops through the list of sentences and adds a ' ' whitespace until the length of the sentence matches\n",
        "# the length of the longest sentence\n",
        "for i in range(len(corpus)):\n",
        "    while len(corpus[i])<maxlen:\n",
        "        corpus[i] += ' '\n",
        "        print(corpus[i])"
      ],
      "metadata": {
        "id": "GOJqkZKh_naf"
      },
      "execution_count": null,
      "outputs": []
    },
    {
      "cell_type": "markdown",
      "source": [
        "### Break up data into Inputs (`x`) and Targets (`y`)\n",
        "As we're going to predict the next character in the sequence at each time step, we'll have to divide each sentence into\n",
        "\n",
        "- Input data\n",
        "  - The last input character should be excluded as it does not need to be fed into the model\n",
        "\n",
        "- Target/Ground Truth Label\n",
        "  - One time-step ahead of the Input data as this will be the \"correct answer\" for the model at each time step corresponding to the input data"
      ],
      "metadata": {
        "id": "6MgOOvGc_y6h"
      }
    },
    {
      "cell_type": "code",
      "source": [
        "for i in range(len(corpus)):\n",
        "  print(len(corpus[i]))"
      ],
      "metadata": {
        "colab": {
          "base_uri": "https://localhost:8080/"
        },
        "id": "yeGGCG0JOkhV",
        "outputId": "2d3f69a0-1f76-42d4-8841-d1b2f5711dd9"
      },
      "execution_count": null,
      "outputs": [
        {
          "output_type": "stream",
          "name": "stdout",
          "text": [
            "15\n",
            "15\n",
            "15\n",
            "15\n"
          ]
        }
      ]
    },
    {
      "cell_type": "code",
      "source": [
        "# Creating lists that will hold our input and target sequences\n",
        "input_sequence = []\n",
        "target_seq = []\n",
        "\n",
        "for i in range(len(corpus)):\n",
        "    # Remove last character for input sequence\n",
        "    input_sequence.append(corpus[i][:-1])\n",
        "    \n",
        "    # Remove first character for target sequence\n",
        "    target_seq.append(corpus[i][1:])\n",
        "    print(f\"Input Sequence\\t: {input_sequence[i]}\\nTarget Sequence\\t: {target_seq[i]}\")"
      ],
      "metadata": {
        "id": "ctjBnBWWAJ-s",
        "colab": {
          "base_uri": "https://localhost:8080/"
        },
        "outputId": "0377e47d-7344-4df4-aee4-e9bbd4bc700e"
      },
      "execution_count": null,
      "outputs": [
        {
          "output_type": "stream",
          "name": "stdout",
          "text": [
            "Input Sequence\t: hey how are yo\n",
            "Target Sequence\t: ey how are you\n",
            "Input Sequence\t: good i am fine\n",
            "Target Sequence\t: ood i am fine \n",
            "Input Sequence\t: have a nice da\n",
            "Target Sequence\t: ave a nice day\n",
            "Input Sequence\t: see you later \n",
            "Target Sequence\t: ee you later  \n"
          ]
        }
      ]
    },
    {
      "cell_type": "markdown",
      "source": [
        "### Lookup vocab for inputs and targets\n",
        "Now we can convert our input and target sequences to sequences of integers instead of characters by mapping them using the dictionaries we created above. This will allow us to one-hot-encode our input sequence subsequently."
      ],
      "metadata": {
        "id": "2kTJdhF_AfHk"
      }
    },
    {
      "cell_type": "code",
      "source": [
        "for i in range(len(corpus)):\n",
        "    input_sequence[i] = [vocab[character] for character in input_sequence[i]]\n",
        "    target_seq[i] = [vocab[character] for character in target_seq[i]]"
      ],
      "metadata": {
        "id": "0IZvHKSkAu5M"
      },
      "execution_count": null,
      "outputs": []
    },
    {
      "cell_type": "code",
      "source": [
        "print(input_sequence)\n",
        "print(target_seq)"
      ],
      "metadata": {
        "colab": {
          "base_uri": "https://localhost:8080/"
        },
        "id": "UteS_pIePfM1",
        "outputId": "382e38e9-f573-4e43-ae13-d42baaa3402e"
      },
      "execution_count": null,
      "outputs": [
        {
          "output_type": "stream",
          "name": "stdout",
          "text": [
            "[[15, 14, 12, 6, 15, 1, 3, 6, 7, 2, 14, 6, 12, 1], [11, 1, 1, 8, 6, 5, 6, 7, 4, 6, 16, 5, 10, 14], [15, 7, 0, 14, 6, 7, 6, 10, 5, 18, 14, 6, 8, 7], [13, 14, 14, 6, 12, 1, 9, 6, 19, 7, 17, 14, 2, 6]]\n",
            "[[14, 12, 6, 15, 1, 3, 6, 7, 2, 14, 6, 12, 1, 9], [1, 1, 8, 6, 5, 6, 7, 4, 6, 16, 5, 10, 14, 6], [7, 0, 14, 6, 7, 6, 10, 5, 18, 14, 6, 8, 7, 12], [14, 14, 6, 12, 1, 9, 6, 19, 7, 17, 14, 2, 6, 6]]\n"
          ]
        }
      ]
    },
    {
      "cell_type": "markdown",
      "source": [
        "\n",
        "### One-hot Encoding\n",
        "Before encoding our input sequence into one-hot vectors, we'll define 3 key variables:\n",
        "\n",
        "- `vocab_size`: The number of unique characters that we have in our text. This will determine the one-hot vector size as each character will have an assigned index in that vector\n",
        "- `seq_len`: The length of the sequences that we're feeding into the model. As we standardised the length of all our sentences to be equal to the longest sentences, this value will be the `max length - 1` as we removed the last character input as well\n",
        "- `batch_size`: Since our training corpus is small, we will send each sentence in the corpus as a batch to the model"
      ],
      "metadata": {
        "id": "lr1bLJhJBfa0"
      }
    },
    {
      "cell_type": "code",
      "source": [
        "vocab_size = len(vocab)\n",
        "seq_len = maxlen - 1\n",
        "batch_size = len(corpus)\n",
        "\n",
        "def one_hot_encode(sequence, vocab_size, seq_len, batch_size):\n",
        "    # Creating a multi-dimensional array of zeros with the desired output shape\n",
        "    features = np.zeros((batch_size, seq_len, vocab_size), dtype=np.float32)    #  4*14*20 tensor\n",
        "    \n",
        "    # Replacing the 0 at the relevant character index with a 1 to represent that character\n",
        "    for i in range(batch_size):\n",
        "        for u in range(seq_len):\n",
        "            features[i, u, sequence[i][u]] = 1  #input_sequence의 [i, u] 자리에 있는 숫자를 가지고 오고 vocab_size의 그 숫자 자리에만 1을 할당한다.\n",
        "\n",
        "    return features"
      ],
      "metadata": {
        "id": "ESwG4oKUB2C8"
      },
      "execution_count": null,
      "outputs": []
    },
    {
      "cell_type": "code",
      "source": [
        "input_sequence"
      ],
      "metadata": {
        "colab": {
          "base_uri": "https://localhost:8080/"
        },
        "id": "wabWbsIvTj9N",
        "outputId": "80f6e1c1-b18a-4c6d-d350-315b6abe5b69"
      },
      "execution_count": null,
      "outputs": [
        {
          "output_type": "execute_result",
          "data": {
            "text/plain": [
              "[[15, 14, 12, 6, 15, 1, 3, 6, 7, 2, 14, 6, 12, 1],\n",
              " [11, 1, 1, 8, 6, 5, 6, 7, 4, 6, 16, 5, 10, 14],\n",
              " [15, 7, 0, 14, 6, 7, 6, 10, 5, 18, 14, 6, 8, 7],\n",
              " [13, 14, 14, 6, 12, 1, 9, 6, 19, 7, 17, 14, 2, 6]]"
            ]
          },
          "metadata": {},
          "execution_count": 51
        }
      ]
    },
    {
      "cell_type": "code",
      "source": [
        "print(features[3])"
      ],
      "metadata": {
        "colab": {
          "base_uri": "https://localhost:8080/"
        },
        "id": "Wg5rdIPgT56C",
        "outputId": "a074ac9f-3730-4c1f-dc7c-702d7e07ef7b"
      },
      "execution_count": null,
      "outputs": [
        {
          "output_type": "stream",
          "name": "stdout",
          "text": [
            "[[0. 0. 0. 0. 0. 0. 0. 0. 0. 0. 0. 0. 0. 1. 0. 0. 0. 0. 0. 0.]\n",
            " [0. 0. 0. 0. 0. 0. 0. 0. 0. 0. 0. 0. 0. 0. 1. 0. 0. 0. 0. 0.]\n",
            " [0. 0. 0. 0. 0. 0. 0. 0. 0. 0. 0. 0. 0. 0. 1. 0. 0. 0. 0. 0.]\n",
            " [0. 0. 0. 0. 0. 0. 1. 0. 0. 0. 0. 0. 0. 0. 0. 0. 0. 0. 0. 0.]\n",
            " [0. 0. 0. 0. 0. 0. 0. 0. 0. 0. 0. 0. 1. 0. 0. 0. 0. 0. 0. 0.]\n",
            " [0. 1. 0. 0. 0. 0. 0. 0. 0. 0. 0. 0. 0. 0. 0. 0. 0. 0. 0. 0.]\n",
            " [0. 0. 0. 0. 0. 0. 0. 0. 0. 1. 0. 0. 0. 0. 0. 0. 0. 0. 0. 0.]\n",
            " [0. 0. 0. 0. 0. 0. 1. 0. 0. 0. 0. 0. 0. 0. 0. 0. 0. 0. 0. 0.]\n",
            " [0. 0. 0. 0. 0. 0. 0. 0. 0. 0. 0. 0. 0. 0. 0. 0. 0. 0. 0. 1.]\n",
            " [0. 0. 0. 0. 0. 0. 0. 1. 0. 0. 0. 0. 0. 0. 0. 0. 0. 0. 0. 0.]\n",
            " [0. 0. 0. 0. 0. 0. 0. 0. 0. 0. 0. 0. 0. 0. 0. 0. 0. 1. 0. 0.]\n",
            " [0. 0. 0. 0. 0. 0. 0. 0. 0. 0. 0. 0. 0. 0. 1. 0. 0. 0. 0. 0.]\n",
            " [0. 0. 1. 0. 0. 0. 0. 0. 0. 0. 0. 0. 0. 0. 0. 0. 0. 0. 0. 0.]\n",
            " [0. 0. 0. 0. 0. 0. 1. 0. 0. 0. 0. 0. 0. 0. 0. 0. 0. 0. 0. 0.]]\n"
          ]
        }
      ]
    },
    {
      "cell_type": "code",
      "source": [
        "input_seq = one_hot_encode(input_sequence, vocab_size, seq_len, batch_size)\n",
        "print(f\"Input shape: {input_seq.shape}\") "
      ],
      "metadata": {
        "id": "c6wBXQ5ACOTo",
        "colab": {
          "base_uri": "https://localhost:8080/"
        },
        "outputId": "6c3dbd51-6a20-4340-e058-8afadc8a1e97"
      },
      "execution_count": null,
      "outputs": [
        {
          "output_type": "stream",
          "name": "stdout",
          "text": [
            "Input shape: (4, 14, 20)\n"
          ]
        }
      ]
    },
    {
      "cell_type": "code",
      "source": [
        "# Q1. What do the numbers in the input tensor shape represent?\n",
        "# A1. It represent batch_size, the maximum length, and the size of vocabulary. The size of vocaburary tensor is 1*20 and it's one-hot encoded tensor."
      ],
      "metadata": {
        "id": "wyJsUqx05qQl"
      },
      "execution_count": null,
      "outputs": []
    },
    {
      "cell_type": "markdown",
      "source": [
        "### Convert to Tensors"
      ],
      "metadata": {
        "id": "BMJb9hgbCcMh"
      }
    },
    {
      "cell_type": "code",
      "source": [
        "input_seq = torch.from_numpy(input_seq) # array to tensor\n",
        "target_seq = torch.Tensor(target_seq) # list to tenspr"
      ],
      "metadata": {
        "id": "vcaw7irMV4Y4"
      },
      "execution_count": null,
      "outputs": []
    },
    {
      "cell_type": "markdown",
      "source": [
        "### RNN Model\n",
        "That's all the preprocessing done. We can now define the NN class.\n",
        "This class can take in some parameters when instantiated:\n",
        "`input_size, output_size, hidden_dim, n_layers`\n",
        "\n",
        "For this model, we’ll only be using 1 layer of RNN followed by a fully connected layer. The fully connected layer will be in-charge of converting the RNN output to our desired output shape.\n",
        "\n",
        "The order the forward function is sequentially executed, therefore we’ll have to pass the inputs and the zero-initialized hidden state through the RNN layer first, before passing the RNN outputs to the fully-connected layer. Note that we are using the layers that we defined in the constructor.\n",
        "\n",
        "The last method that we have to define is the method that we called earlier to initialize the hidden state - init_hidden(). This basically creates a tensor of zeros in the shape of our hidden states.\n"
      ],
      "metadata": {
        "id": "W3rptPExDOUz"
      }
    },
    {
      "cell_type": "markdown",
      "source": [
        "#### * parameters of nn.RNN\n",
        "(https://pytorch.org/docs/stable/generated/torch.nn.RNN.html)\n",
        "- input_size = the number of expected features in the input X\n",
        "- hidden_size = the number of features in the hidden state h\n",
        "- num_layers = the number of recurrent layers(if 2, it means stacking two RNN together)\n",
        "- batch first = if True, the input and output tensors are the form of (batch, seq, feature). This does not apply to hidden or cell states. default: False."
      ],
      "metadata": {
        "id": "qvYoTXkrY7Yh"
      }
    },
    {
      "cell_type": "markdown",
      "source": [
        "![image.png](data:image/png;base64,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)"
      ],
      "metadata": {
        "id": "CwxxB24earIv"
      }
    },
    {
      "cell_type": "code",
      "source": [
        "class CharRNN(nn.Module):\n",
        "    def __init__(self, input_size, output_size, hidden_dim, n_layers):\n",
        "        super().__init__()\n",
        "\n",
        "        # Defining some parameters\n",
        "        self.hidden_dim = hidden_dim\n",
        "        self.n_layers = n_layers\n",
        "\n",
        "        # Defining the layers\n",
        "        # RNN Layer\n",
        "        self.rnn = nn.RNN(input_size, hidden_dim, n_layers, batch_first=True) # input format is [batch_size, input_size, hidden_size]  \n",
        "        # Fully connected layer\n",
        "        self.fc = nn.Linear(hidden_dim, output_size)\n",
        "    \n",
        "    def forward(self, x):\n",
        "        \n",
        "        batch_size = x.shape[0]\n",
        "\n",
        "        # Initializing hidden state for first input using method defined below\n",
        "        hidden = self.init_hidden(batch_size)\n",
        "\n",
        "        # Passing in the input and hidden state into the model and obtaining outputs\n",
        "        out, hidden = self.rnn(x, hidden)\n",
        "        \n",
        "        # Reshaping the outputs such that it can be fit into the fully connected layer\n",
        "        out = out.contiguous().view(-1, self.hidden_dim) # pytorch requires the targets in the loss to be continguous in memory, \n",
        "                                                         # but the inputs of neural net don't need to satisfy this requirement.\n",
        "        out = self.fc(out)\n",
        "        \n",
        "        return out, hidden\n",
        "    \n",
        "    def init_hidden(self, batch_size):\n",
        "        # This method generates the first hidden state of zeros which we'll use in the forward pass\n",
        "        hidden = torch.zeros(self.n_layers, batch_size, self.hidden_dim)\n",
        "        return hidden"
      ],
      "metadata": {
        "id": "nmd03ef9DRKI"
      },
      "execution_count": null,
      "outputs": []
    },
    {
      "cell_type": "markdown",
      "source": [
        "### Instantiate model, loss and optimiser"
      ],
      "metadata": {
        "id": "1QjVKao-EzZX"
      }
    },
    {
      "cell_type": "code",
      "source": [
        "input_seq.shape[0]"
      ],
      "metadata": {
        "colab": {
          "base_uri": "https://localhost:8080/"
        },
        "id": "7AEtKephhPGh",
        "outputId": "e21d25b6-ec30-4097-e8ea-b4ad14b28269"
      },
      "execution_count": null,
      "outputs": [
        {
          "output_type": "execute_result",
          "data": {
            "text/plain": [
              "4"
            ]
          },
          "metadata": {},
          "execution_count": 103
        }
      ]
    },
    {
      "cell_type": "code",
      "source": [
        "model = CharRNN(input_size=vocab_size, output_size=vocab_size, hidden_dim=20, n_layers=1)\n",
        "\n",
        "# Define hyperparameters\n",
        "n_epochs = 200\n",
        "lr=0.01\n",
        "\n",
        "# Define Loss, Optimizer\n",
        "criterion = nn.CrossEntropyLoss()\n",
        "optimizer = torch.optim.Adam(model.parameters(), lr=lr)"
      ],
      "metadata": {
        "id": "rtCp1gOVE230"
      },
      "execution_count": null,
      "outputs": []
    },
    {
      "cell_type": "markdown",
      "source": [
        "### Train!"
      ],
      "metadata": {
        "id": "G3E-rK0FF5-V"
      }
    },
    {
      "cell_type": "code",
      "source": [
        "target_seq"
      ],
      "metadata": {
        "colab": {
          "base_uri": "https://localhost:8080/"
        },
        "id": "_9bS2781kLir",
        "outputId": "9f624bcd-dd3c-47bc-90c6-37bafa826cd9"
      },
      "execution_count": null,
      "outputs": [
        {
          "output_type": "execute_result",
          "data": {
            "text/plain": [
              "tensor([[14., 12.,  6., 15.,  1.,  3.,  6.,  7.,  2., 14.,  6., 12.,  1.,  9.],\n",
              "        [ 1.,  1.,  8.,  6.,  5.,  6.,  7.,  4.,  6., 16.,  5., 10., 14.,  6.],\n",
              "        [ 7.,  0., 14.,  6.,  7.,  6., 10.,  5., 18., 14.,  6.,  8.,  7., 12.],\n",
              "        [14., 14.,  6., 12.,  1.,  9.,  6., 19.,  7., 17., 14.,  2.,  6.,  6.]])"
            ]
          },
          "metadata": {},
          "execution_count": 126
        }
      ]
    },
    {
      "cell_type": "code",
      "source": [
        "target_seq.view(-1).long()"
      ],
      "metadata": {
        "colab": {
          "base_uri": "https://localhost:8080/"
        },
        "id": "_MdGgyd7kXan",
        "outputId": "f1e75c3f-9692-4c11-f9ca-8cbc25ef759c"
      },
      "execution_count": null,
      "outputs": [
        {
          "output_type": "execute_result",
          "data": {
            "text/plain": [
              "tensor([14, 12,  6, 15,  1,  3,  6,  7,  2, 14,  6, 12,  1,  9,  1,  1,  8,  6,\n",
              "         5,  6,  7,  4,  6, 16,  5, 10, 14,  6,  7,  0, 14,  6,  7,  6, 10,  5,\n",
              "        18, 14,  6,  8,  7, 12, 14, 14,  6, 12,  1,  9,  6, 19,  7, 17, 14,  2,\n",
              "         6,  6])"
            ]
          },
          "metadata": {},
          "execution_count": 128
        }
      ]
    },
    {
      "cell_type": "code",
      "source": [
        "for epoch in range(1, n_epochs + 1):\n",
        "    optimizer.zero_grad() # Clears existing gradients from previous epoch...(1)\n",
        "    output, hidden = model(input_seq)\n",
        "    loss = criterion(output, target_seq.view(-1).long())\n",
        "    loss.backward() # Does backpropagation and calculates gradients........(2)\n",
        "    optimizer.step() # Updates the weights accordingly.....................(3)\n",
        "    \n",
        "    if epoch%10 == 0:\n",
        "        print(f\"Epoch: {epoch}/{n_epochs}.............\", end=\" \")\n",
        "        print(f\"Loss: {loss.item():.4f}\")"
      ],
      "metadata": {
        "colab": {
          "base_uri": "https://localhost:8080/"
        },
        "id": "AJLzwxQhhvoQ",
        "outputId": "7fa32416-e481-41ac-c874-db0297ab11fa"
      },
      "execution_count": null,
      "outputs": [
        {
          "output_type": "stream",
          "name": "stdout",
          "text": [
            "Epoch: 10/200............. Loss: 2.4501\n",
            "Epoch: 20/200............. Loss: 2.1607\n",
            "Epoch: 30/200............. Loss: 1.6592\n",
            "Epoch: 40/200............. Loss: 1.0996\n",
            "Epoch: 50/200............. Loss: 0.6711\n",
            "Epoch: 60/200............. Loss: 0.3798\n",
            "Epoch: 70/200............. Loss: 0.2152\n",
            "Epoch: 80/200............. Loss: 0.1327\n",
            "Epoch: 90/200............. Loss: 0.0929\n",
            "Epoch: 100/200............. Loss: 0.0728\n",
            "Epoch: 110/200............. Loss: 0.0614\n",
            "Epoch: 120/200............. Loss: 0.0543\n",
            "Epoch: 130/200............. Loss: 0.0494\n",
            "Epoch: 140/200............. Loss: 0.0458\n",
            "Epoch: 150/200............. Loss: 0.0431\n",
            "Epoch: 160/200............. Loss: 0.0409\n",
            "Epoch: 170/200............. Loss: 0.0391\n",
            "Epoch: 180/200............. Loss: 0.0377\n",
            "Epoch: 190/200............. Loss: 0.0364\n",
            "Epoch: 200/200............. Loss: 0.0354\n"
          ]
        }
      ]
    },
    {
      "cell_type": "markdown",
      "source": [
        "### Utility to Convert Prediction Back to Text"
      ],
      "metadata": {
        "id": "g7o2QYibHzf_"
      }
    },
    {
      "cell_type": "code",
      "source": [
        "def predict(model, character):\n",
        "    # One-hot encoding our input to fit into the model\n",
        "    character = np.array([[vocab[c] for c in character]])\n",
        "    character = one_hot_encode(character, vocab_size, character.shape[1], 1)\n",
        "    character = torch.from_numpy(character)\n",
        "    \n",
        "    out, hidden = model(character)\n",
        "\n",
        "    prob = nn.functional.softmax(out[-1], dim=0).data   # 왜 .data가 붙는지.. 없어도 실행이 되기는 함 . out[-1] 도 어떤 뜻인지\n",
        "    # Taking the class with the highest probability score from the output\n",
        "    char_ind = torch.max(prob, dim=0)[1].item()\n",
        "\n",
        "    return int2char[char_ind], hidden"
      ],
      "metadata": {
        "id": "B3Xp--nXH4Ul"
      },
      "execution_count": null,
      "outputs": []
    },
    {
      "cell_type": "code",
      "source": [
        "model"
      ],
      "metadata": {
        "colab": {
          "base_uri": "https://localhost:8080/"
        },
        "id": "zyDhHlFvtZ7h",
        "outputId": "7ba99b9e-a83f-4a86-8c56-61a95f128782"
      },
      "execution_count": null,
      "outputs": [
        {
          "output_type": "execute_result",
          "data": {
            "text/plain": [
              "CharRNN(\n",
              "  (rnn): RNN(20, 12, batch_first=True)\n",
              "  (fc): Linear(in_features=12, out_features=20, bias=True)\n",
              ")"
            ]
          },
          "metadata": {},
          "execution_count": 150
        }
      ]
    },
    {
      "cell_type": "markdown",
      "source": [
        "## Utility to Generate Text\n",
        "- Pass in the model, the length of characters to generate and a start sequence\n",
        "- Final sequence length will include the start sequence "
      ],
      "metadata": {
        "id": "rt4SJ2BFIRtY"
      }
    },
    {
      "cell_type": "code",
      "source": [
        "def generate(model, out_len=15, start='hey'):\n",
        "    model.eval() # eval mode # evaluation 과정에서 사용하지 않아야 하는 layer들을 알아서 off 시키도록 하는 함수\n",
        "    start = start.lower()\n",
        "    # First off, run through the starting characters\n",
        "    chars = [ch for ch in start]\n",
        "    size = out_len - len(chars)\n",
        "    # Now pass in the previous characters and get a new one\n",
        "    for i in range(size):\n",
        "        char, h = predict(model, chars)\n",
        "        chars.append(char)\n",
        "\n",
        "    return ''.join(chars)"
      ],
      "metadata": {
        "id": "-kGpzRH0ISSW"
      },
      "execution_count": null,
      "outputs": []
    },
    {
      "cell_type": "markdown",
      "source": [
        "### Test with a sample start string"
      ],
      "metadata": {
        "id": "LOOLfmAlNOtq"
      }
    },
    {
      "cell_type": "code",
      "source": [
        "generate(model, 18, 'good')"
      ],
      "metadata": {
        "id": "JP3tGz2aIhGv",
        "colab": {
          "base_uri": "https://localhost:8080/",
          "height": 35
        },
        "outputId": "404552a8-5a7e-4c7f-da16-a5358c22293c"
      },
      "execution_count": null,
      "outputs": [
        {
          "output_type": "execute_result",
          "data": {
            "text/plain": [
              "'good i am fine day'"
            ],
            "application/vnd.google.colaboratory.intrinsic+json": {
              "type": "string"
            }
          },
          "metadata": {},
          "execution_count": 170
        }
      ]
    },
    {
      "cell_type": "markdown",
      "source": [
        "Try with your own sample start string and output length (make sure the character(s) you enter are in the vocab\n",
        "- Try with short output lengths (<=15)\n",
        "- Try with start words that are not proper words in the vocab, e.g. \"sa\", \"yu\", \"fai\"\n",
        "- Try with longer lengths, e.g. 30, 60"
      ],
      "metadata": {
        "id": "xUdekq2B40Re"
      }
    },
    {
      "cell_type": "code",
      "source": [
        "generate(model, 30, 'are')"
      ],
      "metadata": {
        "colab": {
          "base_uri": "https://localhost:8080/",
          "height": 35
        },
        "id": "u9EZjwdTjUQM",
        "outputId": "a33d58f6-c5ee-4cec-8a6a-d26db8d330ff"
      },
      "execution_count": null,
      "outputs": [
        {
          "output_type": "execute_result",
          "data": {
            "text/plain": [
              "'are you later  are dar fine da'"
            ],
            "application/vnd.google.colaboratory.intrinsic+json": {
              "type": "string"
            }
          },
          "metadata": {},
          "execution_count": 169
        }
      ]
    },
    {
      "cell_type": "code",
      "source": [
        "# Q2. What are your observations? Try tweaking some hyperparameters and see if better texts are generated.\n",
        "# State what you changed and what you think is \"better\" text.\n",
        "# A2. I've changed the hidden dimension to 20 and increase the number of epoch to 200.\n",
        "# Better text can be regarded sentences or expressions that people natually understand.\n",
        "# In this case, the training data is not enough to train the model effectively.\n",
        "# If we generate with the word that are included in the training data, it generates decent one,however,\n",
        "# with unseen word, the result is disappointing. "
      ],
      "metadata": {
        "id": "n1Gzhofr-CZS"
      },
      "execution_count": null,
      "outputs": []
    },
    {
      "cell_type": "markdown",
      "source": [
        "References:\n",
        "- https://blog.floydhub.com/a-beginners-guide-on-recurrent-neural-networks-with-pytorch/\n",
        "- http://karpathy.github.io/2015/05/21/rnn-effectiveness/"
      ],
      "metadata": {
        "id": "IxMKqC4yXlig"
      }
    },
    {
      "cell_type": "markdown",
      "source": [
        "# Part 2 – RNNs for Text Classification using AG_NEWS\n",
        "Last time, we predicted the class of a new piece based on its text. We used EmbeddingBag layer that computes sums or means of bags of embeddings in a news piece to obtain a representation of the text. We then built a model to predict the news class based on its representation.\n",
        "\n",
        "One of the drawbacks of the previous approach is that the order of words is lost. The news \"the Dodgers beat the Giants\" and \"the Giants beat the Dodgers\" would have the exact same embedding, even though the sentences have different meanings.\n",
        "\n",
        "### Learning Outcomes:\n",
        "- We wil use a recurrent neural network. We will treat each news as a sequence of words\n",
        "- We will use pre-trained GloVe embeddings as inputs to the recurrent network. \n",
        "- We will use tqdm add a progress bar when training\n",
        "- We will use `sklearn.metrics` to \n",
        "  - Report on model accuracy and other classification metrics\n",
        "  - Retrieve the confusion matrix that summarise the number of correct and incorrect predictions\n",
        "- We will use `scikitplot` to visualise the confusion matrix"
      ],
      "metadata": {
        "id": "h6FsOX2T1t7W"
      }
    },
    {
      "cell_type": "code",
      "source": [
        "# Install torchdata and restart runtime\n",
        "!pip install torchdata"
      ],
      "metadata": {
        "id": "QiqahURoAOti",
        "colab": {
          "base_uri": "https://localhost:8080/"
        },
        "outputId": "0ca05a96-51a1-427c-b216-290404be04ad"
      },
      "execution_count": null,
      "outputs": [
        {
          "output_type": "stream",
          "name": "stdout",
          "text": [
            "Looking in indexes: https://pypi.org/simple, https://us-python.pkg.dev/colab-wheels/public/simple/\n",
            "Collecting torchdata\n",
            "  Downloading torchdata-0.4.1-cp37-cp37m-manylinux_2_17_x86_64.manylinux2014_x86_64.whl (4.4 MB)\n",
            "\u001b[K     |████████████████████████████████| 4.4 MB 5.3 MB/s \n",
            "\u001b[?25hRequirement already satisfied: requests in /usr/local/lib/python3.7/dist-packages (from torchdata) (2.23.0)\n",
            "Collecting urllib3>=1.25\n",
            "  Downloading urllib3-1.26.12-py2.py3-none-any.whl (140 kB)\n",
            "\u001b[K     |████████████████████████████████| 140 kB 53.0 MB/s \n",
            "\u001b[?25hCollecting portalocker>=2.0.0\n",
            "  Downloading portalocker-2.5.1-py2.py3-none-any.whl (15 kB)\n",
            "Requirement already satisfied: torch==1.12.1 in /usr/local/lib/python3.7/dist-packages (from torchdata) (1.12.1+cu113)\n",
            "Requirement already satisfied: typing-extensions in /usr/local/lib/python3.7/dist-packages (from torch==1.12.1->torchdata) (4.1.1)\n",
            "Requirement already satisfied: idna<3,>=2.5 in /usr/local/lib/python3.7/dist-packages (from requests->torchdata) (2.10)\n",
            "Requirement already satisfied: chardet<4,>=3.0.2 in /usr/local/lib/python3.7/dist-packages (from requests->torchdata) (3.0.4)\n",
            "Requirement already satisfied: certifi>=2017.4.17 in /usr/local/lib/python3.7/dist-packages (from requests->torchdata) (2022.6.15)\n",
            "Collecting urllib3>=1.25\n",
            "  Downloading urllib3-1.25.11-py2.py3-none-any.whl (127 kB)\n",
            "\u001b[K     |████████████████████████████████| 127 kB 54.4 MB/s \n",
            "\u001b[?25hInstalling collected packages: urllib3, portalocker, torchdata\n",
            "  Attempting uninstall: urllib3\n",
            "    Found existing installation: urllib3 1.24.3\n",
            "    Uninstalling urllib3-1.24.3:\n",
            "      Successfully uninstalled urllib3-1.24.3\n",
            "Successfully installed portalocker-2.5.1 torchdata-0.4.1 urllib3-1.25.11\n"
          ]
        }
      ]
    },
    {
      "cell_type": "code",
      "source": [
        "import torch\n",
        "import torchtext"
      ],
      "metadata": {
        "id": "n4lUkaxKAIrt"
      },
      "execution_count": null,
      "outputs": []
    },
    {
      "cell_type": "markdown",
      "source": [
        "### Pre-trained GloVe embeddings\n",
        "- We are going to use pre-trained embeddings to represent the words\n",
        "- They are available in torchtext\n",
        "- We will use 6B dim-50 (Takes around 3m to download)"
      ],
      "metadata": {
        "id": "FNuH-T34iBSy"
      }
    },
    {
      "cell_type": "code",
      "source": [
        "from torchtext.vocab import GloVe\n",
        "\n",
        "glovemb = GloVe(name='6B', dim=50, max_vectors=10000) # use 10k most common words\n",
        "# pre-trained vectors loaded. Most pre-trained vector sets are sorted in the descending order of word frequency. \n",
        "# Thus, in situations where the entire set doesn’t fit in memory, or is not needed for another reason, \n",
        "# passing max_vectors can limit the size of the loaded set."
      ],
      "metadata": {
        "id": "Pc8NCh0ShC_R",
        "colab": {
          "base_uri": "https://localhost:8080/"
        },
        "outputId": "26c90941-abc5-42da-823c-dad30cdb8330"
      },
      "execution_count": null,
      "outputs": [
        {
          "output_type": "stream",
          "name": "stderr",
          "text": [
            ".vector_cache/glove.6B.zip: 862MB [02:39, 5.40MB/s]                           \n",
            "100%|█████████▉| 9999/10000 [00:00<00:00, 33326.77it/s]\n"
          ]
        }
      ]
    },
    {
      "cell_type": "markdown",
      "source": [
        "Get some embeddings"
      ],
      "metadata": {
        "id": "pyyHqxPyw9ZK"
      }
    },
    {
      "cell_type": "code",
      "source": [
        "glovemb.get_vecs_by_tokens([\"you\"]) #Look up embedding vectors of tokens."
      ],
      "metadata": {
        "id": "yer3KZWwizE5",
        "colab": {
          "base_uri": "https://localhost:8080/"
        },
        "outputId": "40d98742-868b-41de-c4e0-c4f8cf37066f"
      },
      "execution_count": null,
      "outputs": [
        {
          "output_type": "execute_result",
          "data": {
            "text/plain": [
              "tensor([[-1.0919e-03,  3.3324e-01,  3.5743e-01, -5.4041e-01,  8.2032e-01,\n",
              "         -4.9391e-01, -3.2588e-01,  1.9972e-03, -2.3829e-01,  3.5554e-01,\n",
              "         -6.0655e-01,  9.8932e-01, -2.1786e-01,  1.1236e-01,  1.1494e+00,\n",
              "          7.3284e-01,  5.1182e-01,  2.9287e-01,  2.8388e-01, -1.3590e+00,\n",
              "         -3.7951e-01,  5.0943e-01,  7.0710e-01,  6.2941e-01,  1.0534e+00,\n",
              "         -2.1756e+00, -1.3204e+00,  4.0001e-01,  1.5741e+00, -1.6600e+00,\n",
              "          3.7721e+00,  8.6949e-01, -8.0439e-01,  1.8390e-01, -3.4332e-01,\n",
              "          1.0714e-02,  2.3969e-01,  6.6748e-02,  7.0117e-01, -7.3702e-01,\n",
              "          2.0877e-01,  1.1564e-01, -1.5190e-01,  8.5908e-01,  2.2620e-01,\n",
              "          1.6519e-01,  3.6309e-01, -4.5697e-01, -4.8969e-02,  1.1316e+00]])"
            ]
          },
          "metadata": {},
          "execution_count": 4
        }
      ]
    },
    {
      "cell_type": "code",
      "source": [
        "from torchtext.data import get_tokenizer\n",
        "tokenizer = get_tokenizer(\"basic_english\")\n",
        "\n",
        "emb = glovemb.get_vecs_by_tokens(tokenizer(\"Hi you!\")) # Hi, you, !\n",
        "print(emb)\n",
        "print(emb.shape) # 3*50"
      ],
      "metadata": {
        "id": "ZNPXGyr7h26Q",
        "colab": {
          "base_uri": "https://localhost:8080/"
        },
        "outputId": "7e0fffa7-c7e1-42d7-90f3-eb7d91896634"
      },
      "execution_count": null,
      "outputs": [
        {
          "output_type": "stream",
          "name": "stdout",
          "text": [
            "tensor([[ 0.0000e+00,  0.0000e+00,  0.0000e+00,  0.0000e+00,  0.0000e+00,\n",
            "          0.0000e+00,  0.0000e+00,  0.0000e+00,  0.0000e+00,  0.0000e+00,\n",
            "          0.0000e+00,  0.0000e+00,  0.0000e+00,  0.0000e+00,  0.0000e+00,\n",
            "          0.0000e+00,  0.0000e+00,  0.0000e+00,  0.0000e+00,  0.0000e+00,\n",
            "          0.0000e+00,  0.0000e+00,  0.0000e+00,  0.0000e+00,  0.0000e+00,\n",
            "          0.0000e+00,  0.0000e+00,  0.0000e+00,  0.0000e+00,  0.0000e+00,\n",
            "          0.0000e+00,  0.0000e+00,  0.0000e+00,  0.0000e+00,  0.0000e+00,\n",
            "          0.0000e+00,  0.0000e+00,  0.0000e+00,  0.0000e+00,  0.0000e+00,\n",
            "          0.0000e+00,  0.0000e+00,  0.0000e+00,  0.0000e+00,  0.0000e+00,\n",
            "          0.0000e+00,  0.0000e+00,  0.0000e+00,  0.0000e+00,  0.0000e+00],\n",
            "        [-1.0919e-03,  3.3324e-01,  3.5743e-01, -5.4041e-01,  8.2032e-01,\n",
            "         -4.9391e-01, -3.2588e-01,  1.9972e-03, -2.3829e-01,  3.5554e-01,\n",
            "         -6.0655e-01,  9.8932e-01, -2.1786e-01,  1.1236e-01,  1.1494e+00,\n",
            "          7.3284e-01,  5.1182e-01,  2.9287e-01,  2.8388e-01, -1.3590e+00,\n",
            "         -3.7951e-01,  5.0943e-01,  7.0710e-01,  6.2941e-01,  1.0534e+00,\n",
            "         -2.1756e+00, -1.3204e+00,  4.0001e-01,  1.5741e+00, -1.6600e+00,\n",
            "          3.7721e+00,  8.6949e-01, -8.0439e-01,  1.8390e-01, -3.4332e-01,\n",
            "          1.0714e-02,  2.3969e-01,  6.6748e-02,  7.0117e-01, -7.3702e-01,\n",
            "          2.0877e-01,  1.1564e-01, -1.5190e-01,  8.5908e-01,  2.2620e-01,\n",
            "          1.6519e-01,  3.6309e-01, -4.5697e-01, -4.8969e-02,  1.1316e+00],\n",
            "        [-5.8402e-01,  3.9031e-01,  6.5282e-01, -3.4030e-01,  1.9493e-01,\n",
            "         -8.3489e-01,  1.1929e-01, -5.7291e-01, -5.6844e-01,  7.2989e-01,\n",
            "         -5.6975e-01,  5.3436e-01, -3.8034e-01,  2.2471e-01,  9.8031e-01,\n",
            "         -2.9660e-01,  1.2600e-01,  5.5222e-01, -6.2737e-01, -8.2242e-02,\n",
            "         -8.5359e-02,  3.1515e-01,  9.6077e-01,  3.1986e-01,  8.7878e-01,\n",
            "         -1.5189e+00, -1.7831e+00,  3.5639e-01,  9.6740e-01, -1.5497e+00,\n",
            "          2.3350e+00,  8.4940e-01, -1.2371e+00,  1.0623e+00, -1.4267e+00,\n",
            "         -4.9056e-01,  8.5465e-01, -1.2878e+00,  6.0204e-01, -3.5963e-01,\n",
            "          2.8586e-01, -5.2162e-02, -5.0818e-01, -6.3459e-01,  3.3889e-01,\n",
            "          2.8416e-01, -2.0340e-01, -1.2338e+00,  4.6715e-01,  7.8858e-01]])\n",
            "torch.Size([3, 50])\n"
          ]
        }
      ]
    },
    {
      "cell_type": "code",
      "source": [
        "emb = glovemb.get_vecs_by_tokens(tokenizer(\"Hi\"))\n",
        "print(emb)\n",
        "print(emb.shape)"
      ],
      "metadata": {
        "colab": {
          "base_uri": "https://localhost:8080/"
        },
        "id": "-8xfifk-2P3z",
        "outputId": "0a240a9e-1b46-44b8-b8c7-a2d5b3afc7d2"
      },
      "execution_count": null,
      "outputs": [
        {
          "output_type": "stream",
          "name": "stdout",
          "text": [
            "tensor([[0., 0., 0., 0., 0., 0., 0., 0., 0., 0., 0., 0., 0., 0., 0., 0., 0., 0., 0., 0., 0., 0., 0., 0.,\n",
            "         0., 0., 0., 0., 0., 0., 0., 0., 0., 0., 0., 0., 0., 0., 0., 0., 0., 0., 0., 0., 0., 0., 0., 0.,\n",
            "         0., 0.]])\n",
            "torch.Size([1, 50])\n"
          ]
        }
      ]
    },
    {
      "cell_type": "code",
      "source": [
        "emb = glovemb.get_vecs_by_tokens(tokenizer(\"mimic\"))\n",
        "print(emb)\n",
        "print(emb.shape)"
      ],
      "metadata": {
        "colab": {
          "base_uri": "https://localhost:8080/"
        },
        "id": "EQzviQbu3C7Q",
        "outputId": "de0c82ba-1472-44dd-be4b-2a084408d805"
      },
      "execution_count": null,
      "outputs": [
        {
          "output_type": "stream",
          "name": "stdout",
          "text": [
            "tensor([[0., 0., 0., 0., 0., 0., 0., 0., 0., 0., 0., 0., 0., 0., 0., 0., 0., 0., 0., 0., 0., 0., 0., 0.,\n",
            "         0., 0., 0., 0., 0., 0., 0., 0., 0., 0., 0., 0., 0., 0., 0., 0., 0., 0., 0., 0., 0., 0., 0., 0.,\n",
            "         0., 0.]])\n",
            "torch.Size([1, 50])\n"
          ]
        }
      ]
    },
    {
      "cell_type": "code",
      "source": [
        "# Q3. Why are the embedding values 0's at the top?\n",
        "# A3. It is not included the 10k most frequent words in the vocab."
      ],
      "metadata": {
        "id": "Ww3HR4I3L1Py"
      },
      "execution_count": null,
      "outputs": []
    },
    {
      "cell_type": "markdown",
      "source": [
        "### Load Dataset, Collate Function and Data Loaders\n",
        "- To pass text data to a RNN in batches, they should all have the same length\n",
        "- `collate_batch` will\n",
        "  - Organise the labels and news text in separate lists\n",
        "  - Tokenise and create vocabulary for words in the text\n",
        "  - Prepare the input tokens for the neural network (same length)\n",
        "  - Get their GloVe embeddings\n",
        "  "
      ],
      "metadata": {
        "id": "GCxjSxGkQ9_d"
      }
    },
    {
      "cell_type": "code",
      "source": [
        "import torch\n",
        "import torchtext\n",
        "\n",
        "from torch.utils.data import DataLoader\n",
        "from torchtext.data.functional import to_map_style_dataset\n",
        "\n",
        "max_words = 25\n",
        "embed_len = 50\n",
        "batch_size = 1024\n",
        "\n",
        "# 배치의 모양 등을 정비해 모델의 최종 입력으로 만들어 주는 과정을 collate라고 함\n",
        "# zip(*something) 참고: https://stackoverflow.com/questions/44233099/what-does-zipres-mean-in-python-in-the-following-code\n",
        "\n",
        "def collate_batch(batch):\n",
        "    # Step 1. Organise labels and news into two separate lists\n",
        "    Y, X = list(zip(*batch))\n",
        "    # Step 2. Tokenise each word in each news text\n",
        "    X = [tokenizer(x) for x in X]\n",
        "    # Step 3. Prepare the text before it is passed to the neural network # padding with white space or truncate \n",
        "    X = [tokens+[\"\"] * (max_words-len(tokens))  if len(tokens)<max_words else tokens[:max_words] for tokens in X]\n",
        "    X_tensor = torch.zeros(len(batch), max_words, embed_len)\n",
        "    # Step 4. Get the GloVe embedding for each word\n",
        "    for i, tokens in enumerate(X):\n",
        "        X_tensor[i] = glovemb.get_vecs_by_tokens(tokens)\n",
        "    return X_tensor.reshape(len(batch), -1), torch.tensor(Y) - 1 # Subtract 1 from labels to bring in range [0,1,2,3] from [1,2,3,4]\n",
        "\n",
        "target_classes = [\"World\", \"Sports\", \"Business\", \"Sci/Tech\"]\n",
        "\n",
        "train_dataset, test_dataset  = torchtext.datasets.AG_NEWS()\n",
        "train_dataset, test_dataset = to_map_style_dataset(train_dataset), to_map_style_dataset(test_dataset)\n",
        "\n",
        "train_loader = DataLoader(train_dataset, batch_size=batch_size, collate_fn=collate_batch)\n",
        "test_loader  = DataLoader(test_dataset, batch_size=batch_size, collate_fn=collate_batch)"
      ],
      "metadata": {
        "id": "2Q9Fi4UDnnzH"
      },
      "execution_count": null,
      "outputs": []
    },
    {
      "cell_type": "code",
      "source": [
        "# Q4. How is each news text in the corpus prepared (Step 3)?\n",
        "# A4. To make the size of all the batches the same as 25. "
      ],
      "metadata": {
        "id": "GGLMtUm9nvuZ"
      },
      "execution_count": null,
      "outputs": []
    },
    {
      "cell_type": "code",
      "source": [
        "print(train_dataset[0])"
      ],
      "metadata": {
        "colab": {
          "base_uri": "https://localhost:8080/"
        },
        "id": "tBQaXR0F6mOs",
        "outputId": "68e7f48b-50c4-453f-f86b-dffad963ef31"
      },
      "execution_count": null,
      "outputs": [
        {
          "output_type": "stream",
          "name": "stdout",
          "text": [
            "(3, \"Wall St. Bears Claw Back Into the Black (Reuters) Reuters - Short-sellers, Wall Street's dwindling\\\\band of ultra-cynics, are seeing green again.\")\n"
          ]
        }
      ]
    },
    {
      "cell_type": "code",
      "source": [
        "for X, Y in train_loader:\n",
        "    print(X.shape, Y.shape)\n",
        "    break"
      ],
      "metadata": {
        "id": "cB2MeCNPoczE",
        "colab": {
          "base_uri": "https://localhost:8080/"
        },
        "outputId": "eabc2804-ec55-4550-f5d5-4139cd8f5258"
      },
      "execution_count": null,
      "outputs": [
        {
          "output_type": "stream",
          "name": "stdout",
          "text": [
            "torch.Size([1024, 1250]) torch.Size([1024])\n"
          ]
        }
      ]
    },
    {
      "cell_type": "code",
      "source": [
        "print(len(Y), len(X))"
      ],
      "metadata": {
        "colab": {
          "base_uri": "https://localhost:8080/"
        },
        "id": "7PTkyvyvLXku",
        "outputId": "7e337e0a-1d86-491c-e38f-560d948a452e"
      },
      "execution_count": null,
      "outputs": [
        {
          "output_type": "stream",
          "name": "stdout",
          "text": [
            "1024 1024\n"
          ]
        }
      ]
    },
    {
      "cell_type": "code",
      "source": [
        "# Q5. Explain the shape of X and Y\n",
        "# A5. Each has 12000 data. Y is label whereas X is text data."
      ],
      "metadata": {
        "id": "lct68eyMn0Rm"
      },
      "execution_count": null,
      "outputs": []
    },
    {
      "cell_type": "markdown",
      "source": [
        "### NN Module\n"
      ],
      "metadata": {
        "id": "icUrCO_gD6Ca"
      }
    },
    {
      "cell_type": "code",
      "source": [
        "from torch import nn\n",
        "from torch.nn import functional as F\n",
        "\n",
        "embed_len = 50\n",
        "hidden_dim = 50\n",
        "n_layers = 1\n",
        "input_size = 1250\n",
        "output_size = len(target_classes)\n",
        "\n",
        "class RNNClass(nn.Module):\n",
        "    def __init__(self, input_size, output_size, hidden_dim, n_layers):\n",
        "        super().__init__()\n",
        "        self.hidden_dim = hidden_dim\n",
        "        self.n_layers = n_layers\n",
        "\n",
        "        self.rnn = nn.RNN(input_size, hidden_dim, n_layers, batch_first=True)\n",
        "        self.linear = nn.Linear(hidden_dim, output_size)\n",
        "\n",
        "    def forward(self, X_batch):\n",
        "        # Initializing hidden state for first input using method defined below\n",
        "        hidden = self.init_hidden()\n",
        "\n",
        "        out, hidden = self.rnn(X_batch, hidden)\n",
        "        out = self.linear(out)\n",
        "        return out\n",
        "\n",
        "    def init_hidden(self):\n",
        "        # This method generates the first hidden state of zeros which we'll use in the forward pass\n",
        "        hidden = torch.zeros(self.n_layers, self.hidden_dim)\n",
        "        return hidden\n",
        "\n",
        "\n",
        "# Create model instance\n",
        "model =  RNNClass(input_size = input_size, output_size = output_size, hidden_dim = hidden_dim, n_layers = n_layers)\n",
        "model"
      ],
      "metadata": {
        "id": "ZLWKltfwD7dW",
        "colab": {
          "base_uri": "https://localhost:8080/"
        },
        "outputId": "6ea86739-d1e8-4765-d841-3d33d9d682e1"
      },
      "execution_count": null,
      "outputs": [
        {
          "output_type": "execute_result",
          "data": {
            "text/plain": [
              "RNNClass(\n",
              "  (rnn): RNN(1250, 50, batch_first=True)\n",
              "  (linear): Linear(in_features=50, out_features=4, bias=True)\n",
              ")"
            ]
          },
          "metadata": {},
          "execution_count": 15
        }
      ]
    },
    {
      "cell_type": "code",
      "source": [
        "# Q6. Based on the input shape from Q6, determine the input_size to this network (CODE REQUIRED in RNNClass())\n",
        "# A6. 1250\n",
        "\n",
        "# Q7. Create an instance of model by passing in the correct arguments to the class (CODE REQUIRED in RNNClass())\n",
        "# A7.\n",
        "'''\n",
        "RNNClass(input_size = input_size, output_size = output_size, hidden_dim = hidden_dim, n_layers = n_layers)\n",
        "'''"
      ],
      "metadata": {
        "id": "xitkFJpC0sfh"
      },
      "execution_count": null,
      "outputs": []
    },
    {
      "cell_type": "markdown",
      "source": [
        "Inspect model layers"
      ],
      "metadata": {
        "id": "EwcpUl1BEPu4"
      }
    },
    {
      "cell_type": "code",
      "source": [
        "for layer in model.children():\n",
        "    print(\"Layer : {}\".format(layer))\n",
        "    print(\"Parameters : \")\n",
        "    for param in layer.parameters():\n",
        "        print(param.shape)\n",
        "    print()\n"
      ],
      "metadata": {
        "id": "CKG9gorbERJE",
        "colab": {
          "base_uri": "https://localhost:8080/"
        },
        "outputId": "99c5561a-ed46-44cc-911c-51bb29f0ae38"
      },
      "execution_count": null,
      "outputs": [
        {
          "output_type": "stream",
          "name": "stdout",
          "text": [
            "Layer : RNN(1250, 50, batch_first=True)\n",
            "Parameters : \n",
            "torch.Size([50, 1250])\n",
            "torch.Size([50, 50])\n",
            "torch.Size([50])\n",
            "torch.Size([50])\n",
            "\n",
            "Layer : Linear(in_features=50, out_features=4, bias=True)\n",
            "Parameters : \n",
            "torch.Size([4, 50])\n",
            "torch.Size([4])\n",
            "\n"
          ]
        }
      ]
    },
    {
      "cell_type": "markdown",
      "source": [
        "### Utilities for Training\n",
        "The `sklearn.metrics` module includes score functions, performance metrics and pairwise metrics and distance computations.\n",
        "The `sklearn.metrics.accuracy_score` module implements several loss, score, and utility functions to measure classification performance. "
      ],
      "metadata": {
        "id": "GovGQL3dEepP"
      }
    },
    {
      "cell_type": "code",
      "source": [
        "from tqdm import tqdm # progress bar\n",
        "from sklearn.metrics import accuracy_score\n",
        "import gc\n",
        "\n",
        "def calculate_loss_acc(model, loss_fn, val_loader):\n",
        "    with torch.no_grad():\n",
        "        Y_shuffled, Y_preds, losses = [],[],[]\n",
        "        for X, Y in val_loader:\n",
        "            preds = model(X)\n",
        "            loss = loss_fn(preds, Y)\n",
        "            losses.append(loss.item())\n",
        "\n",
        "            Y_shuffled.append(Y)\n",
        "            Y_preds.append(preds.argmax(dim=-1))\n",
        "\n",
        "        Y_shuffled = torch.cat(Y_shuffled)\n",
        "        Y_preds = torch.cat(Y_preds)\n",
        "\n",
        "        print(f\"Valid Loss : {torch.tensor(losses).mean():.3f}\")\n",
        "        print(f\"Valid Acc  : {accuracy_score(Y_shuffled.detach().numpy(), Y_preds.detach().numpy()):.3f}\")\n",
        "\n",
        "\n",
        "def train(model, loss_fn, optimizer, train_loader, val_loader, epochs=10):\n",
        "    for i in range(1, epochs+1):\n",
        "        losses = []\n",
        "        for X, Y in tqdm(train_loader):\n",
        "            Y_preds = model(X)\n",
        "\n",
        "            loss = loss_fn(Y_preds, Y)\n",
        "            losses.append(loss.item())\n",
        "\n",
        "            optimizer.zero_grad()\n",
        "            loss.backward()\n",
        "            optimizer.step()\n",
        "\n",
        "        print(f\"Epoch\\t   : {i}\")\n",
        "        print(f\"Train Loss : {torch.tensor(losses).mean():.3f}\")\n",
        "        calculate_loss_acc(model, loss_fn, val_loader)"
      ],
      "metadata": {
        "id": "LoBMTRbbEggd"
      },
      "execution_count": null,
      "outputs": []
    },
    {
      "cell_type": "markdown",
      "source": [
        "### Instantiate Loss, Optimiser and Train!\n",
        "- Takes around 7 mins"
      ],
      "metadata": {
        "id": "ZjzFuHtNFJwj"
      }
    },
    {
      "cell_type": "code",
      "source": [
        "from torch.optim import Adam\n",
        "\n",
        "epochs = 15\n",
        "learning_rate = 1e-3\n",
        "\n",
        "loss_fn = nn.CrossEntropyLoss()\n",
        "optimizer = Adam(model.parameters(), lr=learning_rate)\n",
        "\n",
        "train(model, loss_fn, optimizer, train_loader, test_loader, epochs)"
      ],
      "metadata": {
        "id": "OigQ2bMpFQLS",
        "colab": {
          "base_uri": "https://localhost:8080/"
        },
        "outputId": "9e2a403b-0740-4489-84fe-209d23002d11"
      },
      "execution_count": null,
      "outputs": [
        {
          "output_type": "stream",
          "name": "stderr",
          "text": [
            "100%|██████████| 118/118 [00:25<00:00,  4.55it/s]\n"
          ]
        },
        {
          "output_type": "stream",
          "name": "stdout",
          "text": [
            "Epoch\t   : 1\n",
            "Train Loss : 0.623\n",
            "Valid Loss : 0.543\n",
            "Valid Acc  : 0.794\n"
          ]
        },
        {
          "output_type": "stream",
          "name": "stderr",
          "text": [
            "100%|██████████| 118/118 [00:27<00:00,  4.28it/s]\n"
          ]
        },
        {
          "output_type": "stream",
          "name": "stdout",
          "text": [
            "Epoch\t   : 2\n",
            "Train Loss : 0.409\n",
            "Valid Loss : 0.521\n",
            "Valid Acc  : 0.805\n"
          ]
        },
        {
          "output_type": "stream",
          "name": "stderr",
          "text": [
            "100%|██████████| 118/118 [00:23<00:00,  5.03it/s]\n"
          ]
        },
        {
          "output_type": "stream",
          "name": "stdout",
          "text": [
            "Epoch\t   : 3\n",
            "Train Loss : 0.379\n",
            "Valid Loss : 0.517\n",
            "Valid Acc  : 0.808\n"
          ]
        },
        {
          "output_type": "stream",
          "name": "stderr",
          "text": [
            "100%|██████████| 118/118 [00:23<00:00,  4.99it/s]\n"
          ]
        },
        {
          "output_type": "stream",
          "name": "stdout",
          "text": [
            "Epoch\t   : 4\n",
            "Train Loss : 0.360\n",
            "Valid Loss : 0.517\n",
            "Valid Acc  : 0.811\n"
          ]
        },
        {
          "output_type": "stream",
          "name": "stderr",
          "text": [
            "100%|██████████| 118/118 [00:23<00:00,  5.02it/s]\n"
          ]
        },
        {
          "output_type": "stream",
          "name": "stdout",
          "text": [
            "Epoch\t   : 5\n",
            "Train Loss : 0.344\n",
            "Valid Loss : 0.520\n",
            "Valid Acc  : 0.812\n"
          ]
        },
        {
          "output_type": "stream",
          "name": "stderr",
          "text": [
            "100%|██████████| 118/118 [00:23<00:00,  5.01it/s]\n"
          ]
        },
        {
          "output_type": "stream",
          "name": "stdout",
          "text": [
            "Epoch\t   : 6\n",
            "Train Loss : 0.330\n",
            "Valid Loss : 0.523\n",
            "Valid Acc  : 0.811\n"
          ]
        },
        {
          "output_type": "stream",
          "name": "stderr",
          "text": [
            "100%|██████████| 118/118 [00:23<00:00,  4.99it/s]\n"
          ]
        },
        {
          "output_type": "stream",
          "name": "stdout",
          "text": [
            "Epoch\t   : 7\n",
            "Train Loss : 0.318\n",
            "Valid Loss : 0.527\n",
            "Valid Acc  : 0.811\n"
          ]
        },
        {
          "output_type": "stream",
          "name": "stderr",
          "text": [
            "100%|██████████| 118/118 [00:23<00:00,  5.00it/s]\n"
          ]
        },
        {
          "output_type": "stream",
          "name": "stdout",
          "text": [
            "Epoch\t   : 8\n",
            "Train Loss : 0.306\n",
            "Valid Loss : 0.532\n",
            "Valid Acc  : 0.811\n"
          ]
        },
        {
          "output_type": "stream",
          "name": "stderr",
          "text": [
            "100%|██████████| 118/118 [00:23<00:00,  5.01it/s]\n"
          ]
        },
        {
          "output_type": "stream",
          "name": "stdout",
          "text": [
            "Epoch\t   : 9\n",
            "Train Loss : 0.296\n",
            "Valid Loss : 0.537\n",
            "Valid Acc  : 0.809\n"
          ]
        },
        {
          "output_type": "stream",
          "name": "stderr",
          "text": [
            "100%|██████████| 118/118 [00:23<00:00,  4.98it/s]\n"
          ]
        },
        {
          "output_type": "stream",
          "name": "stdout",
          "text": [
            "Epoch\t   : 10\n",
            "Train Loss : 0.285\n",
            "Valid Loss : 0.544\n",
            "Valid Acc  : 0.808\n"
          ]
        },
        {
          "output_type": "stream",
          "name": "stderr",
          "text": [
            "100%|██████████| 118/118 [00:23<00:00,  4.98it/s]\n"
          ]
        },
        {
          "output_type": "stream",
          "name": "stdout",
          "text": [
            "Epoch\t   : 11\n",
            "Train Loss : 0.275\n",
            "Valid Loss : 0.553\n",
            "Valid Acc  : 0.807\n"
          ]
        },
        {
          "output_type": "stream",
          "name": "stderr",
          "text": [
            "100%|██████████| 118/118 [00:23<00:00,  4.95it/s]\n"
          ]
        },
        {
          "output_type": "stream",
          "name": "stdout",
          "text": [
            "Epoch\t   : 12\n",
            "Train Loss : 0.265\n",
            "Valid Loss : 0.562\n",
            "Valid Acc  : 0.806\n"
          ]
        },
        {
          "output_type": "stream",
          "name": "stderr",
          "text": [
            "100%|██████████| 118/118 [00:23<00:00,  5.02it/s]\n"
          ]
        },
        {
          "output_type": "stream",
          "name": "stdout",
          "text": [
            "Epoch\t   : 13\n",
            "Train Loss : 0.256\n",
            "Valid Loss : 0.573\n",
            "Valid Acc  : 0.804\n"
          ]
        },
        {
          "output_type": "stream",
          "name": "stderr",
          "text": [
            "100%|██████████| 118/118 [00:23<00:00,  4.98it/s]\n"
          ]
        },
        {
          "output_type": "stream",
          "name": "stdout",
          "text": [
            "Epoch\t   : 14\n",
            "Train Loss : 0.246\n",
            "Valid Loss : 0.584\n",
            "Valid Acc  : 0.803\n"
          ]
        },
        {
          "output_type": "stream",
          "name": "stderr",
          "text": [
            "100%|██████████| 118/118 [00:23<00:00,  4.96it/s]\n"
          ]
        },
        {
          "output_type": "stream",
          "name": "stdout",
          "text": [
            "Epoch\t   : 15\n",
            "Train Loss : 0.237\n",
            "Valid Loss : 0.595\n",
            "Valid Acc  : 0.802\n"
          ]
        }
      ]
    },
    {
      "cell_type": "markdown",
      "source": [
        "Make predictions"
      ],
      "metadata": {
        "id": "Zr93yn9oI0_Z"
      }
    },
    {
      "cell_type": "code",
      "source": [
        "def MakePredictions(model, loader):\n",
        "    Y_real, Y_preds = [], []\n",
        "    for X, Y in loader:\n",
        "        preds = model(X)\n",
        "        Y_preds.append(preds)\n",
        "        Y_real.append(Y)\n",
        "    gc.collect()\n",
        "    Y_preds, Y_real = torch.cat(Y_preds), torch.cat(Y_real)\n",
        "\n",
        "    return Y_real.detach().numpy(), F.softmax(Y_preds, dim=-1).argmax(dim=-1).detach().numpy()\n",
        "\n",
        "Y_actual, Y_preds = MakePredictions(model, test_loader)"
      ],
      "metadata": {
        "id": "_3w0HiA4JIrZ"
      },
      "execution_count": null,
      "outputs": []
    },
    {
      "cell_type": "markdown",
      "source": [
        "### Get Some Performance Metrics"
      ],
      "metadata": {
        "id": "r4fRMAAarH8g"
      }
    },
    {
      "cell_type": "code",
      "source": [
        "from sklearn.metrics import accuracy_score, classification_report, confusion_matrix\n",
        "\n",
        "print(f\"Test Accuracy : {accuracy_score(Y_actual, Y_preds)}\")\n",
        "print(\"\\nClassification Report : \")\n",
        "print(classification_report(Y_actual, Y_preds, target_names=target_classes))\n",
        "print(\"\\nConfusion Matrix : \")\n",
        "print(confusion_matrix(Y_actual, Y_preds))"
      ],
      "metadata": {
        "id": "1g-xWLswJPNb",
        "colab": {
          "base_uri": "https://localhost:8080/"
        },
        "outputId": "66fcdd1e-b89b-4b90-ec78-38f2e39a2e5f"
      },
      "execution_count": null,
      "outputs": [
        {
          "output_type": "stream",
          "name": "stdout",
          "text": [
            "Test Accuracy : 0.8021052631578948\n",
            "\n",
            "Classification Report : \n",
            "              precision    recall  f1-score   support\n",
            "\n",
            "       World       0.81      0.86      0.83      1900\n",
            "      Sports       0.88      0.91      0.90      1900\n",
            "    Business       0.71      0.81      0.76      1900\n",
            "    Sci/Tech       0.83      0.62      0.71      1900\n",
            "\n",
            "    accuracy                           0.80      7600\n",
            "   macro avg       0.81      0.80      0.80      7600\n",
            "weighted avg       0.81      0.80      0.80      7600\n",
            "\n",
            "\n",
            "Confusion Matrix : \n",
            "[[1636   83  124   57]\n",
            " [  81 1733   58   28]\n",
            " [ 132   62 1544  162]\n",
            " [ 180   89  448 1183]]\n"
          ]
        }
      ]
    },
    {
      "cell_type": "markdown",
      "source": [
        "### Visualise the Confusion Matrix (Model Performance)"
      ],
      "metadata": {
        "id": "2uuGtlrarRhU"
      }
    },
    {
      "cell_type": "code",
      "source": [
        "!pip install scikit-plot"
      ],
      "metadata": {
        "id": "Q9-Q74zzJkUA",
        "colab": {
          "base_uri": "https://localhost:8080/"
        },
        "outputId": "6e1568ac-56c3-40ef-9bbb-6f8023b4c9cf"
      },
      "execution_count": null,
      "outputs": [
        {
          "output_type": "stream",
          "name": "stdout",
          "text": [
            "Looking in indexes: https://pypi.org/simple, https://us-python.pkg.dev/colab-wheels/public/simple/\n",
            "Collecting scikit-plot\n",
            "  Downloading scikit_plot-0.3.7-py3-none-any.whl (33 kB)\n",
            "Requirement already satisfied: joblib>=0.10 in /usr/local/lib/python3.7/dist-packages (from scikit-plot) (1.1.0)\n",
            "Requirement already satisfied: matplotlib>=1.4.0 in /usr/local/lib/python3.7/dist-packages (from scikit-plot) (3.2.2)\n",
            "Requirement already satisfied: scipy>=0.9 in /usr/local/lib/python3.7/dist-packages (from scikit-plot) (1.7.3)\n",
            "Requirement already satisfied: scikit-learn>=0.18 in /usr/local/lib/python3.7/dist-packages (from scikit-plot) (1.0.2)\n",
            "Requirement already satisfied: kiwisolver>=1.0.1 in /usr/local/lib/python3.7/dist-packages (from matplotlib>=1.4.0->scikit-plot) (1.4.4)\n",
            "Requirement already satisfied: cycler>=0.10 in /usr/local/lib/python3.7/dist-packages (from matplotlib>=1.4.0->scikit-plot) (0.11.0)\n",
            "Requirement already satisfied: numpy>=1.11 in /usr/local/lib/python3.7/dist-packages (from matplotlib>=1.4.0->scikit-plot) (1.21.6)\n",
            "Requirement already satisfied: pyparsing!=2.0.4,!=2.1.2,!=2.1.6,>=2.0.1 in /usr/local/lib/python3.7/dist-packages (from matplotlib>=1.4.0->scikit-plot) (3.0.9)\n",
            "Requirement already satisfied: python-dateutil>=2.1 in /usr/local/lib/python3.7/dist-packages (from matplotlib>=1.4.0->scikit-plot) (2.8.2)\n",
            "Requirement already satisfied: typing-extensions in /usr/local/lib/python3.7/dist-packages (from kiwisolver>=1.0.1->matplotlib>=1.4.0->scikit-plot) (4.1.1)\n",
            "Requirement already satisfied: six>=1.5 in /usr/local/lib/python3.7/dist-packages (from python-dateutil>=2.1->matplotlib>=1.4.0->scikit-plot) (1.15.0)\n",
            "Requirement already satisfied: threadpoolctl>=2.0.0 in /usr/local/lib/python3.7/dist-packages (from scikit-learn>=0.18->scikit-plot) (3.1.0)\n",
            "Installing collected packages: scikit-plot\n",
            "Successfully installed scikit-plot-0.3.7\n"
          ]
        }
      ]
    },
    {
      "cell_type": "code",
      "source": [
        "from sklearn.metrics import confusion_matrix\n",
        "import scikitplot as skplt\n",
        "import matplotlib.pyplot as plt\n",
        "import numpy as np\n",
        "\n",
        "skplt.metrics.plot_confusion_matrix([target_classes[i] for i in Y_actual], [target_classes[i] for i in Y_preds],\n",
        "                                    normalize=True,\n",
        "                                    title=\"Confusion Matrix\",\n",
        "                                    cmap=\"Blues\",\n",
        "                                    hide_zeros=True,\n",
        "                                    figsize=(5,5)\n",
        "                                    );\n",
        "plt.xticks(rotation=90);"
      ],
      "metadata": {
        "id": "8Hrvlxc0Jejk",
        "colab": {
          "base_uri": "https://localhost:8080/",
          "height": 345
        },
        "outputId": "9968e11d-cb44-4331-c8aa-effb77e94f89"
      },
      "execution_count": null,
      "outputs": [
        {
          "output_type": "display_data",
          "data": {
            "text/plain": [
              "<Figure size 360x360 with 2 Axes>"
            ],
            "image/png": "[encoded data removed]"
          },
          "metadata": {
            "needs_background": "light"
          }
        }
      ]
    },
    {
      "cell_type": "code",
      "source": [
        "# Q8. Figure out what the values in the confusion matrix mean in relation to the model's performance\n",
        "# A8. It tells us how accurately the model predict in each class. \n",
        "# For example, out of all data in Business class, the accuracy that the model predicts correctly was 80%.\n",
        "# The model said 9% wrong predicting as Sci/Tech, 3% wrong predicting as Sports, and 8% wrong predicting as World."
      ],
      "metadata": {
        "id": "Lnd2oFujBD18"
      },
      "execution_count": null,
      "outputs": []
    },
    {
      "cell_type": "code",
      "source": [
        "# Q9. Once you have understood the performance metrics of the model, try to tweak some hyper parameters to improve them further.\n",
        "# State the changes that have improved the model's performance below (and provide code cells of the metrics and confusion matrix)\n",
        "# I changed the learning rate as 0.01 and increased the number of epochs as 20, and the accuracy of some classes got slightly better.\n",
        "# The Code is as follows."
      ],
      "metadata": {
        "id": "2bQX43TDHtcM"
      },
      "execution_count": null,
      "outputs": []
    },
    {
      "cell_type": "code",
      "source": [
        "from torch.optim import Adam\n",
        "\n",
        "epochs = 20\n",
        "learning_rate = 0.01\n",
        "\n",
        "loss_fn = nn.CrossEntropyLoss()\n",
        "optimizer = Adam(model.parameters(), lr=learning_rate)\n",
        "\n",
        "train(model, loss_fn, optimizer, train_loader, test_loader, epochs)"
      ],
      "metadata": {
        "colab": {
          "base_uri": "https://localhost:8080/"
        },
        "id": "tWHltck-Y-Vv",
        "outputId": "8256fa0c-d508-41e9-a893-93f8f88af452"
      },
      "execution_count": null,
      "outputs": [
        {
          "output_type": "stream",
          "name": "stderr",
          "text": [
            "100%|██████████| 118/118 [00:33<00:00,  3.47it/s]\n"
          ]
        },
        {
          "output_type": "stream",
          "name": "stdout",
          "text": [
            "Epoch\t   : 1\n",
            "Train Loss : 0.420\n",
            "Valid Loss : 0.525\n",
            "Valid Acc  : 0.813\n"
          ]
        },
        {
          "output_type": "stream",
          "name": "stderr",
          "text": [
            "100%|██████████| 118/118 [00:24<00:00,  4.89it/s]\n"
          ]
        },
        {
          "output_type": "stream",
          "name": "stdout",
          "text": [
            "Epoch\t   : 2\n",
            "Train Loss : 0.316\n",
            "Valid Loss : 0.547\n",
            "Valid Acc  : 0.806\n"
          ]
        },
        {
          "output_type": "stream",
          "name": "stderr",
          "text": [
            "100%|██████████| 118/118 [00:24<00:00,  4.91it/s]\n"
          ]
        },
        {
          "output_type": "stream",
          "name": "stdout",
          "text": [
            "Epoch\t   : 3\n",
            "Train Loss : 0.294\n",
            "Valid Loss : 0.571\n",
            "Valid Acc  : 0.805\n"
          ]
        },
        {
          "output_type": "stream",
          "name": "stderr",
          "text": [
            "100%|██████████| 118/118 [00:24<00:00,  4.72it/s]\n"
          ]
        },
        {
          "output_type": "stream",
          "name": "stdout",
          "text": [
            "Epoch\t   : 4\n",
            "Train Loss : 0.291\n",
            "Valid Loss : 0.582\n",
            "Valid Acc  : 0.803\n"
          ]
        },
        {
          "output_type": "stream",
          "name": "stderr",
          "text": [
            "100%|██████████| 118/118 [00:24<00:00,  4.92it/s]\n"
          ]
        },
        {
          "output_type": "stream",
          "name": "stdout",
          "text": [
            "Epoch\t   : 5\n",
            "Train Loss : 0.292\n",
            "Valid Loss : 0.562\n",
            "Valid Acc  : 0.806\n"
          ]
        },
        {
          "output_type": "stream",
          "name": "stderr",
          "text": [
            "100%|██████████| 118/118 [00:23<00:00,  4.93it/s]\n"
          ]
        },
        {
          "output_type": "stream",
          "name": "stdout",
          "text": [
            "Epoch\t   : 6\n",
            "Train Loss : 0.287\n",
            "Valid Loss : 0.629\n",
            "Valid Acc  : 0.785\n"
          ]
        },
        {
          "output_type": "stream",
          "name": "stderr",
          "text": [
            "100%|██████████| 118/118 [00:23<00:00,  4.95it/s]\n"
          ]
        },
        {
          "output_type": "stream",
          "name": "stdout",
          "text": [
            "Epoch\t   : 7\n",
            "Train Loss : 0.291\n",
            "Valid Loss : 0.577\n",
            "Valid Acc  : 0.808\n"
          ]
        },
        {
          "output_type": "stream",
          "name": "stderr",
          "text": [
            "100%|██████████| 118/118 [00:23<00:00,  5.00it/s]\n"
          ]
        },
        {
          "output_type": "stream",
          "name": "stdout",
          "text": [
            "Epoch\t   : 8\n",
            "Train Loss : 0.281\n",
            "Valid Loss : 0.559\n",
            "Valid Acc  : 0.816\n"
          ]
        },
        {
          "output_type": "stream",
          "name": "stderr",
          "text": [
            "100%|██████████| 118/118 [00:24<00:00,  4.91it/s]\n"
          ]
        },
        {
          "output_type": "stream",
          "name": "stdout",
          "text": [
            "Epoch\t   : 9\n",
            "Train Loss : 0.270\n",
            "Valid Loss : 0.590\n",
            "Valid Acc  : 0.805\n"
          ]
        },
        {
          "output_type": "stream",
          "name": "stderr",
          "text": [
            "100%|██████████| 118/118 [00:23<00:00,  4.95it/s]\n"
          ]
        },
        {
          "output_type": "stream",
          "name": "stdout",
          "text": [
            "Epoch\t   : 10\n",
            "Train Loss : 0.258\n",
            "Valid Loss : 0.600\n",
            "Valid Acc  : 0.810\n"
          ]
        },
        {
          "output_type": "stream",
          "name": "stderr",
          "text": [
            "100%|██████████| 118/118 [00:24<00:00,  4.87it/s]\n"
          ]
        },
        {
          "output_type": "stream",
          "name": "stdout",
          "text": [
            "Epoch\t   : 11\n",
            "Train Loss : 0.249\n",
            "Valid Loss : 0.618\n",
            "Valid Acc  : 0.808\n"
          ]
        },
        {
          "output_type": "stream",
          "name": "stderr",
          "text": [
            "100%|██████████| 118/118 [00:24<00:00,  4.85it/s]\n"
          ]
        },
        {
          "output_type": "stream",
          "name": "stdout",
          "text": [
            "Epoch\t   : 12\n",
            "Train Loss : 0.249\n",
            "Valid Loss : 0.605\n",
            "Valid Acc  : 0.810\n"
          ]
        },
        {
          "output_type": "stream",
          "name": "stderr",
          "text": [
            "100%|██████████| 118/118 [00:24<00:00,  4.84it/s]\n"
          ]
        },
        {
          "output_type": "stream",
          "name": "stdout",
          "text": [
            "Epoch\t   : 13\n",
            "Train Loss : 0.254\n",
            "Valid Loss : 0.627\n",
            "Valid Acc  : 0.805\n"
          ]
        },
        {
          "output_type": "stream",
          "name": "stderr",
          "text": [
            "100%|██████████| 118/118 [00:24<00:00,  4.86it/s]\n"
          ]
        },
        {
          "output_type": "stream",
          "name": "stdout",
          "text": [
            "Epoch\t   : 14\n",
            "Train Loss : 0.257\n",
            "Valid Loss : 0.703\n",
            "Valid Acc  : 0.782\n"
          ]
        },
        {
          "output_type": "stream",
          "name": "stderr",
          "text": [
            "100%|██████████| 118/118 [00:24<00:00,  4.89it/s]\n"
          ]
        },
        {
          "output_type": "stream",
          "name": "stdout",
          "text": [
            "Epoch\t   : 15\n",
            "Train Loss : 0.247\n",
            "Valid Loss : 0.710\n",
            "Valid Acc  : 0.786\n"
          ]
        },
        {
          "output_type": "stream",
          "name": "stderr",
          "text": [
            "100%|██████████| 118/118 [00:24<00:00,  4.84it/s]\n"
          ]
        },
        {
          "output_type": "stream",
          "name": "stdout",
          "text": [
            "Epoch\t   : 16\n",
            "Train Loss : 0.231\n",
            "Valid Loss : 0.669\n",
            "Valid Acc  : 0.797\n"
          ]
        },
        {
          "output_type": "stream",
          "name": "stderr",
          "text": [
            "100%|██████████| 118/118 [00:23<00:00,  4.93it/s]\n"
          ]
        },
        {
          "output_type": "stream",
          "name": "stdout",
          "text": [
            "Epoch\t   : 17\n",
            "Train Loss : 0.221\n",
            "Valid Loss : 0.679\n",
            "Valid Acc  : 0.803\n"
          ]
        },
        {
          "output_type": "stream",
          "name": "stderr",
          "text": [
            "100%|██████████| 118/118 [00:23<00:00,  4.92it/s]\n"
          ]
        },
        {
          "output_type": "stream",
          "name": "stdout",
          "text": [
            "Epoch\t   : 18\n",
            "Train Loss : 0.216\n",
            "Valid Loss : 0.673\n",
            "Valid Acc  : 0.804\n"
          ]
        },
        {
          "output_type": "stream",
          "name": "stderr",
          "text": [
            "100%|██████████| 118/118 [00:24<00:00,  4.90it/s]\n"
          ]
        },
        {
          "output_type": "stream",
          "name": "stdout",
          "text": [
            "Epoch\t   : 19\n",
            "Train Loss : 0.215\n",
            "Valid Loss : 0.698\n",
            "Valid Acc  : 0.799\n"
          ]
        },
        {
          "output_type": "stream",
          "name": "stderr",
          "text": [
            "100%|██████████| 118/118 [00:24<00:00,  4.90it/s]\n"
          ]
        },
        {
          "output_type": "stream",
          "name": "stdout",
          "text": [
            "Epoch\t   : 20\n",
            "Train Loss : 0.214\n",
            "Valid Loss : 0.728\n",
            "Valid Acc  : 0.794\n"
          ]
        }
      ]
    },
    {
      "cell_type": "code",
      "source": [
        "Y_actual, Y_preds = MakePredictions(model, test_loader)"
      ],
      "metadata": {
        "id": "XHi1gC7kY_hM"
      },
      "execution_count": null,
      "outputs": []
    },
    {
      "cell_type": "code",
      "source": [
        "from sklearn.metrics import confusion_matrix\n",
        "import scikitplot as skplt\n",
        "import matplotlib.pyplot as plt\n",
        "import numpy as np\n",
        "\n",
        "skplt.metrics.plot_confusion_matrix([target_classes[i] for i in Y_actual], [target_classes[i] for i in Y_preds],\n",
        "                                    normalize=True,\n",
        "                                    title=\"Confusion Matrix\",\n",
        "                                    cmap=\"Blues\",\n",
        "                                    hide_zeros=True,\n",
        "                                    figsize=(5,5)\n",
        "                                    );\n",
        "plt.xticks(rotation=90);"
      ],
      "metadata": {
        "colab": {
          "base_uri": "https://localhost:8080/",
          "height": 345
        },
        "id": "MqGkvxNTZN1D",
        "outputId": "7270ec89-96f2-40f3-de11-251068389710"
      },
      "execution_count": null,
      "outputs": [
        {
          "output_type": "display_data",
          "data": {
            "text/plain": [
              "<Figure size 360x360 with 2 Axes>"
            ],
            "image/png": "[encoded data removed]"
          },
          "metadata": {
            "needs_background": "light"
          }
        }
      ]
    },
    {
      "cell_type": "code",
      "source": [],
      "metadata": {
        "id": "xbL5_ZsQdjdl"
      },
      "execution_count": null,
      "outputs": []
    }
  ]
}