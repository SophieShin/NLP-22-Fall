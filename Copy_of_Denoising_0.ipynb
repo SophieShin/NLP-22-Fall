{
  "nbformat": 4,
  "nbformat_minor": 0,
  "metadata": {
    "colab": {
      "provenance": [],
      "include_colab_link": true
    },
    "kernelspec": {
      "name": "python3",
      "display_name": "Python 3"
    },
    "language_info": {
      "name": "python"
    },
    "accelerator": "GPU",
    "gpuClass": "standard"
  },
  "cells": [
    {
      "cell_type": "markdown",
      "metadata": {
        "id": "view-in-github",
        "colab_type": "text"
      },
      "source": [
        "<a href=\"https://colab.research.google.com/github/SophieShin/NLP_22_Fall/blob/main/Copy_of_Denoising_0.ipynb\" target=\"_parent\"><img src=\"https://colab.research.google.com/assets/colab-badge.svg\" alt=\"Open In Colab\"/></a>"
      ]
    },
    {
      "cell_type": "code",
      "source": [
        "from google.colab import drive\n",
        "drive.mount('/content/drive')"
      ],
      "metadata": {
        "colab": {
          "base_uri": "https://localhost:8080/"
        },
        "id": "eYbfTIGhQYf8",
        "outputId": "8c1c4fe9-a00d-42d8-ff97-20abaabdad61"
      },
      "execution_count": null,
      "outputs": [
        {
          "output_type": "stream",
          "name": "stdout",
          "text": [
            "Mounted at /content/drive\n"
          ]
        }
      ]
    },
    {
      "cell_type": "code",
      "source": [
        "#파이썬 버전 적자 인스톨, daae말고도 다른 것도! bleu score 등 계산해보기\n",
        "#model.state_dict() lab08"
      ],
      "metadata": {
        "id": "kndd9NIbTMSD"
      },
      "execution_count": null,
      "outputs": []
    },
    {
      "cell_type": "code",
      "source": [
        "%cd /content/drive/MyDrive/NLP/Denoise"
      ],
      "metadata": {
        "colab": {
          "base_uri": "https://localhost:8080/"
        },
        "id": "yJWOAuyx1bUY",
        "outputId": "9684f591-0c8a-47a6-fbec-0e2284167f7f"
      },
      "execution_count": null,
      "outputs": [
        {
          "output_type": "stream",
          "name": "stdout",
          "text": [
            "[Errno 2] No such file or directory: '/content/drive/MyDrive/NLP/Denoise'\n",
            "/content\n"
          ]
        }
      ]
    },
    {
      "cell_type": "code",
      "execution_count": null,
      "metadata": {
        "colab": {
          "base_uri": "https://localhost:8080/"
        },
        "id": "oS8DlBbB1BYe",
        "outputId": "c62f7d9e-7464-496a-dab6-0135458e3cc7"
      },
      "outputs": [
        {
          "output_type": "stream",
          "name": "stdout",
          "text": [
            "mkdir: cannot create directory ‘data’: File exists\n",
            "/content/drive/MyDrive/NLP/Denoise/data\n",
            "--2022-11-15 16:09:43--  http://people.csail.mit.edu/tianxiao/data/yelp.zip\n",
            "Resolving people.csail.mit.edu (people.csail.mit.edu)... 128.30.2.133\n",
            "Connecting to people.csail.mit.edu (people.csail.mit.edu)|128.30.2.133|:80... connected.\n",
            "HTTP request sent, awaiting response... 200 OK\n",
            "Length: 3676642 (3.5M) [application/zip]\n",
            "Saving to: ‘yelp.zip’\n",
            "\n",
            "yelp.zip            100%[===================>]   3.51M  1.93MB/s    in 1.8s    \n",
            "\n",
            "2022-11-15 16:09:45 (1.93 MB/s) - ‘yelp.zip’ saved [3676642/3676642]\n",
            "\n",
            "Archive:  yelp.zip\n",
            "replace yelp/tense/valid.past? [y]es, [n]o, [A]ll, [N]one, [r]ename: --2022-11-15 16:15:24--  http://people.csail.mit.edu/tianxiao/data/yahoo.zip\n",
            "Resolving people.csail.mit.edu (people.csail.mit.edu)... 128.30.2.133\n",
            "Connecting to people.csail.mit.edu (people.csail.mit.edu)|128.30.2.133|:80... connected.\n",
            "HTTP request sent, awaiting response... 200 OK\n",
            "Length: 11962156 (11M) [application/zip]\n",
            "Saving to: ‘yahoo.zip’\n",
            "\n",
            "yahoo.zip           100%[===================>]  11.41M  4.64MB/s    in 2.5s    \n",
            "\n",
            "2022-11-15 16:15:27 (4.64 MB/s) - ‘yahoo.zip’ saved [11962156/11962156]\n",
            "\n",
            "Archive:  yahoo.zip\n",
            "replace yahoo/test.txt? [y]es, [n]o, [A]ll, [N]one, [r]ename: "
          ]
        }
      ],
      "source": [
        "%mkdir data\n",
        "%cd data\n",
        "\n",
        "dir=\"http://people.csail.mit.edu/tianxiao/data\"\n",
        "\n",
        "!wget $dir/yelp.zip\n",
        "!unzip yelp.zip\n",
        "!rm yelp.zip\n",
        "\n",
        "!wget $dir/yahoo.zip\n",
        "!unzip yahoo.zip\n",
        "!rm yahoo.zip"
      ]
    },
    {
      "cell_type": "code",
      "source": [
        "%cd /content/drive/MyDrive/NLP/Denoise"
      ],
      "metadata": {
        "colab": {
          "base_uri": "https://localhost:8080/"
        },
        "id": "s61r1Hw4R-Nx",
        "outputId": "a3abd918-1c22-4cbe-cdac-86d9097b29d8"
      },
      "execution_count": null,
      "outputs": [
        {
          "output_type": "stream",
          "name": "stdout",
          "text": [
            "/content/drive/MyDrive/NLP/Denoise\n"
          ]
        }
      ]
    },
    {
      "cell_type": "code",
      "source": [
        "!python text-autoencoders-master/train.py --train data/yelp/train.txt --valid data/yelp/valid.txt --model_type aae --lambda_adv 10 --epochs 5 --noise 0.3,0,0,0 --save-dir checkpoints/yelp/daae"
      ],
      "metadata": {
        "colab": {
          "base_uri": "https://localhost:8080/"
        },
        "id": "a-iqKec6_1W1",
        "outputId": "3b3eedb7-637d-4cda-dc8a-4c4e6d555df3"
      },
      "execution_count": null,
      "outputs": [
        {
          "output_type": "stream",
          "name": "stdout",
          "text": [
            "Namespace(batch_size=256, dim_d=512, dim_emb=512, dim_h=1024, dim_z=128, dropout=0.5, epochs=5, lambda_adv=10.0, lambda_kl=0, lambda_p=0, load_model='', log_interval=100, lr=0.0005, model_type='aae', nlayers=1, no_cuda=False, noise=[0.3, 0.0, 0.0, 0.0], save_dir='checkpoints/yelp/daae', seed=1111, train='data/yelp/train.txt', valid='data/yelp/valid.txt', vocab_size=10000)\n",
            "# train sents 200000, tokens 1821469\n",
            "# valid sents 10000, tokens 90833\n",
            "# vocab size 10005\n",
            "# model parameters: 34933782\n",
            "--------------------------------------------------------------------------------\n",
            "| epoch   1 |   100/  790 batches | rec 68.48, adv 0.85, |lvar| 86.97, loss_d 1.34, loss 76.96,\n",
            "| epoch   1 |   200/  790 batches | rec 59.58, adv 0.66, |lvar| 117.13, loss_d 1.41, loss 66.21,\n",
            "| epoch   1 |   300/  790 batches | rec 55.30, adv 0.69, |lvar| 114.71, loss_d 1.52, loss 62.21,\n",
            "| epoch   1 |   400/  790 batches | rec 57.62, adv 0.76, |lvar| 231.59, loss_d 1.52, loss 65.21,\n",
            "| epoch   1 |   500/  790 batches | rec 53.30, adv 0.66, |lvar| 224.24, loss_d 1.44, loss 59.95,\n",
            "| epoch   1 |   600/  790 batches | rec 52.92, adv 0.68, |lvar| 203.22, loss_d 1.45, loss 59.71,\n",
            "| epoch   1 |   700/  790 batches | rec 53.12, adv 0.65, |lvar| 252.89, loss_d 1.48, loss 59.66,\n",
            "--------------------------------------------------------------------------------\n",
            "| end of epoch   1 | time   107s | valid rec 50.08, adv 0.68, |lvar| 249.80, loss_d 1.45, loss 56.87, | saving model\n",
            "--------------------------------------------------------------------------------\n",
            "| epoch   2 |   100/  790 batches | rec 52.76, adv 0.67, |lvar| 316.01, loss_d 1.45, loss 59.42,\n",
            "| epoch   2 |   200/  790 batches | rec 50.89, adv 0.65, |lvar| 283.66, loss_d 1.42, loss 57.40,\n",
            "| epoch   2 |   300/  790 batches | rec 47.07, adv 0.68, |lvar| 308.96, loss_d 1.41, loss 53.90,\n",
            "| epoch   2 |   400/  790 batches | rec 46.50, adv 0.68, |lvar| 279.22, loss_d 1.40, loss 53.26,\n",
            "| epoch   2 |   500/  790 batches | rec 49.12, adv 0.68, |lvar| 280.81, loss_d 1.39, loss 55.90,\n",
            "| epoch   2 |   600/  790 batches | rec 43.96, adv 0.70, |lvar| 248.47, loss_d 1.37, loss 51.00,\n",
            "| epoch   2 |   700/  790 batches | rec 45.97, adv 0.69, |lvar| 268.67, loss_d 1.38, loss 52.89,\n",
            "--------------------------------------------------------------------------------\n",
            "| end of epoch   2 | time   110s | valid rec 45.89, adv 0.65, |lvar| 246.25, loss_d 1.47, loss 52.36, | saving model\n",
            "--------------------------------------------------------------------------------\n",
            "| epoch   3 |   100/  790 batches | rec 41.53, adv 0.71, |lvar| 296.14, loss_d 1.38, loss 48.62,\n",
            "| epoch   3 |   200/  790 batches | rec 43.81, adv 0.70, |lvar| 340.30, loss_d 1.39, loss 50.78,\n",
            "| epoch   3 |   300/  790 batches | rec 42.16, adv 0.71, |lvar| 340.55, loss_d 1.40, loss 49.22,\n",
            "| epoch   3 |   400/  790 batches | rec 42.34, adv 0.70, |lvar| 406.59, loss_d 1.40, loss 49.36,\n",
            "| epoch   3 |   500/  790 batches | rec 40.42, adv 0.70, |lvar| 430.73, loss_d 1.40, loss 47.44,\n",
            "| epoch   3 |   600/  790 batches | rec 41.67, adv 0.70, |lvar| 448.75, loss_d 1.40, loss 48.66,\n",
            "| epoch   3 |   700/  790 batches | rec 41.72, adv 0.70, |lvar| 504.23, loss_d 1.41, loss 48.76,\n",
            "--------------------------------------------------------------------------------\n",
            "| end of epoch   3 | time   110s | valid rec 36.93, adv 0.60, |lvar| 538.63, loss_d 1.50, loss 42.90, | saving model\n",
            "--------------------------------------------------------------------------------\n",
            "| epoch   4 |   100/  790 batches | rec 38.04, adv 0.70, |lvar| 561.23, loss_d 1.41, loss 45.07,\n",
            "| epoch   4 |   200/  790 batches | rec 38.72, adv 0.69, |lvar| 595.35, loss_d 1.41, loss 45.65,\n",
            "| epoch   4 |   300/  790 batches | rec 39.59, adv 0.69, |lvar| 618.66, loss_d 1.41, loss 46.48,\n",
            "| epoch   4 |   400/  790 batches | rec 37.36, adv 0.69, |lvar| 645.27, loss_d 1.41, loss 44.27,\n",
            "| epoch   4 |   500/  790 batches | rec 34.29, adv 0.69, |lvar| 660.86, loss_d 1.40, loss 41.19,\n",
            "| epoch   4 |   600/  790 batches | rec 35.40, adv 0.68, |lvar| 678.72, loss_d 1.41, loss 42.21,\n",
            "| epoch   4 |   700/  790 batches | rec 33.40, adv 0.70, |lvar| 688.92, loss_d 1.39, loss 40.35,\n",
            "--------------------------------------------------------------------------------\n",
            "| end of epoch   4 | time   110s | valid rec 30.10, adv 0.69, |lvar| 724.94, loss_d 1.41, loss 37.03, | saving model\n",
            "--------------------------------------------------------------------------------\n",
            "| epoch   5 |   100/  790 batches | rec 32.21, adv 0.69, |lvar| 734.31, loss_d 1.40, loss 39.11,\n",
            "| epoch   5 |   200/  790 batches | rec 36.91, adv 0.69, |lvar| 750.22, loss_d 1.41, loss 43.77,\n",
            "| epoch   5 |   300/  790 batches | rec 34.70, adv 0.69, |lvar| 771.79, loss_d 1.41, loss 41.58,\n",
            "| epoch   5 |   400/  790 batches | rec 31.80, adv 0.69, |lvar| 777.60, loss_d 1.40, loss 38.68,\n",
            "| epoch   5 |   500/  790 batches | rec 32.30, adv 0.68, |lvar| 803.94, loss_d 1.41, loss 39.14,\n",
            "| epoch   5 |   600/  790 batches | rec 29.03, adv 0.69, |lvar| 795.86, loss_d 1.39, loss 35.91,\n",
            "| epoch   5 |   700/  790 batches | rec 30.90, adv 0.70, |lvar| 806.38, loss_d 1.41, loss 37.89,\n",
            "--------------------------------------------------------------------------------\n",
            "| end of epoch   5 | time   110s | valid rec 24.69, adv 0.62, |lvar| 852.09, loss_d 1.45, loss 30.85, | saving model\n",
            "Done training\n"
          ]
        }
      ]
    },
    {
      "cell_type": "code",
      "source": [
        "!python text-autoencoders-master/test.py --reconstruct --data data/yelp/test.txt --output test --checkpoint checkpoints/yelp/daae/\n"
      ],
      "metadata": {
        "id": "ta-IIYJG1rLZ"
      },
      "execution_count": null,
      "outputs": []
    },
    {
      "cell_type": "code",
      "source": [
        "!python text-autoencoders-master/test.py --sample --n 10000 --output sample --checkpoint checkpoints/yelp/daae/\n"
      ],
      "metadata": {
        "id": "Qknt5xlDCPM2"
      },
      "execution_count": null,
      "outputs": []
    },
    {
      "cell_type": "code",
      "source": [
        "!python text-autoencoders-master/test.py --arithmetic --data data/yelp/tense/valid.past,data/yelp/tense/valid.present,data/yelp/tense/test.past --output test.past2present --checkpoint checkpoints/yelp/daae/\n"
      ],
      "metadata": {
        "id": "SD5eijyUCPfq"
      },
      "execution_count": null,
      "outputs": []
    },
    {
      "cell_type": "code",
      "source": [
        "!python text-autoencoders-master/test.py --arithmetic --k 2 --data data/yelp/sentiment/100.neg,data/yelp/sentiment/100.pos,data/yelp/sentiment/1000.neg --output 1000.neg2pos --checkpoint checkpoints/yelp/daae/"
      ],
      "metadata": {
        "id": "pkOiZXncCW9x"
      },
      "execution_count": null,
      "outputs": []
    },
    {
      "cell_type": "code",
      "source": [
        "!python text-autoencoders-master/test.py --interpolate --data data/yelp/interpolate/example.long,data/yelp/interpolate/example.short --output example.int --checkpoint checkpoints/yelp/daae/\n"
      ],
      "metadata": {
        "id": "75uk_3LsG8xK"
      },
      "execution_count": null,
      "outputs": []
    },
    {
      "cell_type": "markdown",
      "source": [
        "## yahoo data"
      ],
      "metadata": {
        "id": "QCywlmnuRHfE"
      }
    },
    {
      "cell_type": "code",
      "source": [
        "!python text-autoencoders-master/train.py --train data/yahoo/train.txt --valid data/yahoo//valid.txt --model_type aae --lambda_adv 10 --noise 0.3,0,0,0 --epochs 3 --save-dir checkpoints/yahoo/daae"
      ],
      "metadata": {
        "colab": {
          "base_uri": "https://localhost:8080/"
        },
        "id": "GPgfPmIW85O0",
        "outputId": "0d20f764-2745-4906-fba2-93ef374a7044"
      },
      "execution_count": null,
      "outputs": [
        {
          "output_type": "stream",
          "name": "stdout",
          "text": [
            "Namespace(batch_size=256, dim_d=512, dim_emb=512, dim_h=1024, dim_z=128, dropout=0.5, epochs=3, lambda_adv=10.0, lambda_kl=0, lambda_p=0, load_model='', log_interval=100, lr=0.0005, model_type='aae', nlayers=1, no_cuda=False, noise=[0.3, 0.0, 0.0, 0.0], save_dir='checkpoints/yahoo/daae', seed=1111, train='data/yahoo/train.txt', valid='data/yahoo//valid.txt', vocab_size=10000)\n",
            "# train sents 463412, tokens 5863217\n",
            "# valid sents 46454, tokens 587766\n",
            "# vocab size 10005\n",
            "# model parameters: 34933782\n",
            "--------------------------------------------------------------------------------\n",
            "| epoch   1 |   100/ 1825 batches | rec 100.01, adv 1.14, |lvar| 160.38, loss_d 1.21, loss 111.37,\n",
            "| epoch   1 |   200/ 1825 batches | rec 81.45, adv 0.76, |lvar| 149.11, loss_d 1.44, loss 89.02,\n",
            "| epoch   1 |   300/ 1825 batches | rec 87.86, adv 0.58, |lvar| 147.95, loss_d 1.49, loss 93.68,\n",
            "| epoch   1 |   400/ 1825 batches | rec 74.46, adv 0.71, |lvar| 97.23, loss_d 1.46, loss 81.61,\n",
            "| epoch   1 |   500/ 1825 batches | rec 80.36, adv 0.67, |lvar| 129.72, loss_d 1.46, loss 87.05,\n",
            "| epoch   1 |   600/ 1825 batches | rec 83.73, adv 0.68, |lvar| 196.60, loss_d 1.49, loss 90.56,\n",
            "| epoch   1 |   700/ 1825 batches | rec 66.66, adv 0.67, |lvar| 203.27, loss_d 1.47, loss 73.35,\n",
            "| epoch   1 |   800/ 1825 batches | rec 76.15, adv 0.65, |lvar| 224.65, loss_d 1.44, loss 82.61,\n",
            "| epoch   1 |   900/ 1825 batches | rec 81.60, adv 0.66, |lvar| 220.77, loss_d 1.41, loss 88.18,\n",
            "| epoch   1 |  1000/ 1825 batches | rec 66.76, adv 0.69, |lvar| 219.92, loss_d 1.40, loss 73.68,\n",
            "| epoch   1 |  1100/ 1825 batches | rec 72.62, adv 0.69, |lvar| 247.81, loss_d 1.41, loss 79.52,\n",
            "| epoch   1 |  1200/ 1825 batches | rec 67.23, adv 0.69, |lvar| 241.93, loss_d 1.39, loss 74.18,\n",
            "| epoch   1 |  1300/ 1825 batches | rec 65.98, adv 0.71, |lvar| 223.49, loss_d 1.38, loss 73.03,\n",
            "| epoch   1 |  1400/ 1825 batches | rec 67.84, adv 0.69, |lvar| 250.93, loss_d 1.38, loss 74.70,\n",
            "| epoch   1 |  1500/ 1825 batches | rec 67.32, adv 0.70, |lvar| 264.32, loss_d 1.40, loss 74.34,\n",
            "| epoch   1 |  1600/ 1825 batches | rec 64.67, adv 0.70, |lvar| 257.25, loss_d 1.39, loss 71.66,\n",
            "| epoch   1 |  1700/ 1825 batches | rec 61.79, adv 0.71, |lvar| 287.66, loss_d 1.41, loss 68.84,\n",
            "| epoch   1 |  1800/ 1825 batches | rec 66.32, adv 0.69, |lvar| 300.73, loss_d 1.42, loss 73.24,\n",
            "--------------------------------------------------------------------------------\n",
            "| end of epoch   1 | time   348s | valid rec 61.63, adv 0.73, |lvar| 268.97, loss_d 1.35, loss 68.91, | saving model\n",
            "--------------------------------------------------------------------------------\n",
            "| epoch   2 |   100/ 1825 batches | rec 66.59, adv 0.69, |lvar| 325.77, loss_d 1.40, loss 73.48,\n",
            "| epoch   2 |   200/ 1825 batches | rec 60.98, adv 0.69, |lvar| 332.22, loss_d 1.41, loss 67.88,\n",
            "| epoch   2 |   300/ 1825 batches | rec 61.94, adv 0.70, |lvar| 367.63, loss_d 1.40, loss 68.92,\n",
            "| epoch   2 |   400/ 1825 batches | rec 67.34, adv 0.69, |lvar| 379.40, loss_d 1.40, loss 74.29,\n",
            "| epoch   2 |   500/ 1825 batches | rec 59.85, adv 0.71, |lvar| 405.52, loss_d 1.40, loss 66.98,\n",
            "| epoch   2 |   600/ 1825 batches | rec 58.77, adv 0.71, |lvar| 387.60, loss_d 1.40, loss 65.84,\n",
            "| epoch   2 |   700/ 1825 batches | rec 60.78, adv 0.69, |lvar| 433.70, loss_d 1.42, loss 67.70,\n",
            "| epoch   2 |   800/ 1825 batches | rec 68.68, adv 0.69, |lvar| 470.70, loss_d 1.40, loss 75.57,\n",
            "| epoch   2 |   900/ 1825 batches | rec 59.67, adv 0.70, |lvar| 482.43, loss_d 1.40, loss 66.66,\n",
            "| epoch   2 |  1000/ 1825 batches | rec 48.23, adv 0.69, |lvar| 485.43, loss_d 1.41, loss 55.14,\n",
            "| epoch   2 |  1100/ 1825 batches | rec 57.20, adv 0.69, |lvar| 513.89, loss_d 1.40, loss 64.14,\n",
            "| epoch   2 |  1200/ 1825 batches | rec 55.05, adv 0.69, |lvar| 548.16, loss_d 1.40, loss 61.96,\n",
            "| epoch   2 |  1300/ 1825 batches | rec 63.08, adv 0.69, |lvar| 575.92, loss_d 1.40, loss 70.03,\n",
            "| epoch   2 |  1400/ 1825 batches | rec 49.70, adv 0.70, |lvar| 580.38, loss_d 1.41, loss 56.65,\n",
            "| epoch   2 |  1500/ 1825 batches | rec 59.56, adv 0.69, |lvar| 605.71, loss_d 1.39, loss 66.42,\n",
            "| epoch   2 |  1600/ 1825 batches | rec 56.35, adv 0.68, |lvar| 628.11, loss_d 1.41, loss 63.18,\n",
            "| epoch   2 |  1700/ 1825 batches | rec 58.05, adv 0.70, |lvar| 639.47, loss_d 1.39, loss 65.04,\n",
            "| epoch   2 |  1800/ 1825 batches | rec 58.29, adv 0.70, |lvar| 644.87, loss_d 1.40, loss 65.26,\n",
            "--------------------------------------------------------------------------------\n",
            "| end of epoch   2 | time   353s | valid rec 48.68, adv 0.70, |lvar| 700.69, loss_d 1.39, loss 55.70, | saving model\n",
            "--------------------------------------------------------------------------------\n",
            "| epoch   3 |   100/ 1825 batches | rec 57.88, adv 0.69, |lvar| 700.16, loss_d 1.40, loss 64.78,\n",
            "| epoch   3 |   200/ 1825 batches | rec 53.37, adv 0.69, |lvar| 714.45, loss_d 1.41, loss 60.22,\n",
            "| epoch   3 |   300/ 1825 batches | rec 51.39, adv 0.69, |lvar| 709.02, loss_d 1.40, loss 58.32,\n",
            "| epoch   3 |   400/ 1825 batches | rec 51.24, adv 0.69, |lvar| 737.77, loss_d 1.40, loss 58.09,\n",
            "| epoch   3 |   500/ 1825 batches | rec 50.78, adv 0.70, |lvar| 738.19, loss_d 1.39, loss 57.75,\n",
            "| epoch   3 |   600/ 1825 batches | rec 50.41, adv 0.69, |lvar| 754.39, loss_d 1.40, loss 57.27,\n",
            "| epoch   3 |   700/ 1825 batches | rec 46.87, adv 0.70, |lvar| 763.03, loss_d 1.40, loss 53.92,\n",
            "| epoch   3 |   800/ 1825 batches | rec 54.23, adv 0.68, |lvar| 779.02, loss_d 1.40, loss 61.08,\n",
            "| epoch   3 |   900/ 1825 batches | rec 49.87, adv 0.70, |lvar| 798.77, loss_d 1.39, loss 56.84,\n",
            "| epoch   3 |  1000/ 1825 batches | rec 47.31, adv 0.68, |lvar| 797.15, loss_d 1.40, loss 54.16,\n",
            "| epoch   3 |  1100/ 1825 batches | rec 49.28, adv 0.69, |lvar| 796.44, loss_d 1.40, loss 56.20,\n",
            "| epoch   3 |  1200/ 1825 batches | rec 45.75, adv 0.69, |lvar| 808.95, loss_d 1.39, loss 52.63,\n",
            "| epoch   3 |  1300/ 1825 batches | rec 50.27, adv 0.69, |lvar| 833.37, loss_d 1.39, loss 57.20,\n",
            "| epoch   3 |  1400/ 1825 batches | rec 53.81, adv 0.70, |lvar| 845.14, loss_d 1.40, loss 60.77,\n",
            "| epoch   3 |  1500/ 1825 batches | rec 49.74, adv 0.69, |lvar| 854.89, loss_d 1.39, loss 56.66,\n",
            "| epoch   3 |  1600/ 1825 batches | rec 47.08, adv 0.70, |lvar| 829.21, loss_d 1.41, loss 54.03,\n",
            "| epoch   3 |  1700/ 1825 batches | rec 44.98, adv 0.71, |lvar| 837.36, loss_d 1.40, loss 52.05,\n",
            "| epoch   3 |  1800/ 1825 batches | rec 38.37, adv 0.68, |lvar| 850.63, loss_d 1.40, loss 45.13,\n",
            "--------------------------------------------------------------------------------\n",
            "| end of epoch   3 | time   353s | valid rec 35.56, adv 0.65, |lvar| 993.37, loss_d 1.42, loss 42.04, | saving model\n",
            "Done training\n"
          ]
        }
      ]
    },
    {
      "cell_type": "code",
      "source": [
        "!python text-autoencoders-master/test.py --reconstruct --data data/yahoo/test.txt --output test --checkpoint checkpoints/yahoo/daae/\n"
      ],
      "metadata": {
        "id": "cuhKfCmtG9vC"
      },
      "execution_count": null,
      "outputs": []
    },
    {
      "cell_type": "code",
      "source": [
        "!python text-autoencoders-master/test.py --sample --n 10000 --output sample --checkpoint checkpoints/yahoo/daae/\n"
      ],
      "metadata": {
        "id": "E2V3x01BQy2v"
      },
      "execution_count": null,
      "outputs": []
    },
    {
      "cell_type": "code",
      "source": [
        "!python text-autoencoders-master/test.py --arithmetic --data data/yelp/tense/valid.past,data/yelp/tense/valid.present,data/yelp/tense/test.past --output test.past2present --checkpoint checkpoints/yahoo/daae/\n"
      ],
      "metadata": {
        "id": "y24KrLJGbt4u"
      },
      "execution_count": null,
      "outputs": []
    },
    {
      "cell_type": "code",
      "source": [
        "!python text-autoencoders-master/test.py --arithmetic --k 2 --data data/yelp/sentiment/100.neg,data/yelp/sentiment/100.pos,data/yelp/sentiment/1000.neg --output 1000.neg2pos --checkpoint checkpoints/yahoo/daae/"
      ],
      "metadata": {
        "id": "H94X2RUjb328"
      },
      "execution_count": null,
      "outputs": []
    },
    {
      "cell_type": "code",
      "source": [
        "!python text-autoencoders-master/test.py --interpolate --data data/yelp/interpolate/example.long,data/yelp/interpolate/example.short --output example.int --checkpoint checkpoints/yahoo/daae/"
      ],
      "metadata": {
        "id": "L-7lB3XAhpFC"
      },
      "execution_count": null,
      "outputs": []
    }
  ]
}